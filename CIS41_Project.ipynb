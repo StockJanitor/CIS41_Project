{
 "cells": [
  {
   "cell_type": "code",
   "execution_count": 365,
   "metadata": {
    "colab": {
     "base_uri": "https://localhost:8080/"
    },
    "id": "28JO-ghYfEq-",
    "outputId": "9bafd72f-5223-4fe8-d1c7-8fefe95e46bd"
   },
   "outputs": [],
   "source": [
    "# Import modules\n",
    "import pandas as pd\n",
    "import numpy as np\n",
    "import seaborn as sns\n",
    "import matplotlib as plt\n",
    "\n",
    "import warnings\n",
    "warnings.filterwarnings(\"ignore\", category=FutureWarning)"
   ]
  },
  {
   "cell_type": "code",
   "execution_count": 366,
   "metadata": {
    "id": "JhpeYrXUpRA-"
   },
   "outputs": [],
   "source": [
    "# Load data\n",
    "df = pd.read_csv('data/house_data.csv')"
   ]
  },
  {
   "cell_type": "code",
   "execution_count": 367,
   "metadata": {
    "colab": {
     "base_uri": "https://localhost:8080/",
     "height": 459
    },
    "id": "5dHw0pr4rQpK",
    "outputId": "fb955d50-819b-4f8c-ac92-e4d7667cd4fa"
   },
   "outputs": [
    {
     "name": "stdout",
     "output_type": "stream",
     "text": [
      "<class 'pandas.core.frame.DataFrame'>\n",
      "RangeIndex: 85509 entries, 0 to 85508\n",
      "Data columns (total 8 columns):\n",
      " #   Column       Non-Null Count  Dtype  \n",
      "---  ------       --------------  -----  \n",
      " 0   Price        85509 non-null  object \n",
      " 1   Address      85509 non-null  object \n",
      " 2   Bedrooms     64999 non-null  object \n",
      " 3   Bathrooms    69439 non-null  object \n",
      " 4   Size         73698 non-null  object \n",
      " 5   Sale Status  69960 non-null  object \n",
      " 6   URL          85509 non-null  object \n",
      " 7   Raw Price    85509 non-null  float64\n",
      "dtypes: float64(1), object(7)\n",
      "memory usage: 5.2+ MB\n"
     ]
    },
    {
     "data": {
      "text/html": [
       "<div>\n",
       "<style scoped>\n",
       "    .dataframe tbody tr th:only-of-type {\n",
       "        vertical-align: middle;\n",
       "    }\n",
       "\n",
       "    .dataframe tbody tr th {\n",
       "        vertical-align: top;\n",
       "    }\n",
       "\n",
       "    .dataframe thead th {\n",
       "        text-align: right;\n",
       "    }\n",
       "</style>\n",
       "<table border=\"1\" class=\"dataframe\">\n",
       "  <thead>\n",
       "    <tr style=\"text-align: right;\">\n",
       "      <th></th>\n",
       "      <th>Price</th>\n",
       "      <th>Address</th>\n",
       "      <th>Bedrooms</th>\n",
       "      <th>Bathrooms</th>\n",
       "      <th>Size</th>\n",
       "      <th>Sale Status</th>\n",
       "      <th>URL</th>\n",
       "      <th>Raw Price</th>\n",
       "    </tr>\n",
       "  </thead>\n",
       "  <tbody>\n",
       "    <tr>\n",
       "      <th>85504</th>\n",
       "      <td>$79,000,000</td>\n",
       "      <td>2 Park Pl, New York, NY 10007</td>\n",
       "      <td>NaN</td>\n",
       "      <td>1 ba</td>\n",
       "      <td>9,680 sqft</td>\n",
       "      <td>Condo for sale</td>\n",
       "      <td>https://www.zillow.com/homedetails/2-Park-Pl-N...</td>\n",
       "      <td>79000000.0</td>\n",
       "    </tr>\n",
       "    <tr>\n",
       "      <th>85505</th>\n",
       "      <td>$90,000,000</td>\n",
       "      <td>432 Park Ave #82, New York, NY 10022</td>\n",
       "      <td>6 bds</td>\n",
       "      <td>8 ba</td>\n",
       "      <td>8,054 sqft</td>\n",
       "      <td>Condo for sale</td>\n",
       "      <td>https://www.zillow.com/homedetails/432-Park-Av...</td>\n",
       "      <td>90000000.0</td>\n",
       "    </tr>\n",
       "    <tr>\n",
       "      <th>85506</th>\n",
       "      <td>$95,000,000</td>\n",
       "      <td>1441 Angelo Dr, Los Angeles, CA 90210</td>\n",
       "      <td>NaN</td>\n",
       "      <td>NaN</td>\n",
       "      <td>NaN</td>\n",
       "      <td>Lot / Land for sale</td>\n",
       "      <td>https://www.zillow.com/homedetails/1441-Angelo...</td>\n",
       "      <td>95000000.0</td>\n",
       "    </tr>\n",
       "    <tr>\n",
       "      <th>85507</th>\n",
       "      <td>$99,000,000</td>\n",
       "      <td>908 Bel Air Rd, Los Angeles, CA 90077</td>\n",
       "      <td>9 bds</td>\n",
       "      <td>20 ba</td>\n",
       "      <td>34,000 sqft</td>\n",
       "      <td>House for sale</td>\n",
       "      <td>https://www.zillow.com/homedetails/908-Bel-Air...</td>\n",
       "      <td>99000000.0</td>\n",
       "    </tr>\n",
       "    <tr>\n",
       "      <th>85508</th>\n",
       "      <td>$110,000,000</td>\n",
       "      <td>30 Beverly Park Ter, Beverly Hills, CA 90210</td>\n",
       "      <td>8 bds</td>\n",
       "      <td>12 ba</td>\n",
       "      <td>-- sqft</td>\n",
       "      <td>House for sale</td>\n",
       "      <td>https://www.zillow.com/homedetails/30-Beverly-...</td>\n",
       "      <td>110000000.0</td>\n",
       "    </tr>\n",
       "  </tbody>\n",
       "</table>\n",
       "</div>"
      ],
      "text/plain": [
       "              Price                                       Address Bedrooms  \\\n",
       "85504   $79,000,000                 2 Park Pl, New York, NY 10007      NaN   \n",
       "85505   $90,000,000          432 Park Ave #82, New York, NY 10022    6 bds   \n",
       "85506   $95,000,000         1441 Angelo Dr, Los Angeles, CA 90210      NaN   \n",
       "85507   $99,000,000         908 Bel Air Rd, Los Angeles, CA 90077    9 bds   \n",
       "85508  $110,000,000  30 Beverly Park Ter, Beverly Hills, CA 90210    8 bds   \n",
       "\n",
       "      Bathrooms         Size          Sale Status  \\\n",
       "85504      1 ba   9,680 sqft       Condo for sale   \n",
       "85505      8 ba   8,054 sqft       Condo for sale   \n",
       "85506       NaN          NaN  Lot / Land for sale   \n",
       "85507     20 ba  34,000 sqft       House for sale   \n",
       "85508     12 ba      -- sqft       House for sale   \n",
       "\n",
       "                                                     URL    Raw Price  \n",
       "85504  https://www.zillow.com/homedetails/2-Park-Pl-N...   79000000.0  \n",
       "85505  https://www.zillow.com/homedetails/432-Park-Av...   90000000.0  \n",
       "85506  https://www.zillow.com/homedetails/1441-Angelo...   95000000.0  \n",
       "85507  https://www.zillow.com/homedetails/908-Bel-Air...   99000000.0  \n",
       "85508  https://www.zillow.com/homedetails/30-Beverly-...  110000000.0  "
      ]
     },
     "execution_count": 367,
     "metadata": {},
     "output_type": "execute_result"
    }
   ],
   "source": [
    "# reading the data\n",
    "df.info()\n",
    "df.shape\n",
    "df.tail()"
   ]
  },
  {
   "cell_type": "code",
   "execution_count": 368,
   "metadata": {
    "colab": {
     "base_uri": "https://localhost:8080/",
     "height": 204
    },
    "id": "xSFA0CB_pvyD",
    "outputId": "819cd86a-5d1d-4fda-9ed0-7c3fb8a39a10"
   },
   "outputs": [
    {
     "data": {
      "text/html": [
       "<div>\n",
       "<style scoped>\n",
       "    .dataframe tbody tr th:only-of-type {\n",
       "        vertical-align: middle;\n",
       "    }\n",
       "\n",
       "    .dataframe tbody tr th {\n",
       "        vertical-align: top;\n",
       "    }\n",
       "\n",
       "    .dataframe thead th {\n",
       "        text-align: right;\n",
       "    }\n",
       "</style>\n",
       "<table border=\"1\" class=\"dataframe\">\n",
       "  <thead>\n",
       "    <tr style=\"text-align: right;\">\n",
       "      <th></th>\n",
       "      <th>Address</th>\n",
       "      <th>Bedrooms</th>\n",
       "      <th>Bathrooms</th>\n",
       "      <th>Size</th>\n",
       "      <th>Sale Status</th>\n",
       "      <th>Raw Price</th>\n",
       "    </tr>\n",
       "  </thead>\n",
       "  <tbody>\n",
       "    <tr>\n",
       "      <th>5</th>\n",
       "      <td>3515 W Thompson Rd, Indianapolis, IN 46217</td>\n",
       "      <td>2 bds</td>\n",
       "      <td>1 ba</td>\n",
       "      <td>814 sqft</td>\n",
       "      <td>House for sale</td>\n",
       "      <td>1.0</td>\n",
       "    </tr>\n",
       "    <tr>\n",
       "      <th>53</th>\n",
       "      <td>3713 Hillside Ave, Indianapolis, IN 46218</td>\n",
       "      <td>2 bds</td>\n",
       "      <td>1 ba</td>\n",
       "      <td>1,728 sqft</td>\n",
       "      <td>House for sale</td>\n",
       "      <td>775.0</td>\n",
       "    </tr>\n",
       "    <tr>\n",
       "      <th>65</th>\n",
       "      <td>1337 W Livingston St APT 1, Allentown, PA 18102</td>\n",
       "      <td>3 bds</td>\n",
       "      <td>1 ba</td>\n",
       "      <td>1,000 sqft</td>\n",
       "      <td>House for sale</td>\n",
       "      <td>1050.0</td>\n",
       "    </tr>\n",
       "    <tr>\n",
       "      <th>70</th>\n",
       "      <td>1788 Westwood Dr, Troy, MI 48083</td>\n",
       "      <td>3 bds</td>\n",
       "      <td>2 ba</td>\n",
       "      <td>1,418 sqft</td>\n",
       "      <td>House for sale</td>\n",
       "      <td>1600.0</td>\n",
       "    </tr>\n",
       "    <tr>\n",
       "      <th>72</th>\n",
       "      <td>390 Rosado Springs St, Henderson, NV 89014</td>\n",
       "      <td>2 bds</td>\n",
       "      <td>2 ba</td>\n",
       "      <td>1,060 sqft</td>\n",
       "      <td>Townhouse for sale</td>\n",
       "      <td>1700.0</td>\n",
       "    </tr>\n",
       "  </tbody>\n",
       "</table>\n",
       "</div>"
      ],
      "text/plain": [
       "                                            Address Bedrooms Bathrooms  \\\n",
       "5        3515 W Thompson Rd, Indianapolis, IN 46217    2 bds      1 ba   \n",
       "53        3713 Hillside Ave, Indianapolis, IN 46218    2 bds      1 ba   \n",
       "65  1337 W Livingston St APT 1, Allentown, PA 18102    3 bds      1 ba   \n",
       "70                 1788 Westwood Dr, Troy, MI 48083    3 bds      2 ba   \n",
       "72       390 Rosado Springs St, Henderson, NV 89014    2 bds      2 ba   \n",
       "\n",
       "          Size         Sale Status  Raw Price  \n",
       "5     814 sqft      House for sale        1.0  \n",
       "53  1,728 sqft      House for sale      775.0  \n",
       "65  1,000 sqft      House for sale     1050.0  \n",
       "70  1,418 sqft      House for sale     1600.0  \n",
       "72  1,060 sqft  Townhouse for sale     1700.0  "
      ]
     },
     "execution_count": 368,
     "metadata": {},
     "output_type": "execute_result"
    }
   ],
   "source": [
    "# drop NaN, Price, URL, and assign to df1\n",
    "def metric_deletion(x):\n",
    "    x.dropna(axis='rows',inplace=True)\n",
    "    x = x[x.Bedrooms != '-- bds']\n",
    "    x = x[x.Bathrooms != '-- ba']\n",
    "    x = x[x.Size != '-- sqft']\n",
    "    x.drop(['URL', 'Price'], axis=1,inplace=True)\n",
    "    return x\n",
    "df1 = metric_deletion(df)\n",
    "df1.head()"
   ]
  },
  {
   "cell_type": "code",
   "execution_count": 369,
   "metadata": {},
   "outputs": [],
   "source": [
    "# Converting Bathrooms into float\n",
    "df1.Bathrooms = df1.Bathrooms.str.replace(' ba','').astype('float')\n",
    "# Converting Bedrooms into float\n",
    "df1.Bedrooms = df1.Bedrooms.str.replace(' bds','').astype('float')"
   ]
  },
  {
   "cell_type": "code",
   "execution_count": 370,
   "metadata": {},
   "outputs": [],
   "source": [
    "# Converting Size to float\n",
    "def filt_size(s):\n",
    "    s= s.replace(',','')\n",
    "    s =s.replace(' sqft','')\n",
    "    return float(s)\n",
    "df1.Size = df1.Size.apply(filt_size)"
   ]
  },
  {
   "cell_type": "code",
   "execution_count": 371,
   "metadata": {},
   "outputs": [],
   "source": [
    "# Spliting Address into Street, City, State, ZipCode, and drop the Address\n",
    "df1.Address = df1.Address.astype('string')\n",
    "df1['Street']= df1.Address.apply(lambda x: x.split(', ')[0])\n",
    "df1['City']= df1.Address.apply(lambda x: x.split(', ')[1])\n",
    "df1['State']= df1.Address.apply(lambda x: (x.split(', ')[-1]).split(' ')[0])\n",
    "df1['ZipCode']= df1.Address.apply(lambda x: (x.split(', ')[-1]).split(' ')[1])\n",
    "df2 = df1.drop(['Address'],axis=1)\n"
   ]
  },
  {
   "cell_type": "code",
   "execution_count": 372,
   "metadata": {
    "id": "Fb8p51QWUbdO"
   },
   "outputs": [],
   "source": [
    "#reset the index\n",
    "df2.reset_index(inplace=True,drop=True)"
   ]
  },
  {
   "cell_type": "code",
   "execution_count": 373,
   "metadata": {},
   "outputs": [],
   "source": [
    "# Found two rows of abnormal values, so found exact address on google and replace with the right values\n",
    "df2.loc[28709:28711, 'State']= 'AZ'\n",
    "df2.loc[28709:28711, 'ZipCode']= '85260'"
   ]
  },
  {
   "cell_type": "code",
   "execution_count": 374,
   "metadata": {
    "colab": {
     "base_uri": "https://localhost:8080/",
     "height": 111
    },
    "id": "zsemoyUgvD5m",
    "outputId": "948e5f14-7b40-432b-b2c0-6b3cded672a4"
   },
   "outputs": [
    {
     "data": {
      "text/html": [
       "<div>\n",
       "<style scoped>\n",
       "    .dataframe tbody tr th:only-of-type {\n",
       "        vertical-align: middle;\n",
       "    }\n",
       "\n",
       "    .dataframe tbody tr th {\n",
       "        vertical-align: top;\n",
       "    }\n",
       "\n",
       "    .dataframe thead th {\n",
       "        text-align: right;\n",
       "    }\n",
       "</style>\n",
       "<table border=\"1\" class=\"dataframe\">\n",
       "  <thead>\n",
       "    <tr style=\"text-align: right;\">\n",
       "      <th></th>\n",
       "      <th>Street</th>\n",
       "      <th>City</th>\n",
       "      <th>State</th>\n",
       "      <th>ZipCode</th>\n",
       "    </tr>\n",
       "  </thead>\n",
       "  <tbody>\n",
       "    <tr>\n",
       "      <th>0</th>\n",
       "      <td>3515 W Thompson Rd</td>\n",
       "      <td>Indianapolis</td>\n",
       "      <td>IN</td>\n",
       "      <td>46217</td>\n",
       "    </tr>\n",
       "    <tr>\n",
       "      <th>1</th>\n",
       "      <td>3713 Hillside Ave</td>\n",
       "      <td>Indianapolis</td>\n",
       "      <td>IN</td>\n",
       "      <td>46218</td>\n",
       "    </tr>\n",
       "    <tr>\n",
       "      <th>2</th>\n",
       "      <td>1337 W Livingston St APT 1</td>\n",
       "      <td>Allentown</td>\n",
       "      <td>PA</td>\n",
       "      <td>18102</td>\n",
       "    </tr>\n",
       "    <tr>\n",
       "      <th>3</th>\n",
       "      <td>1788 Westwood Dr</td>\n",
       "      <td>Troy</td>\n",
       "      <td>MI</td>\n",
       "      <td>48083</td>\n",
       "    </tr>\n",
       "    <tr>\n",
       "      <th>4</th>\n",
       "      <td>390 Rosado Springs St</td>\n",
       "      <td>Henderson</td>\n",
       "      <td>NV</td>\n",
       "      <td>89014</td>\n",
       "    </tr>\n",
       "    <tr>\n",
       "      <th>...</th>\n",
       "      <td>...</td>\n",
       "      <td>...</td>\n",
       "      <td>...</td>\n",
       "      <td>...</td>\n",
       "    </tr>\n",
       "    <tr>\n",
       "      <th>45394</th>\n",
       "      <td>111 W 57th St PENTHOUSE 72</td>\n",
       "      <td>New York</td>\n",
       "      <td>NY</td>\n",
       "      <td>10019</td>\n",
       "    </tr>\n",
       "    <tr>\n",
       "      <th>45395</th>\n",
       "      <td>0 Del Valle Rd</td>\n",
       "      <td>Livermore</td>\n",
       "      <td>CA</td>\n",
       "      <td>94550</td>\n",
       "    </tr>\n",
       "    <tr>\n",
       "      <th>45396</th>\n",
       "      <td>1060 Brooklawn Dr</td>\n",
       "      <td>Los Angeles</td>\n",
       "      <td>CA</td>\n",
       "      <td>90077</td>\n",
       "    </tr>\n",
       "    <tr>\n",
       "      <th>45397</th>\n",
       "      <td>432 Park Ave #82</td>\n",
       "      <td>New York</td>\n",
       "      <td>NY</td>\n",
       "      <td>10022</td>\n",
       "    </tr>\n",
       "    <tr>\n",
       "      <th>45398</th>\n",
       "      <td>908 Bel Air Rd</td>\n",
       "      <td>Los Angeles</td>\n",
       "      <td>CA</td>\n",
       "      <td>90077</td>\n",
       "    </tr>\n",
       "  </tbody>\n",
       "</table>\n",
       "<p>45399 rows × 4 columns</p>\n",
       "</div>"
      ],
      "text/plain": [
       "                           Street          City State ZipCode\n",
       "0              3515 W Thompson Rd  Indianapolis    IN   46217\n",
       "1               3713 Hillside Ave  Indianapolis    IN   46218\n",
       "2      1337 W Livingston St APT 1     Allentown    PA   18102\n",
       "3                1788 Westwood Dr          Troy    MI   48083\n",
       "4           390 Rosado Springs St     Henderson    NV   89014\n",
       "...                           ...           ...   ...     ...\n",
       "45394  111 W 57th St PENTHOUSE 72      New York    NY   10019\n",
       "45395              0 Del Valle Rd     Livermore    CA   94550\n",
       "45396           1060 Brooklawn Dr   Los Angeles    CA   90077\n",
       "45397            432 Park Ave #82      New York    NY   10022\n",
       "45398              908 Bel Air Rd   Los Angeles    CA   90077\n",
       "\n",
       "[45399 rows x 4 columns]"
      ]
     },
     "execution_count": 374,
     "metadata": {},
     "output_type": "execute_result"
    }
   ],
   "source": [
    "# Converting the columns as strings for further cleaning\n",
    "df2[['Street','City','State','ZipCode']].astype('string')"
   ]
  },
  {
   "cell_type": "code",
   "execution_count": 375,
   "metadata": {
    "colab": {
     "base_uri": "https://localhost:8080/",
     "height": 80
    },
    "id": "DtBbJbvV2wwS",
    "outputId": "0a41ad91-e579-4d50-cebc-1657d805cf3f"
   },
   "outputs": [
    {
     "data": {
      "text/html": [
       "<div>\n",
       "<style scoped>\n",
       "    .dataframe tbody tr th:only-of-type {\n",
       "        vertical-align: middle;\n",
       "    }\n",
       "\n",
       "    .dataframe tbody tr th {\n",
       "        vertical-align: top;\n",
       "    }\n",
       "\n",
       "    .dataframe thead th {\n",
       "        text-align: right;\n",
       "    }\n",
       "</style>\n",
       "<table border=\"1\" class=\"dataframe\">\n",
       "  <thead>\n",
       "    <tr style=\"text-align: right;\">\n",
       "      <th></th>\n",
       "      <th>Bedrooms</th>\n",
       "      <th>Bathrooms</th>\n",
       "      <th>Size</th>\n",
       "      <th>Sale Status</th>\n",
       "      <th>Raw Price</th>\n",
       "      <th>Street</th>\n",
       "      <th>City</th>\n",
       "      <th>State</th>\n",
       "      <th>ZipCode</th>\n",
       "    </tr>\n",
       "  </thead>\n",
       "  <tbody>\n",
       "    <tr>\n",
       "      <th>38379</th>\n",
       "      <td>4.0</td>\n",
       "      <td>4.0</td>\n",
       "      <td>2800.0</td>\n",
       "      <td>House for sale</td>\n",
       "      <td>865000.0</td>\n",
       "      <td>349 Benson Ct</td>\n",
       "      <td>Amherstburg</td>\n",
       "      <td>ON</td>\n",
       "      <td>N9V</td>\n",
       "    </tr>\n",
       "  </tbody>\n",
       "</table>\n",
       "</div>"
      ],
      "text/plain": [
       "       Bedrooms  Bathrooms    Size     Sale Status  Raw Price         Street  \\\n",
       "38379       4.0        4.0  2800.0  House for sale   865000.0  349 Benson Ct   \n",
       "\n",
       "              City State ZipCode  \n",
       "38379  Amherstburg    ON     N9V  "
      ]
     },
     "execution_count": 375,
     "metadata": {},
     "output_type": "execute_result"
    }
   ],
   "source": [
    "# Finding the weird ZipCode, it is in Canada\n",
    "df2.loc[df2.ZipCode == 'N9V']"
   ]
  },
  {
   "cell_type": "code",
   "execution_count": 376,
   "metadata": {
    "id": "g1RSybHP4PN0"
   },
   "outputs": [],
   "source": [
    "# Dropping the row\n",
    "df2.drop(df2.iloc[38379].name,inplace=True)"
   ]
  },
  {
   "cell_type": "code",
   "execution_count": 377,
   "metadata": {
    "id": "CXdEwU3W2_Ov"
   },
   "outputs": [],
   "source": [
    "# Now the ZipCode can be converted to Integer\n",
    "df2.ZipCode = df2.ZipCode.astype('int')\n"
   ]
  },
  {
   "cell_type": "code",
   "execution_count": 378,
   "metadata": {},
   "outputs": [],
   "source": [
    "# for GeoPandas later use\n",
    "# df2 = df2[df2['ZipCode'].between(10000,99999,inclusive='both')]"
   ]
  },
  {
   "cell_type": "code",
   "execution_count": 379,
   "metadata": {
    "id": "SWDq2PwO4muc"
   },
   "outputs": [],
   "source": [
    "#convert Sale Status into house Types\n",
    "house_status = list(df2['Sale Status'].unique())\n",
    "house_type = ['House','Townhouse','Multifamily', 'Condo', 'Others', 'Apartment']\n",
    "df2['Sale Status'] = df2['Sale Status'].map(dict(zip(house_status,house_type)))\n",
    "df2.rename(columns={\"Sale Status\": \"Type\"}, inplace=True)\n"
   ]
  },
  {
   "cell_type": "code",
   "execution_count": 380,
   "metadata": {
    "id": "k9xFvxGV6CWZ"
   },
   "outputs": [],
   "source": [
    "# Street Column might not be useful\n",
    "df3 = df2.drop(['Street'], axis=1)"
   ]
  },
  {
   "cell_type": "code",
   "execution_count": 382,
   "metadata": {
    "id": "T8qiSln78G2l"
   },
   "outputs": [],
   "source": [
    "# Change Raw Price column name to Price, create perSqft column\n",
    "df3.rename(columns={\"Raw Price\":\"Price\"}, inplace=True)\n",
    "df3['perSqFt'] = df3.Price / df3.Size"
   ]
  },
  {
   "cell_type": "code",
   "execution_count": 384,
   "metadata": {
    "id": "6e8QfTFRK9OD"
   },
   "outputs": [],
   "source": [
    "# Due to previously dropping rows, reset index again\n",
    "df3 = df3.reset_index(drop=True)\n"
   ]
  },
  {
   "cell_type": "code",
   "execution_count": 389,
   "metadata": {
    "id": "SK3WvveV81GL"
   },
   "outputs": [],
   "source": [
    "# Assign Regions\n",
    "west = ['CA', 'NV', 'AK', 'WA' , 'OR', 'ID', 'MT', 'WY', 'UT', 'CO', 'AZ', 'NM', 'HI']\n",
    "midwest = ['ND', 'WI','SD', 'NE', 'KS', 'MN', 'IA', 'MO', 'WI', 'IL', 'IN', 'OH','MI']\n",
    "north = ['PA', 'NY', 'NH', 'MA', 'CT', 'ME', 'DC', 'NJ', 'RI']\n",
    "south = ['TX', 'OK', 'AR', 'LA', 'MS', 'AL', 'TN', 'KY', 'WV', 'VA', 'MD', 'DE', 'NC', 'SC', 'GA', 'FL']\n",
    "full_state_list = west + midwest + north + south\n",
    "\n",
    "# Creating function to assign regions\n",
    "def find_region(state):\n",
    "    if state in west:\n",
    "        state = 'West'\n",
    "    elif state in north:\n",
    "        state = 'North'\n",
    "    elif state in south:\n",
    "        state = 'South'\n",
    "    elif state in midwest:\n",
    "        state = 'MidWest'\n",
    "    return state\n",
    "\n",
    "# Create Region column\n",
    "df3['Region'] = df3.State.apply(find_region)"
   ]
  },
  {
   "cell_type": "code",
   "execution_count": 386,
   "metadata": {},
   "outputs": [],
   "source": []
  },
  {
   "cell_type": "code",
   "execution_count": 387,
   "metadata": {},
   "outputs": [],
   "source": []
  },
  {
   "cell_type": "code",
   "execution_count": null,
   "metadata": {},
   "outputs": [],
   "source": []
  }
 ],
 "metadata": {
  "colab": {
   "collapsed_sections": [],
   "name": "CIS41_Project.ipynb",
   "provenance": []
  },
  "interpreter": {
   "hash": "8bfdc62486a2da9f36a70d419adca46a1e981fa85f6947398d5fe047b02d5f35"
  },
  "kernelspec": {
   "display_name": "Python 3.8.8 64-bit ('base': conda)",
   "name": "python3"
  },
  "language_info": {
   "codemirror_mode": {
    "name": "ipython",
    "version": 3
   },
   "file_extension": ".py",
   "mimetype": "text/x-python",
   "name": "python",
   "nbconvert_exporter": "python",
   "pygments_lexer": "ipython3",
   "version": "3.8.8"
  }
 },
 "nbformat": 4,
 "nbformat_minor": 1
}
