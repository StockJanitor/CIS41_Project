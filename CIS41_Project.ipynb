{
  "cells": [
    {
      "cell_type": "code",
      "execution_count": 1,
      "metadata": {
        "colab": {
          "base_uri": "https://localhost:8080/"
        },
        "id": "28JO-ghYfEq-",
        "outputId": "9bafd72f-5223-4fe8-d1c7-8fefe95e46bd"
      },
      "outputs": [],
      "source": [
        "import pandas as pd\n",
        "import numpy as np\n",
        "import seaborn as sns\n",
        "import matplotlib as plt\n",
        "\n",
        "import warnings\n",
        "warnings.filterwarnings(\"ignore\", category=FutureWarning)"
      ]
    },
    {
      "cell_type": "code",
      "execution_count": 5,
      "metadata": {},
      "outputs": [
        {
          "name": "stdout",
          "output_type": "stream",
          "text": [
            "[9 3]\n"
          ]
        }
      ],
      "source": [
        "arr = np.array([[6, 7, 8], [1, 2, 3], [9, 3, 2]])\n",
        "print (arr[-1, 0:2])"
      ]
    },
    {
      "cell_type": "code",
      "execution_count": 2,
      "metadata": {
        "id": "JhpeYrXUpRA-"
      },
      "outputs": [],
      "source": [
        "df = pd.read_csv('data/house_data.csv')"
      ]
    },
    {
      "cell_type": "code",
      "execution_count": 3,
      "metadata": {
        "colab": {
          "base_uri": "https://localhost:8080/",
          "height": 459
        },
        "id": "5dHw0pr4rQpK",
        "outputId": "fb955d50-819b-4f8c-ac92-e4d7667cd4fa"
      },
      "outputs": [
        {
          "name": "stdout",
          "output_type": "stream",
          "text": [
            "<class 'pandas.core.frame.DataFrame'>\n",
            "RangeIndex: 85509 entries, 0 to 85508\n",
            "Data columns (total 8 columns):\n",
            " #   Column       Non-Null Count  Dtype  \n",
            "---  ------       --------------  -----  \n",
            " 0   Price        85509 non-null  object \n",
            " 1   Address      85509 non-null  object \n",
            " 2   Bedrooms     64999 non-null  object \n",
            " 3   Bathrooms    69439 non-null  object \n",
            " 4   Size         73698 non-null  object \n",
            " 5   Sale Status  69960 non-null  object \n",
            " 6   URL          85509 non-null  object \n",
            " 7   Raw Price    85509 non-null  float64\n",
            "dtypes: float64(1), object(7)\n",
            "memory usage: 5.2+ MB\n"
          ]
        },
        {
          "data": {
            "text/html": [
              "<div>\n",
              "<style scoped>\n",
              "    .dataframe tbody tr th:only-of-type {\n",
              "        vertical-align: middle;\n",
              "    }\n",
              "\n",
              "    .dataframe tbody tr th {\n",
              "        vertical-align: top;\n",
              "    }\n",
              "\n",
              "    .dataframe thead th {\n",
              "        text-align: right;\n",
              "    }\n",
              "</style>\n",
              "<table border=\"1\" class=\"dataframe\">\n",
              "  <thead>\n",
              "    <tr style=\"text-align: right;\">\n",
              "      <th></th>\n",
              "      <th>Price</th>\n",
              "      <th>Address</th>\n",
              "      <th>Bedrooms</th>\n",
              "      <th>Bathrooms</th>\n",
              "      <th>Size</th>\n",
              "      <th>Sale Status</th>\n",
              "      <th>URL</th>\n",
              "      <th>Raw Price</th>\n",
              "    </tr>\n",
              "  </thead>\n",
              "  <tbody>\n",
              "    <tr>\n",
              "      <th>85504</th>\n",
              "      <td>$79,000,000</td>\n",
              "      <td>2 Park Pl, New York, NY 10007</td>\n",
              "      <td>NaN</td>\n",
              "      <td>1 ba</td>\n",
              "      <td>9,680 sqft</td>\n",
              "      <td>Condo for sale</td>\n",
              "      <td>https://www.zillow.com/homedetails/2-Park-Pl-N...</td>\n",
              "      <td>79000000.0</td>\n",
              "    </tr>\n",
              "    <tr>\n",
              "      <th>85505</th>\n",
              "      <td>$90,000,000</td>\n",
              "      <td>432 Park Ave #82, New York, NY 10022</td>\n",
              "      <td>6 bds</td>\n",
              "      <td>8 ba</td>\n",
              "      <td>8,054 sqft</td>\n",
              "      <td>Condo for sale</td>\n",
              "      <td>https://www.zillow.com/homedetails/432-Park-Av...</td>\n",
              "      <td>90000000.0</td>\n",
              "    </tr>\n",
              "    <tr>\n",
              "      <th>85506</th>\n",
              "      <td>$95,000,000</td>\n",
              "      <td>1441 Angelo Dr, Los Angeles, CA 90210</td>\n",
              "      <td>NaN</td>\n",
              "      <td>NaN</td>\n",
              "      <td>NaN</td>\n",
              "      <td>Lot / Land for sale</td>\n",
              "      <td>https://www.zillow.com/homedetails/1441-Angelo...</td>\n",
              "      <td>95000000.0</td>\n",
              "    </tr>\n",
              "    <tr>\n",
              "      <th>85507</th>\n",
              "      <td>$99,000,000</td>\n",
              "      <td>908 Bel Air Rd, Los Angeles, CA 90077</td>\n",
              "      <td>9 bds</td>\n",
              "      <td>20 ba</td>\n",
              "      <td>34,000 sqft</td>\n",
              "      <td>House for sale</td>\n",
              "      <td>https://www.zillow.com/homedetails/908-Bel-Air...</td>\n",
              "      <td>99000000.0</td>\n",
              "    </tr>\n",
              "    <tr>\n",
              "      <th>85508</th>\n",
              "      <td>$110,000,000</td>\n",
              "      <td>30 Beverly Park Ter, Beverly Hills, CA 90210</td>\n",
              "      <td>8 bds</td>\n",
              "      <td>12 ba</td>\n",
              "      <td>-- sqft</td>\n",
              "      <td>House for sale</td>\n",
              "      <td>https://www.zillow.com/homedetails/30-Beverly-...</td>\n",
              "      <td>110000000.0</td>\n",
              "    </tr>\n",
              "  </tbody>\n",
              "</table>\n",
              "</div>"
            ],
            "text/plain": [
              "              Price                                       Address Bedrooms  \\\n",
              "85504   $79,000,000                 2 Park Pl, New York, NY 10007      NaN   \n",
              "85505   $90,000,000          432 Park Ave #82, New York, NY 10022    6 bds   \n",
              "85506   $95,000,000         1441 Angelo Dr, Los Angeles, CA 90210      NaN   \n",
              "85507   $99,000,000         908 Bel Air Rd, Los Angeles, CA 90077    9 bds   \n",
              "85508  $110,000,000  30 Beverly Park Ter, Beverly Hills, CA 90210    8 bds   \n",
              "\n",
              "      Bathrooms         Size          Sale Status  \\\n",
              "85504      1 ba   9,680 sqft       Condo for sale   \n",
              "85505      8 ba   8,054 sqft       Condo for sale   \n",
              "85506       NaN          NaN  Lot / Land for sale   \n",
              "85507     20 ba  34,000 sqft       House for sale   \n",
              "85508     12 ba      -- sqft       House for sale   \n",
              "\n",
              "                                                     URL    Raw Price  \n",
              "85504  https://www.zillow.com/homedetails/2-Park-Pl-N...   79000000.0  \n",
              "85505  https://www.zillow.com/homedetails/432-Park-Av...   90000000.0  \n",
              "85506  https://www.zillow.com/homedetails/1441-Angelo...   95000000.0  \n",
              "85507  https://www.zillow.com/homedetails/908-Bel-Air...   99000000.0  \n",
              "85508  https://www.zillow.com/homedetails/30-Beverly-...  110000000.0  "
            ]
          },
          "execution_count": 3,
          "metadata": {},
          "output_type": "execute_result"
        }
      ],
      "source": [
        "# reading the data\n",
        "df.info()\n",
        "df.shape\n",
        "df.tail()"
      ]
    },
    {
      "cell_type": "code",
      "execution_count": null,
      "metadata": {},
      "outputs": [],
      "source": []
    },
    {
      "cell_type": "code",
      "execution_count": null,
      "metadata": {
        "colab": {
          "base_uri": "https://localhost:8080/",
          "height": 204
        },
        "id": "xSFA0CB_pvyD",
        "outputId": "819cd86a-5d1d-4fda-9ed0-7c3fb8a39a10"
      },
      "outputs": [
        {
          "data": {
            "text/html": [
              "<div>\n",
              "<style scoped>\n",
              "    .dataframe tbody tr th:only-of-type {\n",
              "        vertical-align: middle;\n",
              "    }\n",
              "\n",
              "    .dataframe tbody tr th {\n",
              "        vertical-align: top;\n",
              "    }\n",
              "\n",
              "    .dataframe thead th {\n",
              "        text-align: right;\n",
              "    }\n",
              "</style>\n",
              "<table border=\"1\" class=\"dataframe\">\n",
              "  <thead>\n",
              "    <tr style=\"text-align: right;\">\n",
              "      <th></th>\n",
              "      <th>Price</th>\n",
              "      <th>Address</th>\n",
              "      <th>Bedrooms</th>\n",
              "      <th>Bathrooms</th>\n",
              "      <th>Size</th>\n",
              "      <th>Sale Status</th>\n",
              "    </tr>\n",
              "  </thead>\n",
              "  <tbody>\n",
              "    <tr>\n",
              "      <th>85501</th>\n",
              "      <td>66000000.0</td>\n",
              "      <td>111 W 57th St PENTHOUSE 72, New York, NY 10019</td>\n",
              "      <td>4 bds</td>\n",
              "      <td>6 ba</td>\n",
              "      <td>7,130 sqft</td>\n",
              "      <td>Condo for sale</td>\n",
              "    </tr>\n",
              "    <tr>\n",
              "      <th>85502</th>\n",
              "      <td>68000000.0</td>\n",
              "      <td>0 Del Valle Rd, Livermore, CA 94550</td>\n",
              "      <td>4 bds</td>\n",
              "      <td>2 ba</td>\n",
              "      <td>2,500 sqft</td>\n",
              "      <td>House for sale</td>\n",
              "    </tr>\n",
              "    <tr>\n",
              "      <th>85503</th>\n",
              "      <td>75000000.0</td>\n",
              "      <td>1060 Brooklawn Dr, Los Angeles, CA 90077</td>\n",
              "      <td>13 bds</td>\n",
              "      <td>17 ba</td>\n",
              "      <td>15,011 sqft</td>\n",
              "      <td>House for sale</td>\n",
              "    </tr>\n",
              "    <tr>\n",
              "      <th>85505</th>\n",
              "      <td>90000000.0</td>\n",
              "      <td>432 Park Ave #82, New York, NY 10022</td>\n",
              "      <td>6 bds</td>\n",
              "      <td>8 ba</td>\n",
              "      <td>8,054 sqft</td>\n",
              "      <td>Condo for sale</td>\n",
              "    </tr>\n",
              "    <tr>\n",
              "      <th>85507</th>\n",
              "      <td>99000000.0</td>\n",
              "      <td>908 Bel Air Rd, Los Angeles, CA 90077</td>\n",
              "      <td>9 bds</td>\n",
              "      <td>20 ba</td>\n",
              "      <td>34,000 sqft</td>\n",
              "      <td>House for sale</td>\n",
              "    </tr>\n",
              "  </tbody>\n",
              "</table>\n",
              "</div>"
            ],
            "text/plain": [
              "            Price  ...     Sale Status\n",
              "85501  66000000.0  ...  Condo for sale\n",
              "85502  68000000.0  ...  House for sale\n",
              "85503  75000000.0  ...  House for sale\n",
              "85505  90000000.0  ...  Condo for sale\n",
              "85507  99000000.0  ...  House for sale\n",
              "\n",
              "[5 rows x 6 columns]"
            ]
          },
          "execution_count": 60,
          "metadata": {},
          "output_type": "execute_result"
        }
      ],
      "source": [
        "# drop some columns and clean a little\n",
        "df.dropna(axis='rows', inplace=True)\n",
        "df = df[df.Bedrooms != '-- bds']\n",
        "df = df[df.Bathrooms != '-- ba']\n",
        "df = df[df.Size != '-- sqft']\n",
        "df.Price = df['Raw Price']\n",
        "df.drop(['URL', 'Raw Price'], axis=1, inplace=True)\n",
        "df.tail()"
      ]
    },
    {
      "cell_type": "code",
      "execution_count": null,
      "metadata": {
        "id": "ZDXFtfxkrcmT"
      },
      "outputs": [],
      "source": [
        "#convert bedrooms into num\n",
        "bds = list(df.Bedrooms.unique())\n",
        "bdsnum = [2,3,4,6,7,5,8,11,12,17,9,10,28,16,13,15,14,18,19,36,25,22,21,24,30,23,32,84,35,70,20,78]\n",
        "df.Bedrooms = df.Bedrooms.map(dict(zip(bds,bdsnum)))\n"
      ]
    },
    {
      "cell_type": "code",
      "execution_count": null,
      "metadata": {
        "id": "5vFN4pXO3y_I"
      },
      "outputs": [],
      "source": [
        "#convert bedrooms into num in another way\n",
        "\n",
        "#for position, bedroom_str in zip(df.index, df['Bedrooms']):\n",
        "  #df['Bedrooms'][position] = bedroom_str[:-4]\n",
        "  \n",
        "#df['Bedrooms']"
      ]
    },
    {
      "cell_type": "code",
      "execution_count": null,
      "metadata": {
        "id": "hvMyYZbh7iGj"
      },
      "outputs": [],
      "source": [
        "#df['Bedrooms'] = df['Bedrooms'].astype('int64')\n",
        "#df.dtypes"
      ]
    },
    {
      "cell_type": "code",
      "execution_count": null,
      "metadata": {
        "id": "lmyMfSSF_Ntf"
      },
      "outputs": [],
      "source": [
        "#convert badthroom into num\n",
        "ba = list(df.Bathrooms.unique())\n",
        "banum=[]\n",
        "for i in range(len(ba)):\n",
        "  banum.append(ba[i].replace(' ba', ''))\n",
        "\n",
        "for i in range(len(banum)):\n",
        "  banum[i] = float(banum[i])\n",
        "df.Bathrooms = df.Bathrooms.map(dict(zip(ba,banum)))\n",
        "\n",
        "\n"
      ]
    },
    {
      "cell_type": "code",
      "execution_count": null,
      "metadata": {
        "id": "TDDPYZtjEDQZ"
      },
      "outputs": [],
      "source": [
        "#convert size to num\n",
        "sz = list(df.Size.unique())\n",
        "sznum =[]\n",
        "for i in range(len(sz)):\n",
        "  sz[i] = sz[i].replace(' sqft', '')\n",
        "  sz[i]= sz[i].replace(',','')\n",
        "  sznum.append(sz[i])\n",
        "for i in range(len(sznum)):\n",
        "  sznum[i] = float(sznum[i])\n",
        "sz = list(df.Size.unique())\n",
        "df.Size = df.Size.map(dict(zip(sz,sznum)))\n",
        "\n"
      ]
    },
    {
      "cell_type": "code",
      "execution_count": null,
      "metadata": {
        "id": "1Mhl7wD1I8wO"
      },
      "outputs": [],
      "source": [
        "#convert address into columns\n",
        "list1=[]\n",
        "for i in df.Address:\n",
        "  list1.append(i.split(', '))\n",
        "dfa=pd.DataFrame(list1)\n",
        "list2=[]\n",
        "for i in dfa[2]:\n",
        "  list2.append(str(i).split(' '))\n",
        "dfa2=pd.DataFrame(list2)\n",
        "dfa.drop(columns=2,inplace=True)\n",
        "dfa2.drop(columns=2,inplace=True)\n"
      ]
    },
    {
      "cell_type": "code",
      "execution_count": null,
      "metadata": {
        "id": "Fb8p51QWUbdO"
      },
      "outputs": [],
      "source": [
        "#reset the original index\n",
        "df.reset_index(inplace=True)"
      ]
    },
    {
      "cell_type": "markdown",
      "metadata": {
        "id": "pOgmvxKZUbVf"
      },
      "source": []
    },
    {
      "cell_type": "code",
      "execution_count": null,
      "metadata": {
        "id": "Fs5zzuwzK0NT"
      },
      "outputs": [],
      "source": [
        "#adding Street, City, State, ZipCode into original data\n",
        "df['Street']=dfa[0]\n",
        "df['City']=dfa[1]\n",
        "df['State']=dfa2[0]\n",
        "df['ZipCode']=dfa2[1]\n",
        "df.drop(columns='Address',inplace=True)\n",
        "df.drop(columns='index',inplace=True)\n"
      ]
    },
    {
      "cell_type": "code",
      "execution_count": null,
      "metadata": {
        "colab": {
          "base_uri": "https://localhost:8080/",
          "height": 111
        },
        "id": "zsemoyUgvD5m",
        "outputId": "948e5f14-7b40-432b-b2c0-6b3cded672a4"
      },
      "outputs": [
        {
          "data": {
            "text/html": [
              "<div>\n",
              "<style scoped>\n",
              "    .dataframe tbody tr th:only-of-type {\n",
              "        vertical-align: middle;\n",
              "    }\n",
              "\n",
              "    .dataframe tbody tr th {\n",
              "        vertical-align: top;\n",
              "    }\n",
              "\n",
              "    .dataframe thead th {\n",
              "        text-align: right;\n",
              "    }\n",
              "</style>\n",
              "<table border=\"1\" class=\"dataframe\">\n",
              "  <thead>\n",
              "    <tr style=\"text-align: right;\">\n",
              "      <th></th>\n",
              "      <th>Price</th>\n",
              "      <th>Bedrooms</th>\n",
              "      <th>Bathrooms</th>\n",
              "      <th>Size</th>\n",
              "      <th>Sale Status</th>\n",
              "      <th>Street</th>\n",
              "      <th>City</th>\n",
              "      <th>State</th>\n",
              "      <th>ZipCode</th>\n",
              "    </tr>\n",
              "  </thead>\n",
              "  <tbody>\n",
              "    <tr>\n",
              "      <th>28709</th>\n",
              "      <td>464999.0</td>\n",
              "      <td>2</td>\n",
              "      <td>2.0</td>\n",
              "      <td>1203.0</td>\n",
              "      <td>House for sale</td>\n",
              "      <td>9850 E Mcdowell Mountain Ranch Rd N #1012</td>\n",
              "      <td>NORTH SCOTTSDALE</td>\n",
              "      <td>None</td>\n",
              "      <td>None</td>\n",
              "    </tr>\n",
              "    <tr>\n",
              "      <th>28710</th>\n",
              "      <td>464999.0</td>\n",
              "      <td>2</td>\n",
              "      <td>2.0</td>\n",
              "      <td>1203.0</td>\n",
              "      <td>Townhouse for sale</td>\n",
              "      <td>9850 E Mcdowell Mountain Ranch Rd N #1013</td>\n",
              "      <td>NORTH SCOTTSDALE</td>\n",
              "      <td>None</td>\n",
              "      <td>None</td>\n",
              "    </tr>\n",
              "  </tbody>\n",
              "</table>\n",
              "</div>"
            ],
            "text/plain": [
              "          Price  Bedrooms  Bathrooms  ...              City State ZipCode\n",
              "28709  464999.0         2        2.0  ...  NORTH SCOTTSDALE  None    None\n",
              "28710  464999.0         2        2.0  ...  NORTH SCOTTSDALE  None    None\n",
              "\n",
              "[2 rows x 9 columns]"
            ]
          },
          "execution_count": 67,
          "metadata": {},
          "output_type": "execute_result"
        }
      ],
      "source": [
        "df.loc[df.ZipCode.isnull()]"
      ]
    },
    {
      "cell_type": "code",
      "execution_count": null,
      "metadata": {
        "id": "Mw2imOdwzgNt"
      },
      "outputs": [],
      "source": [
        "df.loc[28709:28711, 'State']= 'AZ'\n",
        "df.loc[28709:28711, 'ZipCode']= '85260'"
      ]
    },
    {
      "cell_type": "code",
      "execution_count": null,
      "metadata": {
        "colab": {
          "base_uri": "https://localhost:8080/",
          "height": 80
        },
        "id": "DtBbJbvV2wwS",
        "outputId": "0a41ad91-e579-4d50-cebc-1657d805cf3f"
      },
      "outputs": [
        {
          "data": {
            "text/html": [
              "<div>\n",
              "<style scoped>\n",
              "    .dataframe tbody tr th:only-of-type {\n",
              "        vertical-align: middle;\n",
              "    }\n",
              "\n",
              "    .dataframe tbody tr th {\n",
              "        vertical-align: top;\n",
              "    }\n",
              "\n",
              "    .dataframe thead th {\n",
              "        text-align: right;\n",
              "    }\n",
              "</style>\n",
              "<table border=\"1\" class=\"dataframe\">\n",
              "  <thead>\n",
              "    <tr style=\"text-align: right;\">\n",
              "      <th></th>\n",
              "      <th>Price</th>\n",
              "      <th>Bedrooms</th>\n",
              "      <th>Bathrooms</th>\n",
              "      <th>Size</th>\n",
              "      <th>Sale Status</th>\n",
              "      <th>Street</th>\n",
              "      <th>City</th>\n",
              "      <th>State</th>\n",
              "      <th>ZipCode</th>\n",
              "    </tr>\n",
              "  </thead>\n",
              "  <tbody>\n",
              "    <tr>\n",
              "      <th>38379</th>\n",
              "      <td>865000.0</td>\n",
              "      <td>4</td>\n",
              "      <td>4.0</td>\n",
              "      <td>2800.0</td>\n",
              "      <td>House for sale</td>\n",
              "      <td>349 Benson Ct</td>\n",
              "      <td>Amherstburg</td>\n",
              "      <td>ON</td>\n",
              "      <td>N9V</td>\n",
              "    </tr>\n",
              "  </tbody>\n",
              "</table>\n",
              "</div>"
            ],
            "text/plain": [
              "          Price  Bedrooms  Bathrooms  ...         City State ZipCode\n",
              "38379  865000.0         4        4.0  ...  Amherstburg    ON     N9V\n",
              "\n",
              "[1 rows x 9 columns]"
            ]
          },
          "execution_count": 69,
          "metadata": {},
          "output_type": "execute_result"
        }
      ],
      "source": [
        "df.loc[df.ZipCode == 'N9V']"
      ]
    },
    {
      "cell_type": "code",
      "execution_count": null,
      "metadata": {
        "id": "g1RSybHP4PN0"
      },
      "outputs": [],
      "source": [
        "df.drop(df.iloc[38379].name,inplace=True)"
      ]
    },
    {
      "cell_type": "code",
      "execution_count": null,
      "metadata": {
        "id": "CXdEwU3W2_Ov"
      },
      "outputs": [],
      "source": [
        "df.ZipCode = df.ZipCode.astype('int')"
      ]
    },
    {
      "cell_type": "code",
      "execution_count": null,
      "metadata": {
        "id": "SWDq2PwO4muc"
      },
      "outputs": [],
      "source": [
        "#convert Sale Status into type\n",
        "hstatus = list(df['Sale Status'].unique())\n",
        "htype = ['House','Townhouse','Multifamily', 'Condo', 'Others', 'Apartment']\n",
        "df['Sale Status'] = df['Sale Status'].map(dict(zip(hstatus,htype)))\n",
        "df.rename(columns={\"Sale Status\": \"Type\"}, inplace=True)"
      ]
    },
    {
      "cell_type": "code",
      "execution_count": null,
      "metadata": {
        "id": "k9xFvxGV6CWZ"
      },
      "outputs": [],
      "source": [
        "df.drop(['Street'], axis=1, inplace=True)"
      ]
    },
    {
      "cell_type": "code",
      "execution_count": null,
      "metadata": {
        "id": "T8qiSln78G2l"
      },
      "outputs": [],
      "source": [
        "df['perSqFt'] = df.Price / df.Size"
      ]
    },
    {
      "cell_type": "code",
      "execution_count": null,
      "metadata": {
        "id": "SK3WvveV81GL"
      },
      "outputs": [],
      "source": [
        "#make region states\n",
        "west = ['CA', 'NV', 'AK', 'WA' , 'OR', 'ID', 'MT', 'WY', 'UT', 'CO', 'AZ', 'NM', 'HI']\n",
        "midwest = ['ND', 'WI','SD', 'NE', 'KS', 'MN', 'IA', 'MO', 'WI', 'IL', 'IN', 'OH','MI']\n",
        "north = ['PA', 'NY', 'NH', 'MA', 'CT', 'ME', 'DC', 'NJ', 'RI']\n",
        "south = ['TX', 'OK', 'AR', 'LA', 'MS', 'AL', 'TN', 'KY', 'WV', 'VA', 'MD', 'DE', 'NC', 'SC', 'GA', 'FL']\n",
        "newall = west + midwest + north + south\n",
        "newall.sort()\n",
        "#check data States\n",
        "alllist = list(df.State.unique())\n",
        "alllist.sort()"
      ]
    },
    {
      "cell_type": "code",
      "execution_count": null,
      "metadata": {
        "id": "6e8QfTFRK9OD"
      },
      "outputs": [],
      "source": [
        "df2 = df.copy()\n"
      ]
    },
    {
      "cell_type": "code",
      "execution_count": null,
      "metadata": {
        "id": "PNm_vjiGUeYI"
      },
      "outputs": [],
      "source": [
        "df2 = df2.reset_index(drop=True)\n"
      ]
    },
    {
      "cell_type": "code",
      "execution_count": null,
      "metadata": {
        "colab": {
          "base_uri": "https://localhost:8080/",
          "height": 204
        },
        "id": "DJ9XEvH9bMYk",
        "outputId": "9b5cd797-f21b-4bbe-cda5-01ebfc6ff2e2"
      },
      "outputs": [
        {
          "data": {
            "text/html": [
              "<div>\n",
              "<style scoped>\n",
              "    .dataframe tbody tr th:only-of-type {\n",
              "        vertical-align: middle;\n",
              "    }\n",
              "\n",
              "    .dataframe tbody tr th {\n",
              "        vertical-align: top;\n",
              "    }\n",
              "\n",
              "    .dataframe thead th {\n",
              "        text-align: right;\n",
              "    }\n",
              "</style>\n",
              "<table border=\"1\" class=\"dataframe\">\n",
              "  <thead>\n",
              "    <tr style=\"text-align: right;\">\n",
              "      <th></th>\n",
              "      <th>Price</th>\n",
              "      <th>Bedrooms</th>\n",
              "      <th>Bathrooms</th>\n",
              "      <th>Size</th>\n",
              "      <th>Type</th>\n",
              "      <th>City</th>\n",
              "      <th>State</th>\n",
              "      <th>ZipCode</th>\n",
              "      <th>perSqFt</th>\n",
              "    </tr>\n",
              "  </thead>\n",
              "  <tbody>\n",
              "    <tr>\n",
              "      <th>0</th>\n",
              "      <td>1.0</td>\n",
              "      <td>2</td>\n",
              "      <td>1.0</td>\n",
              "      <td>814.0</td>\n",
              "      <td>House</td>\n",
              "      <td>Indianapolis</td>\n",
              "      <td>IN</td>\n",
              "      <td>46217</td>\n",
              "      <td>0.001229</td>\n",
              "    </tr>\n",
              "    <tr>\n",
              "      <th>1</th>\n",
              "      <td>775.0</td>\n",
              "      <td>2</td>\n",
              "      <td>1.0</td>\n",
              "      <td>1728.0</td>\n",
              "      <td>House</td>\n",
              "      <td>Indianapolis</td>\n",
              "      <td>IN</td>\n",
              "      <td>46218</td>\n",
              "      <td>0.448495</td>\n",
              "    </tr>\n",
              "    <tr>\n",
              "      <th>2</th>\n",
              "      <td>1050.0</td>\n",
              "      <td>3</td>\n",
              "      <td>1.0</td>\n",
              "      <td>1000.0</td>\n",
              "      <td>House</td>\n",
              "      <td>Allentown</td>\n",
              "      <td>PA</td>\n",
              "      <td>18102</td>\n",
              "      <td>1.050000</td>\n",
              "    </tr>\n",
              "    <tr>\n",
              "      <th>3</th>\n",
              "      <td>1600.0</td>\n",
              "      <td>3</td>\n",
              "      <td>2.0</td>\n",
              "      <td>1418.0</td>\n",
              "      <td>House</td>\n",
              "      <td>Troy</td>\n",
              "      <td>MI</td>\n",
              "      <td>48083</td>\n",
              "      <td>1.128350</td>\n",
              "    </tr>\n",
              "    <tr>\n",
              "      <th>4</th>\n",
              "      <td>1700.0</td>\n",
              "      <td>2</td>\n",
              "      <td>2.0</td>\n",
              "      <td>1060.0</td>\n",
              "      <td>Townhouse</td>\n",
              "      <td>Henderson</td>\n",
              "      <td>NV</td>\n",
              "      <td>89014</td>\n",
              "      <td>1.603774</td>\n",
              "    </tr>\n",
              "  </tbody>\n",
              "</table>\n",
              "</div>"
            ],
            "text/plain": [
              "    Price  Bedrooms  Bathrooms    Size  ...          City State ZipCode   perSqFt\n",
              "0     1.0         2        1.0   814.0  ...  Indianapolis    IN   46217  0.001229\n",
              "1   775.0         2        1.0  1728.0  ...  Indianapolis    IN   46218  0.448495\n",
              "2  1050.0         3        1.0  1000.0  ...     Allentown    PA   18102  1.050000\n",
              "3  1600.0         3        2.0  1418.0  ...          Troy    MI   48083  1.128350\n",
              "4  1700.0         2        2.0  1060.0  ...     Henderson    NV   89014  1.603774\n",
              "\n",
              "[5 rows x 9 columns]"
            ]
          },
          "execution_count": 90,
          "metadata": {},
          "output_type": "execute_result"
        }
      ],
      "source": [
        "df2.head()"
      ]
    },
    {
      "cell_type": "code",
      "execution_count": null,
      "metadata": {
        "colab": {
          "base_uri": "https://localhost:8080/"
        },
        "id": "Z3Gu_ILCNc2b",
        "outputId": "3e97fd17-f1cf-4173-f237-779828807ff1"
      },
      "outputs": [
        {
          "name": "stderr",
          "output_type": "stream",
          "text": [
            "/usr/local/lib/python3.7/dist-packages/ipykernel_launcher.py:8: SettingWithCopyWarning: \n",
            "A value is trying to be set on a copy of a slice from a DataFrame\n",
            "\n",
            "See the caveats in the documentation: https://pandas.pydata.org/pandas-docs/stable/user_guide/indexing.html#returning-a-view-versus-a-copy\n",
            "  \n",
            "/usr/local/lib/python3.7/dist-packages/ipykernel_launcher.py:6: SettingWithCopyWarning: \n",
            "A value is trying to be set on a copy of a slice from a DataFrame\n",
            "\n",
            "See the caveats in the documentation: https://pandas.pydata.org/pandas-docs/stable/user_guide/indexing.html#returning-a-view-versus-a-copy\n",
            "  \n",
            "/usr/local/lib/python3.7/dist-packages/ipykernel_launcher.py:4: SettingWithCopyWarning: \n",
            "A value is trying to be set on a copy of a slice from a DataFrame\n",
            "\n",
            "See the caveats in the documentation: https://pandas.pydata.org/pandas-docs/stable/user_guide/indexing.html#returning-a-view-versus-a-copy\n",
            "  after removing the cwd from sys.path.\n",
            "/usr/local/lib/python3.7/dist-packages/ipykernel_launcher.py:10: SettingWithCopyWarning: \n",
            "A value is trying to be set on a copy of a slice from a DataFrame\n",
            "\n",
            "See the caveats in the documentation: https://pandas.pydata.org/pandas-docs/stable/user_guide/indexing.html#returning-a-view-versus-a-copy\n",
            "  # Remove the CWD from sys.path while we load stuff.\n"
          ]
        }
      ],
      "source": [
        "df2['Region'] = ''\n",
        "for i in range(len(df2.State)):\n",
        "  if df2.State[i] in west:\n",
        "    df2.Region[i] = 'West'\n",
        "  elif df2.State[i] in north:\n",
        "    df2.Region[i] = 'North'\n",
        "  elif df2.State[i] in midwest:\n",
        "    df2.Region[i] = 'Midwest'\n",
        "  elif df2.State[i] in south:\n",
        "    df2.Region[i] = 'South'\n",
        "  \n"
      ]
    },
    {
      "cell_type": "code",
      "execution_count": null,
      "metadata": {
        "colab": {
          "base_uri": "https://localhost:8080/",
          "height": 419
        },
        "id": "8RmqREFlCtN_",
        "outputId": "335eb63d-4d9b-488b-e4c5-704fc1a77a63"
      },
      "outputs": [
        {
          "data": {
            "text/html": [
              "<div>\n",
              "<style scoped>\n",
              "    .dataframe tbody tr th:only-of-type {\n",
              "        vertical-align: middle;\n",
              "    }\n",
              "\n",
              "    .dataframe tbody tr th {\n",
              "        vertical-align: top;\n",
              "    }\n",
              "\n",
              "    .dataframe thead th {\n",
              "        text-align: right;\n",
              "    }\n",
              "</style>\n",
              "<table border=\"1\" class=\"dataframe\">\n",
              "  <thead>\n",
              "    <tr style=\"text-align: right;\">\n",
              "      <th></th>\n",
              "      <th>index</th>\n",
              "      <th>Price</th>\n",
              "      <th>Bedrooms</th>\n",
              "      <th>Bathrooms</th>\n",
              "      <th>Size</th>\n",
              "      <th>Type</th>\n",
              "      <th>City</th>\n",
              "      <th>State</th>\n",
              "      <th>ZipCode</th>\n",
              "      <th>perSqFt</th>\n",
              "      <th>Region</th>\n",
              "    </tr>\n",
              "  </thead>\n",
              "  <tbody>\n",
              "    <tr>\n",
              "      <th>0</th>\n",
              "      <td>0</td>\n",
              "      <td>1.0</td>\n",
              "      <td>2</td>\n",
              "      <td>1.0</td>\n",
              "      <td>814.0</td>\n",
              "      <td>House</td>\n",
              "      <td>Indianapolis</td>\n",
              "      <td>IN</td>\n",
              "      <td>46217</td>\n",
              "      <td>0.001229</td>\n",
              "      <td>Midwest</td>\n",
              "    </tr>\n",
              "    <tr>\n",
              "      <th>1</th>\n",
              "      <td>1</td>\n",
              "      <td>775.0</td>\n",
              "      <td>2</td>\n",
              "      <td>1.0</td>\n",
              "      <td>1728.0</td>\n",
              "      <td>House</td>\n",
              "      <td>Indianapolis</td>\n",
              "      <td>IN</td>\n",
              "      <td>46218</td>\n",
              "      <td>0.448495</td>\n",
              "      <td>Midwest</td>\n",
              "    </tr>\n",
              "    <tr>\n",
              "      <th>2</th>\n",
              "      <td>2</td>\n",
              "      <td>1050.0</td>\n",
              "      <td>3</td>\n",
              "      <td>1.0</td>\n",
              "      <td>1000.0</td>\n",
              "      <td>House</td>\n",
              "      <td>Allentown</td>\n",
              "      <td>PA</td>\n",
              "      <td>18102</td>\n",
              "      <td>1.050000</td>\n",
              "      <td>North</td>\n",
              "    </tr>\n",
              "    <tr>\n",
              "      <th>3</th>\n",
              "      <td>3</td>\n",
              "      <td>1600.0</td>\n",
              "      <td>3</td>\n",
              "      <td>2.0</td>\n",
              "      <td>1418.0</td>\n",
              "      <td>House</td>\n",
              "      <td>Troy</td>\n",
              "      <td>MI</td>\n",
              "      <td>48083</td>\n",
              "      <td>1.128350</td>\n",
              "      <td>Midwest</td>\n",
              "    </tr>\n",
              "    <tr>\n",
              "      <th>4</th>\n",
              "      <td>4</td>\n",
              "      <td>1700.0</td>\n",
              "      <td>2</td>\n",
              "      <td>2.0</td>\n",
              "      <td>1060.0</td>\n",
              "      <td>Townhouse</td>\n",
              "      <td>Henderson</td>\n",
              "      <td>NV</td>\n",
              "      <td>89014</td>\n",
              "      <td>1.603774</td>\n",
              "      <td>West</td>\n",
              "    </tr>\n",
              "    <tr>\n",
              "      <th>...</th>\n",
              "      <td>...</td>\n",
              "      <td>...</td>\n",
              "      <td>...</td>\n",
              "      <td>...</td>\n",
              "      <td>...</td>\n",
              "      <td>...</td>\n",
              "      <td>...</td>\n",
              "      <td>...</td>\n",
              "      <td>...</td>\n",
              "      <td>...</td>\n",
              "      <td>...</td>\n",
              "    </tr>\n",
              "    <tr>\n",
              "      <th>45393</th>\n",
              "      <td>45394</td>\n",
              "      <td>66000000.0</td>\n",
              "      <td>4</td>\n",
              "      <td>6.0</td>\n",
              "      <td>7130.0</td>\n",
              "      <td>Condo</td>\n",
              "      <td>New York</td>\n",
              "      <td>NY</td>\n",
              "      <td>10019</td>\n",
              "      <td>9256.661992</td>\n",
              "      <td>North</td>\n",
              "    </tr>\n",
              "    <tr>\n",
              "      <th>45394</th>\n",
              "      <td>45395</td>\n",
              "      <td>68000000.0</td>\n",
              "      <td>4</td>\n",
              "      <td>2.0</td>\n",
              "      <td>2500.0</td>\n",
              "      <td>House</td>\n",
              "      <td>Livermore</td>\n",
              "      <td>CA</td>\n",
              "      <td>94550</td>\n",
              "      <td>27200.000000</td>\n",
              "      <td>West</td>\n",
              "    </tr>\n",
              "    <tr>\n",
              "      <th>45395</th>\n",
              "      <td>45396</td>\n",
              "      <td>75000000.0</td>\n",
              "      <td>13</td>\n",
              "      <td>17.0</td>\n",
              "      <td>15011.0</td>\n",
              "      <td>House</td>\n",
              "      <td>Los Angeles</td>\n",
              "      <td>CA</td>\n",
              "      <td>90077</td>\n",
              "      <td>4996.336020</td>\n",
              "      <td>West</td>\n",
              "    </tr>\n",
              "    <tr>\n",
              "      <th>45396</th>\n",
              "      <td>45397</td>\n",
              "      <td>90000000.0</td>\n",
              "      <td>6</td>\n",
              "      <td>8.0</td>\n",
              "      <td>8054.0</td>\n",
              "      <td>Condo</td>\n",
              "      <td>New York</td>\n",
              "      <td>NY</td>\n",
              "      <td>10022</td>\n",
              "      <td>11174.571641</td>\n",
              "      <td>North</td>\n",
              "    </tr>\n",
              "    <tr>\n",
              "      <th>45397</th>\n",
              "      <td>45398</td>\n",
              "      <td>99000000.0</td>\n",
              "      <td>9</td>\n",
              "      <td>20.0</td>\n",
              "      <td>34000.0</td>\n",
              "      <td>House</td>\n",
              "      <td>Los Angeles</td>\n",
              "      <td>CA</td>\n",
              "      <td>90077</td>\n",
              "      <td>2911.764706</td>\n",
              "      <td>West</td>\n",
              "    </tr>\n",
              "  </tbody>\n",
              "</table>\n",
              "<p>45398 rows × 11 columns</p>\n",
              "</div>"
            ],
            "text/plain": [
              "       index       Price  Bedrooms  ...  ZipCode       perSqFt   Region\n",
              "0          0         1.0         2  ...    46217      0.001229  Midwest\n",
              "1          1       775.0         2  ...    46218      0.448495  Midwest\n",
              "2          2      1050.0         3  ...    18102      1.050000    North\n",
              "3          3      1600.0         3  ...    48083      1.128350  Midwest\n",
              "4          4      1700.0         2  ...    89014      1.603774     West\n",
              "...      ...         ...       ...  ...      ...           ...      ...\n",
              "45393  45394  66000000.0         4  ...    10019   9256.661992    North\n",
              "45394  45395  68000000.0         4  ...    94550  27200.000000     West\n",
              "45395  45396  75000000.0        13  ...    90077   4996.336020     West\n",
              "45396  45397  90000000.0         6  ...    10022  11174.571641    North\n",
              "45397  45398  99000000.0         9  ...    90077   2911.764706     West\n",
              "\n",
              "[45398 rows x 11 columns]"
            ]
          },
          "execution_count": 79,
          "metadata": {},
          "output_type": "execute_result"
        }
      ],
      "source": [
        "df2"
      ]
    },
    {
      "cell_type": "code",
      "execution_count": null,
      "metadata": {
        "colab": {
          "base_uri": "https://localhost:8080/",
          "height": 165
        },
        "id": "ndmjSAwLZVFC",
        "outputId": "af8a7c4a-ac89-4d20-84d3-d49ae9e1116d"
      },
      "outputs": [
        {
          "ename": "AttributeError",
          "evalue": "ignored",
          "output_type": "error",
          "traceback": [
            "\u001b[0;31m---------------------------------------------------------------------------\u001b[0m",
            "\u001b[0;31mAttributeError\u001b[0m                            Traceback (most recent call last)",
            "\u001b[0;32m<ipython-input-80-b23d3c6c0d48>\u001b[0m in \u001b[0;36m<module>\u001b[0;34m()\u001b[0m\n\u001b[0;32m----> 1\u001b[0;31m \u001b[0msns\u001b[0m\u001b[0;34m.\u001b[0m\u001b[0mh\u001b[0m\u001b[0;34m\u001b[0m\u001b[0;34m\u001b[0m\u001b[0m\n\u001b[0m",
            "\u001b[0;31mAttributeError\u001b[0m: module 'seaborn' has no attribute 'h'"
          ]
        }
      ],
      "source": [
        "sns.h"
      ]
    }
  ],
  "metadata": {
    "colab": {
      "collapsed_sections": [],
      "name": "CIS41_Project.ipynb",
      "provenance": []
    },
    "interpreter": {
      "hash": "63fd5069d213b44bf678585dea6b12cceca9941eaf7f819626cde1f2670de90d"
    },
    "kernelspec": {
      "display_name": "Python 3.9.6 64-bit",
      "name": "python3"
    },
    "language_info": {
      "codemirror_mode": {
        "name": "ipython",
        "version": 3
      },
      "file_extension": ".py",
      "mimetype": "text/x-python",
      "name": "python",
      "nbconvert_exporter": "python",
      "pygments_lexer": "ipython3",
      "version": "3.9.6"
    }
  },
  "nbformat": 4,
  "nbformat_minor": 0
}
