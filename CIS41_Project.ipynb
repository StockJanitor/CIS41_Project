{
 "cells": [
  {
   "cell_type": "markdown",
   "metadata": {},
   "source": [
    "### Topic: Correlation between Economics and Real Estate"
   ]
  },
  {
   "cell_type": "markdown",
   "metadata": {},
   "source": [
    "\n",
    "<ul>\n",
    "<li>College: Mt San Antonio College</li>\n",
    "<li>Course: CISD41 Introduction to Data Science</li>\n",
    "<li>by: Alec Phong and Jack Chen</li>\n",
    "<br>\n",
    "<br>\n"
   ]
  },
  {
   "cell_type": "markdown",
   "metadata": {},
   "source": [
    "### Overview"
   ]
  },
  {
   "cell_type": "markdown",
   "metadata": {},
   "source": [
    "\n",
    "<ol>\n",
    "<li>Questions</li>\n",
    "<li>Importing Data</li>\n",
    "<li>Functions and Lambda</li>\n",
    "<li>Cleaning Data</li>\n",
    "<li>Organizing Data</li>\n",
    "<li>Pivot tables</li>\n",
    "<li>Data Visualization</li>\n",
    "<li>Descriptive Statistics</li>\n",
    "<ul><li>Mean, median, standard deviation, precentiles, boxplots</li></ul>\n",
    "<li>Quantitative Data Exploratory</li>\n",
    "<ul><li>Correlation, Coefficients, P-values</li></ul>\n",
    "<li>Testing Hypothesis, ANOVA</li>\n",
    "<ul><li>Chisquare, ANOVA, Normal-test, Z-test, Pearson Correlation</li></ul>\n",
    "<li>Summary and Conclusion</li>\n",
    "<li>References</li>\n",
    "</ol>"
   ]
  },
  {
   "cell_type": "markdown",
   "metadata": {},
   "source": [
    "### Questions"
   ]
  },
  {
   "cell_type": "markdown",
   "metadata": {},
   "source": [
    "### Cleaning Data"
   ]
  },
  {
   "cell_type": "markdown",
   "metadata": {},
   "source": [
    "#### Importing Libraries, Loading Data, Reading Data"
   ]
  },
  {
   "cell_type": "code",
   "execution_count": 118,
   "metadata": {
    "colab": {
     "base_uri": "https://localhost:8080/"
    },
    "id": "28JO-ghYfEq-",
    "outputId": "9bafd72f-5223-4fe8-d1c7-8fefe95e46bd"
   },
   "outputs": [
    {
     "data": {
      "text/html": [
       "        <script type=\"text/javascript\">\n",
       "        window.PlotlyConfig = {MathJaxConfig: 'local'};\n",
       "        if (window.MathJax) {MathJax.Hub.Config({SVG: {font: \"STIX-Web\"}});}\n",
       "        if (typeof require !== 'undefined') {\n",
       "        require.undef(\"plotly\");\n",
       "        requirejs.config({\n",
       "            paths: {\n",
       "                'plotly': ['https://cdn.plot.ly/plotly-2.4.2.min']\n",
       "            }\n",
       "        });\n",
       "        require(['plotly'], function(Plotly) {\n",
       "            window._Plotly = Plotly;\n",
       "        });\n",
       "        }\n",
       "        </script>\n",
       "        "
      ]
     },
     "metadata": {},
     "output_type": "display_data"
    }
   ],
   "source": [
    "# Import modules\n",
    "import pandas as pd\n",
    "import numpy as np\n",
    "import seaborn as sns\n",
    "import matplotlib.pyplot as plt\n",
    "import plotly.graph_objs as go \n",
    "from plotly.offline import init_notebook_mode,iplot\n",
    "import scipy.stats as st\n",
    "%matplotlib inline\n",
    "\n",
    "# filter warnings\n",
    "import warnings\n",
    "warnings.filterwarnings(\"ignore\", category=FutureWarning)\n",
    "\n",
    "init_notebook_mode(connected=True)"
   ]
  },
  {
   "cell_type": "code",
   "execution_count": 119,
   "metadata": {
    "id": "JhpeYrXUpRA-"
   },
   "outputs": [],
   "source": [
    "# Loading Data\n",
    "df = pd.read_csv('data/data_house.csv')                     # our main data for housing\n",
    "\n",
    "spending_df = pd.read_csv('data/data_spending.csv')         # need 1 column of spending per state\n",
    "gdp_df = pd.read_csv('data/data_gdp.csv')                   # need 1 column of gdp per state\n",
    "population_df = pd.read_csv('data/data_population.csv')     # need 1 column of population per state\n",
    "income_df = pd.read_csv('data/data_income.csv')             # need 1 column of income per state\n"
   ]
  },
  {
   "cell_type": "code",
   "execution_count": 120,
   "metadata": {},
   "outputs": [
    {
     "data": {
      "text/plain": [
       "(85509, 8)"
      ]
     },
     "execution_count": 120,
     "metadata": {},
     "output_type": "execute_result"
    }
   ],
   "source": [
    "df.shape"
   ]
  },
  {
   "cell_type": "code",
   "execution_count": 121,
   "metadata": {
    "colab": {
     "base_uri": "https://localhost:8080/",
     "height": 459
    },
    "id": "5dHw0pr4rQpK",
    "outputId": "fb955d50-819b-4f8c-ac92-e4d7667cd4fa"
   },
   "outputs": [
    {
     "name": "stdout",
     "output_type": "stream",
     "text": [
      "<class 'pandas.core.frame.DataFrame'>\n",
      "RangeIndex: 85509 entries, 0 to 85508\n",
      "Data columns (total 8 columns):\n",
      " #   Column       Non-Null Count  Dtype  \n",
      "---  ------       --------------  -----  \n",
      " 0   Price        85509 non-null  object \n",
      " 1   Address      85509 non-null  object \n",
      " 2   Bedrooms     64999 non-null  object \n",
      " 3   Bathrooms    69439 non-null  object \n",
      " 4   Size         73698 non-null  object \n",
      " 5   Sale Status  69960 non-null  object \n",
      " 6   URL          85509 non-null  object \n",
      " 7   Raw Price    85509 non-null  float64\n",
      "dtypes: float64(1), object(7)\n",
      "memory usage: 5.2+ MB\n"
     ]
    },
    {
     "data": {
      "text/html": [
       "<div>\n",
       "<style scoped>\n",
       "    .dataframe tbody tr th:only-of-type {\n",
       "        vertical-align: middle;\n",
       "    }\n",
       "\n",
       "    .dataframe tbody tr th {\n",
       "        vertical-align: top;\n",
       "    }\n",
       "\n",
       "    .dataframe thead th {\n",
       "        text-align: right;\n",
       "    }\n",
       "</style>\n",
       "<table border=\"1\" class=\"dataframe\">\n",
       "  <thead>\n",
       "    <tr style=\"text-align: right;\">\n",
       "      <th></th>\n",
       "      <th>Price</th>\n",
       "      <th>Address</th>\n",
       "      <th>Bedrooms</th>\n",
       "      <th>Bathrooms</th>\n",
       "      <th>Size</th>\n",
       "      <th>Sale Status</th>\n",
       "      <th>URL</th>\n",
       "      <th>Raw Price</th>\n",
       "    </tr>\n",
       "  </thead>\n",
       "  <tbody>\n",
       "    <tr>\n",
       "      <th>85504</th>\n",
       "      <td>$79,000,000</td>\n",
       "      <td>2 Park Pl, New York, NY 10007</td>\n",
       "      <td>NaN</td>\n",
       "      <td>1 ba</td>\n",
       "      <td>9,680 sqft</td>\n",
       "      <td>Condo for sale</td>\n",
       "      <td>https://www.zillow.com/homedetails/2-Park-Pl-N...</td>\n",
       "      <td>79000000.00</td>\n",
       "    </tr>\n",
       "    <tr>\n",
       "      <th>85505</th>\n",
       "      <td>$90,000,000</td>\n",
       "      <td>432 Park Ave #82, New York, NY 10022</td>\n",
       "      <td>6 bds</td>\n",
       "      <td>8 ba</td>\n",
       "      <td>8,054 sqft</td>\n",
       "      <td>Condo for sale</td>\n",
       "      <td>https://www.zillow.com/homedetails/432-Park-Av...</td>\n",
       "      <td>90000000.00</td>\n",
       "    </tr>\n",
       "    <tr>\n",
       "      <th>85506</th>\n",
       "      <td>$95,000,000</td>\n",
       "      <td>1441 Angelo Dr, Los Angeles, CA 90210</td>\n",
       "      <td>NaN</td>\n",
       "      <td>NaN</td>\n",
       "      <td>NaN</td>\n",
       "      <td>Lot / Land for sale</td>\n",
       "      <td>https://www.zillow.com/homedetails/1441-Angelo...</td>\n",
       "      <td>95000000.00</td>\n",
       "    </tr>\n",
       "    <tr>\n",
       "      <th>85507</th>\n",
       "      <td>$99,000,000</td>\n",
       "      <td>908 Bel Air Rd, Los Angeles, CA 90077</td>\n",
       "      <td>9 bds</td>\n",
       "      <td>20 ba</td>\n",
       "      <td>34,000 sqft</td>\n",
       "      <td>House for sale</td>\n",
       "      <td>https://www.zillow.com/homedetails/908-Bel-Air...</td>\n",
       "      <td>99000000.00</td>\n",
       "    </tr>\n",
       "    <tr>\n",
       "      <th>85508</th>\n",
       "      <td>$110,000,000</td>\n",
       "      <td>30 Beverly Park Ter, Beverly Hills, CA 90210</td>\n",
       "      <td>8 bds</td>\n",
       "      <td>12 ba</td>\n",
       "      <td>-- sqft</td>\n",
       "      <td>House for sale</td>\n",
       "      <td>https://www.zillow.com/homedetails/30-Beverly-...</td>\n",
       "      <td>110000000.00</td>\n",
       "    </tr>\n",
       "  </tbody>\n",
       "</table>\n",
       "</div>"
      ],
      "text/plain": [
       "              Price                                       Address Bedrooms  \\\n",
       "85504   $79,000,000                 2 Park Pl, New York, NY 10007      NaN   \n",
       "85505   $90,000,000          432 Park Ave #82, New York, NY 10022    6 bds   \n",
       "85506   $95,000,000         1441 Angelo Dr, Los Angeles, CA 90210      NaN   \n",
       "85507   $99,000,000         908 Bel Air Rd, Los Angeles, CA 90077    9 bds   \n",
       "85508  $110,000,000  30 Beverly Park Ter, Beverly Hills, CA 90210    8 bds   \n",
       "\n",
       "      Bathrooms         Size          Sale Status  \\\n",
       "85504      1 ba   9,680 sqft       Condo for sale   \n",
       "85505      8 ba   8,054 sqft       Condo for sale   \n",
       "85506       NaN          NaN  Lot / Land for sale   \n",
       "85507     20 ba  34,000 sqft       House for sale   \n",
       "85508     12 ba      -- sqft       House for sale   \n",
       "\n",
       "                                                     URL    Raw Price  \n",
       "85504  https://www.zillow.com/homedetails/2-Park-Pl-N...  79000000.00  \n",
       "85505  https://www.zillow.com/homedetails/432-Park-Av...  90000000.00  \n",
       "85506  https://www.zillow.com/homedetails/1441-Angelo...  95000000.00  \n",
       "85507  https://www.zillow.com/homedetails/908-Bel-Air...  99000000.00  \n",
       "85508  https://www.zillow.com/homedetails/30-Beverly-... 110000000.00  "
      ]
     },
     "execution_count": 121,
     "metadata": {},
     "output_type": "execute_result"
    }
   ],
   "source": [
    "# Reading the housing data\n",
    "df.info()\n",
    "df.tail()"
   ]
  },
  {
   "cell_type": "code",
   "execution_count": 122,
   "metadata": {},
   "outputs": [
    {
     "data": {
      "text/html": [
       "<div>\n",
       "<style scoped>\n",
       "    .dataframe tbody tr th:only-of-type {\n",
       "        vertical-align: middle;\n",
       "    }\n",
       "\n",
       "    .dataframe tbody tr th {\n",
       "        vertical-align: top;\n",
       "    }\n",
       "\n",
       "    .dataframe thead th {\n",
       "        text-align: right;\n",
       "    }\n",
       "</style>\n",
       "<table border=\"1\" class=\"dataframe\">\n",
       "  <thead>\n",
       "    <tr style=\"text-align: right;\">\n",
       "      <th></th>\n",
       "      <th>Price</th>\n",
       "      <th>Address</th>\n",
       "      <th>Bedrooms</th>\n",
       "      <th>Bathrooms</th>\n",
       "      <th>Size</th>\n",
       "      <th>Sale Status</th>\n",
       "      <th>URL</th>\n",
       "      <th>Raw Price</th>\n",
       "    </tr>\n",
       "  </thead>\n",
       "  <tbody>\n",
       "    <tr>\n",
       "      <th>0</th>\n",
       "      <td>$1</td>\n",
       "      <td>Airpark N, Loveland, CO 80538</td>\n",
       "      <td>NaN</td>\n",
       "      <td>NaN</td>\n",
       "      <td>NaN</td>\n",
       "      <td>Lot / Land for sale</td>\n",
       "      <td>https://www.zillow.com/homedetails/Airpark-N-L...</td>\n",
       "      <td>1.00</td>\n",
       "    </tr>\n",
       "    <tr>\n",
       "      <th>1</th>\n",
       "      <td>$1</td>\n",
       "      <td>2940 W Sunset Ave, Springdale, AR 72762</td>\n",
       "      <td>NaN</td>\n",
       "      <td>NaN</td>\n",
       "      <td>NaN</td>\n",
       "      <td>Lot / Land for sale</td>\n",
       "      <td>https://www.zillow.com/homedetails/2940-W-Suns...</td>\n",
       "      <td>1.00</td>\n",
       "    </tr>\n",
       "    <tr>\n",
       "      <th>2</th>\n",
       "      <td>$1</td>\n",
       "      <td>2392 SE Fruit Ave, Port Saint Lucie, FL 34952</td>\n",
       "      <td>3 bds</td>\n",
       "      <td>2 ba</td>\n",
       "      <td>1,649 sqft</td>\n",
       "      <td>NaN</td>\n",
       "      <td>https://www.zillow.com/homedetails/2392-SE-Fru...</td>\n",
       "      <td>1.00</td>\n",
       "    </tr>\n",
       "    <tr>\n",
       "      <th>3</th>\n",
       "      <td>$1</td>\n",
       "      <td>0 SW 38th Ter, Gainesville, FL 32605</td>\n",
       "      <td>NaN</td>\n",
       "      <td>NaN</td>\n",
       "      <td>NaN</td>\n",
       "      <td>Lot / Land for sale</td>\n",
       "      <td>https://www.zillow.com/homedetails/0-SW-38th-T...</td>\n",
       "      <td>1.00</td>\n",
       "    </tr>\n",
       "    <tr>\n",
       "      <th>4</th>\n",
       "      <td>$1</td>\n",
       "      <td>75th St NW, Rochester, MN 55901</td>\n",
       "      <td>NaN</td>\n",
       "      <td>NaN</td>\n",
       "      <td>NaN</td>\n",
       "      <td>NaN</td>\n",
       "      <td>https://www.zillow.com/homedetails/75th-St-NW-...</td>\n",
       "      <td>1.00</td>\n",
       "    </tr>\n",
       "  </tbody>\n",
       "</table>\n",
       "</div>"
      ],
      "text/plain": [
       "  Price                                        Address Bedrooms Bathrooms  \\\n",
       "0    $1                  Airpark N, Loveland, CO 80538      NaN       NaN   \n",
       "1    $1        2940 W Sunset Ave, Springdale, AR 72762      NaN       NaN   \n",
       "2    $1  2392 SE Fruit Ave, Port Saint Lucie, FL 34952    3 bds      2 ba   \n",
       "3    $1           0 SW 38th Ter, Gainesville, FL 32605      NaN       NaN   \n",
       "4    $1                75th St NW, Rochester, MN 55901      NaN       NaN   \n",
       "\n",
       "         Size          Sale Status  \\\n",
       "0         NaN  Lot / Land for sale   \n",
       "1         NaN  Lot / Land for sale   \n",
       "2  1,649 sqft                  NaN   \n",
       "3         NaN  Lot / Land for sale   \n",
       "4         NaN                  NaN   \n",
       "\n",
       "                                                 URL  Raw Price  \n",
       "0  https://www.zillow.com/homedetails/Airpark-N-L...       1.00  \n",
       "1  https://www.zillow.com/homedetails/2940-W-Suns...       1.00  \n",
       "2  https://www.zillow.com/homedetails/2392-SE-Fru...       1.00  \n",
       "3  https://www.zillow.com/homedetails/0-SW-38th-T...       1.00  \n",
       "4  https://www.zillow.com/homedetails/75th-St-NW-...       1.00  "
      ]
     },
     "execution_count": 122,
     "metadata": {},
     "output_type": "execute_result"
    }
   ],
   "source": [
    "df.head()"
   ]
  },
  {
   "cell_type": "markdown",
   "metadata": {},
   "source": [
    "#### Functions, Lambda, and Cleaning"
   ]
  },
  {
   "cell_type": "code",
   "execution_count": 123,
   "metadata": {
    "colab": {
     "base_uri": "https://localhost:8080/",
     "height": 204
    },
    "id": "xSFA0CB_pvyD",
    "outputId": "819cd86a-5d1d-4fda-9ed0-7c3fb8a39a10"
   },
   "outputs": [
    {
     "data": {
      "text/html": [
       "<div>\n",
       "<style scoped>\n",
       "    .dataframe tbody tr th:only-of-type {\n",
       "        vertical-align: middle;\n",
       "    }\n",
       "\n",
       "    .dataframe tbody tr th {\n",
       "        vertical-align: top;\n",
       "    }\n",
       "\n",
       "    .dataframe thead th {\n",
       "        text-align: right;\n",
       "    }\n",
       "</style>\n",
       "<table border=\"1\" class=\"dataframe\">\n",
       "  <thead>\n",
       "    <tr style=\"text-align: right;\">\n",
       "      <th></th>\n",
       "      <th>Address</th>\n",
       "      <th>Bedrooms</th>\n",
       "      <th>Bathrooms</th>\n",
       "      <th>Size</th>\n",
       "      <th>Sale Status</th>\n",
       "      <th>Raw Price</th>\n",
       "    </tr>\n",
       "  </thead>\n",
       "  <tbody>\n",
       "    <tr>\n",
       "      <th>5</th>\n",
       "      <td>3515 W Thompson Rd, Indianapolis, IN 46217</td>\n",
       "      <td>2 bds</td>\n",
       "      <td>1 ba</td>\n",
       "      <td>814 sqft</td>\n",
       "      <td>House for sale</td>\n",
       "      <td>1.00</td>\n",
       "    </tr>\n",
       "    <tr>\n",
       "      <th>53</th>\n",
       "      <td>3713 Hillside Ave, Indianapolis, IN 46218</td>\n",
       "      <td>2 bds</td>\n",
       "      <td>1 ba</td>\n",
       "      <td>1,728 sqft</td>\n",
       "      <td>House for sale</td>\n",
       "      <td>775.00</td>\n",
       "    </tr>\n",
       "    <tr>\n",
       "      <th>65</th>\n",
       "      <td>1337 W Livingston St APT 1, Allentown, PA 18102</td>\n",
       "      <td>3 bds</td>\n",
       "      <td>1 ba</td>\n",
       "      <td>1,000 sqft</td>\n",
       "      <td>House for sale</td>\n",
       "      <td>1050.00</td>\n",
       "    </tr>\n",
       "    <tr>\n",
       "      <th>70</th>\n",
       "      <td>1788 Westwood Dr, Troy, MI 48083</td>\n",
       "      <td>3 bds</td>\n",
       "      <td>2 ba</td>\n",
       "      <td>1,418 sqft</td>\n",
       "      <td>House for sale</td>\n",
       "      <td>1600.00</td>\n",
       "    </tr>\n",
       "    <tr>\n",
       "      <th>72</th>\n",
       "      <td>390 Rosado Springs St, Henderson, NV 89014</td>\n",
       "      <td>2 bds</td>\n",
       "      <td>2 ba</td>\n",
       "      <td>1,060 sqft</td>\n",
       "      <td>Townhouse for sale</td>\n",
       "      <td>1700.00</td>\n",
       "    </tr>\n",
       "  </tbody>\n",
       "</table>\n",
       "</div>"
      ],
      "text/plain": [
       "                                            Address Bedrooms Bathrooms  \\\n",
       "5        3515 W Thompson Rd, Indianapolis, IN 46217    2 bds      1 ba   \n",
       "53        3713 Hillside Ave, Indianapolis, IN 46218    2 bds      1 ba   \n",
       "65  1337 W Livingston St APT 1, Allentown, PA 18102    3 bds      1 ba   \n",
       "70                 1788 Westwood Dr, Troy, MI 48083    3 bds      2 ba   \n",
       "72       390 Rosado Springs St, Henderson, NV 89014    2 bds      2 ba   \n",
       "\n",
       "          Size         Sale Status  Raw Price  \n",
       "5     814 sqft      House for sale       1.00  \n",
       "53  1,728 sqft      House for sale     775.00  \n",
       "65  1,000 sqft      House for sale    1050.00  \n",
       "70  1,418 sqft      House for sale    1600.00  \n",
       "72  1,060 sqft  Townhouse for sale    1700.00  "
      ]
     },
     "execution_count": 123,
     "metadata": {},
     "output_type": "execute_result"
    }
   ],
   "source": [
    "# Function #1\n",
    "# drop NaN, Price, URL, and assign to df1\n",
    "def metric_deletion(x):\n",
    "    x.dropna(axis='rows',inplace=True)\n",
    "    x = x[x.Bedrooms != '-- bds']\n",
    "    x = x[x.Bathrooms != '-- ba']\n",
    "    x = x[x.Size != '-- sqft']\n",
    "    x.drop(['URL', 'Price'], axis=1,inplace=True)\n",
    "    return x\n",
    "df1 = metric_deletion(df)\n",
    "df1.head()"
   ]
  },
  {
   "cell_type": "code",
   "execution_count": 124,
   "metadata": {},
   "outputs": [],
   "source": [
    "# Converting Bathrooms into float\n",
    "df1.Bathrooms = df1.Bathrooms.str.replace(' ba','').astype('float')\n",
    "# Converting Bedrooms into float\n",
    "df1.Bedrooms = df1.Bedrooms.str.replace(' bds','').astype('float')"
   ]
  },
  {
   "cell_type": "code",
   "execution_count": 125,
   "metadata": {},
   "outputs": [],
   "source": [
    "# Function #2\n",
    "# Converting Size to float\n",
    "def filt_size(s):\n",
    "    s= s.replace(',','')\n",
    "    s =s.replace(' sqft','')\n",
    "    return float(s)\n",
    "df1.Size = df1.Size.apply(filt_size)"
   ]
  },
  {
   "cell_type": "code",
   "execution_count": 126,
   "metadata": {},
   "outputs": [
    {
     "data": {
      "text/html": [
       "<div>\n",
       "<style scoped>\n",
       "    .dataframe tbody tr th:only-of-type {\n",
       "        vertical-align: middle;\n",
       "    }\n",
       "\n",
       "    .dataframe tbody tr th {\n",
       "        vertical-align: top;\n",
       "    }\n",
       "\n",
       "    .dataframe thead th {\n",
       "        text-align: right;\n",
       "    }\n",
       "</style>\n",
       "<table border=\"1\" class=\"dataframe\">\n",
       "  <thead>\n",
       "    <tr style=\"text-align: right;\">\n",
       "      <th></th>\n",
       "      <th>Bedrooms</th>\n",
       "      <th>Bathrooms</th>\n",
       "      <th>Size</th>\n",
       "      <th>Sale Status</th>\n",
       "      <th>Raw Price</th>\n",
       "      <th>Street</th>\n",
       "      <th>City</th>\n",
       "      <th>State</th>\n",
       "      <th>ZipCode</th>\n",
       "    </tr>\n",
       "  </thead>\n",
       "  <tbody>\n",
       "    <tr>\n",
       "      <th>0</th>\n",
       "      <td>2.00</td>\n",
       "      <td>1.00</td>\n",
       "      <td>814.00</td>\n",
       "      <td>House for sale</td>\n",
       "      <td>1.00</td>\n",
       "      <td>3515 W Thompson Rd</td>\n",
       "      <td>Indianapolis</td>\n",
       "      <td>IN</td>\n",
       "      <td>46217</td>\n",
       "    </tr>\n",
       "    <tr>\n",
       "      <th>1</th>\n",
       "      <td>2.00</td>\n",
       "      <td>1.00</td>\n",
       "      <td>1728.00</td>\n",
       "      <td>House for sale</td>\n",
       "      <td>775.00</td>\n",
       "      <td>3713 Hillside Ave</td>\n",
       "      <td>Indianapolis</td>\n",
       "      <td>IN</td>\n",
       "      <td>46218</td>\n",
       "    </tr>\n",
       "    <tr>\n",
       "      <th>2</th>\n",
       "      <td>3.00</td>\n",
       "      <td>1.00</td>\n",
       "      <td>1000.00</td>\n",
       "      <td>House for sale</td>\n",
       "      <td>1050.00</td>\n",
       "      <td>1337 W Livingston St APT 1</td>\n",
       "      <td>Allentown</td>\n",
       "      <td>PA</td>\n",
       "      <td>18102</td>\n",
       "    </tr>\n",
       "    <tr>\n",
       "      <th>3</th>\n",
       "      <td>3.00</td>\n",
       "      <td>2.00</td>\n",
       "      <td>1418.00</td>\n",
       "      <td>House for sale</td>\n",
       "      <td>1600.00</td>\n",
       "      <td>1788 Westwood Dr</td>\n",
       "      <td>Troy</td>\n",
       "      <td>MI</td>\n",
       "      <td>48083</td>\n",
       "    </tr>\n",
       "    <tr>\n",
       "      <th>4</th>\n",
       "      <td>2.00</td>\n",
       "      <td>2.00</td>\n",
       "      <td>1060.00</td>\n",
       "      <td>Townhouse for sale</td>\n",
       "      <td>1700.00</td>\n",
       "      <td>390 Rosado Springs St</td>\n",
       "      <td>Henderson</td>\n",
       "      <td>NV</td>\n",
       "      <td>89014</td>\n",
       "    </tr>\n",
       "  </tbody>\n",
       "</table>\n",
       "</div>"
      ],
      "text/plain": [
       "   Bedrooms  Bathrooms    Size         Sale Status  Raw Price  \\\n",
       "0      2.00       1.00  814.00      House for sale       1.00   \n",
       "1      2.00       1.00 1728.00      House for sale     775.00   \n",
       "2      3.00       1.00 1000.00      House for sale    1050.00   \n",
       "3      3.00       2.00 1418.00      House for sale    1600.00   \n",
       "4      2.00       2.00 1060.00  Townhouse for sale    1700.00   \n",
       "\n",
       "                       Street          City State ZipCode  \n",
       "0          3515 W Thompson Rd  Indianapolis    IN   46217  \n",
       "1           3713 Hillside Ave  Indianapolis    IN   46218  \n",
       "2  1337 W Livingston St APT 1     Allentown    PA   18102  \n",
       "3            1788 Westwood Dr          Troy    MI   48083  \n",
       "4       390 Rosado Springs St     Henderson    NV   89014  "
      ]
     },
     "execution_count": 126,
     "metadata": {},
     "output_type": "execute_result"
    }
   ],
   "source": [
    "# Spliting Address into Street, City, State, ZipCode, and drop the Address\n",
    "df1.Address = df1.Address.astype('str')\n",
    "df1['Street']= df1.Address.apply(lambda x: x.split(', ')[0])\n",
    "df1['City']= df1.Address.apply(lambda x: x.split(', ')[1])\n",
    "df1['State']= df1.Address.apply(lambda x: (x.split(', ')[-1]).split(' ')[0])\n",
    "df1['ZipCode']= df1.Address.apply(lambda x: (x.split(', ')[-1]).split(' ')[1])\n",
    "# Assign to df2\n",
    "df2 = df1.drop(['Address'],axis=1)\n",
    "# Reset the index\n",
    "df2.reset_index(inplace=True,drop=True)\n",
    "df2.head()\n"
   ]
  },
  {
   "cell_type": "code",
   "execution_count": 127,
   "metadata": {},
   "outputs": [],
   "source": [
    "# Found two rows of abnormal values, so found exact address on google and replace with the right values\n",
    "df2.loc[28709:28711, 'State']= 'AZ'\n",
    "df2.loc[28709:28711, 'ZipCode']= '85260'"
   ]
  },
  {
   "cell_type": "code",
   "execution_count": 128,
   "metadata": {
    "colab": {
     "base_uri": "https://localhost:8080/",
     "height": 111
    },
    "id": "zsemoyUgvD5m",
    "outputId": "948e5f14-7b40-432b-b2c0-6b3cded672a4"
   },
   "outputs": [
    {
     "data": {
      "text/html": [
       "<div>\n",
       "<style scoped>\n",
       "    .dataframe tbody tr th:only-of-type {\n",
       "        vertical-align: middle;\n",
       "    }\n",
       "\n",
       "    .dataframe tbody tr th {\n",
       "        vertical-align: top;\n",
       "    }\n",
       "\n",
       "    .dataframe thead th {\n",
       "        text-align: right;\n",
       "    }\n",
       "</style>\n",
       "<table border=\"1\" class=\"dataframe\">\n",
       "  <thead>\n",
       "    <tr style=\"text-align: right;\">\n",
       "      <th></th>\n",
       "      <th>Street</th>\n",
       "      <th>City</th>\n",
       "      <th>State</th>\n",
       "      <th>ZipCode</th>\n",
       "    </tr>\n",
       "  </thead>\n",
       "  <tbody>\n",
       "    <tr>\n",
       "      <th>0</th>\n",
       "      <td>3515 W Thompson Rd</td>\n",
       "      <td>Indianapolis</td>\n",
       "      <td>IN</td>\n",
       "      <td>46217</td>\n",
       "    </tr>\n",
       "    <tr>\n",
       "      <th>1</th>\n",
       "      <td>3713 Hillside Ave</td>\n",
       "      <td>Indianapolis</td>\n",
       "      <td>IN</td>\n",
       "      <td>46218</td>\n",
       "    </tr>\n",
       "    <tr>\n",
       "      <th>2</th>\n",
       "      <td>1337 W Livingston St APT 1</td>\n",
       "      <td>Allentown</td>\n",
       "      <td>PA</td>\n",
       "      <td>18102</td>\n",
       "    </tr>\n",
       "    <tr>\n",
       "      <th>3</th>\n",
       "      <td>1788 Westwood Dr</td>\n",
       "      <td>Troy</td>\n",
       "      <td>MI</td>\n",
       "      <td>48083</td>\n",
       "    </tr>\n",
       "    <tr>\n",
       "      <th>4</th>\n",
       "      <td>390 Rosado Springs St</td>\n",
       "      <td>Henderson</td>\n",
       "      <td>NV</td>\n",
       "      <td>89014</td>\n",
       "    </tr>\n",
       "    <tr>\n",
       "      <th>...</th>\n",
       "      <td>...</td>\n",
       "      <td>...</td>\n",
       "      <td>...</td>\n",
       "      <td>...</td>\n",
       "    </tr>\n",
       "    <tr>\n",
       "      <th>45394</th>\n",
       "      <td>111 W 57th St PENTHOUSE 72</td>\n",
       "      <td>New York</td>\n",
       "      <td>NY</td>\n",
       "      <td>10019</td>\n",
       "    </tr>\n",
       "    <tr>\n",
       "      <th>45395</th>\n",
       "      <td>0 Del Valle Rd</td>\n",
       "      <td>Livermore</td>\n",
       "      <td>CA</td>\n",
       "      <td>94550</td>\n",
       "    </tr>\n",
       "    <tr>\n",
       "      <th>45396</th>\n",
       "      <td>1060 Brooklawn Dr</td>\n",
       "      <td>Los Angeles</td>\n",
       "      <td>CA</td>\n",
       "      <td>90077</td>\n",
       "    </tr>\n",
       "    <tr>\n",
       "      <th>45397</th>\n",
       "      <td>432 Park Ave #82</td>\n",
       "      <td>New York</td>\n",
       "      <td>NY</td>\n",
       "      <td>10022</td>\n",
       "    </tr>\n",
       "    <tr>\n",
       "      <th>45398</th>\n",
       "      <td>908 Bel Air Rd</td>\n",
       "      <td>Los Angeles</td>\n",
       "      <td>CA</td>\n",
       "      <td>90077</td>\n",
       "    </tr>\n",
       "  </tbody>\n",
       "</table>\n",
       "<p>45399 rows × 4 columns</p>\n",
       "</div>"
      ],
      "text/plain": [
       "                           Street          City State ZipCode\n",
       "0              3515 W Thompson Rd  Indianapolis    IN   46217\n",
       "1               3713 Hillside Ave  Indianapolis    IN   46218\n",
       "2      1337 W Livingston St APT 1     Allentown    PA   18102\n",
       "3                1788 Westwood Dr          Troy    MI   48083\n",
       "4           390 Rosado Springs St     Henderson    NV   89014\n",
       "...                           ...           ...   ...     ...\n",
       "45394  111 W 57th St PENTHOUSE 72      New York    NY   10019\n",
       "45395              0 Del Valle Rd     Livermore    CA   94550\n",
       "45396           1060 Brooklawn Dr   Los Angeles    CA   90077\n",
       "45397            432 Park Ave #82      New York    NY   10022\n",
       "45398              908 Bel Air Rd   Los Angeles    CA   90077\n",
       "\n",
       "[45399 rows x 4 columns]"
      ]
     },
     "execution_count": 128,
     "metadata": {},
     "output_type": "execute_result"
    }
   ],
   "source": [
    "# Converting the columns as strings for further cleaning\n",
    "df2[['Street','City','State','ZipCode']].astype('str')"
   ]
  },
  {
   "cell_type": "code",
   "execution_count": 129,
   "metadata": {
    "colab": {
     "base_uri": "https://localhost:8080/",
     "height": 80
    },
    "id": "DtBbJbvV2wwS",
    "outputId": "0a41ad91-e579-4d50-cebc-1657d805cf3f"
   },
   "outputs": [
    {
     "data": {
      "text/html": [
       "<div>\n",
       "<style scoped>\n",
       "    .dataframe tbody tr th:only-of-type {\n",
       "        vertical-align: middle;\n",
       "    }\n",
       "\n",
       "    .dataframe tbody tr th {\n",
       "        vertical-align: top;\n",
       "    }\n",
       "\n",
       "    .dataframe thead th {\n",
       "        text-align: right;\n",
       "    }\n",
       "</style>\n",
       "<table border=\"1\" class=\"dataframe\">\n",
       "  <thead>\n",
       "    <tr style=\"text-align: right;\">\n",
       "      <th></th>\n",
       "      <th>Bedrooms</th>\n",
       "      <th>Bathrooms</th>\n",
       "      <th>Size</th>\n",
       "      <th>Sale Status</th>\n",
       "      <th>Raw Price</th>\n",
       "      <th>Street</th>\n",
       "      <th>City</th>\n",
       "      <th>State</th>\n",
       "      <th>ZipCode</th>\n",
       "    </tr>\n",
       "  </thead>\n",
       "  <tbody>\n",
       "    <tr>\n",
       "      <th>38379</th>\n",
       "      <td>4.00</td>\n",
       "      <td>4.00</td>\n",
       "      <td>2800.00</td>\n",
       "      <td>House for sale</td>\n",
       "      <td>865000.00</td>\n",
       "      <td>349 Benson Ct</td>\n",
       "      <td>Amherstburg</td>\n",
       "      <td>ON</td>\n",
       "      <td>N9V</td>\n",
       "    </tr>\n",
       "  </tbody>\n",
       "</table>\n",
       "</div>"
      ],
      "text/plain": [
       "       Bedrooms  Bathrooms    Size     Sale Status  Raw Price         Street  \\\n",
       "38379      4.00       4.00 2800.00  House for sale  865000.00  349 Benson Ct   \n",
       "\n",
       "              City State ZipCode  \n",
       "38379  Amherstburg    ON     N9V  "
      ]
     },
     "execution_count": 129,
     "metadata": {},
     "output_type": "execute_result"
    }
   ],
   "source": [
    "# Finding the weird ZipCode, it is in Canada\n",
    "df2.loc[df2.ZipCode == 'N9V']"
   ]
  },
  {
   "cell_type": "code",
   "execution_count": 130,
   "metadata": {
    "id": "g1RSybHP4PN0"
   },
   "outputs": [],
   "source": [
    "# Dropping the row\n",
    "df2.drop(df2.iloc[38379].name,inplace=True)"
   ]
  },
  {
   "cell_type": "code",
   "execution_count": 131,
   "metadata": {
    "id": "CXdEwU3W2_Ov"
   },
   "outputs": [],
   "source": [
    "# Now the ZipCode can be converted to Integer\n",
    "df2.ZipCode = df2.ZipCode.astype('int')\n"
   ]
  },
  {
   "cell_type": "code",
   "execution_count": 132,
   "metadata": {},
   "outputs": [],
   "source": [
    "#convert Sale Status into house Types\n",
    "house_status = list(df2['Sale Status'].unique())"
   ]
  },
  {
   "cell_type": "code",
   "execution_count": 133,
   "metadata": {
    "id": "SWDq2PwO4muc"
   },
   "outputs": [],
   "source": [
    "# Make a list of house types\n",
    "house_type = ['House','Townhouse','Multifamily', 'Condo', 'Others', 'Apartment']\n",
    "# Replacing house_status with house_type\n",
    "df2['Sale Status'] = df2['Sale Status'].map(dict(zip(house_status,house_type)))\n",
    "df2.rename(columns={\"Sale Status\": \"Type\"}, inplace=True)\n"
   ]
  },
  {
   "cell_type": "code",
   "execution_count": 134,
   "metadata": {
    "id": "k9xFvxGV6CWZ"
   },
   "outputs": [],
   "source": [
    "# Street column is not useful so we drop it\n",
    "df3 = df2.drop(['Street'], axis=1)"
   ]
  },
  {
   "cell_type": "code",
   "execution_count": 135,
   "metadata": {
    "id": "T8qiSln78G2l"
   },
   "outputs": [],
   "source": [
    "# Change Raw Price column name to Price, create perSqft column\n",
    "df3.rename(columns={\"Raw Price\":\"Price\"}, inplace=True)\n",
    "df3['perSqFt'] = df3.Price / df3.Size"
   ]
  },
  {
   "cell_type": "code",
   "execution_count": 136,
   "metadata": {},
   "outputs": [],
   "source": [
    "df3.State.value_counts().tail(5)\n",
    "# HI NH is below 30 counts, so dropping HI and NH\n",
    "df3 = df3[(df3['State'] != 'HI') & (df3['State'] != 'NH')]\n",
    "# drop others because it is not the majority and has weird type of lots/houses\n",
    "df3 = df3[df3['Type'] != 'Others']"
   ]
  },
  {
   "cell_type": "code",
   "execution_count": 137,
   "metadata": {
    "id": "6e8QfTFRK9OD"
   },
   "outputs": [
    {
     "data": {
      "text/plain": [
       "46"
      ]
     },
     "execution_count": 137,
     "metadata": {},
     "output_type": "execute_result"
    }
   ],
   "source": [
    "# Due to previously dropping rows, reset index again\n",
    "# West Virginia and Wyoming not in data\n",
    "df3 = df3.reset_index(drop=True)\n",
    "len(df3.State.unique())\n"
   ]
  },
  {
   "cell_type": "code",
   "execution_count": 138,
   "metadata": {
    "id": "SK3WvveV81GL"
   },
   "outputs": [],
   "source": [
    "# Function #3 find_region()\n",
    "# Assign Regions, also need to drop Wyoming and West Virgina since the dataset does not contain \n",
    "# listings for that certain State in the initial DataFrame \n",
    "west = ['CA', 'NV', 'AK', 'WA' , 'OR', 'ID', 'MT', 'UT', 'CO', 'AZ', 'NM']\n",
    "midwest = ['ND', 'WI','SD', 'NE', 'KS', 'MN', 'IA', 'MO', 'IL', 'IN', 'OH','MI']\n",
    "north = ['PA', 'NY', 'MA', 'CT', 'ME', 'DC', 'NJ', 'RI']\n",
    "south = ['TX', 'OK', 'AR', 'LA', 'MS', 'AL', 'TN', 'KY', 'VA', 'MD', 'DE', 'NC', 'SC', 'GA', 'FL']\n",
    "full_state_list = west + midwest + north + south\n",
    "\n",
    "# Creating function to assign regions\n",
    "def find_region(state):\n",
    "    if state in west:\n",
    "        state = 'West'\n",
    "    elif state in north:\n",
    "        state = 'North'\n",
    "    elif state in south:\n",
    "        state = 'South'\n",
    "    elif state in midwest:\n",
    "        state = 'MidWest'\n",
    "    return state\n",
    "\n",
    "# Create Region column\n",
    "df3['Region'] = df3.State.apply(find_region)"
   ]
  },
  {
   "cell_type": "code",
   "execution_count": 139,
   "metadata": {},
   "outputs": [
    {
     "data": {
      "text/plain": [
       "{'AK': 'AK',\n",
       " 'AL': 'AL',\n",
       " 'AR': 'AR',\n",
       " 'AZ': 'AZ',\n",
       " 'CA': 'CA',\n",
       " 'CO': 'CO',\n",
       " 'CT': 'CT',\n",
       " 'DC': 'DC',\n",
       " 'DE': 'DE',\n",
       " 'FL': 'FL',\n",
       " 'GA': 'GA',\n",
       " 'IA': 'IA',\n",
       " 'ID': 'ID',\n",
       " 'IL': 'IL',\n",
       " 'IN': 'IN',\n",
       " 'KS': 'KS',\n",
       " 'KY': 'KY',\n",
       " 'LA': 'LA',\n",
       " 'MA': 'MA',\n",
       " 'MD': 'MD',\n",
       " 'ME': 'ME',\n",
       " 'MI': 'MI',\n",
       " 'MN': 'MN',\n",
       " 'MO': 'MO',\n",
       " 'MS': 'MS',\n",
       " 'MT': 'MT',\n",
       " 'NC': 'NC',\n",
       " 'ND': 'ND',\n",
       " 'NE': 'NE',\n",
       " 'NJ': 'NJ',\n",
       " 'NM': 'NM',\n",
       " 'NV': 'NV',\n",
       " 'NY': 'NY',\n",
       " 'OH': 'OH',\n",
       " 'OK': 'OK',\n",
       " 'OR': 'OR',\n",
       " 'PA': 'PA',\n",
       " 'RI': 'RI',\n",
       " 'SC': 'SC',\n",
       " 'SD': 'SD',\n",
       " 'TN': 'TN',\n",
       " 'TX': 'TX',\n",
       " 'UT': 'UT',\n",
       " 'VA': 'VA',\n",
       " 'WA': 'WA',\n",
       " 'WI': 'WI'}"
      ]
     },
     "execution_count": 139,
     "metadata": {},
     "output_type": "execute_result"
    }
   ],
   "source": [
    "#Display the list of full_state_list in order to compare with the DataFrame state column in order to sort missing , \n",
    "full_state_list.sort()\n",
    "full_state_list\n",
    "#Converted numpy.Array into a list in order to compare with the list above.\n",
    "comparator = df3['State'].unique().tolist()\n",
    "comparator.sort()\n",
    "comparator\n",
    "compare_dict = dict(zip(full_state_list,comparator))\n",
    "compare_dict\n",
    "# Check our list of states and dataframe states are in sync\n",
    "# df3 is fully cleaned, now we are making a \"state_df\""
   ]
  },
  {
   "cell_type": "markdown",
   "metadata": {},
   "source": [
    "#### Organizing Sub-Datasets"
   ]
  },
  {
   "cell_type": "code",
   "execution_count": 140,
   "metadata": {},
   "outputs": [
    {
     "data": {
      "text/html": [
       "<div>\n",
       "<style scoped>\n",
       "    .dataframe tbody tr th:only-of-type {\n",
       "        vertical-align: middle;\n",
       "    }\n",
       "\n",
       "    .dataframe tbody tr th {\n",
       "        vertical-align: top;\n",
       "    }\n",
       "\n",
       "    .dataframe thead th {\n",
       "        text-align: right;\n",
       "    }\n",
       "</style>\n",
       "<table border=\"1\" class=\"dataframe\">\n",
       "  <thead>\n",
       "    <tr style=\"text-align: right;\">\n",
       "      <th></th>\n",
       "      <th>Unnamed: 0</th>\n",
       "      <th>GeoFips</th>\n",
       "      <th>GeoName</th>\n",
       "      <th>2020</th>\n",
       "    </tr>\n",
       "  </thead>\n",
       "  <tbody>\n",
       "    <tr>\n",
       "      <th>0</th>\n",
       "      <td>0</td>\n",
       "      <td>0</td>\n",
       "      <td>United States</td>\n",
       "      <td>18384687.00</td>\n",
       "    </tr>\n",
       "    <tr>\n",
       "      <th>1</th>\n",
       "      <td>1</td>\n",
       "      <td>1000</td>\n",
       "      <td>Alabama</td>\n",
       "      <td>196906.10</td>\n",
       "    </tr>\n",
       "    <tr>\n",
       "      <th>2</th>\n",
       "      <td>2</td>\n",
       "      <td>2000</td>\n",
       "      <td>Alaska</td>\n",
       "      <td>50161.00</td>\n",
       "    </tr>\n",
       "    <tr>\n",
       "      <th>3</th>\n",
       "      <td>3</td>\n",
       "      <td>4000</td>\n",
       "      <td>Arizona</td>\n",
       "      <td>320550.60</td>\n",
       "    </tr>\n",
       "    <tr>\n",
       "      <th>4</th>\n",
       "      <td>4</td>\n",
       "      <td>5000</td>\n",
       "      <td>Arkansas</td>\n",
       "      <td>114943.50</td>\n",
       "    </tr>\n",
       "  </tbody>\n",
       "</table>\n",
       "</div>"
      ],
      "text/plain": [
       "   Unnamed: 0  GeoFips        GeoName        2020\n",
       "0           0        0  United States 18384687.00\n",
       "1           1     1000        Alabama   196906.10\n",
       "2           2     2000         Alaska    50161.00\n",
       "3           3     4000        Arizona   320550.60\n",
       "4           4     5000       Arkansas   114943.50"
      ]
     },
     "execution_count": 140,
     "metadata": {},
     "output_type": "execute_result"
    }
   ],
   "source": [
    "# Read gdp_df\n",
    "gdp_df.head()"
   ]
  },
  {
   "cell_type": "code",
   "execution_count": 141,
   "metadata": {},
   "outputs": [
    {
     "data": {
      "text/plain": [
       "array(['United States', 'Alabama', 'Alaska', 'Arizona', 'Arkansas',\n",
       "       'California', 'Colorado', 'Connecticut', 'Delaware',\n",
       "       'District of Columbia', 'Florida', 'Georgia', 'Hawaii', 'Idaho',\n",
       "       'Illinois', 'Indiana', 'Iowa', 'Kansas', 'Kentucky', 'Louisiana',\n",
       "       'Maine', 'Maryland', 'Massachusetts', 'Michigan', 'Minnesota',\n",
       "       'Mississippi', 'Missouri', 'Montana', 'Nebraska', 'Nevada',\n",
       "       'New Hampshire', 'New Jersey', 'New Mexico', 'New York',\n",
       "       'North Carolina', 'North Dakota', 'Ohio', 'Oklahoma', 'Oregon',\n",
       "       'Pennsylvania', 'Rhode Island', 'South Carolina', 'South Dakota',\n",
       "       'Tennessee', 'Texas', 'Utah', 'Vermont', 'Virginia', 'Washington',\n",
       "       'West Virginia', 'Wisconsin', 'Wyoming', 'New England', 'Mideast',\n",
       "       'Great Lakes', 'Plains', 'Southeast', 'Southwest',\n",
       "       'Rocky Mountain', 'Far West'], dtype=object)"
      ]
     },
     "execution_count": 141,
     "metadata": {},
     "output_type": "execute_result"
    }
   ],
   "source": [
    "# Checking the States in gdp_df\n",
    "gdp_df.GeoName.unique()"
   ]
  },
  {
   "cell_type": "code",
   "execution_count": 142,
   "metadata": {},
   "outputs": [
    {
     "data": {
      "text/html": [
       "<div>\n",
       "<style scoped>\n",
       "    .dataframe tbody tr th:only-of-type {\n",
       "        vertical-align: middle;\n",
       "    }\n",
       "\n",
       "    .dataframe tbody tr th {\n",
       "        vertical-align: top;\n",
       "    }\n",
       "\n",
       "    .dataframe thead th {\n",
       "        text-align: right;\n",
       "    }\n",
       "</style>\n",
       "<table border=\"1\" class=\"dataframe\">\n",
       "  <thead>\n",
       "    <tr style=\"text-align: right;\">\n",
       "      <th></th>\n",
       "      <th>State</th>\n",
       "      <th>GDP</th>\n",
       "    </tr>\n",
       "  </thead>\n",
       "  <tbody>\n",
       "    <tr>\n",
       "      <th>42</th>\n",
       "      <td>Utah</td>\n",
       "      <td>171370.10</td>\n",
       "    </tr>\n",
       "    <tr>\n",
       "      <th>43</th>\n",
       "      <td>Vermont</td>\n",
       "      <td>28648.50</td>\n",
       "    </tr>\n",
       "    <tr>\n",
       "      <th>44</th>\n",
       "      <td>Virginia</td>\n",
       "      <td>473817.50</td>\n",
       "    </tr>\n",
       "    <tr>\n",
       "      <th>45</th>\n",
       "      <td>Washington</td>\n",
       "      <td>532861.90</td>\n",
       "    </tr>\n",
       "    <tr>\n",
       "      <th>46</th>\n",
       "      <td>Wisconsin</td>\n",
       "      <td>291715.80</td>\n",
       "    </tr>\n",
       "  </tbody>\n",
       "</table>\n",
       "</div>"
      ],
      "text/plain": [
       "         State       GDP\n",
       "42        Utah 171370.10\n",
       "43     Vermont  28648.50\n",
       "44    Virginia 473817.50\n",
       "45  Washington 532861.90\n",
       "46   Wisconsin 291715.80"
      ]
     },
     "execution_count": 142,
     "metadata": {},
     "output_type": "execute_result"
    }
   ],
   "source": [
    "# Drop the non-used States/Regions, converting column names, reset column index\n",
    "gdp_df = gdp_df[(gdp_df.GeoName != 'United States') & (gdp_df.GeoName != 'Southwest') & (gdp_df.GeoName != 'Southeast') & (gdp_df.GeoName != 'Plains') & (gdp_df.GeoName != 'Mideast') & (gdp_df.GeoName != 'Great Lakes') & (gdp_df.GeoName != 'Rocky Mountain') & (gdp_df.GeoName != 'Far West') & (gdp_df.GeoName != 'New England') & (gdp_df.GeoName != 'West Virginia') & (gdp_df.GeoName != 'Wyoming') & (gdp_df.GeoName != 'Hawaii') & (gdp_df.GeoName != 'New Hampshire')]\n",
    "gdp_df.rename(columns={'GeoName':'State','2020':'GDP'},inplace=True)\n",
    "gdp_df = gdp_df[['State', 'GDP']]\n",
    "gdp_df.reset_index(inplace=True,drop=True)\n",
    "gdp_df.tail()"
   ]
  },
  {
   "cell_type": "code",
   "execution_count": 143,
   "metadata": {},
   "outputs": [
    {
     "data": {
      "text/html": [
       "<div>\n",
       "<style scoped>\n",
       "    .dataframe tbody tr th:only-of-type {\n",
       "        vertical-align: middle;\n",
       "    }\n",
       "\n",
       "    .dataframe tbody tr th {\n",
       "        vertical-align: top;\n",
       "    }\n",
       "\n",
       "    .dataframe thead th {\n",
       "        text-align: right;\n",
       "    }\n",
       "</style>\n",
       "<table border=\"1\" class=\"dataframe\">\n",
       "  <thead>\n",
       "    <tr style=\"text-align: right;\">\n",
       "      <th></th>\n",
       "      <th>rank</th>\n",
       "      <th>State</th>\n",
       "      <th>Pop</th>\n",
       "      <th>Growth</th>\n",
       "      <th>Pop2018</th>\n",
       "      <th>Pop2010</th>\n",
       "      <th>growthSince2010</th>\n",
       "      <th>Percent</th>\n",
       "      <th>density</th>\n",
       "    </tr>\n",
       "  </thead>\n",
       "  <tbody>\n",
       "    <tr>\n",
       "      <th>0</th>\n",
       "      <td>1</td>\n",
       "      <td>California</td>\n",
       "      <td>39613493</td>\n",
       "      <td>0.00</td>\n",
       "      <td>39461588</td>\n",
       "      <td>37319502</td>\n",
       "      <td>0.06</td>\n",
       "      <td>0.12</td>\n",
       "      <td>254.29</td>\n",
       "    </tr>\n",
       "    <tr>\n",
       "      <th>1</th>\n",
       "      <td>2</td>\n",
       "      <td>Texas</td>\n",
       "      <td>29730311</td>\n",
       "      <td>0.04</td>\n",
       "      <td>28628666</td>\n",
       "      <td>25241971</td>\n",
       "      <td>0.18</td>\n",
       "      <td>0.09</td>\n",
       "      <td>113.81</td>\n",
       "    </tr>\n",
       "    <tr>\n",
       "      <th>2</th>\n",
       "      <td>3</td>\n",
       "      <td>Florida</td>\n",
       "      <td>21944577</td>\n",
       "      <td>0.03</td>\n",
       "      <td>21244317</td>\n",
       "      <td>18845537</td>\n",
       "      <td>0.16</td>\n",
       "      <td>0.07</td>\n",
       "      <td>409.22</td>\n",
       "    </tr>\n",
       "    <tr>\n",
       "      <th>3</th>\n",
       "      <td>4</td>\n",
       "      <td>New York</td>\n",
       "      <td>19299981</td>\n",
       "      <td>-0.01</td>\n",
       "      <td>19530351</td>\n",
       "      <td>19399878</td>\n",
       "      <td>-0.01</td>\n",
       "      <td>0.06</td>\n",
       "      <td>409.54</td>\n",
       "    </tr>\n",
       "    <tr>\n",
       "      <th>4</th>\n",
       "      <td>5</td>\n",
       "      <td>Pennsylvania</td>\n",
       "      <td>12804123</td>\n",
       "      <td>0.00</td>\n",
       "      <td>12800922</td>\n",
       "      <td>12711160</td>\n",
       "      <td>0.01</td>\n",
       "      <td>0.04</td>\n",
       "      <td>286.17</td>\n",
       "    </tr>\n",
       "  </tbody>\n",
       "</table>\n",
       "</div>"
      ],
      "text/plain": [
       "   rank         State       Pop  Growth   Pop2018   Pop2010  growthSince2010  \\\n",
       "0     1    California  39613493    0.00  39461588  37319502             0.06   \n",
       "1     2         Texas  29730311    0.04  28628666  25241971             0.18   \n",
       "2     3       Florida  21944577    0.03  21244317  18845537             0.16   \n",
       "3     4      New York  19299981   -0.01  19530351  19399878            -0.01   \n",
       "4     5  Pennsylvania  12804123    0.00  12800922  12711160             0.01   \n",
       "\n",
       "   Percent  density  \n",
       "0     0.12   254.29  \n",
       "1     0.09   113.81  \n",
       "2     0.07   409.22  \n",
       "3     0.06   409.54  \n",
       "4     0.04   286.17  "
      ]
     },
     "execution_count": 143,
     "metadata": {},
     "output_type": "execute_result"
    }
   ],
   "source": [
    "# Read population_df\n",
    "population_df.head()"
   ]
  },
  {
   "cell_type": "code",
   "execution_count": 144,
   "metadata": {},
   "outputs": [
    {
     "data": {
      "text/plain": [
       "array(['California', 'Texas', 'Florida', 'New York', 'Pennsylvania',\n",
       "       'Illinois', 'Ohio', 'Georgia', 'North Carolina', 'Michigan',\n",
       "       'New Jersey', 'Virginia', 'Washington', 'Arizona', 'Tennessee',\n",
       "       'Massachusetts', 'Indiana', 'Missouri', 'Maryland', 'Colorado',\n",
       "       'Wisconsin', 'Minnesota', 'South Carolina', 'Alabama', 'Louisiana',\n",
       "       'Kentucky', 'Oregon', 'Oklahoma', 'Connecticut', 'Utah',\n",
       "       'Puerto Rico', 'Nevada', 'Iowa', 'Arkansas', 'Mississippi',\n",
       "       'Kansas', 'New Mexico', 'Nebraska', 'Idaho', 'West Virginia',\n",
       "       'Hawaii', 'New Hampshire', 'Maine', 'Montana', 'Rhode Island',\n",
       "       'Delaware', 'South Dakota', 'North Dakota', 'Alaska',\n",
       "       'District of Columbia', 'Vermont', 'Wyoming'], dtype=object)"
      ]
     },
     "execution_count": 144,
     "metadata": {},
     "output_type": "execute_result"
    }
   ],
   "source": [
    "# Checking states in population_df\n",
    "population_df.State.unique()\n"
   ]
  },
  {
   "cell_type": "code",
   "execution_count": 145,
   "metadata": {},
   "outputs": [
    {
     "data": {
      "text/html": [
       "<div>\n",
       "<style scoped>\n",
       "    .dataframe tbody tr th:only-of-type {\n",
       "        vertical-align: middle;\n",
       "    }\n",
       "\n",
       "    .dataframe tbody tr th {\n",
       "        vertical-align: top;\n",
       "    }\n",
       "\n",
       "    .dataframe thead th {\n",
       "        text-align: right;\n",
       "    }\n",
       "</style>\n",
       "<table border=\"1\" class=\"dataframe\">\n",
       "  <thead>\n",
       "    <tr style=\"text-align: right;\">\n",
       "      <th></th>\n",
       "      <th>State</th>\n",
       "      <th>Pop</th>\n",
       "    </tr>\n",
       "  </thead>\n",
       "  <tbody>\n",
       "    <tr>\n",
       "      <th>42</th>\n",
       "      <td>Utah</td>\n",
       "      <td>3310774</td>\n",
       "    </tr>\n",
       "    <tr>\n",
       "      <th>43</th>\n",
       "      <td>Vermont</td>\n",
       "      <td>623251</td>\n",
       "    </tr>\n",
       "    <tr>\n",
       "      <th>44</th>\n",
       "      <td>Virginia</td>\n",
       "      <td>8603985</td>\n",
       "    </tr>\n",
       "    <tr>\n",
       "      <th>45</th>\n",
       "      <td>Washington</td>\n",
       "      <td>7796941</td>\n",
       "    </tr>\n",
       "    <tr>\n",
       "      <th>46</th>\n",
       "      <td>Wisconsin</td>\n",
       "      <td>5852490</td>\n",
       "    </tr>\n",
       "  </tbody>\n",
       "</table>\n",
       "</div>"
      ],
      "text/plain": [
       "         State      Pop\n",
       "42        Utah  3310774\n",
       "43     Vermont   623251\n",
       "44    Virginia  8603985\n",
       "45  Washington  7796941\n",
       "46   Wisconsin  5852490"
      ]
     },
     "execution_count": 145,
     "metadata": {},
     "output_type": "execute_result"
    }
   ],
   "source": [
    "# Filter out some regions and states, Grabbing State and Pop columns, reset index\n",
    "population_df = population_df[(population_df.State != 'Wyoming') & (population_df.State != 'West Virginia') & (population_df.State != 'Puerto Rico') & (population_df.State != 'Hawaii') & (population_df.State != 'New Hampshire')]\n",
    "population_df = population_df[['State','Pop']]\n",
    "population_df.sort_values(by=['State'],inplace=True)\n",
    "population_df.reset_index(inplace=True,drop=True)\n",
    "population_df.tail()\n"
   ]
  },
  {
   "cell_type": "code",
   "execution_count": 146,
   "metadata": {},
   "outputs": [
    {
     "data": {
      "text/plain": [
       "array(['United States', 'Alabama', 'Alaska *', 'Arizona', 'Arkansas',\n",
       "       'California', 'Colorado', 'Connecticut', 'Delaware',\n",
       "       'District of Columbia', 'Florida', 'Georgia', 'Hawaii *', 'Idaho',\n",
       "       'Illinois', 'Indiana', 'Iowa', 'Kansas', 'Kentucky', 'Louisiana',\n",
       "       'Maine', 'Maryland', 'Massachusetts', 'Michigan', 'Minnesota',\n",
       "       'Mississippi', 'Missouri', 'Montana', 'Nebraska', 'Nevada',\n",
       "       'New Hampshire', 'New Jersey', 'New Mexico', 'New York',\n",
       "       'North Carolina', 'North Dakota', 'Ohio', 'Oklahoma', 'Oregon',\n",
       "       'Pennsylvania', 'Rhode Island', 'South Carolina', 'South Dakota',\n",
       "       'Tennessee', 'Texas', 'Utah', 'Vermont', 'Virginia', 'Washington',\n",
       "       'West Virginia', 'Wisconsin', 'Wyoming', 'New England', 'Mideast',\n",
       "       'Great Lakes', 'Plains', 'Southeast', 'Southwest',\n",
       "       'Rocky Mountain', 'Far West'], dtype=object)"
      ]
     },
     "execution_count": 146,
     "metadata": {},
     "output_type": "execute_result"
    }
   ],
   "source": [
    "# Check GeoName/States\n",
    "income_df.GeoName.unique()"
   ]
  },
  {
   "cell_type": "code",
   "execution_count": 147,
   "metadata": {},
   "outputs": [
    {
     "data": {
      "text/html": [
       "<div>\n",
       "<style scoped>\n",
       "    .dataframe tbody tr th:only-of-type {\n",
       "        vertical-align: middle;\n",
       "    }\n",
       "\n",
       "    .dataframe tbody tr th {\n",
       "        vertical-align: top;\n",
       "    }\n",
       "\n",
       "    .dataframe thead th {\n",
       "        text-align: right;\n",
       "    }\n",
       "</style>\n",
       "<table border=\"1\" class=\"dataframe\">\n",
       "  <thead>\n",
       "    <tr style=\"text-align: right;\">\n",
       "      <th></th>\n",
       "      <th>State</th>\n",
       "      <th>income</th>\n",
       "    </tr>\n",
       "  </thead>\n",
       "  <tbody>\n",
       "    <tr>\n",
       "      <th>42</th>\n",
       "      <td>Utah</td>\n",
       "      <td>169656.30</td>\n",
       "    </tr>\n",
       "    <tr>\n",
       "      <th>43</th>\n",
       "      <td>Vermont</td>\n",
       "      <td>36894.20</td>\n",
       "    </tr>\n",
       "    <tr>\n",
       "      <th>44</th>\n",
       "      <td>Virginia</td>\n",
       "      <td>532256.20</td>\n",
       "    </tr>\n",
       "    <tr>\n",
       "      <th>45</th>\n",
       "      <td>Washington</td>\n",
       "      <td>516441.10</td>\n",
       "    </tr>\n",
       "    <tr>\n",
       "      <th>46</th>\n",
       "      <td>Wisconsin</td>\n",
       "      <td>324252.00</td>\n",
       "    </tr>\n",
       "  </tbody>\n",
       "</table>\n",
       "</div>"
      ],
      "text/plain": [
       "         State    income\n",
       "42        Utah 169656.30\n",
       "43     Vermont  36894.20\n",
       "44    Virginia 532256.20\n",
       "45  Washington 516441.10\n",
       "46   Wisconsin 324252.00"
      ]
     },
     "execution_count": 147,
     "metadata": {},
     "output_type": "execute_result"
    }
   ],
   "source": [
    "# we found astrious * in States so we made a function to remove it\n",
    "def conv_state(a):\n",
    "    if '*' in a:\n",
    "        a=a.replace(' *', '')\n",
    "    return a\n",
    "\n",
    "# we need to convert to string to run the function\n",
    "income_df.rename(columns={'GeoName':'State','2020':'income'},inplace=True)\n",
    "income_df = income_df[['State', 'income']]\n",
    "income_df.State.astype('str')\n",
    "income_df.State = income_df.State.apply(conv_state)\n",
    "\n",
    "# Drop unused States/Region, rename GeoName to State and 2020 to income, filter out other columns, reset index\n",
    "income_df = income_df[(income_df.State != 'United States') & (income_df.State != 'Southwest') & (income_df.State != 'Southeast') & (income_df.State != 'Plains') & (income_df.State != 'Mideast') & (income_df.State != 'Great Lakes') & (income_df.State != 'Rocky Mountain') & (income_df.State != 'Far West') & (income_df.State != 'New England') & (income_df.State != 'West Virginia') & (income_df.State != 'Wyoming') & (income_df.State != 'Hawaii') & (income_df.State != 'New Hampshire')]\n",
    "\n",
    "income_df.reset_index(inplace=True,drop=True)\n",
    "\n",
    "\n",
    "income_df.tail()"
   ]
  },
  {
   "cell_type": "code",
   "execution_count": 148,
   "metadata": {},
   "outputs": [
    {
     "data": {
      "text/html": [
       "<div>\n",
       "<style scoped>\n",
       "    .dataframe tbody tr th:only-of-type {\n",
       "        vertical-align: middle;\n",
       "    }\n",
       "\n",
       "    .dataframe tbody tr th {\n",
       "        vertical-align: top;\n",
       "    }\n",
       "\n",
       "    .dataframe thead th {\n",
       "        text-align: right;\n",
       "    }\n",
       "</style>\n",
       "<table border=\"1\" class=\"dataframe\">\n",
       "  <thead>\n",
       "    <tr style=\"text-align: right;\">\n",
       "      <th></th>\n",
       "      <th>Unnamed: 0</th>\n",
       "      <th>GeoFips</th>\n",
       "      <th>GeoName</th>\n",
       "      <th>LineCode</th>\n",
       "      <th>Description</th>\n",
       "      <th>2020</th>\n",
       "    </tr>\n",
       "  </thead>\n",
       "  <tbody>\n",
       "    <tr>\n",
       "      <th>0</th>\n",
       "      <td>0</td>\n",
       "      <td>0</td>\n",
       "      <td>United States</td>\n",
       "      <td>1</td>\n",
       "      <td>Personal consumption expenditures</td>\n",
       "      <td>14047565.00</td>\n",
       "    </tr>\n",
       "    <tr>\n",
       "      <th>1</th>\n",
       "      <td>1</td>\n",
       "      <td>0</td>\n",
       "      <td>United States</td>\n",
       "      <td>2</td>\n",
       "      <td>Goods</td>\n",
       "      <td>4653822.00</td>\n",
       "    </tr>\n",
       "    <tr>\n",
       "      <th>2</th>\n",
       "      <td>2</td>\n",
       "      <td>0</td>\n",
       "      <td>United States</td>\n",
       "      <td>3</td>\n",
       "      <td>Durable goods</td>\n",
       "      <td>1616408.00</td>\n",
       "    </tr>\n",
       "    <tr>\n",
       "      <th>3</th>\n",
       "      <td>3</td>\n",
       "      <td>0</td>\n",
       "      <td>United States</td>\n",
       "      <td>4</td>\n",
       "      <td>Motor vehicles and parts</td>\n",
       "      <td>541265.00</td>\n",
       "    </tr>\n",
       "    <tr>\n",
       "      <th>4</th>\n",
       "      <td>4</td>\n",
       "      <td>0</td>\n",
       "      <td>United States</td>\n",
       "      <td>5</td>\n",
       "      <td>Furnishings and durable household equipment</td>\n",
       "      <td>390382.00</td>\n",
       "    </tr>\n",
       "    <tr>\n",
       "      <th>5</th>\n",
       "      <td>5</td>\n",
       "      <td>0</td>\n",
       "      <td>United States</td>\n",
       "      <td>6</td>\n",
       "      <td>Recreational goods and vehicles</td>\n",
       "      <td>476217.00</td>\n",
       "    </tr>\n",
       "    <tr>\n",
       "      <th>6</th>\n",
       "      <td>6</td>\n",
       "      <td>0</td>\n",
       "      <td>United States</td>\n",
       "      <td>7</td>\n",
       "      <td>Other durable goods</td>\n",
       "      <td>208545.00</td>\n",
       "    </tr>\n",
       "    <tr>\n",
       "      <th>7</th>\n",
       "      <td>7</td>\n",
       "      <td>0</td>\n",
       "      <td>United States</td>\n",
       "      <td>8</td>\n",
       "      <td>Nondurable goods</td>\n",
       "      <td>3037413.00</td>\n",
       "    </tr>\n",
       "    <tr>\n",
       "      <th>8</th>\n",
       "      <td>8</td>\n",
       "      <td>0</td>\n",
       "      <td>United States</td>\n",
       "      <td>9</td>\n",
       "      <td>Food and beverages purchased for off-pre...</td>\n",
       "      <td>1146676.00</td>\n",
       "    </tr>\n",
       "    <tr>\n",
       "      <th>9</th>\n",
       "      <td>9</td>\n",
       "      <td>0</td>\n",
       "      <td>United States</td>\n",
       "      <td>10</td>\n",
       "      <td>Clothing and footwear</td>\n",
       "      <td>362435.00</td>\n",
       "    </tr>\n",
       "    <tr>\n",
       "      <th>10</th>\n",
       "      <td>10</td>\n",
       "      <td>0</td>\n",
       "      <td>United States</td>\n",
       "      <td>11</td>\n",
       "      <td>Gasoline and other energy goods</td>\n",
       "      <td>246757.00</td>\n",
       "    </tr>\n",
       "    <tr>\n",
       "      <th>11</th>\n",
       "      <td>11</td>\n",
       "      <td>0</td>\n",
       "      <td>United States</td>\n",
       "      <td>12</td>\n",
       "      <td>Other nondurable goods</td>\n",
       "      <td>1281545.00</td>\n",
       "    </tr>\n",
       "    <tr>\n",
       "      <th>12</th>\n",
       "      <td>12</td>\n",
       "      <td>0</td>\n",
       "      <td>United States</td>\n",
       "      <td>13</td>\n",
       "      <td>Services</td>\n",
       "      <td>9393744.00</td>\n",
       "    </tr>\n",
       "    <tr>\n",
       "      <th>13</th>\n",
       "      <td>13</td>\n",
       "      <td>0</td>\n",
       "      <td>United States</td>\n",
       "      <td>14</td>\n",
       "      <td>Household consumption expenditures (for se...</td>\n",
       "      <td>8872868.00</td>\n",
       "    </tr>\n",
       "    <tr>\n",
       "      <th>14</th>\n",
       "      <td>14</td>\n",
       "      <td>0</td>\n",
       "      <td>United States</td>\n",
       "      <td>15</td>\n",
       "      <td>Housing and utilities</td>\n",
       "      <td>2668144.00</td>\n",
       "    </tr>\n",
       "  </tbody>\n",
       "</table>\n",
       "</div>"
      ],
      "text/plain": [
       "    Unnamed: 0  GeoFips        GeoName  LineCode  \\\n",
       "0            0        0  United States         1   \n",
       "1            1        0  United States         2   \n",
       "2            2        0  United States         3   \n",
       "3            3        0  United States         4   \n",
       "4            4        0  United States         5   \n",
       "5            5        0  United States         6   \n",
       "6            6        0  United States         7   \n",
       "7            7        0  United States         8   \n",
       "8            8        0  United States         9   \n",
       "9            9        0  United States        10   \n",
       "10          10        0  United States        11   \n",
       "11          11        0  United States        12   \n",
       "12          12        0  United States        13   \n",
       "13          13        0  United States        14   \n",
       "14          14        0  United States        15   \n",
       "\n",
       "                                          Description        2020  \n",
       "0                   Personal consumption expenditures 14047565.00  \n",
       "1                                               Goods  4653822.00  \n",
       "2                                       Durable goods  1616408.00  \n",
       "3                            Motor vehicles and parts   541265.00  \n",
       "4         Furnishings and durable household equipment   390382.00  \n",
       "5                     Recreational goods and vehicles   476217.00  \n",
       "6                                 Other durable goods   208545.00  \n",
       "7                                    Nondurable goods  3037413.00  \n",
       "8         Food and beverages purchased for off-pre...  1146676.00  \n",
       "9                               Clothing and footwear   362435.00  \n",
       "10                    Gasoline and other energy goods   246757.00  \n",
       "11                             Other nondurable goods  1281545.00  \n",
       "12                                           Services  9393744.00  \n",
       "13      Household consumption expenditures (for se...  8872868.00  \n",
       "14                              Housing and utilities  2668144.00  "
      ]
     },
     "execution_count": 148,
     "metadata": {},
     "output_type": "execute_result"
    }
   ],
   "source": [
    "# Reading spending_df\n",
    "spending_df.head(15)"
   ]
  },
  {
   "cell_type": "code",
   "execution_count": 149,
   "metadata": {},
   "outputs": [
    {
     "data": {
      "text/html": [
       "<div>\n",
       "<style scoped>\n",
       "    .dataframe tbody tr th:only-of-type {\n",
       "        vertical-align: middle;\n",
       "    }\n",
       "\n",
       "    .dataframe tbody tr th {\n",
       "        vertical-align: top;\n",
       "    }\n",
       "\n",
       "    .dataframe thead th {\n",
       "        text-align: right;\n",
       "    }\n",
       "</style>\n",
       "<table border=\"1\" class=\"dataframe\">\n",
       "  <thead>\n",
       "    <tr style=\"text-align: right;\">\n",
       "      <th></th>\n",
       "      <th>State</th>\n",
       "      <th>spending</th>\n",
       "    </tr>\n",
       "  </thead>\n",
       "  <tbody>\n",
       "    <tr>\n",
       "      <th>42</th>\n",
       "      <td>Utah</td>\n",
       "      <td>121445.40</td>\n",
       "    </tr>\n",
       "    <tr>\n",
       "      <th>43</th>\n",
       "      <td>Vermont</td>\n",
       "      <td>29544.80</td>\n",
       "    </tr>\n",
       "    <tr>\n",
       "      <th>44</th>\n",
       "      <td>Virginia</td>\n",
       "      <td>367302.70</td>\n",
       "    </tr>\n",
       "    <tr>\n",
       "      <th>45</th>\n",
       "      <td>Washington</td>\n",
       "      <td>354219.10</td>\n",
       "    </tr>\n",
       "    <tr>\n",
       "      <th>46</th>\n",
       "      <td>Wisconsin</td>\n",
       "      <td>238923.00</td>\n",
       "    </tr>\n",
       "  </tbody>\n",
       "</table>\n",
       "</div>"
      ],
      "text/plain": [
       "         State  spending\n",
       "42        Utah 121445.40\n",
       "43     Vermont  29544.80\n",
       "44    Virginia 367302.70\n",
       "45  Washington 354219.10\n",
       "46   Wisconsin 238923.00"
      ]
     },
     "execution_count": 149,
     "metadata": {},
     "output_type": "execute_result"
    }
   ],
   "source": [
    "# Personal consumption expenditure is the total of the sub categories, so we only want the total per state\n",
    "spending_df = spending_df[spending_df['Description'] == 'Personal consumption expenditures']\n",
    "\n",
    "# Dropping un-used region/State\n",
    "spending_df = spending_df[(spending_df.GeoName != 'United States') & (spending_df.GeoName != 'Southwest') & (spending_df.GeoName != 'Southeast') & (spending_df.GeoName != 'Plains') & (spending_df.GeoName != 'Mideast') & (spending_df.GeoName != 'Great Lakes') & (spending_df.GeoName != 'Rocky Mountain') & (spending_df.GeoName != 'Far West') & (spending_df.GeoName != 'New England') & (spending_df.GeoName != 'West Virginia') & (spending_df.GeoName != 'Wyoming') & (spending_df.GeoName != 'Hawaii') & (spending_df.GeoName != 'New Hampshire')]\n",
    "\n",
    "# Rename column names\n",
    "spending_df.rename(columns={'GeoName':'State','2020':'spending'},inplace=True)\n",
    "\n",
    "# Filter out needed columns\n",
    "spending_df = spending_df[['State', 'spending']]\n",
    "\n",
    "# Reset index\n",
    "spending_df.reset_index(inplace=True,drop=True)\n",
    "spending_df.tail()"
   ]
  },
  {
   "cell_type": "markdown",
   "metadata": {},
   "source": [
    "#### 1. Merge the Sub-Datasets for future use<br> 2. Create house_df"
   ]
  },
  {
   "cell_type": "code",
   "execution_count": 150,
   "metadata": {},
   "outputs": [
    {
     "data": {
      "text/html": [
       "<div>\n",
       "<style scoped>\n",
       "    .dataframe tbody tr th:only-of-type {\n",
       "        vertical-align: middle;\n",
       "    }\n",
       "\n",
       "    .dataframe tbody tr th {\n",
       "        vertical-align: top;\n",
       "    }\n",
       "\n",
       "    .dataframe thead th {\n",
       "        text-align: right;\n",
       "    }\n",
       "</style>\n",
       "<table border=\"1\" class=\"dataframe\">\n",
       "  <thead>\n",
       "    <tr style=\"text-align: right;\">\n",
       "      <th></th>\n",
       "      <th>fullState</th>\n",
       "      <th>GDP</th>\n",
       "      <th>Spending</th>\n",
       "      <th>Population</th>\n",
       "      <th>Income</th>\n",
       "    </tr>\n",
       "  </thead>\n",
       "  <tbody>\n",
       "    <tr>\n",
       "      <th>42</th>\n",
       "      <td>Utah</td>\n",
       "      <td>171370.10</td>\n",
       "      <td>121445.40</td>\n",
       "      <td>3310774</td>\n",
       "      <td>169656.30</td>\n",
       "    </tr>\n",
       "    <tr>\n",
       "      <th>43</th>\n",
       "      <td>Vermont</td>\n",
       "      <td>28648.50</td>\n",
       "      <td>29544.80</td>\n",
       "      <td>623251</td>\n",
       "      <td>36894.20</td>\n",
       "    </tr>\n",
       "    <tr>\n",
       "      <th>44</th>\n",
       "      <td>Virginia</td>\n",
       "      <td>473817.50</td>\n",
       "      <td>367302.70</td>\n",
       "      <td>8603985</td>\n",
       "      <td>532256.20</td>\n",
       "    </tr>\n",
       "    <tr>\n",
       "      <th>45</th>\n",
       "      <td>Washington</td>\n",
       "      <td>532861.90</td>\n",
       "      <td>354219.10</td>\n",
       "      <td>7796941</td>\n",
       "      <td>516441.10</td>\n",
       "    </tr>\n",
       "    <tr>\n",
       "      <th>46</th>\n",
       "      <td>Wisconsin</td>\n",
       "      <td>291715.80</td>\n",
       "      <td>238923.00</td>\n",
       "      <td>5852490</td>\n",
       "      <td>324252.00</td>\n",
       "    </tr>\n",
       "  </tbody>\n",
       "</table>\n",
       "</div>"
      ],
      "text/plain": [
       "     fullState       GDP  Spending  Population    Income\n",
       "42        Utah 171370.10 121445.40     3310774 169656.30\n",
       "43     Vermont  28648.50  29544.80      623251  36894.20\n",
       "44    Virginia 473817.50 367302.70     8603985 532256.20\n",
       "45  Washington 532861.90 354219.10     7796941 516441.10\n",
       "46   Wisconsin 291715.80 238923.00     5852490 324252.00"
      ]
     },
     "execution_count": 150,
     "metadata": {},
     "output_type": "execute_result"
    }
   ],
   "source": [
    "# Making a merge_df and merge all the data by state\n",
    "merged_df = gdp_df.merge(spending_df, how = 'inner', on = 'State')\n",
    "merged_df = merged_df.merge(population_df, how = 'inner', on = 'State')\n",
    "merged_df = merged_df.merge(income_df, how = 'inner', on = 'State')\n",
    "\n",
    "# Renaming columns, renaming to fullState is because we will insert abbreviations later, and merge with future data.\n",
    "merged_df.rename(columns={'State':'fullState','spending':'Spending', 'Pop':'Population', 'income': 'Income'},inplace=True)\n",
    "merged_df.tail()"
   ]
  },
  {
   "cell_type": "code",
   "execution_count": 151,
   "metadata": {},
   "outputs": [
    {
     "data": {
      "text/html": [
       "<div>\n",
       "<style scoped>\n",
       "    .dataframe tbody tr th:only-of-type {\n",
       "        vertical-align: middle;\n",
       "    }\n",
       "\n",
       "    .dataframe tbody tr th {\n",
       "        vertical-align: top;\n",
       "    }\n",
       "\n",
       "    .dataframe thead th {\n",
       "        text-align: right;\n",
       "    }\n",
       "</style>\n",
       "<table border=\"1\" class=\"dataframe\">\n",
       "  <thead>\n",
       "    <tr style=\"text-align: right;\">\n",
       "      <th></th>\n",
       "      <th>Bedrooms</th>\n",
       "      <th>Bathrooms</th>\n",
       "      <th>Size</th>\n",
       "      <th>Type</th>\n",
       "      <th>Price</th>\n",
       "      <th>City</th>\n",
       "      <th>State</th>\n",
       "      <th>perSqFt</th>\n",
       "      <th>Region</th>\n",
       "    </tr>\n",
       "  </thead>\n",
       "  <tbody>\n",
       "    <tr>\n",
       "      <th>0</th>\n",
       "      <td>8.00</td>\n",
       "      <td>4.00</td>\n",
       "      <td>3264.00</td>\n",
       "      <td>Multifamily</td>\n",
       "      <td>459900.00</td>\n",
       "      <td>Anchorage</td>\n",
       "      <td>AK</td>\n",
       "      <td>140.90</td>\n",
       "      <td>West</td>\n",
       "    </tr>\n",
       "    <tr>\n",
       "      <th>1</th>\n",
       "      <td>2.00</td>\n",
       "      <td>1.00</td>\n",
       "      <td>778.00</td>\n",
       "      <td>Condo</td>\n",
       "      <td>89900.00</td>\n",
       "      <td>Anchorage</td>\n",
       "      <td>AK</td>\n",
       "      <td>115.55</td>\n",
       "      <td>West</td>\n",
       "    </tr>\n",
       "    <tr>\n",
       "      <th>2</th>\n",
       "      <td>8.00</td>\n",
       "      <td>4.00</td>\n",
       "      <td>3880.00</td>\n",
       "      <td>Multifamily</td>\n",
       "      <td>590000.00</td>\n",
       "      <td>Eagle River</td>\n",
       "      <td>AK</td>\n",
       "      <td>152.06</td>\n",
       "      <td>West</td>\n",
       "    </tr>\n",
       "    <tr>\n",
       "      <th>3</th>\n",
       "      <td>6.00</td>\n",
       "      <td>5.00</td>\n",
       "      <td>4640.00</td>\n",
       "      <td>House</td>\n",
       "      <td>589900.00</td>\n",
       "      <td>Chugiak</td>\n",
       "      <td>AK</td>\n",
       "      <td>127.13</td>\n",
       "      <td>West</td>\n",
       "    </tr>\n",
       "    <tr>\n",
       "      <th>4</th>\n",
       "      <td>2.00</td>\n",
       "      <td>2.00</td>\n",
       "      <td>1152.00</td>\n",
       "      <td>Condo</td>\n",
       "      <td>184000.00</td>\n",
       "      <td>Anchorage</td>\n",
       "      <td>AK</td>\n",
       "      <td>159.72</td>\n",
       "      <td>West</td>\n",
       "    </tr>\n",
       "    <tr>\n",
       "      <th>...</th>\n",
       "      <td>...</td>\n",
       "      <td>...</td>\n",
       "      <td>...</td>\n",
       "      <td>...</td>\n",
       "      <td>...</td>\n",
       "      <td>...</td>\n",
       "      <td>...</td>\n",
       "      <td>...</td>\n",
       "      <td>...</td>\n",
       "    </tr>\n",
       "    <tr>\n",
       "      <th>43847</th>\n",
       "      <td>3.00</td>\n",
       "      <td>1.00</td>\n",
       "      <td>960.00</td>\n",
       "      <td>House</td>\n",
       "      <td>184900.00</td>\n",
       "      <td>Kenosha</td>\n",
       "      <td>WI</td>\n",
       "      <td>192.60</td>\n",
       "      <td>MidWest</td>\n",
       "    </tr>\n",
       "    <tr>\n",
       "      <th>43848</th>\n",
       "      <td>5.00</td>\n",
       "      <td>3.00</td>\n",
       "      <td>2149.00</td>\n",
       "      <td>House</td>\n",
       "      <td>375000.00</td>\n",
       "      <td>Madison</td>\n",
       "      <td>WI</td>\n",
       "      <td>174.50</td>\n",
       "      <td>MidWest</td>\n",
       "    </tr>\n",
       "    <tr>\n",
       "      <th>43849</th>\n",
       "      <td>3.00</td>\n",
       "      <td>2.00</td>\n",
       "      <td>1823.00</td>\n",
       "      <td>Condo</td>\n",
       "      <td>457900.00</td>\n",
       "      <td>Verona</td>\n",
       "      <td>WI</td>\n",
       "      <td>251.18</td>\n",
       "      <td>MidWest</td>\n",
       "    </tr>\n",
       "    <tr>\n",
       "      <th>43850</th>\n",
       "      <td>4.00</td>\n",
       "      <td>6.00</td>\n",
       "      <td>6500.00</td>\n",
       "      <td>House</td>\n",
       "      <td>1500000.00</td>\n",
       "      <td>Racine</td>\n",
       "      <td>WI</td>\n",
       "      <td>230.77</td>\n",
       "      <td>MidWest</td>\n",
       "    </tr>\n",
       "    <tr>\n",
       "      <th>43851</th>\n",
       "      <td>3.00</td>\n",
       "      <td>3.00</td>\n",
       "      <td>3200.00</td>\n",
       "      <td>House</td>\n",
       "      <td>464900.00</td>\n",
       "      <td>Madison</td>\n",
       "      <td>WI</td>\n",
       "      <td>145.28</td>\n",
       "      <td>MidWest</td>\n",
       "    </tr>\n",
       "  </tbody>\n",
       "</table>\n",
       "<p>43852 rows × 9 columns</p>\n",
       "</div>"
      ],
      "text/plain": [
       "       Bedrooms  Bathrooms    Size         Type      Price         City State  \\\n",
       "0          8.00       4.00 3264.00  Multifamily  459900.00    Anchorage    AK   \n",
       "1          2.00       1.00  778.00        Condo   89900.00    Anchorage    AK   \n",
       "2          8.00       4.00 3880.00  Multifamily  590000.00  Eagle River    AK   \n",
       "3          6.00       5.00 4640.00        House  589900.00      Chugiak    AK   \n",
       "4          2.00       2.00 1152.00        Condo  184000.00    Anchorage    AK   \n",
       "...         ...        ...     ...          ...        ...          ...   ...   \n",
       "43847      3.00       1.00  960.00        House  184900.00      Kenosha    WI   \n",
       "43848      5.00       3.00 2149.00        House  375000.00      Madison    WI   \n",
       "43849      3.00       2.00 1823.00        Condo  457900.00       Verona    WI   \n",
       "43850      4.00       6.00 6500.00        House 1500000.00       Racine    WI   \n",
       "43851      3.00       3.00 3200.00        House  464900.00      Madison    WI   \n",
       "\n",
       "       perSqFt   Region  \n",
       "0       140.90     West  \n",
       "1       115.55     West  \n",
       "2       152.06     West  \n",
       "3       127.13     West  \n",
       "4       159.72     West  \n",
       "...        ...      ...  \n",
       "43847   192.60  MidWest  \n",
       "43848   174.50  MidWest  \n",
       "43849   251.18  MidWest  \n",
       "43850   230.77  MidWest  \n",
       "43851   145.28  MidWest  \n",
       "\n",
       "[43852 rows x 9 columns]"
      ]
     },
     "execution_count": 151,
     "metadata": {},
     "output_type": "execute_result"
    }
   ],
   "source": [
    "# sort df3 by state, reset index and set to our Final house_df\n",
    "df3= df3.sort_values(by='State')\n",
    "df3.reset_index(inplace=True,drop=True)\n",
    "df4=df3.drop('ZipCode', axis=1)\n",
    "house_df = df4\n",
    "house_df"
   ]
  },
  {
   "cell_type": "code",
   "execution_count": 152,
   "metadata": {},
   "outputs": [
    {
     "data": {
      "text/plain": [
       "{'AK': 'Alabama',\n",
       " 'AL': 'Alaska',\n",
       " 'AR': 'Arizona',\n",
       " 'AZ': 'Arkansas',\n",
       " 'CA': 'California',\n",
       " 'CO': 'Colorado',\n",
       " 'CT': 'Connecticut',\n",
       " 'DC': 'Delaware',\n",
       " 'DE': 'District of Columbia',\n",
       " 'FL': 'Florida',\n",
       " 'GA': 'Georgia',\n",
       " 'IA': 'Idaho',\n",
       " 'ID': 'Illinois',\n",
       " 'IL': 'Indiana',\n",
       " 'IN': 'Iowa',\n",
       " 'KS': 'Kansas',\n",
       " 'KY': 'Kentucky',\n",
       " 'LA': 'Louisiana',\n",
       " 'MA': 'Maine',\n",
       " 'MD': 'Maryland',\n",
       " 'ME': 'Massachusetts',\n",
       " 'MI': 'Michigan',\n",
       " 'MN': 'Minnesota',\n",
       " 'MO': 'Mississippi',\n",
       " 'MS': 'Missouri',\n",
       " 'MT': 'Montana',\n",
       " 'NC': 'Nebraska',\n",
       " 'ND': 'Nevada',\n",
       " 'NE': 'New Jersey',\n",
       " 'NJ': 'New Mexico',\n",
       " 'NM': 'New York',\n",
       " 'NV': 'North Carolina',\n",
       " 'NY': 'North Dakota',\n",
       " 'OH': 'Ohio',\n",
       " 'OK': 'Oklahoma',\n",
       " 'OR': 'Oregon',\n",
       " 'PA': 'Pennsylvania',\n",
       " 'RI': 'Rhode Island',\n",
       " 'SC': 'South Carolina',\n",
       " 'SD': 'South Dakota',\n",
       " 'TN': 'Tennessee',\n",
       " 'TX': 'Texas',\n",
       " 'UT': 'Utah',\n",
       " 'VA': 'Virginia',\n",
       " 'WA': 'Washington',\n",
       " 'WI': 'Wisconsin'}"
      ]
     },
     "execution_count": 152,
     "metadata": {},
     "output_type": "execute_result"
    }
   ],
   "source": [
    "# making a dict of state list comparing merged_df to house_df, and prepare commands for merge\n",
    "merged_df = merged_df[(merged_df['fullState'] != 'Vermont')]\n",
    "list1 = list(house_df.State.unique())\n",
    "list2 = list(merged_df.fullState)\n",
    "state_dict = dict(zip(list1,list2))\n",
    "state_dict\n"
   ]
  },
  {
   "cell_type": "code",
   "execution_count": 153,
   "metadata": {},
   "outputs": [],
   "source": [
    "state_dict.update({'AK': 'Alaska',\n",
    " 'AL': 'Alabama',\n",
    " 'AR': 'Arkansas',\n",
    " 'AZ': 'Arizona',\n",
    " 'CA': 'California',\n",
    " 'CO': 'Colorado',\n",
    " 'CT': 'Connecticut',\n",
    " 'DC': 'District of Columbia',\n",
    " 'DE': 'Delaware',\n",
    " 'FL': 'Florida',\n",
    " 'GA': 'Georgia',\n",
    " 'IA': 'Iowa',\n",
    " 'ID': 'Idaho',\n",
    " 'IL': 'Illinois',\n",
    " 'IN': 'Indiana',\n",
    " 'KS': 'Kansas',\n",
    " 'KY': 'Kentucky',\n",
    " 'LA': 'Louisiana',\n",
    " 'MA': 'Massachusetts',\n",
    " 'MD': 'Maryland',\n",
    " 'ME': 'Maine',\n",
    " 'MI': 'Michigan',\n",
    " 'MN': 'Minnesota',\n",
    " 'MO': 'Missouri',\n",
    " 'MS': 'Mississippi',\n",
    " 'MT': 'Montana',\n",
    " 'NC': 'North Carolina',\n",
    " 'ND': 'North Dakota',\n",
    " 'NE': 'Nebraska',\n",
    " 'NJ': 'New Jersey',\n",
    " 'NM': 'New Mexico',\n",
    " 'NV': 'Nevada',\n",
    " 'NY': 'New York',\n",
    " 'OH': 'Ohio',\n",
    " 'OK': 'Oklahoma',\n",
    " 'OR': 'Oregon',\n",
    " 'PA': 'Pennsylvania',\n",
    " 'RI': 'Rhode Island',\n",
    " 'SC': 'South Carolina',\n",
    " 'SD': 'South Dakota',\n",
    " 'TN': 'Tennessee',\n",
    " 'TX': 'Texas',\n",
    " 'UT': 'Utah',\n",
    " 'VA': 'Virginia',\n",
    " 'WA': 'Washington',\n",
    " 'WI': 'Wisconsin'}, inplace=True)"
   ]
  },
  {
   "cell_type": "code",
   "execution_count": 154,
   "metadata": {},
   "outputs": [
    {
     "data": {
      "text/plain": [
       "\"\\n# from visualization we realize the data has many outliers\\n# Creating a function to remove outliers\\ndef create_val(a,b):\\n    df = house_df[house_df['State'] == b]\\n    avg = df['Price'].mean()\\n    std = df['Price'].std()\\n    z = (a - avg) / std \\n    return z\\n\\n\\n# creating z_score by applying function with lambda\\nhouse_df['z_score'] = house_df.apply(lambda x: create_val(x.Price, x.State), axis = 1)\\nhouse_df\\n\""
      ]
     },
     "execution_count": 154,
     "metadata": {},
     "output_type": "execute_result"
    }
   ],
   "source": [
    "'''\n",
    "# from visualization we realize the data has many outliers\n",
    "# Creating a function to remove outliers\n",
    "def create_val(a,b):\n",
    "    df = house_df[house_df['State'] == b]\n",
    "    avg = df['Price'].mean()\n",
    "    std = df['Price'].std()\n",
    "    z = (a - avg) / std \n",
    "    return z\n",
    "\n",
    "\n",
    "# creating z_score by applying function with lambda\n",
    "house_df['z_score'] = house_df.apply(lambda x: create_val(x.Price, x.State), axis = 1)\n",
    "house_df\n",
    "'''"
   ]
  },
  {
   "cell_type": "markdown",
   "metadata": {},
   "source": [
    "### Data Visualization"
   ]
  },
  {
   "cell_type": "markdown",
   "metadata": {},
   "source": [
    "#### Pivot Tables and Groupby Table"
   ]
  },
  {
   "cell_type": "markdown",
   "metadata": {},
   "source": [
    "##### Describe"
   ]
  },
  {
   "cell_type": "code",
   "execution_count": 207,
   "metadata": {},
   "outputs": [
    {
     "data": {
      "text/html": [
       "<div>\n",
       "<style scoped>\n",
       "    .dataframe tbody tr th:only-of-type {\n",
       "        vertical-align: middle;\n",
       "    }\n",
       "\n",
       "    .dataframe tbody tr th {\n",
       "        vertical-align: top;\n",
       "    }\n",
       "\n",
       "    .dataframe thead th {\n",
       "        text-align: right;\n",
       "    }\n",
       "</style>\n",
       "<table border=\"1\" class=\"dataframe\">\n",
       "  <thead>\n",
       "    <tr style=\"text-align: right;\">\n",
       "      <th></th>\n",
       "      <th>Bedrooms</th>\n",
       "      <th>Bathrooms</th>\n",
       "      <th>Size</th>\n",
       "      <th>Price</th>\n",
       "      <th>perSqFt</th>\n",
       "    </tr>\n",
       "  </thead>\n",
       "  <tbody>\n",
       "    <tr>\n",
       "      <th>count</th>\n",
       "      <td>43852.00</td>\n",
       "      <td>43852.00</td>\n",
       "      <td>43852.00</td>\n",
       "      <td>43852.00</td>\n",
       "      <td>43852.00</td>\n",
       "    </tr>\n",
       "    <tr>\n",
       "      <th>mean</th>\n",
       "      <td>3.45</td>\n",
       "      <td>2.70</td>\n",
       "      <td>2339.14</td>\n",
       "      <td>718952.55</td>\n",
       "      <td>306.72</td>\n",
       "    </tr>\n",
       "    <tr>\n",
       "      <th>std</th>\n",
       "      <td>1.58</td>\n",
       "      <td>1.62</td>\n",
       "      <td>2519.09</td>\n",
       "      <td>2178164.79</td>\n",
       "      <td>3576.67</td>\n",
       "    </tr>\n",
       "    <tr>\n",
       "      <th>min</th>\n",
       "      <td>2.00</td>\n",
       "      <td>1.00</td>\n",
       "      <td>1.00</td>\n",
       "      <td>1.00</td>\n",
       "      <td>0.00</td>\n",
       "    </tr>\n",
       "    <tr>\n",
       "      <th>25%</th>\n",
       "      <td>3.00</td>\n",
       "      <td>2.00</td>\n",
       "      <td>1272.00</td>\n",
       "      <td>209900.00</td>\n",
       "      <td>124.89</td>\n",
       "    </tr>\n",
       "    <tr>\n",
       "      <th>50%</th>\n",
       "      <td>3.00</td>\n",
       "      <td>2.00</td>\n",
       "      <td>1792.00</td>\n",
       "      <td>360000.00</td>\n",
       "      <td>186.25</td>\n",
       "    </tr>\n",
       "    <tr>\n",
       "      <th>75%</th>\n",
       "      <td>4.00</td>\n",
       "      <td>3.00</td>\n",
       "      <td>2665.00</td>\n",
       "      <td>649000.00</td>\n",
       "      <td>297.79</td>\n",
       "    </tr>\n",
       "    <tr>\n",
       "      <th>max</th>\n",
       "      <td>84.00</td>\n",
       "      <td>78.00</td>\n",
       "      <td>192445.00</td>\n",
       "      <td>99000000.00</td>\n",
       "      <td>550000.00</td>\n",
       "    </tr>\n",
       "  </tbody>\n",
       "</table>\n",
       "</div>"
      ],
      "text/plain": [
       "       Bedrooms  Bathrooms      Size       Price   perSqFt\n",
       "count  43852.00   43852.00  43852.00    43852.00  43852.00\n",
       "mean       3.45       2.70   2339.14   718952.55    306.72\n",
       "std        1.58       1.62   2519.09  2178164.79   3576.67\n",
       "min        2.00       1.00      1.00        1.00      0.00\n",
       "25%        3.00       2.00   1272.00   209900.00    124.89\n",
       "50%        3.00       2.00   1792.00   360000.00    186.25\n",
       "75%        4.00       3.00   2665.00   649000.00    297.79\n",
       "max       84.00      78.00 192445.00 99000000.00 550000.00"
      ]
     },
     "execution_count": 207,
     "metadata": {},
     "output_type": "execute_result"
    }
   ],
   "source": [
    "# Describe the house_df data\n",
    "house_df.describe()\n"
   ]
  },
  {
   "cell_type": "markdown",
   "metadata": {},
   "source": [
    "Across US the median are, 3 Bed 2 Bath, 1792 squarefeet, price of 360,000<br>\n",
    "Average of 3.45 Bedrooms, 2.7 Bathrooms, 2400 squarefeet price of 720,000\n"
   ]
  },
  {
   "cell_type": "markdown",
   "metadata": {},
   "source": [
    "##### Pivot Tables and Groupby Table"
   ]
  },
  {
   "cell_type": "code",
   "execution_count": 209,
   "metadata": {},
   "outputs": [
    {
     "data": {
      "text/html": [
       "<div>\n",
       "<style scoped>\n",
       "    .dataframe tbody tr th:only-of-type {\n",
       "        vertical-align: middle;\n",
       "    }\n",
       "\n",
       "    .dataframe tbody tr th {\n",
       "        vertical-align: top;\n",
       "    }\n",
       "\n",
       "    .dataframe thead th {\n",
       "        text-align: right;\n",
       "    }\n",
       "</style>\n",
       "<table border=\"1\" class=\"dataframe\">\n",
       "  <thead>\n",
       "    <tr style=\"text-align: right;\">\n",
       "      <th></th>\n",
       "      <th>Bathrooms</th>\n",
       "      <th>Bedrooms</th>\n",
       "      <th>Price</th>\n",
       "      <th>Size</th>\n",
       "      <th>perSqFt</th>\n",
       "    </tr>\n",
       "    <tr>\n",
       "      <th>Region</th>\n",
       "      <th></th>\n",
       "      <th></th>\n",
       "      <th></th>\n",
       "      <th></th>\n",
       "      <th></th>\n",
       "    </tr>\n",
       "  </thead>\n",
       "  <tbody>\n",
       "    <tr>\n",
       "      <th>MidWest</th>\n",
       "      <td>2.32</td>\n",
       "      <td>3.24</td>\n",
       "      <td>336447.39</td>\n",
       "      <td>2107.67</td>\n",
       "      <td>144.61</td>\n",
       "    </tr>\n",
       "    <tr>\n",
       "      <th>North</th>\n",
       "      <td>2.56</td>\n",
       "      <td>3.65</td>\n",
       "      <td>1032088.99</td>\n",
       "      <td>2420.80</td>\n",
       "      <td>565.54</td>\n",
       "    </tr>\n",
       "    <tr>\n",
       "      <th>South</th>\n",
       "      <td>2.76</td>\n",
       "      <td>3.37</td>\n",
       "      <td>485822.47</td>\n",
       "      <td>2319.96</td>\n",
       "      <td>196.88</td>\n",
       "    </tr>\n",
       "    <tr>\n",
       "      <th>West</th>\n",
       "      <td>2.91</td>\n",
       "      <td>3.61</td>\n",
       "      <td>1134146.42</td>\n",
       "      <td>2468.04</td>\n",
       "      <td>444.10</td>\n",
       "    </tr>\n",
       "  </tbody>\n",
       "</table>\n",
       "</div>"
      ],
      "text/plain": [
       "         Bathrooms  Bedrooms      Price    Size  perSqFt\n",
       "Region                                                  \n",
       "MidWest       2.32      3.24  336447.39 2107.67   144.61\n",
       "North         2.56      3.65 1032088.99 2420.80   565.54\n",
       "South         2.76      3.37  485822.47 2319.96   196.88\n",
       "West          2.91      3.61 1134146.42 2468.04   444.10"
      ]
     },
     "execution_count": 209,
     "metadata": {},
     "output_type": "execute_result"
    }
   ],
   "source": [
    "# Pivot Table One\n",
    "# by region (big picture/general overview), shows the region's average Bedrooms, Batherooms, Price, Size, and per SqFt\n",
    "pd.set_option('display.float_format', '{:.2f}'.format)\n",
    "pd.pivot_table(house_df, values=['perSqFt','Size','Bedrooms','Bathrooms','Price'], index=['Region'])"
   ]
  },
  {
   "cell_type": "code",
   "execution_count": 158,
   "metadata": {},
   "outputs": [
    {
     "data": {
      "text/html": [
       "<div>\n",
       "<style scoped>\n",
       "    .dataframe tbody tr th:only-of-type {\n",
       "        vertical-align: middle;\n",
       "    }\n",
       "\n",
       "    .dataframe tbody tr th {\n",
       "        vertical-align: top;\n",
       "    }\n",
       "\n",
       "    .dataframe thead th {\n",
       "        text-align: right;\n",
       "    }\n",
       "</style>\n",
       "<table border=\"1\" class=\"dataframe\">\n",
       "  <thead>\n",
       "    <tr style=\"text-align: right;\">\n",
       "      <th></th>\n",
       "      <th>Bathrooms</th>\n",
       "      <th>Bedrooms</th>\n",
       "      <th>Price</th>\n",
       "      <th>Size</th>\n",
       "      <th>perSqFt</th>\n",
       "    </tr>\n",
       "    <tr>\n",
       "      <th>State</th>\n",
       "      <th></th>\n",
       "      <th></th>\n",
       "      <th></th>\n",
       "      <th></th>\n",
       "      <th></th>\n",
       "    </tr>\n",
       "  </thead>\n",
       "  <tbody>\n",
       "    <tr>\n",
       "      <th>AK</th>\n",
       "      <td>3.31</td>\n",
       "      <td>4.94</td>\n",
       "      <td>447688.19</td>\n",
       "      <td>2728.05</td>\n",
       "      <td>176.94</td>\n",
       "    </tr>\n",
       "    <tr>\n",
       "      <th>AL</th>\n",
       "      <td>2.77</td>\n",
       "      <td>3.43</td>\n",
       "      <td>372348.44</td>\n",
       "      <td>2526.98</td>\n",
       "      <td>136.81</td>\n",
       "    </tr>\n",
       "    <tr>\n",
       "      <th>AR</th>\n",
       "      <td>3.21</td>\n",
       "      <td>3.81</td>\n",
       "      <td>507569.58</td>\n",
       "      <td>3072.85</td>\n",
       "      <td>142.81</td>\n",
       "    </tr>\n",
       "    <tr>\n",
       "      <th>AZ</th>\n",
       "      <td>2.91</td>\n",
       "      <td>3.50</td>\n",
       "      <td>864523.98</td>\n",
       "      <td>2621.48</td>\n",
       "      <td>511.35</td>\n",
       "    </tr>\n",
       "    <tr>\n",
       "      <th>CA</th>\n",
       "      <td>2.86</td>\n",
       "      <td>3.57</td>\n",
       "      <td>1459234.62</td>\n",
       "      <td>2316.31</td>\n",
       "      <td>528.38</td>\n",
       "    </tr>\n",
       "    <tr>\n",
       "      <th>CO</th>\n",
       "      <td>2.88</td>\n",
       "      <td>3.36</td>\n",
       "      <td>912330.16</td>\n",
       "      <td>2450.87</td>\n",
       "      <td>348.04</td>\n",
       "    </tr>\n",
       "    <tr>\n",
       "      <th>CT</th>\n",
       "      <td>2.84</td>\n",
       "      <td>4.22</td>\n",
       "      <td>570666.59</td>\n",
       "      <td>2705.55</td>\n",
       "      <td>212.42</td>\n",
       "    </tr>\n",
       "    <tr>\n",
       "      <th>DC</th>\n",
       "      <td>2.94</td>\n",
       "      <td>3.05</td>\n",
       "      <td>1464815.72</td>\n",
       "      <td>2107.08</td>\n",
       "      <td>574.93</td>\n",
       "    </tr>\n",
       "    <tr>\n",
       "      <th>DE</th>\n",
       "      <td>2.71</td>\n",
       "      <td>3.53</td>\n",
       "      <td>568675.31</td>\n",
       "      <td>2786.49</td>\n",
       "      <td>147.46</td>\n",
       "    </tr>\n",
       "    <tr>\n",
       "      <th>FL</th>\n",
       "      <td>2.53</td>\n",
       "      <td>3.07</td>\n",
       "      <td>573222.09</td>\n",
       "      <td>1858.28</td>\n",
       "      <td>252.61</td>\n",
       "    </tr>\n",
       "    <tr>\n",
       "      <th>GA</th>\n",
       "      <td>2.74</td>\n",
       "      <td>3.48</td>\n",
       "      <td>428239.92</td>\n",
       "      <td>2308.06</td>\n",
       "      <td>155.21</td>\n",
       "    </tr>\n",
       "    <tr>\n",
       "      <th>IA</th>\n",
       "      <td>2.08</td>\n",
       "      <td>3.21</td>\n",
       "      <td>175284.05</td>\n",
       "      <td>1827.84</td>\n",
       "      <td>97.06</td>\n",
       "    </tr>\n",
       "    <tr>\n",
       "      <th>ID</th>\n",
       "      <td>2.85</td>\n",
       "      <td>3.97</td>\n",
       "      <td>694342.33</td>\n",
       "      <td>2533.11</td>\n",
       "      <td>274.96</td>\n",
       "    </tr>\n",
       "    <tr>\n",
       "      <th>IL</th>\n",
       "      <td>2.45</td>\n",
       "      <td>3.11</td>\n",
       "      <td>433009.10</td>\n",
       "      <td>2014.25</td>\n",
       "      <td>178.38</td>\n",
       "    </tr>\n",
       "    <tr>\n",
       "      <th>IN</th>\n",
       "      <td>2.35</td>\n",
       "      <td>3.19</td>\n",
       "      <td>300764.08</td>\n",
       "      <td>2382.49</td>\n",
       "      <td>112.36</td>\n",
       "    </tr>\n",
       "  </tbody>\n",
       "</table>\n",
       "</div>"
      ],
      "text/plain": [
       "       Bathrooms  Bedrooms      Price    Size  perSqFt\n",
       "State                                                 \n",
       "AK          3.31      4.94  447688.19 2728.05   176.94\n",
       "AL          2.77      3.43  372348.44 2526.98   136.81\n",
       "AR          3.21      3.81  507569.58 3072.85   142.81\n",
       "AZ          2.91      3.50  864523.98 2621.48   511.35\n",
       "CA          2.86      3.57 1459234.62 2316.31   528.38\n",
       "CO          2.88      3.36  912330.16 2450.87   348.04\n",
       "CT          2.84      4.22  570666.59 2705.55   212.42\n",
       "DC          2.94      3.05 1464815.72 2107.08   574.93\n",
       "DE          2.71      3.53  568675.31 2786.49   147.46\n",
       "FL          2.53      3.07  573222.09 1858.28   252.61\n",
       "GA          2.74      3.48  428239.92 2308.06   155.21\n",
       "IA          2.08      3.21  175284.05 1827.84    97.06\n",
       "ID          2.85      3.97  694342.33 2533.11   274.96\n",
       "IL          2.45      3.11  433009.10 2014.25   178.38\n",
       "IN          2.35      3.19  300764.08 2382.49   112.36"
      ]
     },
     "execution_count": 158,
     "metadata": {},
     "output_type": "execute_result"
    }
   ],
   "source": [
    "# Piviot Tabel Two, \n",
    "# setting format display to float with 2 decimal places\n",
    "# by state, shows the region's average Bedrooms, Batherooms, Price, Size, and per SqFt\n",
    "pd.set_option('display.float_format', '{:.2f}'.format)\n",
    "pivot_state = pd.pivot_table(house_df, values=['perSqFt','Size','Bedrooms','Bathrooms','Price'], index=['State'])\n",
    "pivot_state.head(15)"
   ]
  },
  {
   "cell_type": "code",
   "execution_count": 206,
   "metadata": {},
   "outputs": [
    {
     "data": {
      "text/html": [
       "<div>\n",
       "<style scoped>\n",
       "    .dataframe tbody tr th:only-of-type {\n",
       "        vertical-align: middle;\n",
       "    }\n",
       "\n",
       "    .dataframe tbody tr th {\n",
       "        vertical-align: top;\n",
       "    }\n",
       "\n",
       "    .dataframe thead th {\n",
       "        text-align: right;\n",
       "    }\n",
       "</style>\n",
       "<table border=\"1\" class=\"dataframe\">\n",
       "  <thead>\n",
       "    <tr style=\"text-align: right;\">\n",
       "      <th></th>\n",
       "      <th></th>\n",
       "      <th>Bedrooms</th>\n",
       "      <th>Bathrooms</th>\n",
       "      <th>Size</th>\n",
       "      <th>Price</th>\n",
       "      <th>perSqFt</th>\n",
       "    </tr>\n",
       "    <tr>\n",
       "      <th>Region</th>\n",
       "      <th>State</th>\n",
       "      <th></th>\n",
       "      <th></th>\n",
       "      <th></th>\n",
       "      <th></th>\n",
       "      <th></th>\n",
       "    </tr>\n",
       "  </thead>\n",
       "  <tbody>\n",
       "    <tr>\n",
       "      <th rowspan=\"12\" valign=\"top\">MidWest</th>\n",
       "      <th>IA</th>\n",
       "      <td>3.21</td>\n",
       "      <td>2.08</td>\n",
       "      <td>1827.84</td>\n",
       "      <td>175284.05</td>\n",
       "      <td>97.06</td>\n",
       "    </tr>\n",
       "    <tr>\n",
       "      <th>IL</th>\n",
       "      <td>3.11</td>\n",
       "      <td>2.45</td>\n",
       "      <td>2014.25</td>\n",
       "      <td>433009.10</td>\n",
       "      <td>178.38</td>\n",
       "    </tr>\n",
       "    <tr>\n",
       "      <th>IN</th>\n",
       "      <td>3.19</td>\n",
       "      <td>2.35</td>\n",
       "      <td>2382.49</td>\n",
       "      <td>300764.08</td>\n",
       "      <td>112.36</td>\n",
       "    </tr>\n",
       "    <tr>\n",
       "      <th>KS</th>\n",
       "      <td>3.54</td>\n",
       "      <td>2.84</td>\n",
       "      <td>2708.65</td>\n",
       "      <td>379932.55</td>\n",
       "      <td>122.80</td>\n",
       "    </tr>\n",
       "    <tr>\n",
       "      <th>MI</th>\n",
       "      <td>3.24</td>\n",
       "      <td>2.02</td>\n",
       "      <td>1810.39</td>\n",
       "      <td>207123.62</td>\n",
       "      <td>102.92</td>\n",
       "    </tr>\n",
       "    <tr>\n",
       "      <th>MN</th>\n",
       "      <td>3.17</td>\n",
       "      <td>2.36</td>\n",
       "      <td>2067.53</td>\n",
       "      <td>480686.19</td>\n",
       "      <td>226.40</td>\n",
       "    </tr>\n",
       "    <tr>\n",
       "      <th>MO</th>\n",
       "      <td>3.05</td>\n",
       "      <td>2.35</td>\n",
       "      <td>2107.93</td>\n",
       "      <td>295878.89</td>\n",
       "      <td>136.04</td>\n",
       "    </tr>\n",
       "    <tr>\n",
       "      <th>ND</th>\n",
       "      <td>3.66</td>\n",
       "      <td>2.39</td>\n",
       "      <td>2491.31</td>\n",
       "      <td>308762.21</td>\n",
       "      <td>121.78</td>\n",
       "    </tr>\n",
       "    <tr>\n",
       "      <th>NE</th>\n",
       "      <td>3.48</td>\n",
       "      <td>2.83</td>\n",
       "      <td>2602.01</td>\n",
       "      <td>433070.05</td>\n",
       "      <td>153.55</td>\n",
       "    </tr>\n",
       "    <tr>\n",
       "      <th>OH</th>\n",
       "      <td>3.33</td>\n",
       "      <td>2.08</td>\n",
       "      <td>1950.11</td>\n",
       "      <td>227289.79</td>\n",
       "      <td>105.99</td>\n",
       "    </tr>\n",
       "    <tr>\n",
       "      <th>SD</th>\n",
       "      <td>3.54</td>\n",
       "      <td>2.50</td>\n",
       "      <td>2316.14</td>\n",
       "      <td>431824.82</td>\n",
       "      <td>185.84</td>\n",
       "    </tr>\n",
       "    <tr>\n",
       "      <th>WI</th>\n",
       "      <td>3.33</td>\n",
       "      <td>2.49</td>\n",
       "      <td>2126.80</td>\n",
       "      <td>378881.14</td>\n",
       "      <td>180.49</td>\n",
       "    </tr>\n",
       "    <tr>\n",
       "      <th rowspan=\"8\" valign=\"top\">North</th>\n",
       "      <th>CT</th>\n",
       "      <td>4.22</td>\n",
       "      <td>2.84</td>\n",
       "      <td>2705.55</td>\n",
       "      <td>570666.59</td>\n",
       "      <td>212.42</td>\n",
       "    </tr>\n",
       "    <tr>\n",
       "      <th>DC</th>\n",
       "      <td>3.05</td>\n",
       "      <td>2.94</td>\n",
       "      <td>2107.08</td>\n",
       "      <td>1464815.72</td>\n",
       "      <td>574.93</td>\n",
       "    </tr>\n",
       "    <tr>\n",
       "      <th>MA</th>\n",
       "      <td>3.70</td>\n",
       "      <td>2.79</td>\n",
       "      <td>2171.92</td>\n",
       "      <td>1385451.52</td>\n",
       "      <td>610.62</td>\n",
       "    </tr>\n",
       "    <tr>\n",
       "      <th>ME</th>\n",
       "      <td>2.98</td>\n",
       "      <td>2.40</td>\n",
       "      <td>1848.11</td>\n",
       "      <td>868065.87</td>\n",
       "      <td>477.70</td>\n",
       "    </tr>\n",
       "    <tr>\n",
       "      <th>NJ</th>\n",
       "      <td>3.89</td>\n",
       "      <td>2.37</td>\n",
       "      <td>3259.37</td>\n",
       "      <td>482948.08</td>\n",
       "      <td>1474.06</td>\n",
       "    </tr>\n",
       "    <tr>\n",
       "      <th>NY</th>\n",
       "      <td>3.70</td>\n",
       "      <td>2.60</td>\n",
       "      <td>2543.88</td>\n",
       "      <td>1837394.71</td>\n",
       "      <td>530.50</td>\n",
       "    </tr>\n",
       "    <tr>\n",
       "      <th>PA</th>\n",
       "      <td>3.34</td>\n",
       "      <td>2.35</td>\n",
       "      <td>2035.68</td>\n",
       "      <td>416418.89</td>\n",
       "      <td>199.53</td>\n",
       "    </tr>\n",
       "    <tr>\n",
       "      <th>RI</th>\n",
       "      <td>3.25</td>\n",
       "      <td>2.24</td>\n",
       "      <td>2017.69</td>\n",
       "      <td>410351.11</td>\n",
       "      <td>208.28</td>\n",
       "    </tr>\n",
       "    <tr>\n",
       "      <th rowspan=\"15\" valign=\"top\">South</th>\n",
       "      <th>AL</th>\n",
       "      <td>3.43</td>\n",
       "      <td>2.77</td>\n",
       "      <td>2526.98</td>\n",
       "      <td>372348.44</td>\n",
       "      <td>136.81</td>\n",
       "    </tr>\n",
       "    <tr>\n",
       "      <th>AR</th>\n",
       "      <td>3.81</td>\n",
       "      <td>3.21</td>\n",
       "      <td>3072.85</td>\n",
       "      <td>507569.58</td>\n",
       "      <td>142.81</td>\n",
       "    </tr>\n",
       "    <tr>\n",
       "      <th>DE</th>\n",
       "      <td>3.53</td>\n",
       "      <td>2.71</td>\n",
       "      <td>2786.49</td>\n",
       "      <td>568675.31</td>\n",
       "      <td>147.46</td>\n",
       "    </tr>\n",
       "    <tr>\n",
       "      <th>FL</th>\n",
       "      <td>3.07</td>\n",
       "      <td>2.53</td>\n",
       "      <td>1858.28</td>\n",
       "      <td>573222.09</td>\n",
       "      <td>252.61</td>\n",
       "    </tr>\n",
       "    <tr>\n",
       "      <th>GA</th>\n",
       "      <td>3.48</td>\n",
       "      <td>2.74</td>\n",
       "      <td>2308.06</td>\n",
       "      <td>428239.92</td>\n",
       "      <td>155.21</td>\n",
       "    </tr>\n",
       "    <tr>\n",
       "      <th>KY</th>\n",
       "      <td>3.47</td>\n",
       "      <td>3.11</td>\n",
       "      <td>2947.68</td>\n",
       "      <td>654677.67</td>\n",
       "      <td>197.18</td>\n",
       "    </tr>\n",
       "    <tr>\n",
       "      <th>LA</th>\n",
       "      <td>3.33</td>\n",
       "      <td>2.48</td>\n",
       "      <td>2187.69</td>\n",
       "      <td>371983.77</td>\n",
       "      <td>146.71</td>\n",
       "    </tr>\n",
       "    <tr>\n",
       "      <th>MD</th>\n",
       "      <td>3.08</td>\n",
       "      <td>2.46</td>\n",
       "      <td>1771.46</td>\n",
       "      <td>309388.50</td>\n",
       "      <td>168.14</td>\n",
       "    </tr>\n",
       "    <tr>\n",
       "      <th>MS</th>\n",
       "      <td>3.38</td>\n",
       "      <td>2.51</td>\n",
       "      <td>2134.94</td>\n",
       "      <td>241840.09</td>\n",
       "      <td>101.42</td>\n",
       "    </tr>\n",
       "    <tr>\n",
       "      <th>NC</th>\n",
       "      <td>3.39</td>\n",
       "      <td>3.11</td>\n",
       "      <td>2580.86</td>\n",
       "      <td>673216.44</td>\n",
       "      <td>250.34</td>\n",
       "    </tr>\n",
       "    <tr>\n",
       "      <th>OK</th>\n",
       "      <td>3.48</td>\n",
       "      <td>2.76</td>\n",
       "      <td>2808.69</td>\n",
       "      <td>475076.65</td>\n",
       "      <td>149.29</td>\n",
       "    </tr>\n",
       "    <tr>\n",
       "      <th>SC</th>\n",
       "      <td>3.51</td>\n",
       "      <td>2.72</td>\n",
       "      <td>2110.98</td>\n",
       "      <td>491928.77</td>\n",
       "      <td>216.60</td>\n",
       "    </tr>\n",
       "    <tr>\n",
       "      <th>TN</th>\n",
       "      <td>3.34</td>\n",
       "      <td>2.85</td>\n",
       "      <td>2524.65</td>\n",
       "      <td>669534.32</td>\n",
       "      <td>247.80</td>\n",
       "    </tr>\n",
       "    <tr>\n",
       "      <th>TX</th>\n",
       "      <td>3.54</td>\n",
       "      <td>2.89</td>\n",
       "      <td>2499.42</td>\n",
       "      <td>433022.17</td>\n",
       "      <td>147.66</td>\n",
       "    </tr>\n",
       "    <tr>\n",
       "      <th>VA</th>\n",
       "      <td>3.30</td>\n",
       "      <td>2.67</td>\n",
       "      <td>1988.52</td>\n",
       "      <td>436126.98</td>\n",
       "      <td>333.42</td>\n",
       "    </tr>\n",
       "    <tr>\n",
       "      <th rowspan=\"11\" valign=\"top\">West</th>\n",
       "      <th>AK</th>\n",
       "      <td>4.94</td>\n",
       "      <td>3.31</td>\n",
       "      <td>2728.05</td>\n",
       "      <td>447688.19</td>\n",
       "      <td>176.94</td>\n",
       "    </tr>\n",
       "    <tr>\n",
       "      <th>AZ</th>\n",
       "      <td>3.50</td>\n",
       "      <td>2.91</td>\n",
       "      <td>2621.48</td>\n",
       "      <td>864523.98</td>\n",
       "      <td>511.35</td>\n",
       "    </tr>\n",
       "    <tr>\n",
       "      <th>CA</th>\n",
       "      <td>3.57</td>\n",
       "      <td>2.86</td>\n",
       "      <td>2316.31</td>\n",
       "      <td>1459234.62</td>\n",
       "      <td>528.38</td>\n",
       "    </tr>\n",
       "    <tr>\n",
       "      <th>CO</th>\n",
       "      <td>3.36</td>\n",
       "      <td>2.88</td>\n",
       "      <td>2450.87</td>\n",
       "      <td>912330.16</td>\n",
       "      <td>348.04</td>\n",
       "    </tr>\n",
       "    <tr>\n",
       "      <th>ID</th>\n",
       "      <td>3.97</td>\n",
       "      <td>2.85</td>\n",
       "      <td>2533.11</td>\n",
       "      <td>694342.33</td>\n",
       "      <td>274.96</td>\n",
       "    </tr>\n",
       "    <tr>\n",
       "      <th>MT</th>\n",
       "      <td>3.62</td>\n",
       "      <td>2.76</td>\n",
       "      <td>2917.28</td>\n",
       "      <td>661399.60</td>\n",
       "      <td>203.09</td>\n",
       "    </tr>\n",
       "    <tr>\n",
       "      <th>NM</th>\n",
       "      <td>3.41</td>\n",
       "      <td>2.58</td>\n",
       "      <td>2247.65</td>\n",
       "      <td>379302.41</td>\n",
       "      <td>166.67</td>\n",
       "    </tr>\n",
       "    <tr>\n",
       "      <th>NV</th>\n",
       "      <td>3.53</td>\n",
       "      <td>3.16</td>\n",
       "      <td>2690.65</td>\n",
       "      <td>848975.67</td>\n",
       "      <td>241.99</td>\n",
       "    </tr>\n",
       "    <tr>\n",
       "      <th>OR</th>\n",
       "      <td>3.58</td>\n",
       "      <td>3.02</td>\n",
       "      <td>2587.71</td>\n",
       "      <td>787755.54</td>\n",
       "      <td>302.76</td>\n",
       "    </tr>\n",
       "    <tr>\n",
       "      <th>UT</th>\n",
       "      <td>4.33</td>\n",
       "      <td>3.10</td>\n",
       "      <td>3238.37</td>\n",
       "      <td>791143.20</td>\n",
       "      <td>222.55</td>\n",
       "    </tr>\n",
       "    <tr>\n",
       "      <th>WA</th>\n",
       "      <td>3.66</td>\n",
       "      <td>2.65</td>\n",
       "      <td>2523.22</td>\n",
       "      <td>709003.59</td>\n",
       "      <td>298.00</td>\n",
       "    </tr>\n",
       "  </tbody>\n",
       "</table>\n",
       "</div>"
      ],
      "text/plain": [
       "               Bedrooms  Bathrooms    Size      Price  perSqFt\n",
       "Region  State                                                 \n",
       "MidWest IA         3.21       2.08 1827.84  175284.05    97.06\n",
       "        IL         3.11       2.45 2014.25  433009.10   178.38\n",
       "        IN         3.19       2.35 2382.49  300764.08   112.36\n",
       "        KS         3.54       2.84 2708.65  379932.55   122.80\n",
       "        MI         3.24       2.02 1810.39  207123.62   102.92\n",
       "        MN         3.17       2.36 2067.53  480686.19   226.40\n",
       "        MO         3.05       2.35 2107.93  295878.89   136.04\n",
       "        ND         3.66       2.39 2491.31  308762.21   121.78\n",
       "        NE         3.48       2.83 2602.01  433070.05   153.55\n",
       "        OH         3.33       2.08 1950.11  227289.79   105.99\n",
       "        SD         3.54       2.50 2316.14  431824.82   185.84\n",
       "        WI         3.33       2.49 2126.80  378881.14   180.49\n",
       "North   CT         4.22       2.84 2705.55  570666.59   212.42\n",
       "        DC         3.05       2.94 2107.08 1464815.72   574.93\n",
       "        MA         3.70       2.79 2171.92 1385451.52   610.62\n",
       "        ME         2.98       2.40 1848.11  868065.87   477.70\n",
       "        NJ         3.89       2.37 3259.37  482948.08  1474.06\n",
       "        NY         3.70       2.60 2543.88 1837394.71   530.50\n",
       "        PA         3.34       2.35 2035.68  416418.89   199.53\n",
       "        RI         3.25       2.24 2017.69  410351.11   208.28\n",
       "South   AL         3.43       2.77 2526.98  372348.44   136.81\n",
       "        AR         3.81       3.21 3072.85  507569.58   142.81\n",
       "        DE         3.53       2.71 2786.49  568675.31   147.46\n",
       "        FL         3.07       2.53 1858.28  573222.09   252.61\n",
       "        GA         3.48       2.74 2308.06  428239.92   155.21\n",
       "        KY         3.47       3.11 2947.68  654677.67   197.18\n",
       "        LA         3.33       2.48 2187.69  371983.77   146.71\n",
       "        MD         3.08       2.46 1771.46  309388.50   168.14\n",
       "        MS         3.38       2.51 2134.94  241840.09   101.42\n",
       "        NC         3.39       3.11 2580.86  673216.44   250.34\n",
       "        OK         3.48       2.76 2808.69  475076.65   149.29\n",
       "        SC         3.51       2.72 2110.98  491928.77   216.60\n",
       "        TN         3.34       2.85 2524.65  669534.32   247.80\n",
       "        TX         3.54       2.89 2499.42  433022.17   147.66\n",
       "        VA         3.30       2.67 1988.52  436126.98   333.42\n",
       "West    AK         4.94       3.31 2728.05  447688.19   176.94\n",
       "        AZ         3.50       2.91 2621.48  864523.98   511.35\n",
       "        CA         3.57       2.86 2316.31 1459234.62   528.38\n",
       "        CO         3.36       2.88 2450.87  912330.16   348.04\n",
       "        ID         3.97       2.85 2533.11  694342.33   274.96\n",
       "        MT         3.62       2.76 2917.28  661399.60   203.09\n",
       "        NM         3.41       2.58 2247.65  379302.41   166.67\n",
       "        NV         3.53       3.16 2690.65  848975.67   241.99\n",
       "        OR         3.58       3.02 2587.71  787755.54   302.76\n",
       "        UT         4.33       3.10 3238.37  791143.20   222.55\n",
       "        WA         3.66       2.65 2523.22  709003.59   298.00"
      ]
     },
     "execution_count": 206,
     "metadata": {},
     "output_type": "execute_result"
    }
   ],
   "source": [
    "# Made a groupby table so data can be viewed by Region then State\n",
    "house_df.groupby(['Region','State']).mean()"
   ]
  },
  {
   "cell_type": "markdown",
   "metadata": {},
   "source": [
    "#### Additional Cleaning and Organizing to create State_df"
   ]
  },
  {
   "cell_type": "code",
   "execution_count": 253,
   "metadata": {},
   "outputs": [],
   "source": [
    "# Create a column for house counts per State by making a valuecount_df\n",
    "valuecount_df = pd.DataFrame(house_df['State'].value_counts())\n",
    "# reset index\n",
    "valuecount_df2 = valuecount_df.reset_index()\n",
    "# rename column\n",
    "valuecount_df2 = valuecount_df2.rename(columns={\"State\": \"HouseCount\", 'index':'State'})\n",
    "# sort by state\n",
    "valuecount_df2 = valuecount_df2.sort_values(by = \"State\")\n",
    "# reset index\n",
    "valuecount_df2 = valuecount_df2.reset_index(drop=True)\n"
   ]
  },
  {
   "cell_type": "code",
   "execution_count": 254,
   "metadata": {},
   "outputs": [
    {
     "data": {
      "text/html": [
       "<div>\n",
       "<style scoped>\n",
       "    .dataframe tbody tr th:only-of-type {\n",
       "        vertical-align: middle;\n",
       "    }\n",
       "\n",
       "    .dataframe tbody tr th {\n",
       "        vertical-align: top;\n",
       "    }\n",
       "\n",
       "    .dataframe thead th {\n",
       "        text-align: right;\n",
       "    }\n",
       "</style>\n",
       "<table border=\"1\" class=\"dataframe\">\n",
       "  <thead>\n",
       "    <tr style=\"text-align: right;\">\n",
       "      <th></th>\n",
       "      <th>State</th>\n",
       "      <th>Bathrooms</th>\n",
       "      <th>Bedrooms</th>\n",
       "      <th>Price</th>\n",
       "      <th>Size</th>\n",
       "      <th>perSqFt</th>\n",
       "      <th>HouseCount</th>\n",
       "      <th>fullState</th>\n",
       "      <th>Region</th>\n",
       "    </tr>\n",
       "  </thead>\n",
       "  <tbody>\n",
       "    <tr>\n",
       "      <th>0</th>\n",
       "      <td>AK</td>\n",
       "      <td>3.31</td>\n",
       "      <td>4.94</td>\n",
       "      <td>447688.19</td>\n",
       "      <td>2728.05</td>\n",
       "      <td>176.94</td>\n",
       "      <td>443</td>\n",
       "      <td>Alaska</td>\n",
       "      <td>West</td>\n",
       "    </tr>\n",
       "    <tr>\n",
       "      <th>1</th>\n",
       "      <td>AL</td>\n",
       "      <td>2.77</td>\n",
       "      <td>3.43</td>\n",
       "      <td>372348.44</td>\n",
       "      <td>2526.98</td>\n",
       "      <td>136.81</td>\n",
       "      <td>957</td>\n",
       "      <td>Alabama</td>\n",
       "      <td>South</td>\n",
       "    </tr>\n",
       "    <tr>\n",
       "      <th>2</th>\n",
       "      <td>AR</td>\n",
       "      <td>3.21</td>\n",
       "      <td>3.81</td>\n",
       "      <td>507569.58</td>\n",
       "      <td>3072.85</td>\n",
       "      <td>142.81</td>\n",
       "      <td>320</td>\n",
       "      <td>Arkansas</td>\n",
       "      <td>South</td>\n",
       "    </tr>\n",
       "    <tr>\n",
       "      <th>3</th>\n",
       "      <td>AZ</td>\n",
       "      <td>2.91</td>\n",
       "      <td>3.50</td>\n",
       "      <td>864523.98</td>\n",
       "      <td>2621.48</td>\n",
       "      <td>511.35</td>\n",
       "      <td>2389</td>\n",
       "      <td>Arizona</td>\n",
       "      <td>West</td>\n",
       "    </tr>\n",
       "    <tr>\n",
       "      <th>4</th>\n",
       "      <td>CA</td>\n",
       "      <td>2.86</td>\n",
       "      <td>3.57</td>\n",
       "      <td>1459234.62</td>\n",
       "      <td>2316.31</td>\n",
       "      <td>528.38</td>\n",
       "      <td>6563</td>\n",
       "      <td>California</td>\n",
       "      <td>West</td>\n",
       "    </tr>\n",
       "    <tr>\n",
       "      <th>5</th>\n",
       "      <td>CO</td>\n",
       "      <td>2.88</td>\n",
       "      <td>3.36</td>\n",
       "      <td>912330.16</td>\n",
       "      <td>2450.87</td>\n",
       "      <td>348.04</td>\n",
       "      <td>959</td>\n",
       "      <td>Colorado</td>\n",
       "      <td>West</td>\n",
       "    </tr>\n",
       "    <tr>\n",
       "      <th>6</th>\n",
       "      <td>CT</td>\n",
       "      <td>2.84</td>\n",
       "      <td>4.22</td>\n",
       "      <td>570666.59</td>\n",
       "      <td>2705.55</td>\n",
       "      <td>212.42</td>\n",
       "      <td>452</td>\n",
       "      <td>Connecticut</td>\n",
       "      <td>North</td>\n",
       "    </tr>\n",
       "    <tr>\n",
       "      <th>7</th>\n",
       "      <td>DC</td>\n",
       "      <td>2.94</td>\n",
       "      <td>3.05</td>\n",
       "      <td>1464815.72</td>\n",
       "      <td>2107.08</td>\n",
       "      <td>574.93</td>\n",
       "      <td>116</td>\n",
       "      <td>District of Columbia</td>\n",
       "      <td>North</td>\n",
       "    </tr>\n",
       "    <tr>\n",
       "      <th>8</th>\n",
       "      <td>DE</td>\n",
       "      <td>2.71</td>\n",
       "      <td>3.53</td>\n",
       "      <td>568675.31</td>\n",
       "      <td>2786.49</td>\n",
       "      <td>147.46</td>\n",
       "      <td>114</td>\n",
       "      <td>Delaware</td>\n",
       "      <td>South</td>\n",
       "    </tr>\n",
       "    <tr>\n",
       "      <th>9</th>\n",
       "      <td>FL</td>\n",
       "      <td>2.53</td>\n",
       "      <td>3.07</td>\n",
       "      <td>573222.09</td>\n",
       "      <td>1858.28</td>\n",
       "      <td>252.61</td>\n",
       "      <td>3738</td>\n",
       "      <td>Florida</td>\n",
       "      <td>South</td>\n",
       "    </tr>\n",
       "    <tr>\n",
       "      <th>10</th>\n",
       "      <td>GA</td>\n",
       "      <td>2.74</td>\n",
       "      <td>3.48</td>\n",
       "      <td>428239.92</td>\n",
       "      <td>2308.06</td>\n",
       "      <td>155.21</td>\n",
       "      <td>1311</td>\n",
       "      <td>Georgia</td>\n",
       "      <td>South</td>\n",
       "    </tr>\n",
       "    <tr>\n",
       "      <th>11</th>\n",
       "      <td>IA</td>\n",
       "      <td>2.08</td>\n",
       "      <td>3.21</td>\n",
       "      <td>175284.05</td>\n",
       "      <td>1827.84</td>\n",
       "      <td>97.06</td>\n",
       "      <td>127</td>\n",
       "      <td>Iowa</td>\n",
       "      <td>MidWest</td>\n",
       "    </tr>\n",
       "    <tr>\n",
       "      <th>12</th>\n",
       "      <td>ID</td>\n",
       "      <td>2.85</td>\n",
       "      <td>3.97</td>\n",
       "      <td>694342.33</td>\n",
       "      <td>2533.11</td>\n",
       "      <td>274.96</td>\n",
       "      <td>118</td>\n",
       "      <td>Idaho</td>\n",
       "      <td>West</td>\n",
       "    </tr>\n",
       "    <tr>\n",
       "      <th>13</th>\n",
       "      <td>IL</td>\n",
       "      <td>2.45</td>\n",
       "      <td>3.11</td>\n",
       "      <td>433009.10</td>\n",
       "      <td>2014.25</td>\n",
       "      <td>178.38</td>\n",
       "      <td>1597</td>\n",
       "      <td>Illinois</td>\n",
       "      <td>MidWest</td>\n",
       "    </tr>\n",
       "    <tr>\n",
       "      <th>14</th>\n",
       "      <td>IN</td>\n",
       "      <td>2.35</td>\n",
       "      <td>3.19</td>\n",
       "      <td>300764.08</td>\n",
       "      <td>2382.49</td>\n",
       "      <td>112.36</td>\n",
       "      <td>1090</td>\n",
       "      <td>Indiana</td>\n",
       "      <td>MidWest</td>\n",
       "    </tr>\n",
       "  </tbody>\n",
       "</table>\n",
       "</div>"
      ],
      "text/plain": [
       "   State  Bathrooms  Bedrooms      Price    Size  perSqFt  HouseCount  \\\n",
       "0     AK       3.31      4.94  447688.19 2728.05   176.94         443   \n",
       "1     AL       2.77      3.43  372348.44 2526.98   136.81         957   \n",
       "2     AR       3.21      3.81  507569.58 3072.85   142.81         320   \n",
       "3     AZ       2.91      3.50  864523.98 2621.48   511.35        2389   \n",
       "4     CA       2.86      3.57 1459234.62 2316.31   528.38        6563   \n",
       "5     CO       2.88      3.36  912330.16 2450.87   348.04         959   \n",
       "6     CT       2.84      4.22  570666.59 2705.55   212.42         452   \n",
       "7     DC       2.94      3.05 1464815.72 2107.08   574.93         116   \n",
       "8     DE       2.71      3.53  568675.31 2786.49   147.46         114   \n",
       "9     FL       2.53      3.07  573222.09 1858.28   252.61        3738   \n",
       "10    GA       2.74      3.48  428239.92 2308.06   155.21        1311   \n",
       "11    IA       2.08      3.21  175284.05 1827.84    97.06         127   \n",
       "12    ID       2.85      3.97  694342.33 2533.11   274.96         118   \n",
       "13    IL       2.45      3.11  433009.10 2014.25   178.38        1597   \n",
       "14    IN       2.35      3.19  300764.08 2382.49   112.36        1090   \n",
       "\n",
       "               fullState   Region  \n",
       "0                 Alaska     West  \n",
       "1                Alabama    South  \n",
       "2               Arkansas    South  \n",
       "3                Arizona     West  \n",
       "4             California     West  \n",
       "5               Colorado     West  \n",
       "6            Connecticut    North  \n",
       "7   District of Columbia    North  \n",
       "8               Delaware    South  \n",
       "9                Florida    South  \n",
       "10               Georgia    South  \n",
       "11                  Iowa  MidWest  \n",
       "12                 Idaho     West  \n",
       "13              Illinois  MidWest  \n",
       "14               Indiana  MidWest  "
      ]
     },
     "execution_count": 254,
     "metadata": {},
     "output_type": "execute_result"
    }
   ],
   "source": [
    "#Converting pivot into DF and reset index\n",
    "pivot_df =pd.DataFrame(pivot_state)\n",
    "pivot_df = pivot_df.reset_index()\n",
    "\n",
    "# create function to insert fullState name for merge\n",
    "def insert_fullState(a):\n",
    "    a = state_dict[a]\n",
    "    return a\n",
    "\n",
    "# Merge with pivot df\n",
    "pivot_df = pivot_df.merge(valuecount_df2, how = 'inner', on = 'State')\n",
    "\n",
    "# insert both fullState and Region\n",
    "pivot_df['fullState'] = pivot_df.State.apply(insert_fullState)\n",
    "pivot_df['Region'] = pivot_df.State.apply(find_region)\n",
    "pivot_df.head(15)\n",
    "\n"
   ]
  },
  {
   "cell_type": "code",
   "execution_count": 255,
   "metadata": {},
   "outputs": [
    {
     "data": {
      "text/html": [
       "<div>\n",
       "<style scoped>\n",
       "    .dataframe tbody tr th:only-of-type {\n",
       "        vertical-align: middle;\n",
       "    }\n",
       "\n",
       "    .dataframe tbody tr th {\n",
       "        vertical-align: top;\n",
       "    }\n",
       "\n",
       "    .dataframe thead th {\n",
       "        text-align: right;\n",
       "    }\n",
       "</style>\n",
       "<table border=\"1\" class=\"dataframe\">\n",
       "  <thead>\n",
       "    <tr style=\"text-align: right;\">\n",
       "      <th></th>\n",
       "      <th>fullState</th>\n",
       "      <th>GDP</th>\n",
       "      <th>Spending</th>\n",
       "      <th>Population</th>\n",
       "      <th>Income</th>\n",
       "      <th>State</th>\n",
       "      <th>Bathrooms</th>\n",
       "      <th>Bedrooms</th>\n",
       "      <th>Price</th>\n",
       "      <th>Size</th>\n",
       "      <th>perSqFt</th>\n",
       "      <th>HouseCount</th>\n",
       "      <th>Region</th>\n",
       "    </tr>\n",
       "  </thead>\n",
       "  <tbody>\n",
       "    <tr>\n",
       "      <th>0</th>\n",
       "      <td>Alabama</td>\n",
       "      <td>196906.10</td>\n",
       "      <td>176479.80</td>\n",
       "      <td>4934193</td>\n",
       "      <td>228748.80</td>\n",
       "      <td>AL</td>\n",
       "      <td>2.77</td>\n",
       "      <td>3.43</td>\n",
       "      <td>372348.44</td>\n",
       "      <td>2526.98</td>\n",
       "      <td>136.81</td>\n",
       "      <td>957</td>\n",
       "      <td>South</td>\n",
       "    </tr>\n",
       "    <tr>\n",
       "      <th>1</th>\n",
       "      <td>Alaska</td>\n",
       "      <td>50161.00</td>\n",
       "      <td>35635.70</td>\n",
       "      <td>724357</td>\n",
       "      <td>46430.30</td>\n",
       "      <td>AK</td>\n",
       "      <td>3.31</td>\n",
       "      <td>4.94</td>\n",
       "      <td>447688.19</td>\n",
       "      <td>2728.05</td>\n",
       "      <td>176.94</td>\n",
       "      <td>443</td>\n",
       "      <td>West</td>\n",
       "    </tr>\n",
       "    <tr>\n",
       "      <th>2</th>\n",
       "      <td>Arizona</td>\n",
       "      <td>320550.60</td>\n",
       "      <td>287090.10</td>\n",
       "      <td>7520103</td>\n",
       "      <td>368458.60</td>\n",
       "      <td>AZ</td>\n",
       "      <td>2.91</td>\n",
       "      <td>3.50</td>\n",
       "      <td>864523.98</td>\n",
       "      <td>2621.48</td>\n",
       "      <td>511.35</td>\n",
       "      <td>2389</td>\n",
       "      <td>West</td>\n",
       "    </tr>\n",
       "    <tr>\n",
       "      <th>3</th>\n",
       "      <td>Arkansas</td>\n",
       "      <td>114943.50</td>\n",
       "      <td>104488.80</td>\n",
       "      <td>3033946</td>\n",
       "      <td>143147.90</td>\n",
       "      <td>AR</td>\n",
       "      <td>3.21</td>\n",
       "      <td>3.81</td>\n",
       "      <td>507569.58</td>\n",
       "      <td>3072.85</td>\n",
       "      <td>142.81</td>\n",
       "      <td>320</td>\n",
       "      <td>South</td>\n",
       "    </tr>\n",
       "    <tr>\n",
       "      <th>4</th>\n",
       "      <td>California</td>\n",
       "      <td>2663665.90</td>\n",
       "      <td>1835980.60</td>\n",
       "      <td>39613493</td>\n",
       "      <td>2763312.00</td>\n",
       "      <td>CA</td>\n",
       "      <td>2.86</td>\n",
       "      <td>3.57</td>\n",
       "      <td>1459234.62</td>\n",
       "      <td>2316.31</td>\n",
       "      <td>528.38</td>\n",
       "      <td>6563</td>\n",
       "      <td>West</td>\n",
       "    </tr>\n",
       "  </tbody>\n",
       "</table>\n",
       "</div>"
      ],
      "text/plain": [
       "    fullState        GDP   Spending  Population     Income State  Bathrooms  \\\n",
       "0     Alabama  196906.10  176479.80     4934193  228748.80    AL       2.77   \n",
       "1      Alaska   50161.00   35635.70      724357   46430.30    AK       3.31   \n",
       "2     Arizona  320550.60  287090.10     7520103  368458.60    AZ       2.91   \n",
       "3    Arkansas  114943.50  104488.80     3033946  143147.90    AR       3.21   \n",
       "4  California 2663665.90 1835980.60    39613493 2763312.00    CA       2.86   \n",
       "\n",
       "   Bedrooms      Price    Size  perSqFt  HouseCount Region  \n",
       "0      3.43  372348.44 2526.98   136.81         957  South  \n",
       "1      4.94  447688.19 2728.05   176.94         443   West  \n",
       "2      3.50  864523.98 2621.48   511.35        2389   West  \n",
       "3      3.81  507569.58 3072.85   142.81         320  South  \n",
       "4      3.57 1459234.62 2316.31   528.38        6563   West  "
      ]
     },
     "execution_count": 255,
     "metadata": {},
     "output_type": "execute_result"
    }
   ],
   "source": [
    "# Creating state_df; now we have both state_df and house_df\n",
    "state_df = merged_df.merge(pivot_df, how = 'inner', on = 'fullState')\n",
    "state_df.head()"
   ]
  },
  {
   "cell_type": "code",
   "execution_count": 256,
   "metadata": {},
   "outputs": [
    {
     "data": {
      "text/html": [
       "<div>\n",
       "<style scoped>\n",
       "    .dataframe tbody tr th:only-of-type {\n",
       "        vertical-align: middle;\n",
       "    }\n",
       "\n",
       "    .dataframe tbody tr th {\n",
       "        vertical-align: top;\n",
       "    }\n",
       "\n",
       "    .dataframe thead th {\n",
       "        text-align: right;\n",
       "    }\n",
       "</style>\n",
       "<table border=\"1\" class=\"dataframe\">\n",
       "  <thead>\n",
       "    <tr style=\"text-align: right;\">\n",
       "      <th></th>\n",
       "      <th>fullState</th>\n",
       "      <th>GDP</th>\n",
       "      <th>Spending</th>\n",
       "      <th>Population</th>\n",
       "      <th>Income</th>\n",
       "      <th>State</th>\n",
       "      <th>Bathrooms</th>\n",
       "      <th>Bedrooms</th>\n",
       "      <th>Price</th>\n",
       "      <th>Size</th>\n",
       "      <th>perSqFt</th>\n",
       "      <th>HouseCount</th>\n",
       "      <th>Region</th>\n",
       "      <th>SavingsRate</th>\n",
       "    </tr>\n",
       "  </thead>\n",
       "  <tbody>\n",
       "    <tr>\n",
       "      <th>0</th>\n",
       "      <td>Alabama</td>\n",
       "      <td>196906.10</td>\n",
       "      <td>176479.80</td>\n",
       "      <td>4934193</td>\n",
       "      <td>228748.80</td>\n",
       "      <td>AL</td>\n",
       "      <td>2.77</td>\n",
       "      <td>3.43</td>\n",
       "      <td>372348.44</td>\n",
       "      <td>2526.98</td>\n",
       "      <td>136.81</td>\n",
       "      <td>957</td>\n",
       "      <td>South</td>\n",
       "      <td>0.23</td>\n",
       "    </tr>\n",
       "    <tr>\n",
       "      <th>1</th>\n",
       "      <td>Alaska</td>\n",
       "      <td>50161.00</td>\n",
       "      <td>35635.70</td>\n",
       "      <td>724357</td>\n",
       "      <td>46430.30</td>\n",
       "      <td>AK</td>\n",
       "      <td>3.31</td>\n",
       "      <td>4.94</td>\n",
       "      <td>447688.19</td>\n",
       "      <td>2728.05</td>\n",
       "      <td>176.94</td>\n",
       "      <td>443</td>\n",
       "      <td>West</td>\n",
       "      <td>0.23</td>\n",
       "    </tr>\n",
       "    <tr>\n",
       "      <th>2</th>\n",
       "      <td>Arizona</td>\n",
       "      <td>320550.60</td>\n",
       "      <td>287090.10</td>\n",
       "      <td>7520103</td>\n",
       "      <td>368458.60</td>\n",
       "      <td>AZ</td>\n",
       "      <td>2.91</td>\n",
       "      <td>3.50</td>\n",
       "      <td>864523.98</td>\n",
       "      <td>2621.48</td>\n",
       "      <td>511.35</td>\n",
       "      <td>2389</td>\n",
       "      <td>West</td>\n",
       "      <td>0.22</td>\n",
       "    </tr>\n",
       "    <tr>\n",
       "      <th>3</th>\n",
       "      <td>Arkansas</td>\n",
       "      <td>114943.50</td>\n",
       "      <td>104488.80</td>\n",
       "      <td>3033946</td>\n",
       "      <td>143147.90</td>\n",
       "      <td>AR</td>\n",
       "      <td>3.21</td>\n",
       "      <td>3.81</td>\n",
       "      <td>507569.58</td>\n",
       "      <td>3072.85</td>\n",
       "      <td>142.81</td>\n",
       "      <td>320</td>\n",
       "      <td>South</td>\n",
       "      <td>0.27</td>\n",
       "    </tr>\n",
       "    <tr>\n",
       "      <th>4</th>\n",
       "      <td>California</td>\n",
       "      <td>2663665.90</td>\n",
       "      <td>1835980.60</td>\n",
       "      <td>39613493</td>\n",
       "      <td>2763312.00</td>\n",
       "      <td>CA</td>\n",
       "      <td>2.86</td>\n",
       "      <td>3.57</td>\n",
       "      <td>1459234.62</td>\n",
       "      <td>2316.31</td>\n",
       "      <td>528.38</td>\n",
       "      <td>6563</td>\n",
       "      <td>West</td>\n",
       "      <td>0.34</td>\n",
       "    </tr>\n",
       "  </tbody>\n",
       "</table>\n",
       "</div>"
      ],
      "text/plain": [
       "    fullState        GDP   Spending  Population     Income State  Bathrooms  \\\n",
       "0     Alabama  196906.10  176479.80     4934193  228748.80    AL       2.77   \n",
       "1      Alaska   50161.00   35635.70      724357   46430.30    AK       3.31   \n",
       "2     Arizona  320550.60  287090.10     7520103  368458.60    AZ       2.91   \n",
       "3    Arkansas  114943.50  104488.80     3033946  143147.90    AR       3.21   \n",
       "4  California 2663665.90 1835980.60    39613493 2763312.00    CA       2.86   \n",
       "\n",
       "   Bedrooms      Price    Size  perSqFt  HouseCount Region  SavingsRate  \n",
       "0      3.43  372348.44 2526.98   136.81         957  South         0.23  \n",
       "1      4.94  447688.19 2728.05   176.94         443   West         0.23  \n",
       "2      3.50  864523.98 2621.48   511.35        2389   West         0.22  \n",
       "3      3.81  507569.58 3072.85   142.81         320  South         0.27  \n",
       "4      3.57 1459234.62 2316.31   528.38        6563   West         0.34  "
      ]
     },
     "execution_count": 256,
     "metadata": {},
     "output_type": "execute_result"
    }
   ],
   "source": [
    "state_df['SavingsRate'] = (state_df['Income']-state_df['Spending'])/state_df['Income']\n",
    "state_df.head()"
   ]
  },
  {
   "cell_type": "markdown",
   "metadata": {},
   "source": [
    "#### Visualizations"
   ]
  },
  {
   "cell_type": "markdown",
   "metadata": {},
   "source": [
    "##### House_df"
   ]
  },
  {
   "cell_type": "code",
   "execution_count": 220,
   "metadata": {},
   "outputs": [
    {
     "data": {
      "text/plain": [
       "<AxesSubplot:>"
      ]
     },
     "execution_count": 220,
     "metadata": {},
     "output_type": "execute_result"
    },
    {
     "data": {
      "image/png": "[encoded data removed]",
      "text/plain": [
       "<Figure size 2160x864 with 1 Axes>"
      ]
     },
     "metadata": {
      "needs_background": "light"
     },
     "output_type": "display_data"
    }
   ],
   "source": [
    "plt.figure(figsize=(30,12))\n",
    "house_df['State'].value_counts().plot(kind='bar')"
   ]
  },
  {
   "cell_type": "code",
   "execution_count": 257,
   "metadata": {},
   "outputs": [
    {
     "data": {
      "text/plain": [
       "[(0.0, 14067.9)]"
      ]
     },
     "execution_count": 257,
     "metadata": {},
     "output_type": "execute_result"
    },
    {
     "data": {
      "image/png": "[encoded data removed]",
      "text/plain": [
       "<Figure size 1152x864 with 1 Axes>"
      ]
     },
     "metadata": {
      "needs_background": "light"
     },
     "output_type": "display_data"
    }
   ],
   "source": [
    "plt.figure(figsize=(16,12))\n",
    "g=sns.countplot(x='Region',data=house_df,hue='Type')\n",
    "g.set(ylim=(0, None))"
   ]
  },
  {
   "cell_type": "code",
   "execution_count": 203,
   "metadata": {},
   "outputs": [
    {
     "data": {
      "text/plain": [
       "(0.0, 1837499.95)"
      ]
     },
     "execution_count": 203,
     "metadata": {},
     "output_type": "execute_result"
    },
    {
     "data": {
      "image/png": "[encoded data removed]",
      "text/plain": [
       "<Figure size 2160x864 with 1 Axes>"
      ]
     },
     "metadata": {
      "needs_background": "light"
     },
     "output_type": "display_data"
    }
   ],
   "source": [
    "# plt.figure(figsize=(16,4))\n",
    "# sns.boxplot(data = house_df, x = 'Type' , y = 'Price')\n",
    "# ax = sns.boxplot(data = house_df, x = 'State' , y = 'Price')\n",
    "# ax.set_ylim(0,10000000)\n",
    "\n",
    "\n",
    "house_df_nout = house_df[(house_df['Price'] <= 1750000)]\n",
    "plt.figure(figsize=(30,12))\n",
    "ax = sns.boxplot(data = house_df_nout, x = 'State' , y = 'Price')\n",
    "ax.set_ylim(0,None)"
   ]
  },
  {
   "cell_type": "markdown",
   "metadata": {},
   "source": [
    "##### State_df"
   ]
  },
  {
   "cell_type": "code",
   "execution_count": 252,
   "metadata": {},
   "outputs": [
    {
     "data": {
      "text/html": [
       "<div>\n",
       "<style scoped>\n",
       "    .dataframe tbody tr th:only-of-type {\n",
       "        vertical-align: middle;\n",
       "    }\n",
       "\n",
       "    .dataframe tbody tr th {\n",
       "        vertical-align: top;\n",
       "    }\n",
       "\n",
       "    .dataframe thead th {\n",
       "        text-align: right;\n",
       "    }\n",
       "</style>\n",
       "<table border=\"1\" class=\"dataframe\">\n",
       "  <thead>\n",
       "    <tr style=\"text-align: right;\">\n",
       "      <th></th>\n",
       "      <th>GDP</th>\n",
       "      <th>Spending</th>\n",
       "      <th>Population</th>\n",
       "      <th>Income</th>\n",
       "      <th>Bathrooms</th>\n",
       "      <th>Bedrooms</th>\n",
       "      <th>Price</th>\n",
       "      <th>Size</th>\n",
       "      <th>perSqFt</th>\n",
       "      <th>HouseCount</th>\n",
       "      <th>SavingsRate</th>\n",
       "    </tr>\n",
       "  </thead>\n",
       "  <tbody>\n",
       "    <tr>\n",
       "      <th>GDP</th>\n",
       "      <td>1.00</td>\n",
       "      <td>0.99</td>\n",
       "      <td>0.98</td>\n",
       "      <td>0.99</td>\n",
       "      <td>-0.02</td>\n",
       "      <td>-0.06</td>\n",
       "      <td>0.41</td>\n",
       "      <td>-0.12</td>\n",
       "      <td>0.24</td>\n",
       "      <td>0.90</td>\n",
       "      <td>0.35</td>\n",
       "    </tr>\n",
       "    <tr>\n",
       "      <th>Spending</th>\n",
       "      <td>0.99</td>\n",
       "      <td>1.00</td>\n",
       "      <td>0.99</td>\n",
       "      <td>1.00</td>\n",
       "      <td>-0.05</td>\n",
       "      <td>-0.10</td>\n",
       "      <td>0.37</td>\n",
       "      <td>-0.16</td>\n",
       "      <td>0.24</td>\n",
       "      <td>0.92</td>\n",
       "      <td>0.29</td>\n",
       "    </tr>\n",
       "    <tr>\n",
       "      <th>Population</th>\n",
       "      <td>0.98</td>\n",
       "      <td>0.99</td>\n",
       "      <td>1.00</td>\n",
       "      <td>0.99</td>\n",
       "      <td>-0.04</td>\n",
       "      <td>-0.12</td>\n",
       "      <td>0.31</td>\n",
       "      <td>-0.16</td>\n",
       "      <td>0.18</td>\n",
       "      <td>0.93</td>\n",
       "      <td>0.25</td>\n",
       "    </tr>\n",
       "    <tr>\n",
       "      <th>Income</th>\n",
       "      <td>0.99</td>\n",
       "      <td>1.00</td>\n",
       "      <td>0.99</td>\n",
       "      <td>1.00</td>\n",
       "      <td>-0.04</td>\n",
       "      <td>-0.07</td>\n",
       "      <td>0.40</td>\n",
       "      <td>-0.14</td>\n",
       "      <td>0.26</td>\n",
       "      <td>0.91</td>\n",
       "      <td>0.33</td>\n",
       "    </tr>\n",
       "    <tr>\n",
       "      <th>Bathrooms</th>\n",
       "      <td>-0.02</td>\n",
       "      <td>-0.05</td>\n",
       "      <td>-0.04</td>\n",
       "      <td>-0.04</td>\n",
       "      <td>1.00</td>\n",
       "      <td>0.55</td>\n",
       "      <td>0.41</td>\n",
       "      <td>0.66</td>\n",
       "      <td>0.04</td>\n",
       "      <td>0.08</td>\n",
       "      <td>-0.04</td>\n",
       "    </tr>\n",
       "    <tr>\n",
       "      <th>Bedrooms</th>\n",
       "      <td>-0.06</td>\n",
       "      <td>-0.10</td>\n",
       "      <td>-0.12</td>\n",
       "      <td>-0.07</td>\n",
       "      <td>0.55</td>\n",
       "      <td>1.00</td>\n",
       "      <td>0.14</td>\n",
       "      <td>0.67</td>\n",
       "      <td>0.14</td>\n",
       "      <td>-0.09</td>\n",
       "      <td>0.21</td>\n",
       "    </tr>\n",
       "    <tr>\n",
       "      <th>Price</th>\n",
       "      <td>0.41</td>\n",
       "      <td>0.37</td>\n",
       "      <td>0.31</td>\n",
       "      <td>0.40</td>\n",
       "      <td>0.41</td>\n",
       "      <td>0.14</td>\n",
       "      <td>1.00</td>\n",
       "      <td>0.18</td>\n",
       "      <td>0.49</td>\n",
       "      <td>0.28</td>\n",
       "      <td>0.18</td>\n",
       "    </tr>\n",
       "    <tr>\n",
       "      <th>Size</th>\n",
       "      <td>-0.12</td>\n",
       "      <td>-0.16</td>\n",
       "      <td>-0.16</td>\n",
       "      <td>-0.14</td>\n",
       "      <td>0.66</td>\n",
       "      <td>0.67</td>\n",
       "      <td>0.18</td>\n",
       "      <td>1.00</td>\n",
       "      <td>0.25</td>\n",
       "      <td>-0.11</td>\n",
       "      <td>0.07</td>\n",
       "    </tr>\n",
       "    <tr>\n",
       "      <th>perSqFt</th>\n",
       "      <td>0.24</td>\n",
       "      <td>0.24</td>\n",
       "      <td>0.18</td>\n",
       "      <td>0.26</td>\n",
       "      <td>0.04</td>\n",
       "      <td>0.14</td>\n",
       "      <td>0.49</td>\n",
       "      <td>0.25</td>\n",
       "      <td>1.00</td>\n",
       "      <td>0.15</td>\n",
       "      <td>0.21</td>\n",
       "    </tr>\n",
       "    <tr>\n",
       "      <th>HouseCount</th>\n",
       "      <td>0.90</td>\n",
       "      <td>0.92</td>\n",
       "      <td>0.93</td>\n",
       "      <td>0.91</td>\n",
       "      <td>0.08</td>\n",
       "      <td>-0.09</td>\n",
       "      <td>0.28</td>\n",
       "      <td>-0.11</td>\n",
       "      <td>0.15</td>\n",
       "      <td>1.00</td>\n",
       "      <td>0.19</td>\n",
       "    </tr>\n",
       "    <tr>\n",
       "      <th>SavingsRate</th>\n",
       "      <td>0.35</td>\n",
       "      <td>0.29</td>\n",
       "      <td>0.25</td>\n",
       "      <td>0.33</td>\n",
       "      <td>-0.04</td>\n",
       "      <td>0.21</td>\n",
       "      <td>0.18</td>\n",
       "      <td>0.07</td>\n",
       "      <td>0.21</td>\n",
       "      <td>0.19</td>\n",
       "      <td>1.00</td>\n",
       "    </tr>\n",
       "  </tbody>\n",
       "</table>\n",
       "</div>"
      ],
      "text/plain": [
       "              GDP  Spending  Population  Income  Bathrooms  Bedrooms  Price  \\\n",
       "GDP          1.00      0.99        0.98    0.99      -0.02     -0.06   0.41   \n",
       "Spending     0.99      1.00        0.99    1.00      -0.05     -0.10   0.37   \n",
       "Population   0.98      0.99        1.00    0.99      -0.04     -0.12   0.31   \n",
       "Income       0.99      1.00        0.99    1.00      -0.04     -0.07   0.40   \n",
       "Bathrooms   -0.02     -0.05       -0.04   -0.04       1.00      0.55   0.41   \n",
       "Bedrooms    -0.06     -0.10       -0.12   -0.07       0.55      1.00   0.14   \n",
       "Price        0.41      0.37        0.31    0.40       0.41      0.14   1.00   \n",
       "Size        -0.12     -0.16       -0.16   -0.14       0.66      0.67   0.18   \n",
       "perSqFt      0.24      0.24        0.18    0.26       0.04      0.14   0.49   \n",
       "HouseCount   0.90      0.92        0.93    0.91       0.08     -0.09   0.28   \n",
       "SavingsRate  0.35      0.29        0.25    0.33      -0.04      0.21   0.18   \n",
       "\n",
       "             Size  perSqFt  HouseCount  SavingsRate  \n",
       "GDP         -0.12     0.24        0.90         0.35  \n",
       "Spending    -0.16     0.24        0.92         0.29  \n",
       "Population  -0.16     0.18        0.93         0.25  \n",
       "Income      -0.14     0.26        0.91         0.33  \n",
       "Bathrooms    0.66     0.04        0.08        -0.04  \n",
       "Bedrooms     0.67     0.14       -0.09         0.21  \n",
       "Price        0.18     0.49        0.28         0.18  \n",
       "Size         1.00     0.25       -0.11         0.07  \n",
       "perSqFt      0.25     1.00        0.15         0.21  \n",
       "HouseCount  -0.11     0.15        1.00         0.19  \n",
       "SavingsRate  0.07     0.21        0.19         1.00  "
      ]
     },
     "execution_count": 252,
     "metadata": {},
     "output_type": "execute_result"
    }
   ],
   "source": [
    "# View the correlation in numbers.\n",
    "state_df.corr()"
   ]
  },
  {
   "cell_type": "code",
   "execution_count": 251,
   "metadata": {},
   "outputs": [
    {
     "data": {
      "text/plain": [
       "<seaborn.axisgrid.PairGrid at 0x7fb986510580>"
      ]
     },
     "execution_count": 251,
     "metadata": {},
     "output_type": "execute_result"
    },
    {
     "data": {
      "image/png": "[encoded data removed]",
      "text/plain": [
       "<Figure size 1980x1980 with 132 Axes>"
      ]
     },
     "metadata": {
      "needs_background": "light"
     },
     "output_type": "display_data"
    }
   ],
   "source": [
    "# Print pairplot to visualize the correlations. \n",
    "sns.pairplot(data=state_df)\n",
    "# the more money you have the more bathrooms you will get."
   ]
  },
  {
   "cell_type": "code",
   "execution_count": 189,
   "metadata": {},
   "outputs": [
    {
     "data": {
      "image/png": "[encoded data removed]",
      "text/plain": [
       "<Figure size 432x288 with 1 Axes>"
      ]
     },
     "metadata": {
      "needs_background": "light"
     },
     "output_type": "display_data"
    }
   ],
   "source": [
    "# Regression plot of SavingsRate vs perSqFt\n",
    "g = sns.regplot(data = state_df, y = 'perSqFt', x = 'SavingsRate')\n",
    "plt.ticklabel_format(style='plain', axis='y')\n",
    "plt.ticklabel_format(style='plain', axis='x')\n",
    "# The States that have higher SavingRate will pay higher perSqFt for the houses. Note: perSqFt vs House price is two different things."
   ]
  },
  {
   "cell_type": "code",
   "execution_count": 259,
   "metadata": {},
   "outputs": [
    {
     "data": {
      "image/png": "[encoded data removed]",
      "text/plain": [
       "<Figure size 432x288 with 1 Axes>"
      ]
     },
     "metadata": {
      "needs_background": "light"
     },
     "output_type": "display_data"
    }
   ],
   "source": [
    "g = sns.regplot(data = state_df, x = 'GDP', y = 'Price')\n",
    "plt.ticklabel_format(style='plain', axis='y')\n",
    "plt.ticklabel_format(style='plain', axis='x')\n",
    "# g.set(xlim = (0,1000000))"
   ]
  },
  {
   "cell_type": "code",
   "execution_count": 165,
   "metadata": {},
   "outputs": [
    {
     "data": {
      "text/plain": [
       "<AxesSubplot:xlabel='State'>"
      ]
     },
     "execution_count": 165,
     "metadata": {},
     "output_type": "execute_result"
    },
    {
     "data": {
      "image/png": "[encoded data removed]",
      "text/plain": [
       "<Figure size 432x288 with 1 Axes>"
      ]
     },
     "metadata": {
      "needs_background": "light"
     },
     "output_type": "display_data"
    }
   ],
   "source": [
    "areaplot_df = state_df[['Income','Spending','State']]\n",
    "areaplot_df.plot.area(x='State',stacked=False)"
   ]
  },
  {
   "cell_type": "code",
   "execution_count": null,
   "metadata": {},
   "outputs": [],
   "source": [
    "\n",
    "\n",
    "\n",
    "data = dict(type = 'choropleth',colorscale='Portland',locations=state_df['State'],locationmode='USA-states', z=state_df['Price'],text=state_df['Price'], colorbar={'title':'Price'})\n",
    "choromap = go.Figure(data = [data],layout = dict(geo = {'scope':'usa'}))\n",
    "\n",
    "iplot(choromap,validate=False)\n"
   ]
  },
  {
   "cell_type": "code",
   "execution_count": 168,
   "metadata": {},
   "outputs": [
    {
     "data": {
      "application/vnd.plotly.v1+json": {
       "config": {
        "linkText": "Export to plot.ly",
        "plotlyServerURL": "https://plot.ly",
        "showLink": false
       },
       "data": [
        {
         "colorbar": {
          "title": {
           "text": "perSqFt"
          }
         },
         "colorscale": [
          [
           0,
           "rgb(12,51,131)"
          ],
          [
           0.25,
           "rgb(10,136,186)"
          ],
          [
           0.5,
           "rgb(242,211,56)"
          ],
          [
           0.75,
           "rgb(242,143,56)"
          ],
          [
           1,
           "rgb(217,30,30)"
          ]
         ],
         "locationmode": "USA-states",
         "locations": [
          "AL",
          "AK",
          "AZ",
          "AR",
          "CA",
          "CO",
          "CT",
          "DE",
          "DC",
          "FL",
          "GA",
          "ID",
          "IL",
          "IN",
          "IA",
          "KS",
          "KY",
          "LA",
          "ME",
          "MD",
          "MA",
          "MI",
          "MN",
          "MS",
          "MO",
          "MT",
          "NE",
          "NV",
          "NJ",
          "NM",
          "NY",
          "NC",
          "ND",
          "OH",
          "OK",
          "OR",
          "PA",
          "RI",
          "SC",
          "SD",
          "TN",
          "TX",
          "UT",
          "VA",
          "WA",
          "WI"
         ],
         "text": [
          136.80587839340305,
          176.93609490411023,
          511.35197713723073,
          142.80762052733402,
          528.3843465490568,
          348.040553830105,
          212.42158563078536,
          147.45833719874233,
          574.9339240110975,
          252.61363228938535,
          155.20602334281998,
          274.9560375270961,
          178.37886019494962,
          112.36026098640485,
          97.06007148316272,
          122.80222683533228,
          197.1826975498595,
          146.70644295242013,
          477.7012232762405,
          168.14004344643516,
          610.6200092896765,
          102.92178347468563,
          226.401400343144,
          101.41908398521893,
          136.03629109543115,
          203.09259660242742,
          153.55421583638952,
          241.98728833997978,
          1474.0609301639213,
          166.67228319776234,
          530.5045009908573,
          250.34178207904736,
          121.78206432260667,
          105.9884497473205,
          149.29393822294878,
          302.76061688301877,
          199.5303678249869,
          208.28294123385734,
          216.60119874788504,
          185.8359114230454,
          247.8042823652983,
          147.66327096316468,
          222.55321478740893,
          333.4184767897296,
          298.0039662356227,
          180.4886507578667
         ],
         "type": "choropleth",
         "z": [
          136.80587839340305,
          176.93609490411023,
          511.35197713723073,
          142.80762052733402,
          528.3843465490568,
          348.040553830105,
          212.42158563078536,
          147.45833719874233,
          574.9339240110975,
          252.61363228938535,
          155.20602334281998,
          274.9560375270961,
          178.37886019494962,
          112.36026098640485,
          97.06007148316272,
          122.80222683533228,
          197.1826975498595,
          146.70644295242013,
          477.7012232762405,
          168.14004344643516,
          610.6200092896765,
          102.92178347468563,
          226.401400343144,
          101.41908398521893,
          136.03629109543115,
          203.09259660242742,
          153.55421583638952,
          241.98728833997978,
          1474.0609301639213,
          166.67228319776234,
          530.5045009908573,
          250.34178207904736,
          121.78206432260667,
          105.9884497473205,
          149.29393822294878,
          302.76061688301877,
          199.5303678249869,
          208.28294123385734,
          216.60119874788504,
          185.8359114230454,
          247.8042823652983,
          147.66327096316468,
          222.55321478740893,
          333.4184767897296,
          298.0039662356227,
          180.4886507578667
         ]
        }
       ],
       "layout": {
        "geo": {
         "scope": "usa"
        },
        "template": {
         "data": {
          "bar": [
           {
            "error_x": {
             "color": "#2a3f5f"
            },
            "error_y": {
             "color": "#2a3f5f"
            },
            "marker": {
             "line": {
              "color": "#E5ECF6",
              "width": 0.5
             },
             "pattern": {
              "fillmode": "overlay",
              "size": 10,
              "solidity": 0.2
             }
            },
            "type": "bar"
           }
          ],
          "barpolar": [
           {
            "marker": {
             "line": {
              "color": "#E5ECF6",
              "width": 0.5
             },
             "pattern": {
              "fillmode": "overlay",
              "size": 10,
              "solidity": 0.2
             }
            },
            "type": "barpolar"
           }
          ],
          "carpet": [
           {
            "aaxis": {
             "endlinecolor": "#2a3f5f",
             "gridcolor": "white",
             "linecolor": "white",
             "minorgridcolor": "white",
             "startlinecolor": "#2a3f5f"
            },
            "baxis": {
             "endlinecolor": "#2a3f5f",
             "gridcolor": "white",
             "linecolor": "white",
             "minorgridcolor": "white",
             "startlinecolor": "#2a3f5f"
            },
            "type": "carpet"
           }
          ],
          "choropleth": [
           {
            "colorbar": {
             "outlinewidth": 0,
             "ticks": ""
            },
            "type": "choropleth"
           }
          ],
          "contour": [
           {
            "colorbar": {
             "outlinewidth": 0,
             "ticks": ""
            },
            "colorscale": [
             [
              0,
              "#0d0887"
             ],
             [
              0.1111111111111111,
              "#46039f"
             ],
             [
              0.2222222222222222,
              "#7201a8"
             ],
             [
              0.3333333333333333,
              "#9c179e"
             ],
             [
              0.4444444444444444,
              "#bd3786"
             ],
             [
              0.5555555555555556,
              "#d8576b"
             ],
             [
              0.6666666666666666,
              "#ed7953"
             ],
             [
              0.7777777777777778,
              "#fb9f3a"
             ],
             [
              0.8888888888888888,
              "#fdca26"
             ],
             [
              1,
              "#f0f921"
             ]
            ],
            "type": "contour"
           }
          ],
          "contourcarpet": [
           {
            "colorbar": {
             "outlinewidth": 0,
             "ticks": ""
            },
            "type": "contourcarpet"
           }
          ],
          "heatmap": [
           {
            "colorbar": {
             "outlinewidth": 0,
             "ticks": ""
            },
            "colorscale": [
             [
              0,
              "#0d0887"
             ],
             [
              0.1111111111111111,
              "#46039f"
             ],
             [
              0.2222222222222222,
              "#7201a8"
             ],
             [
              0.3333333333333333,
              "#9c179e"
             ],
             [
              0.4444444444444444,
              "#bd3786"
             ],
             [
              0.5555555555555556,
              "#d8576b"
             ],
             [
              0.6666666666666666,
              "#ed7953"
             ],
             [
              0.7777777777777778,
              "#fb9f3a"
             ],
             [
              0.8888888888888888,
              "#fdca26"
             ],
             [
              1,
              "#f0f921"
             ]
            ],
            "type": "heatmap"
           }
          ],
          "heatmapgl": [
           {
            "colorbar": {
             "outlinewidth": 0,
             "ticks": ""
            },
            "colorscale": [
             [
              0,
              "#0d0887"
             ],
             [
              0.1111111111111111,
              "#46039f"
             ],
             [
              0.2222222222222222,
              "#7201a8"
             ],
             [
              0.3333333333333333,
              "#9c179e"
             ],
             [
              0.4444444444444444,
              "#bd3786"
             ],
             [
              0.5555555555555556,
              "#d8576b"
             ],
             [
              0.6666666666666666,
              "#ed7953"
             ],
             [
              0.7777777777777778,
              "#fb9f3a"
             ],
             [
              0.8888888888888888,
              "#fdca26"
             ],
             [
              1,
              "#f0f921"
             ]
            ],
            "type": "heatmapgl"
           }
          ],
          "histogram": [
           {
            "marker": {
             "pattern": {
              "fillmode": "overlay",
              "size": 10,
              "solidity": 0.2
             }
            },
            "type": "histogram"
           }
          ],
          "histogram2d": [
           {
            "colorbar": {
             "outlinewidth": 0,
             "ticks": ""
            },
            "colorscale": [
             [
              0,
              "#0d0887"
             ],
             [
              0.1111111111111111,
              "#46039f"
             ],
             [
              0.2222222222222222,
              "#7201a8"
             ],
             [
              0.3333333333333333,
              "#9c179e"
             ],
             [
              0.4444444444444444,
              "#bd3786"
             ],
             [
              0.5555555555555556,
              "#d8576b"
             ],
             [
              0.6666666666666666,
              "#ed7953"
             ],
             [
              0.7777777777777778,
              "#fb9f3a"
             ],
             [
              0.8888888888888888,
              "#fdca26"
             ],
             [
              1,
              "#f0f921"
             ]
            ],
            "type": "histogram2d"
           }
          ],
          "histogram2dcontour": [
           {
            "colorbar": {
             "outlinewidth": 0,
             "ticks": ""
            },
            "colorscale": [
             [
              0,
              "#0d0887"
             ],
             [
              0.1111111111111111,
              "#46039f"
             ],
             [
              0.2222222222222222,
              "#7201a8"
             ],
             [
              0.3333333333333333,
              "#9c179e"
             ],
             [
              0.4444444444444444,
              "#bd3786"
             ],
             [
              0.5555555555555556,
              "#d8576b"
             ],
             [
              0.6666666666666666,
              "#ed7953"
             ],
             [
              0.7777777777777778,
              "#fb9f3a"
             ],
             [
              0.8888888888888888,
              "#fdca26"
             ],
             [
              1,
              "#f0f921"
             ]
            ],
            "type": "histogram2dcontour"
           }
          ],
          "mesh3d": [
           {
            "colorbar": {
             "outlinewidth": 0,
             "ticks": ""
            },
            "type": "mesh3d"
           }
          ],
          "parcoords": [
           {
            "line": {
             "colorbar": {
              "outlinewidth": 0,
              "ticks": ""
             }
            },
            "type": "parcoords"
           }
          ],
          "pie": [
           {
            "automargin": true,
            "type": "pie"
           }
          ],
          "scatter": [
           {
            "marker": {
             "colorbar": {
              "outlinewidth": 0,
              "ticks": ""
             }
            },
            "type": "scatter"
           }
          ],
          "scatter3d": [
           {
            "line": {
             "colorbar": {
              "outlinewidth": 0,
              "ticks": ""
             }
            },
            "marker": {
             "colorbar": {
              "outlinewidth": 0,
              "ticks": ""
             }
            },
            "type": "scatter3d"
           }
          ],
          "scattercarpet": [
           {
            "marker": {
             "colorbar": {
              "outlinewidth": 0,
              "ticks": ""
             }
            },
            "type": "scattercarpet"
           }
          ],
          "scattergeo": [
           {
            "marker": {
             "colorbar": {
              "outlinewidth": 0,
              "ticks": ""
             }
            },
            "type": "scattergeo"
           }
          ],
          "scattergl": [
           {
            "marker": {
             "colorbar": {
              "outlinewidth": 0,
              "ticks": ""
             }
            },
            "type": "scattergl"
           }
          ],
          "scattermapbox": [
           {
            "marker": {
             "colorbar": {
              "outlinewidth": 0,
              "ticks": ""
             }
            },
            "type": "scattermapbox"
           }
          ],
          "scatterpolar": [
           {
            "marker": {
             "colorbar": {
              "outlinewidth": 0,
              "ticks": ""
             }
            },
            "type": "scatterpolar"
           }
          ],
          "scatterpolargl": [
           {
            "marker": {
             "colorbar": {
              "outlinewidth": 0,
              "ticks": ""
             }
            },
            "type": "scatterpolargl"
           }
          ],
          "scatterternary": [
           {
            "marker": {
             "colorbar": {
              "outlinewidth": 0,
              "ticks": ""
             }
            },
            "type": "scatterternary"
           }
          ],
          "surface": [
           {
            "colorbar": {
             "outlinewidth": 0,
             "ticks": ""
            },
            "colorscale": [
             [
              0,
              "#0d0887"
             ],
             [
              0.1111111111111111,
              "#46039f"
             ],
             [
              0.2222222222222222,
              "#7201a8"
             ],
             [
              0.3333333333333333,
              "#9c179e"
             ],
             [
              0.4444444444444444,
              "#bd3786"
             ],
             [
              0.5555555555555556,
              "#d8576b"
             ],
             [
              0.6666666666666666,
              "#ed7953"
             ],
             [
              0.7777777777777778,
              "#fb9f3a"
             ],
             [
              0.8888888888888888,
              "#fdca26"
             ],
             [
              1,
              "#f0f921"
             ]
            ],
            "type": "surface"
           }
          ],
          "table": [
           {
            "cells": {
             "fill": {
              "color": "#EBF0F8"
             },
             "line": {
              "color": "white"
             }
            },
            "header": {
             "fill": {
              "color": "#C8D4E3"
             },
             "line": {
              "color": "white"
             }
            },
            "type": "table"
           }
          ]
         },
         "layout": {
          "annotationdefaults": {
           "arrowcolor": "#2a3f5f",
           "arrowhead": 0,
           "arrowwidth": 1
          },
          "autotypenumbers": "strict",
          "coloraxis": {
           "colorbar": {
            "outlinewidth": 0,
            "ticks": ""
           }
          },
          "colorscale": {
           "diverging": [
            [
             0,
             "#8e0152"
            ],
            [
             0.1,
             "#c51b7d"
            ],
            [
             0.2,
             "#de77ae"
            ],
            [
             0.3,
             "#f1b6da"
            ],
            [
             0.4,
             "#fde0ef"
            ],
            [
             0.5,
             "#f7f7f7"
            ],
            [
             0.6,
             "#e6f5d0"
            ],
            [
             0.7,
             "#b8e186"
            ],
            [
             0.8,
             "#7fbc41"
            ],
            [
             0.9,
             "#4d9221"
            ],
            [
             1,
             "#276419"
            ]
           ],
           "sequential": [
            [
             0,
             "#0d0887"
            ],
            [
             0.1111111111111111,
             "#46039f"
            ],
            [
             0.2222222222222222,
             "#7201a8"
            ],
            [
             0.3333333333333333,
             "#9c179e"
            ],
            [
             0.4444444444444444,
             "#bd3786"
            ],
            [
             0.5555555555555556,
             "#d8576b"
            ],
            [
             0.6666666666666666,
             "#ed7953"
            ],
            [
             0.7777777777777778,
             "#fb9f3a"
            ],
            [
             0.8888888888888888,
             "#fdca26"
            ],
            [
             1,
             "#f0f921"
            ]
           ],
           "sequentialminus": [
            [
             0,
             "#0d0887"
            ],
            [
             0.1111111111111111,
             "#46039f"
            ],
            [
             0.2222222222222222,
             "#7201a8"
            ],
            [
             0.3333333333333333,
             "#9c179e"
            ],
            [
             0.4444444444444444,
             "#bd3786"
            ],
            [
             0.5555555555555556,
             "#d8576b"
            ],
            [
             0.6666666666666666,
             "#ed7953"
            ],
            [
             0.7777777777777778,
             "#fb9f3a"
            ],
            [
             0.8888888888888888,
             "#fdca26"
            ],
            [
             1,
             "#f0f921"
            ]
           ]
          },
          "colorway": [
           "#636efa",
           "#EF553B",
           "#00cc96",
           "#ab63fa",
           "#FFA15A",
           "#19d3f3",
           "#FF6692",
           "#B6E880",
           "#FF97FF",
           "#FECB52"
          ],
          "font": {
           "color": "#2a3f5f"
          },
          "geo": {
           "bgcolor": "white",
           "lakecolor": "white",
           "landcolor": "#E5ECF6",
           "showlakes": true,
           "showland": true,
           "subunitcolor": "white"
          },
          "hoverlabel": {
           "align": "left"
          },
          "hovermode": "closest",
          "mapbox": {
           "style": "light"
          },
          "paper_bgcolor": "white",
          "plot_bgcolor": "#E5ECF6",
          "polar": {
           "angularaxis": {
            "gridcolor": "white",
            "linecolor": "white",
            "ticks": ""
           },
           "bgcolor": "#E5ECF6",
           "radialaxis": {
            "gridcolor": "white",
            "linecolor": "white",
            "ticks": ""
           }
          },
          "scene": {
           "xaxis": {
            "backgroundcolor": "#E5ECF6",
            "gridcolor": "white",
            "gridwidth": 2,
            "linecolor": "white",
            "showbackground": true,
            "ticks": "",
            "zerolinecolor": "white"
           },
           "yaxis": {
            "backgroundcolor": "#E5ECF6",
            "gridcolor": "white",
            "gridwidth": 2,
            "linecolor": "white",
            "showbackground": true,
            "ticks": "",
            "zerolinecolor": "white"
           },
           "zaxis": {
            "backgroundcolor": "#E5ECF6",
            "gridcolor": "white",
            "gridwidth": 2,
            "linecolor": "white",
            "showbackground": true,
            "ticks": "",
            "zerolinecolor": "white"
           }
          },
          "shapedefaults": {
           "line": {
            "color": "#2a3f5f"
           }
          },
          "ternary": {
           "aaxis": {
            "gridcolor": "white",
            "linecolor": "white",
            "ticks": ""
           },
           "baxis": {
            "gridcolor": "white",
            "linecolor": "white",
            "ticks": ""
           },
           "bgcolor": "#E5ECF6",
           "caxis": {
            "gridcolor": "white",
            "linecolor": "white",
            "ticks": ""
           }
          },
          "title": {
           "x": 0.05
          },
          "xaxis": {
           "automargin": true,
           "gridcolor": "white",
           "linecolor": "white",
           "ticks": "",
           "title": {
            "standoff": 15
           },
           "zerolinecolor": "white",
           "zerolinewidth": 2
          },
          "yaxis": {
           "automargin": true,
           "gridcolor": "white",
           "linecolor": "white",
           "ticks": "",
           "title": {
            "standoff": 15
           },
           "zerolinecolor": "white",
           "zerolinewidth": 2
          }
         }
        }
       }
      },
      "text/html": [
       "<div>                            <div id=\"8d58655d-285d-4719-9d9d-0273bd2ad90a\" class=\"plotly-graph-div\" style=\"height:525px; width:100%;\"></div>            <script type=\"text/javascript\">                require([\"plotly\"], function(Plotly) {                    window.PLOTLYENV=window.PLOTLYENV || {};                                    if (document.getElementById(\"8d58655d-285d-4719-9d9d-0273bd2ad90a\")) {                    Plotly.newPlot(                        \"8d58655d-285d-4719-9d9d-0273bd2ad90a\",                        [{\"colorbar\":{\"title\":{\"text\":\"perSqFt\"}},\"colorscale\":[[0.0,\"rgb(12,51,131)\"],[0.25,\"rgb(10,136,186)\"],[0.5,\"rgb(242,211,56)\"],[0.75,\"rgb(242,143,56)\"],[1.0,\"rgb(217,30,30)\"]],\"locationmode\":\"USA-states\",\"locations\":[\"AL\",\"AK\",\"AZ\",\"AR\",\"CA\",\"CO\",\"CT\",\"DE\",\"DC\",\"FL\",\"GA\",\"ID\",\"IL\",\"IN\",\"IA\",\"KS\",\"KY\",\"LA\",\"ME\",\"MD\",\"MA\",\"MI\",\"MN\",\"MS\",\"MO\",\"MT\",\"NE\",\"NV\",\"NJ\",\"NM\",\"NY\",\"NC\",\"ND\",\"OH\",\"OK\",\"OR\",\"PA\",\"RI\",\"SC\",\"SD\",\"TN\",\"TX\",\"UT\",\"VA\",\"WA\",\"WI\"],\"text\":[136.80587839340305,176.93609490411023,511.35197713723073,142.80762052733402,528.3843465490568,348.040553830105,212.42158563078536,147.45833719874233,574.9339240110975,252.61363228938535,155.20602334281998,274.9560375270961,178.37886019494962,112.36026098640485,97.06007148316272,122.80222683533228,197.1826975498595,146.70644295242013,477.7012232762405,168.14004344643516,610.6200092896765,102.92178347468563,226.401400343144,101.41908398521893,136.03629109543115,203.09259660242742,153.55421583638952,241.98728833997978,1474.0609301639213,166.67228319776234,530.5045009908573,250.34178207904736,121.78206432260667,105.9884497473205,149.29393822294878,302.76061688301877,199.5303678249869,208.28294123385734,216.60119874788504,185.8359114230454,247.8042823652983,147.66327096316468,222.55321478740893,333.4184767897296,298.0039662356227,180.4886507578667],\"type\":\"choropleth\",\"z\":[136.80587839340305,176.93609490411023,511.35197713723073,142.80762052733402,528.3843465490568,348.040553830105,212.42158563078536,147.45833719874233,574.9339240110975,252.61363228938535,155.20602334281998,274.9560375270961,178.37886019494962,112.36026098640485,97.06007148316272,122.80222683533228,197.1826975498595,146.70644295242013,477.7012232762405,168.14004344643516,610.6200092896765,102.92178347468563,226.401400343144,101.41908398521893,136.03629109543115,203.09259660242742,153.55421583638952,241.98728833997978,1474.0609301639213,166.67228319776234,530.5045009908573,250.34178207904736,121.78206432260667,105.9884497473205,149.29393822294878,302.76061688301877,199.5303678249869,208.28294123385734,216.60119874788504,185.8359114230454,247.8042823652983,147.66327096316468,222.55321478740893,333.4184767897296,298.0039662356227,180.4886507578667]}],                        {\"geo\":{\"scope\":\"usa\"},\"template\":{\"data\":{\"bar\":[{\"error_x\":{\"color\":\"#2a3f5f\"},\"error_y\":{\"color\":\"#2a3f5f\"},\"marker\":{\"line\":{\"color\":\"#E5ECF6\",\"width\":0.5},\"pattern\":{\"fillmode\":\"overlay\",\"size\":10,\"solidity\":0.2}},\"type\":\"bar\"}],\"barpolar\":[{\"marker\":{\"line\":{\"color\":\"#E5ECF6\",\"width\":0.5},\"pattern\":{\"fillmode\":\"overlay\",\"size\":10,\"solidity\":0.2}},\"type\":\"barpolar\"}],\"carpet\":[{\"aaxis\":{\"endlinecolor\":\"#2a3f5f\",\"gridcolor\":\"white\",\"linecolor\":\"white\",\"minorgridcolor\":\"white\",\"startlinecolor\":\"#2a3f5f\"},\"baxis\":{\"endlinecolor\":\"#2a3f5f\",\"gridcolor\":\"white\",\"linecolor\":\"white\",\"minorgridcolor\":\"white\",\"startlinecolor\":\"#2a3f5f\"},\"type\":\"carpet\"}],\"choropleth\":[{\"colorbar\":{\"outlinewidth\":0,\"ticks\":\"\"},\"type\":\"choropleth\"}],\"contour\":[{\"colorbar\":{\"outlinewidth\":0,\"ticks\":\"\"},\"colorscale\":[[0.0,\"#0d0887\"],[0.1111111111111111,\"#46039f\"],[0.2222222222222222,\"#7201a8\"],[0.3333333333333333,\"#9c179e\"],[0.4444444444444444,\"#bd3786\"],[0.5555555555555556,\"#d8576b\"],[0.6666666666666666,\"#ed7953\"],[0.7777777777777778,\"#fb9f3a\"],[0.8888888888888888,\"#fdca26\"],[1.0,\"#f0f921\"]],\"type\":\"contour\"}],\"contourcarpet\":[{\"colorbar\":{\"outlinewidth\":0,\"ticks\":\"\"},\"type\":\"contourcarpet\"}],\"heatmap\":[{\"colorbar\":{\"outlinewidth\":0,\"ticks\":\"\"},\"colorscale\":[[0.0,\"#0d0887\"],[0.1111111111111111,\"#46039f\"],[0.2222222222222222,\"#7201a8\"],[0.3333333333333333,\"#9c179e\"],[0.4444444444444444,\"#bd3786\"],[0.5555555555555556,\"#d8576b\"],[0.6666666666666666,\"#ed7953\"],[0.7777777777777778,\"#fb9f3a\"],[0.8888888888888888,\"#fdca26\"],[1.0,\"#f0f921\"]],\"type\":\"heatmap\"}],\"heatmapgl\":[{\"colorbar\":{\"outlinewidth\":0,\"ticks\":\"\"},\"colorscale\":[[0.0,\"#0d0887\"],[0.1111111111111111,\"#46039f\"],[0.2222222222222222,\"#7201a8\"],[0.3333333333333333,\"#9c179e\"],[0.4444444444444444,\"#bd3786\"],[0.5555555555555556,\"#d8576b\"],[0.6666666666666666,\"#ed7953\"],[0.7777777777777778,\"#fb9f3a\"],[0.8888888888888888,\"#fdca26\"],[1.0,\"#f0f921\"]],\"type\":\"heatmapgl\"}],\"histogram\":[{\"marker\":{\"pattern\":{\"fillmode\":\"overlay\",\"size\":10,\"solidity\":0.2}},\"type\":\"histogram\"}],\"histogram2d\":[{\"colorbar\":{\"outlinewidth\":0,\"ticks\":\"\"},\"colorscale\":[[0.0,\"#0d0887\"],[0.1111111111111111,\"#46039f\"],[0.2222222222222222,\"#7201a8\"],[0.3333333333333333,\"#9c179e\"],[0.4444444444444444,\"#bd3786\"],[0.5555555555555556,\"#d8576b\"],[0.6666666666666666,\"#ed7953\"],[0.7777777777777778,\"#fb9f3a\"],[0.8888888888888888,\"#fdca26\"],[1.0,\"#f0f921\"]],\"type\":\"histogram2d\"}],\"histogram2dcontour\":[{\"colorbar\":{\"outlinewidth\":0,\"ticks\":\"\"},\"colorscale\":[[0.0,\"#0d0887\"],[0.1111111111111111,\"#46039f\"],[0.2222222222222222,\"#7201a8\"],[0.3333333333333333,\"#9c179e\"],[0.4444444444444444,\"#bd3786\"],[0.5555555555555556,\"#d8576b\"],[0.6666666666666666,\"#ed7953\"],[0.7777777777777778,\"#fb9f3a\"],[0.8888888888888888,\"#fdca26\"],[1.0,\"#f0f921\"]],\"type\":\"histogram2dcontour\"}],\"mesh3d\":[{\"colorbar\":{\"outlinewidth\":0,\"ticks\":\"\"},\"type\":\"mesh3d\"}],\"parcoords\":[{\"line\":{\"colorbar\":{\"outlinewidth\":0,\"ticks\":\"\"}},\"type\":\"parcoords\"}],\"pie\":[{\"automargin\":true,\"type\":\"pie\"}],\"scatter\":[{\"marker\":{\"colorbar\":{\"outlinewidth\":0,\"ticks\":\"\"}},\"type\":\"scatter\"}],\"scatter3d\":[{\"line\":{\"colorbar\":{\"outlinewidth\":0,\"ticks\":\"\"}},\"marker\":{\"colorbar\":{\"outlinewidth\":0,\"ticks\":\"\"}},\"type\":\"scatter3d\"}],\"scattercarpet\":[{\"marker\":{\"colorbar\":{\"outlinewidth\":0,\"ticks\":\"\"}},\"type\":\"scattercarpet\"}],\"scattergeo\":[{\"marker\":{\"colorbar\":{\"outlinewidth\":0,\"ticks\":\"\"}},\"type\":\"scattergeo\"}],\"scattergl\":[{\"marker\":{\"colorbar\":{\"outlinewidth\":0,\"ticks\":\"\"}},\"type\":\"scattergl\"}],\"scattermapbox\":[{\"marker\":{\"colorbar\":{\"outlinewidth\":0,\"ticks\":\"\"}},\"type\":\"scattermapbox\"}],\"scatterpolar\":[{\"marker\":{\"colorbar\":{\"outlinewidth\":0,\"ticks\":\"\"}},\"type\":\"scatterpolar\"}],\"scatterpolargl\":[{\"marker\":{\"colorbar\":{\"outlinewidth\":0,\"ticks\":\"\"}},\"type\":\"scatterpolargl\"}],\"scatterternary\":[{\"marker\":{\"colorbar\":{\"outlinewidth\":0,\"ticks\":\"\"}},\"type\":\"scatterternary\"}],\"surface\":[{\"colorbar\":{\"outlinewidth\":0,\"ticks\":\"\"},\"colorscale\":[[0.0,\"#0d0887\"],[0.1111111111111111,\"#46039f\"],[0.2222222222222222,\"#7201a8\"],[0.3333333333333333,\"#9c179e\"],[0.4444444444444444,\"#bd3786\"],[0.5555555555555556,\"#d8576b\"],[0.6666666666666666,\"#ed7953\"],[0.7777777777777778,\"#fb9f3a\"],[0.8888888888888888,\"#fdca26\"],[1.0,\"#f0f921\"]],\"type\":\"surface\"}],\"table\":[{\"cells\":{\"fill\":{\"color\":\"#EBF0F8\"},\"line\":{\"color\":\"white\"}},\"header\":{\"fill\":{\"color\":\"#C8D4E3\"},\"line\":{\"color\":\"white\"}},\"type\":\"table\"}]},\"layout\":{\"annotationdefaults\":{\"arrowcolor\":\"#2a3f5f\",\"arrowhead\":0,\"arrowwidth\":1},\"autotypenumbers\":\"strict\",\"coloraxis\":{\"colorbar\":{\"outlinewidth\":0,\"ticks\":\"\"}},\"colorscale\":{\"diverging\":[[0,\"#8e0152\"],[0.1,\"#c51b7d\"],[0.2,\"#de77ae\"],[0.3,\"#f1b6da\"],[0.4,\"#fde0ef\"],[0.5,\"#f7f7f7\"],[0.6,\"#e6f5d0\"],[0.7,\"#b8e186\"],[0.8,\"#7fbc41\"],[0.9,\"#4d9221\"],[1,\"#276419\"]],\"sequential\":[[0.0,\"#0d0887\"],[0.1111111111111111,\"#46039f\"],[0.2222222222222222,\"#7201a8\"],[0.3333333333333333,\"#9c179e\"],[0.4444444444444444,\"#bd3786\"],[0.5555555555555556,\"#d8576b\"],[0.6666666666666666,\"#ed7953\"],[0.7777777777777778,\"#fb9f3a\"],[0.8888888888888888,\"#fdca26\"],[1.0,\"#f0f921\"]],\"sequentialminus\":[[0.0,\"#0d0887\"],[0.1111111111111111,\"#46039f\"],[0.2222222222222222,\"#7201a8\"],[0.3333333333333333,\"#9c179e\"],[0.4444444444444444,\"#bd3786\"],[0.5555555555555556,\"#d8576b\"],[0.6666666666666666,\"#ed7953\"],[0.7777777777777778,\"#fb9f3a\"],[0.8888888888888888,\"#fdca26\"],[1.0,\"#f0f921\"]]},\"colorway\":[\"#636efa\",\"#EF553B\",\"#00cc96\",\"#ab63fa\",\"#FFA15A\",\"#19d3f3\",\"#FF6692\",\"#B6E880\",\"#FF97FF\",\"#FECB52\"],\"font\":{\"color\":\"#2a3f5f\"},\"geo\":{\"bgcolor\":\"white\",\"lakecolor\":\"white\",\"landcolor\":\"#E5ECF6\",\"showlakes\":true,\"showland\":true,\"subunitcolor\":\"white\"},\"hoverlabel\":{\"align\":\"left\"},\"hovermode\":\"closest\",\"mapbox\":{\"style\":\"light\"},\"paper_bgcolor\":\"white\",\"plot_bgcolor\":\"#E5ECF6\",\"polar\":{\"angularaxis\":{\"gridcolor\":\"white\",\"linecolor\":\"white\",\"ticks\":\"\"},\"bgcolor\":\"#E5ECF6\",\"radialaxis\":{\"gridcolor\":\"white\",\"linecolor\":\"white\",\"ticks\":\"\"}},\"scene\":{\"xaxis\":{\"backgroundcolor\":\"#E5ECF6\",\"gridcolor\":\"white\",\"gridwidth\":2,\"linecolor\":\"white\",\"showbackground\":true,\"ticks\":\"\",\"zerolinecolor\":\"white\"},\"yaxis\":{\"backgroundcolor\":\"#E5ECF6\",\"gridcolor\":\"white\",\"gridwidth\":2,\"linecolor\":\"white\",\"showbackground\":true,\"ticks\":\"\",\"zerolinecolor\":\"white\"},\"zaxis\":{\"backgroundcolor\":\"#E5ECF6\",\"gridcolor\":\"white\",\"gridwidth\":2,\"linecolor\":\"white\",\"showbackground\":true,\"ticks\":\"\",\"zerolinecolor\":\"white\"}},\"shapedefaults\":{\"line\":{\"color\":\"#2a3f5f\"}},\"ternary\":{\"aaxis\":{\"gridcolor\":\"white\",\"linecolor\":\"white\",\"ticks\":\"\"},\"baxis\":{\"gridcolor\":\"white\",\"linecolor\":\"white\",\"ticks\":\"\"},\"bgcolor\":\"#E5ECF6\",\"caxis\":{\"gridcolor\":\"white\",\"linecolor\":\"white\",\"ticks\":\"\"}},\"title\":{\"x\":0.05},\"xaxis\":{\"automargin\":true,\"gridcolor\":\"white\",\"linecolor\":\"white\",\"ticks\":\"\",\"title\":{\"standoff\":15},\"zerolinecolor\":\"white\",\"zerolinewidth\":2},\"yaxis\":{\"automargin\":true,\"gridcolor\":\"white\",\"linecolor\":\"white\",\"ticks\":\"\",\"title\":{\"standoff\":15},\"zerolinecolor\":\"white\",\"zerolinewidth\":2}}}},                        {\"responsive\": true}                    ).then(function(){\n",
       "                            \n",
       "var gd = document.getElementById('8d58655d-285d-4719-9d9d-0273bd2ad90a');\n",
       "var x = new MutationObserver(function (mutations, observer) {{\n",
       "        var display = window.getComputedStyle(gd).display;\n",
       "        if (!display || display === 'none') {{\n",
       "            console.log([gd, 'removed!']);\n",
       "            Plotly.purge(gd);\n",
       "            observer.disconnect();\n",
       "        }}\n",
       "}});\n",
       "\n",
       "// Listen for the removal of the full notebook cells\n",
       "var notebookContainer = gd.closest('#notebook-container');\n",
       "if (notebookContainer) {{\n",
       "    x.observe(notebookContainer, {childList: true});\n",
       "}}\n",
       "\n",
       "// Listen for the clearing of the current output cell\n",
       "var outputEl = gd.closest('.output');\n",
       "if (outputEl) {{\n",
       "    x.observe(outputEl, {childList: true});\n",
       "}}\n",
       "\n",
       "                        })                };                });            </script>        </div>"
      ]
     },
     "metadata": {},
     "output_type": "display_data"
    }
   ],
   "source": [
    "\n",
    "data = dict(type = 'choropleth',colorscale='Portland',locations=state_df['State'],locationmode='USA-states', z=state_df['perSqFt'],text=state_df['perSqFt'], colorbar={'title':'perSqFt'})\n",
    "choromap = go.Figure(data = [data],layout = dict(geo = {'scope':'usa'}))\n",
    "\n",
    "iplot(choromap,validate=False)\n"
   ]
  },
  {
   "cell_type": "code",
   "execution_count": null,
   "metadata": {},
   "outputs": [],
   "source": [
    "from matplotlib import pyplot as plt\n",
    "from mpl_toolkits.mplot3d import Axes3D\n",
    "fig = plt.figure(figsize=(6,6))\n",
    "ax = Axes3D(fig)\n",
    "fig.add_axes(ax)\n",
    "ax.scatter(xs = state_df['GDP'], ys = state_df['Price'], zs = state_df['Size'], s=40, marker='o', alpha=1)\n",
    "ax.set_xlabel('GDP')\n",
    "ax.set_ylabel('Price')\n",
    "ax.set_zlabel('Size')\n",
    "plt.ticklabel_format(style='plain', axis='y')\n",
    "plt.ticklabel_format(style='plain', axis='x')"
   ]
  },
  {
   "cell_type": "markdown",
   "metadata": {},
   "source": [
    "### Conclusion"
   ]
  },
  {
   "cell_type": "code",
   "execution_count": 170,
   "metadata": {},
   "outputs": [
    {
     "data": {
      "text/plain": [
       "'\\n\\n\\n\\n'"
      ]
     },
     "execution_count": 170,
     "metadata": {},
     "output_type": "execute_result"
    }
   ],
   "source": [
    "'''\n",
    "\n",
    "\n",
    "\n",
    "'''"
   ]
  },
  {
   "cell_type": "markdown",
   "metadata": {},
   "source": [
    "### References"
   ]
  },
  {
   "cell_type": "code",
   "execution_count": 171,
   "metadata": {},
   "outputs": [
    {
     "data": {
      "text/plain": [
       "'\\nReferences\\n\\nData of:    Housing Prices\\nhttps://www.kaggle.com/dataranch/zillow-1\\n\\nData of:    Population\\nhttps://worldpopulationreview.com/states\\n\\nData of:    GDP, Income, Spending \\nhttps://apps.bea.gov/iTable/iTable.cfm?reqid=70&step=1&isuri=1&acrdn=1#reqid=70&step=1&isuri=1&acrdn=1\\n\\n\\n'"
      ]
     },
     "execution_count": 171,
     "metadata": {},
     "output_type": "execute_result"
    }
   ],
   "source": [
    "'''\n",
    "References\n",
    "\n",
    "Data of:    Housing Prices\n",
    "https://www.kaggle.com/dataranch/zillow-1\n",
    "\n",
    "Data of:    Population\n",
    "https://worldpopulationreview.com/states\n",
    "\n",
    "Data of:    GDP, Income, Spending \n",
    "https://apps.bea.gov/iTable/iTable.cfm?reqid=70&step=1&isuri=1&acrdn=1#reqid=70&step=1&isuri=1&acrdn=1\n",
    "\n",
    "\n",
    "'''"
   ]
  }
 ],
 "metadata": {
  "colab": {
   "collapsed_sections": [],
   "name": "CIS41_Project.ipynb",
   "provenance": []
  },
  "interpreter": {
   "hash": "54efd26b0a3209e0235e3c4cb559382c0ee234b91b9a72337fb828952fc089d2"
  },
  "kernelspec": {
   "display_name": "Python 3.8.8 64-bit ('base': conda)",
   "name": "python3"
  },
  "language_info": {
   "codemirror_mode": {
    "name": "ipython",
    "version": 3
   },
   "file_extension": ".py",
   "mimetype": "text/x-python",
   "name": "python",
   "nbconvert_exporter": "python",
   "pygments_lexer": "ipython3",
   "version": "3.9.7"
  }
 },
 "nbformat": 4,
 "nbformat_minor": 1
}
