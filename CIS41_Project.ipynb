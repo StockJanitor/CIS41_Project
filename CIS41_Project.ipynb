{
 "cells": [
  {
   "cell_type": "code",
   "execution_count": null,
   "metadata": {
    "colab": {
     "base_uri": "https://localhost:8080/"
    },
    "id": "28JO-ghYfEq-",
    "outputId": "9bafd72f-5223-4fe8-d1c7-8fefe95e46bd"
   },
   "outputs": [],
   "source": [
    "# Import modules\n",
    "import pandas as pd\n",
    "import numpy as np\n",
    "import seaborn as sns\n",
    "import matplotlib as plt\n",
    "import plotly.graph_objs as go \n",
    "from plotly.offline import init_notebook_mode,iplot\n",
    "\n",
    "import warnings\n",
    "warnings.filterwarnings(\"ignore\", category=FutureWarning)\n",
    "\n",
    "init_notebook_mode(connected=True)"
   ]
  },
  {
   "cell_type": "code",
   "execution_count": null,
   "metadata": {
    "id": "JhpeYrXUpRA-"
   },
   "outputs": [],
   "source": [
    "# Load data\n",
    "df = pd.read_csv('data/data_house.csv')\n",
    "spending_df = pd.read_csv('data/data_spending.csv')\n",
    "gdp_df = pd.read_csv('data/data_gdp.csv')\n",
    "population_df = pd.read_csv('data/data_population.csv')\n"
   ]
  },
  {
   "cell_type": "code",
   "execution_count": null,
   "metadata": {},
   "outputs": [],
   "source": [
    "population_df.head()"
   ]
  },
  {
   "cell_type": "code",
   "execution_count": 31,
   "metadata": {
    "colab": {
     "base_uri": "https://localhost:8080/",
     "height": 459
    },
    "id": "5dHw0pr4rQpK",
    "outputId": "fb955d50-819b-4f8c-ac92-e4d7667cd4fa"
   },
   "outputs": [
    {
     "name": "stdout",
     "output_type": "stream",
     "text": [
      "<class 'pandas.core.frame.DataFrame'>\n",
      "Int64Index: 50574 entries, 5 to 85508\n",
      "Data columns (total 8 columns):\n",
      " #   Column       Non-Null Count  Dtype  \n",
      "---  ------       --------------  -----  \n",
      " 0   Price        50574 non-null  object \n",
      " 1   Address      50574 non-null  object \n",
      " 2   Bedrooms     50574 non-null  object \n",
      " 3   Bathrooms    50574 non-null  object \n",
      " 4   Size         50574 non-null  object \n",
      " 5   Sale Status  50574 non-null  object \n",
      " 6   URL          50574 non-null  object \n",
      " 7   Raw Price    50574 non-null  float64\n",
      "dtypes: float64(1), object(7)\n",
      "memory usage: 3.5+ MB\n"
     ]
    },
    {
     "data": {
      "text/html": [
       "<div>\n",
       "<style scoped>\n",
       "    .dataframe tbody tr th:only-of-type {\n",
       "        vertical-align: middle;\n",
       "    }\n",
       "\n",
       "    .dataframe tbody tr th {\n",
       "        vertical-align: top;\n",
       "    }\n",
       "\n",
       "    .dataframe thead th {\n",
       "        text-align: right;\n",
       "    }\n",
       "</style>\n",
       "<table border=\"1\" class=\"dataframe\">\n",
       "  <thead>\n",
       "    <tr style=\"text-align: right;\">\n",
       "      <th></th>\n",
       "      <th>Price</th>\n",
       "      <th>Address</th>\n",
       "      <th>Bedrooms</th>\n",
       "      <th>Bathrooms</th>\n",
       "      <th>Size</th>\n",
       "      <th>Sale Status</th>\n",
       "      <th>URL</th>\n",
       "      <th>Raw Price</th>\n",
       "    </tr>\n",
       "  </thead>\n",
       "  <tbody>\n",
       "    <tr>\n",
       "      <th>85502</th>\n",
       "      <td>$68,000,000</td>\n",
       "      <td>0 Del Valle Rd, Livermore, CA 94550</td>\n",
       "      <td>4 bds</td>\n",
       "      <td>2 ba</td>\n",
       "      <td>2,500 sqft</td>\n",
       "      <td>House for sale</td>\n",
       "      <td>https://www.zillow.com/homedetails/0-Del-Valle...</td>\n",
       "      <td>68000000.00</td>\n",
       "    </tr>\n",
       "    <tr>\n",
       "      <th>85503</th>\n",
       "      <td>$75,000,000</td>\n",
       "      <td>1060 Brooklawn Dr, Los Angeles, CA 90077</td>\n",
       "      <td>13 bds</td>\n",
       "      <td>17 ba</td>\n",
       "      <td>15,011 sqft</td>\n",
       "      <td>House for sale</td>\n",
       "      <td>https://www.zillow.com/homedetails/1060-Brookl...</td>\n",
       "      <td>75000000.00</td>\n",
       "    </tr>\n",
       "    <tr>\n",
       "      <th>85505</th>\n",
       "      <td>$90,000,000</td>\n",
       "      <td>432 Park Ave #82, New York, NY 10022</td>\n",
       "      <td>6 bds</td>\n",
       "      <td>8 ba</td>\n",
       "      <td>8,054 sqft</td>\n",
       "      <td>Condo for sale</td>\n",
       "      <td>https://www.zillow.com/homedetails/432-Park-Av...</td>\n",
       "      <td>90000000.00</td>\n",
       "    </tr>\n",
       "    <tr>\n",
       "      <th>85507</th>\n",
       "      <td>$99,000,000</td>\n",
       "      <td>908 Bel Air Rd, Los Angeles, CA 90077</td>\n",
       "      <td>9 bds</td>\n",
       "      <td>20 ba</td>\n",
       "      <td>34,000 sqft</td>\n",
       "      <td>House for sale</td>\n",
       "      <td>https://www.zillow.com/homedetails/908-Bel-Air...</td>\n",
       "      <td>99000000.00</td>\n",
       "    </tr>\n",
       "    <tr>\n",
       "      <th>85508</th>\n",
       "      <td>$110,000,000</td>\n",
       "      <td>30 Beverly Park Ter, Beverly Hills, CA 90210</td>\n",
       "      <td>8 bds</td>\n",
       "      <td>12 ba</td>\n",
       "      <td>-- sqft</td>\n",
       "      <td>House for sale</td>\n",
       "      <td>https://www.zillow.com/homedetails/30-Beverly-...</td>\n",
       "      <td>110000000.00</td>\n",
       "    </tr>\n",
       "  </tbody>\n",
       "</table>\n",
       "</div>"
      ],
      "text/plain": [
       "              Price                                       Address Bedrooms  \\\n",
       "85502   $68,000,000           0 Del Valle Rd, Livermore, CA 94550    4 bds   \n",
       "85503   $75,000,000      1060 Brooklawn Dr, Los Angeles, CA 90077   13 bds   \n",
       "85505   $90,000,000          432 Park Ave #82, New York, NY 10022    6 bds   \n",
       "85507   $99,000,000         908 Bel Air Rd, Los Angeles, CA 90077    9 bds   \n",
       "85508  $110,000,000  30 Beverly Park Ter, Beverly Hills, CA 90210    8 bds   \n",
       "\n",
       "      Bathrooms         Size     Sale Status  \\\n",
       "85502      2 ba   2,500 sqft  House for sale   \n",
       "85503     17 ba  15,011 sqft  House for sale   \n",
       "85505      8 ba   8,054 sqft  Condo for sale   \n",
       "85507     20 ba  34,000 sqft  House for sale   \n",
       "85508     12 ba      -- sqft  House for sale   \n",
       "\n",
       "                                                     URL    Raw Price  \n",
       "85502  https://www.zillow.com/homedetails/0-Del-Valle...  68000000.00  \n",
       "85503  https://www.zillow.com/homedetails/1060-Brookl...  75000000.00  \n",
       "85505  https://www.zillow.com/homedetails/432-Park-Av...  90000000.00  \n",
       "85507  https://www.zillow.com/homedetails/908-Bel-Air...  99000000.00  \n",
       "85508  https://www.zillow.com/homedetails/30-Beverly-... 110000000.00  "
      ]
     },
     "execution_count": 31,
     "metadata": {},
     "output_type": "execute_result"
    }
   ],
   "source": [
    "# Reading the data\n",
    "df.info()\n",
    "df.shape\n",
    "df.tail()"
   ]
  },
  {
   "cell_type": "code",
   "execution_count": null,
   "metadata": {
    "colab": {
     "base_uri": "https://localhost:8080/",
     "height": 204
    },
    "id": "xSFA0CB_pvyD",
    "outputId": "819cd86a-5d1d-4fda-9ed0-7c3fb8a39a10"
   },
   "outputs": [],
   "source": [
    "# drop NaN, Price, URL, and assign to df1\n",
    "def metric_deletion(x):\n",
    "    x.dropna(axis='rows',inplace=True)\n",
    "    x = x[x.Bedrooms != '-- bds']\n",
    "    x = x[x.Bathrooms != '-- ba']\n",
    "    x = x[x.Size != '-- sqft']\n",
    "    x.drop(['URL', 'Price'], axis=1,inplace=True)\n",
    "    return x\n",
    "df1 = metric_deletion(df)\n",
    "df1.head()"
   ]
  },
  {
   "cell_type": "code",
   "execution_count": null,
   "metadata": {},
   "outputs": [],
   "source": [
    "# Converting Bathrooms into float\n",
    "df1.Bathrooms = df1.Bathrooms.str.replace(' ba','').astype('float')\n",
    "# Converting Bedrooms into float\n",
    "df1.Bedrooms = df1.Bedrooms.str.replace(' bds','').astype('float')"
   ]
  },
  {
   "cell_type": "code",
   "execution_count": null,
   "metadata": {},
   "outputs": [],
   "source": [
    "# Converting Size to float\n",
    "def filt_size(s):\n",
    "    s= s.replace(',','')\n",
    "    s =s.replace(' sqft','')\n",
    "    return float(s)\n",
    "df1.Size = df1.Size.apply(filt_size)"
   ]
  },
  {
   "cell_type": "code",
   "execution_count": null,
   "metadata": {},
   "outputs": [],
   "source": [
    "# Spliting Address into Street, City, State, ZipCode, and drop the Address\n",
    "df1.Address = df1.Address.astype('str')\n",
    "df1['Street']= df1.Address.apply(lambda x: x.split(', ')[0])\n",
    "df1['City']= df1.Address.apply(lambda x: x.split(', ')[1])\n",
    "df1['State']= df1.Address.apply(lambda x: (x.split(', ')[-1]).split(' ')[0])\n",
    "df1['ZipCode']= df1.Address.apply(lambda x: (x.split(', ')[-1]).split(' ')[1])\n",
    "df2 = df1.drop(['Address'],axis=1)\n"
   ]
  },
  {
   "cell_type": "code",
   "execution_count": null,
   "metadata": {
    "id": "Fb8p51QWUbdO"
   },
   "outputs": [],
   "source": [
    "#reset the index\n",
    "df2.reset_index(inplace=True,drop=True)"
   ]
  },
  {
   "cell_type": "code",
   "execution_count": null,
   "metadata": {},
   "outputs": [],
   "source": [
    "# Found two rows of abnormal values, so found exact address on google and replace with the right values\n",
    "df2.loc[28709:28711, 'State']= 'AZ'\n",
    "df2.loc[28709:28711, 'ZipCode']= '85260'"
   ]
  },
  {
   "cell_type": "code",
   "execution_count": null,
   "metadata": {
    "colab": {
     "base_uri": "https://localhost:8080/",
     "height": 111
    },
    "id": "zsemoyUgvD5m",
    "outputId": "948e5f14-7b40-432b-b2c0-6b3cded672a4"
   },
   "outputs": [],
   "source": [
    "# Converting the columns as strings for further cleaning\n",
    "df2[['Street','City','State','ZipCode']].astype('str')"
   ]
  },
  {
   "cell_type": "code",
   "execution_count": null,
   "metadata": {
    "colab": {
     "base_uri": "https://localhost:8080/",
     "height": 80
    },
    "id": "DtBbJbvV2wwS",
    "outputId": "0a41ad91-e579-4d50-cebc-1657d805cf3f"
   },
   "outputs": [],
   "source": [
    "# Finding the weird ZipCode, it is in Canada\n",
    "df2.loc[df2.ZipCode == 'N9V']"
   ]
  },
  {
   "cell_type": "code",
   "execution_count": null,
   "metadata": {
    "id": "g1RSybHP4PN0"
   },
   "outputs": [],
   "source": [
    "# Dropping the row\n",
    "df2.drop(df2.iloc[38379].name,inplace=True)"
   ]
  },
  {
   "cell_type": "code",
   "execution_count": null,
   "metadata": {
    "id": "CXdEwU3W2_Ov"
   },
   "outputs": [],
   "source": [
    "# Now the ZipCode can be converted to Integer\n",
    "df2.ZipCode = df2.ZipCode.astype('int')\n"
   ]
  },
  {
   "cell_type": "code",
   "execution_count": null,
   "metadata": {
    "id": "SWDq2PwO4muc"
   },
   "outputs": [],
   "source": [
    "#convert Sale Status into house Types\n",
    "house_status = list(df2['Sale Status'].unique())\n",
    "house_type = ['House','Townhouse','Multifamily', 'Condo', 'Others', 'Apartment']\n",
    "df2['Sale Status'] = df2['Sale Status'].map(dict(zip(house_status,house_type)))\n",
    "df2.rename(columns={\"Sale Status\": \"Type\"}, inplace=True)\n"
   ]
  },
  {
   "cell_type": "code",
   "execution_count": null,
   "metadata": {
    "id": "k9xFvxGV6CWZ"
   },
   "outputs": [],
   "source": [
    "# Street Column might not be useful\n",
    "df3 = df2.drop(['Street'], axis=1)"
   ]
  },
  {
   "cell_type": "code",
   "execution_count": null,
   "metadata": {
    "id": "T8qiSln78G2l"
   },
   "outputs": [],
   "source": [
    "# Change Raw Price column name to Price, create perSqft column\n",
    "df3.rename(columns={\"Raw Price\":\"Price\"}, inplace=True)\n",
    "df3['perSqFt'] = df3.Price / df3.Size"
   ]
  },
  {
   "cell_type": "code",
   "execution_count": null,
   "metadata": {
    "id": "6e8QfTFRK9OD"
   },
   "outputs": [],
   "source": [
    "# Due to previously dropping rows, reset index again\n",
    "df3 = df3.reset_index(drop=True)\n"
   ]
  },
  {
   "cell_type": "code",
   "execution_count": null,
   "metadata": {
    "id": "SK3WvveV81GL"
   },
   "outputs": [],
   "source": [
    "# Assign Regions\n",
    "west = ['CA', 'NV', 'AK', 'WA' , 'OR', 'ID', 'MT', 'WY', 'UT', 'CO', 'AZ', 'NM', 'HI']\n",
    "midwest = ['ND', 'WI','SD', 'NE', 'KS', 'MN', 'IA', 'MO', 'WI', 'IL', 'IN', 'OH','MI']\n",
    "north = ['PA', 'NY', 'NH', 'MA', 'CT', 'ME', 'DC', 'NJ', 'RI']\n",
    "south = ['TX', 'OK', 'AR', 'LA', 'MS', 'AL', 'TN', 'KY', 'WV', 'VA', 'MD', 'DE', 'NC', 'SC', 'GA', 'FL']\n",
    "full_state_list = west + midwest + north + south\n",
    "\n",
    "# Creating function to assign regions\n",
    "def find_region(state):\n",
    "    if state in west:\n",
    "        state = 'West'\n",
    "    elif state in north:\n",
    "        state = 'North'\n",
    "    elif state in south:\n",
    "        state = 'South'\n",
    "    elif state in midwest:\n",
    "        state = 'MidWest'\n",
    "    return state\n",
    "\n",
    "# Create Region column\n",
    "df3['Region'] = df3.State.apply(find_region)"
   ]
  },
  {
   "cell_type": "code",
   "execution_count": null,
   "metadata": {},
   "outputs": [],
   "source": [
    "df3.head()"
   ]
  },
  {
   "cell_type": "code",
   "execution_count": null,
   "metadata": {},
   "outputs": [],
   "source": [
    "#created a function that finds states with not enough data to produce analysis\n",
    "def little_data_states(tab):\n",
    "    little_info_state = []\n",
    "    for x in full_state_list:\n",
    "        if len(tab[tab['State'] == x]) < 30:\n",
    "            little_info_state.append(x)\n",
    "    return little_info_state\n",
    "\n",
    "states_exempted= little_data_states(df3)\n",
    "        "
   ]
  },
  {
   "cell_type": "code",
   "execution_count": null,
   "metadata": {},
   "outputs": [],
   "source": [
    "#created a new dataframe that would filter out these states from the df3 dataframe\n",
    "df4 = df3[~df3['State'].isin(states_exempted)]\n",
    "df4.head()"
   ]
  },
  {
   "cell_type": "code",
   "execution_count": null,
   "metadata": {},
   "outputs": [],
   "source": [
    "pd.set_option('display.float_format', '{:.2f}'.format)\n",
    "pd.pivot_table(df4, values=['perSqFt'], index=['State'])\n"
   ]
  },
  {
   "cell_type": "code",
   "execution_count": null,
   "metadata": {},
   "outputs": [],
   "source": [
    "'''\n",
    "NOT WORKING CORRECTLY\n",
    "\n",
    "\n",
    "data = dict(type = 'choropleth',colorscale='Portland',locations=df3['State'],locationmode='USA-states', z=df3['Price'],text=df3['Price'], colorbar={'title':'perSqFt'})\n",
    "choromap = go.Figure(data = [data],layout = dict(geo = {'scope':'usa'}))\n",
    "\n",
    "iplot(choromap,validate=False)\n",
    "'''"
   ]
  },
  {
   "cell_type": "code",
   "execution_count": null,
   "metadata": {},
   "outputs": [],
   "source": []
  },
  {
   "cell_type": "code",
   "execution_count": null,
   "metadata": {},
   "outputs": [],
   "source": [
    "# for GeoPandas later use\n",
    "# df2 = df2[df2['ZipCode'].between(10000,99999,inclusive='both')]"
   ]
  },
  {
   "cell_type": "code",
   "execution_count": null,
   "metadata": {},
   "outputs": [],
   "source": []
  }
 ],
 "metadata": {
  "colab": {
   "collapsed_sections": [],
   "name": "CIS41_Project.ipynb",
   "provenance": []
  },
  "interpreter": {
   "hash": "2a219f50ae6e4d2e432130f28e81363ede642331b2659a62c1883e4ba3d3bbc9"
  },
  "kernelspec": {
   "display_name": "Python 3.9.7 64-bit ('env_win': venv)",
   "name": "python3"
  },
  "language_info": {
   "codemirror_mode": {
    "name": "ipython",
    "version": 3
   },
   "file_extension": ".py",
   "mimetype": "text/x-python",
   "name": "python",
   "nbconvert_exporter": "python",
   "pygments_lexer": "ipython3",
   "version": "3.9.7"
  }
 },
 "nbformat": 4,
 "nbformat_minor": 1
}
