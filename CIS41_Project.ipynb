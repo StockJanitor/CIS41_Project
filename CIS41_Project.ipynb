{
 "cells": [
  {
   "cell_type": "markdown",
   "metadata": {},
   "source": [
    "### Topic: Correlation between Economics and Real Estate"
   ]
  },
  {
   "cell_type": "markdown",
   "metadata": {},
   "source": [
    "\n",
    "<ul>\n",
    "<li>College: Mt San Antonio College</li>\n",
    "<li>Course: CISD41 Introduction to Data Science</li>\n",
    "<li>by: Alec Phong and Jack Chen</li>\n",
    "<br>\n",
    "<br>\n"
   ]
  },
  {
   "cell_type": "markdown",
   "metadata": {},
   "source": [
    "### Overview"
   ]
  },
  {
   "cell_type": "markdown",
   "metadata": {},
   "source": [
    "\n",
    "<ol>\n",
    "<li>Questions</li>\n",
    "<li>Importing Data</li>\n",
    "<ul><li>Importing Libraries, Loading Data, Reading Data</li></ul>\n",
    "<ul><li>Functions, Lambda, and Cleaning</li></ul>\n",
    "<ul><li>Organizing Sub-Datasets</li></ul>\n",
    "<ul><li>Merge Sub-Datasets and create House_df</li></ul>\n",
    "<li>Data Visualization</li>\n",
    "<ul><li>Pivot Tables and Groupby Table</li></ul>\n",
    "<ul><li>Additional Cleaning and Organizing to create State_df</li></ul>\n",
    "<ul><li>Visualizations</li></ul>\n",
    "<li>Quantitative Data Exploratory</li>\n",
    "<ul><li>Correlation, Coefficients, P-values</li></ul>\n",
    "<li>Testing Hypothesis, ANOVA</li>\n",
    "<ul><li>Chisquare, ANOVA, Normal-test, Z-test, Pearson Correlation</li></ul>\n",
    "<li>Summary and Conclusion</li>\n",
    "<li>References</li>\n",
    "</ol>"
   ]
  },
  {
   "cell_type": "markdown",
   "metadata": {},
   "source": [
    "### Questions"
   ]
  },
  {
   "cell_type": "markdown",
   "metadata": {},
   "source": [
    "### Cleaning Data"
   ]
  },
  {
   "cell_type": "markdown",
   "metadata": {},
   "source": [
    "#### Importing Libraries, Loading Data, Reading Data"
   ]
  },
  {
   "cell_type": "code",
   "execution_count": 575,
   "metadata": {
    "colab": {
     "base_uri": "https://localhost:8080/"
    },
    "id": "28JO-ghYfEq-",
    "outputId": "9bafd72f-5223-4fe8-d1c7-8fefe95e46bd"
   },
   "outputs": [
    {
     "data": {
      "text/html": [
       "        <script type=\"text/javascript\">\n",
       "        window.PlotlyConfig = {MathJaxConfig: 'local'};\n",
       "        if (window.MathJax) {MathJax.Hub.Config({SVG: {font: \"STIX-Web\"}});}\n",
       "        if (typeof require !== 'undefined') {\n",
       "        require.undef(\"plotly\");\n",
       "        requirejs.config({\n",
       "            paths: {\n",
       "                'plotly': ['https://cdn.plot.ly/plotly-2.4.2.min']\n",
       "            }\n",
       "        });\n",
       "        require(['plotly'], function(Plotly) {\n",
       "            window._Plotly = Plotly;\n",
       "        });\n",
       "        }\n",
       "        </script>\n",
       "        "
      ]
     },
     "metadata": {},
     "output_type": "display_data"
    }
   ],
   "source": [
    "# Import modules\n",
    "import pandas as pd\n",
    "import numpy as np\n",
    "import seaborn as sns\n",
    "import matplotlib.pyplot as plt\n",
    "import plotly.graph_objs as go \n",
    "from plotly.offline import init_notebook_mode,iplot\n",
    "import scipy.stats as st\n",
    "%matplotlib inline\n",
    "\n",
    "# filter warnings\n",
    "import warnings\n",
    "warnings.filterwarnings(\"ignore\", category=FutureWarning)\n",
    "\n",
    "init_notebook_mode(connected=True)"
   ]
  },
  {
   "cell_type": "code",
   "execution_count": 576,
   "metadata": {
    "id": "JhpeYrXUpRA-"
   },
   "outputs": [],
   "source": [
    "# Loading Data\n",
    "df = pd.read_csv('data/data_house.csv')                     # our main data for housing\n",
    "\n",
    "spending_df = pd.read_csv('data/data_spending.csv')         # need 1 column of spending per state\n",
    "gdp_df = pd.read_csv('data/data_gdp.csv')                   # need 1 column of gdp per state\n",
    "population_df = pd.read_csv('data/data_population.csv')     # need 1 column of population per state\n",
    "income_df = pd.read_csv('data/data_income.csv')             # need 1 column of income per state\n"
   ]
  },
  {
   "cell_type": "code",
   "execution_count": 577,
   "metadata": {},
   "outputs": [
    {
     "data": {
      "text/plain": [
       "(85509, 8)"
      ]
     },
     "execution_count": 577,
     "metadata": {},
     "output_type": "execute_result"
    }
   ],
   "source": [
    "df.shape"
   ]
  },
  {
   "cell_type": "code",
   "execution_count": 578,
   "metadata": {
    "colab": {
     "base_uri": "https://localhost:8080/",
     "height": 459
    },
    "id": "5dHw0pr4rQpK",
    "outputId": "fb955d50-819b-4f8c-ac92-e4d7667cd4fa"
   },
   "outputs": [
    {
     "name": "stdout",
     "output_type": "stream",
     "text": [
      "<class 'pandas.core.frame.DataFrame'>\n",
      "RangeIndex: 85509 entries, 0 to 85508\n",
      "Data columns (total 8 columns):\n",
      " #   Column       Non-Null Count  Dtype  \n",
      "---  ------       --------------  -----  \n",
      " 0   Price        85509 non-null  object \n",
      " 1   Address      85509 non-null  object \n",
      " 2   Bedrooms     64999 non-null  object \n",
      " 3   Bathrooms    69439 non-null  object \n",
      " 4   Size         73698 non-null  object \n",
      " 5   Sale Status  69960 non-null  object \n",
      " 6   URL          85509 non-null  object \n",
      " 7   Raw Price    85509 non-null  float64\n",
      "dtypes: float64(1), object(7)\n",
      "memory usage: 5.2+ MB\n"
     ]
    },
    {
     "data": {
      "text/html": [
       "<div>\n",
       "<style scoped>\n",
       "    .dataframe tbody tr th:only-of-type {\n",
       "        vertical-align: middle;\n",
       "    }\n",
       "\n",
       "    .dataframe tbody tr th {\n",
       "        vertical-align: top;\n",
       "    }\n",
       "\n",
       "    .dataframe thead th {\n",
       "        text-align: right;\n",
       "    }\n",
       "</style>\n",
       "<table border=\"1\" class=\"dataframe\">\n",
       "  <thead>\n",
       "    <tr style=\"text-align: right;\">\n",
       "      <th></th>\n",
       "      <th>Price</th>\n",
       "      <th>Address</th>\n",
       "      <th>Bedrooms</th>\n",
       "      <th>Bathrooms</th>\n",
       "      <th>Size</th>\n",
       "      <th>Sale Status</th>\n",
       "      <th>URL</th>\n",
       "      <th>Raw Price</th>\n",
       "    </tr>\n",
       "  </thead>\n",
       "  <tbody>\n",
       "    <tr>\n",
       "      <th>85504</th>\n",
       "      <td>$79,000,000</td>\n",
       "      <td>2 Park Pl, New York, NY 10007</td>\n",
       "      <td>NaN</td>\n",
       "      <td>1 ba</td>\n",
       "      <td>9,680 sqft</td>\n",
       "      <td>Condo for sale</td>\n",
       "      <td>https://www.zillow.com/homedetails/2-Park-Pl-N...</td>\n",
       "      <td>79000000.00</td>\n",
       "    </tr>\n",
       "    <tr>\n",
       "      <th>85505</th>\n",
       "      <td>$90,000,000</td>\n",
       "      <td>432 Park Ave #82, New York, NY 10022</td>\n",
       "      <td>6 bds</td>\n",
       "      <td>8 ba</td>\n",
       "      <td>8,054 sqft</td>\n",
       "      <td>Condo for sale</td>\n",
       "      <td>https://www.zillow.com/homedetails/432-Park-Av...</td>\n",
       "      <td>90000000.00</td>\n",
       "    </tr>\n",
       "    <tr>\n",
       "      <th>85506</th>\n",
       "      <td>$95,000,000</td>\n",
       "      <td>1441 Angelo Dr, Los Angeles, CA 90210</td>\n",
       "      <td>NaN</td>\n",
       "      <td>NaN</td>\n",
       "      <td>NaN</td>\n",
       "      <td>Lot / Land for sale</td>\n",
       "      <td>https://www.zillow.com/homedetails/1441-Angelo...</td>\n",
       "      <td>95000000.00</td>\n",
       "    </tr>\n",
       "    <tr>\n",
       "      <th>85507</th>\n",
       "      <td>$99,000,000</td>\n",
       "      <td>908 Bel Air Rd, Los Angeles, CA 90077</td>\n",
       "      <td>9 bds</td>\n",
       "      <td>20 ba</td>\n",
       "      <td>34,000 sqft</td>\n",
       "      <td>House for sale</td>\n",
       "      <td>https://www.zillow.com/homedetails/908-Bel-Air...</td>\n",
       "      <td>99000000.00</td>\n",
       "    </tr>\n",
       "    <tr>\n",
       "      <th>85508</th>\n",
       "      <td>$110,000,000</td>\n",
       "      <td>30 Beverly Park Ter, Beverly Hills, CA 90210</td>\n",
       "      <td>8 bds</td>\n",
       "      <td>12 ba</td>\n",
       "      <td>-- sqft</td>\n",
       "      <td>House for sale</td>\n",
       "      <td>https://www.zillow.com/homedetails/30-Beverly-...</td>\n",
       "      <td>110000000.00</td>\n",
       "    </tr>\n",
       "  </tbody>\n",
       "</table>\n",
       "</div>"
      ],
      "text/plain": [
       "              Price                                       Address Bedrooms  \\\n",
       "85504   $79,000,000                 2 Park Pl, New York, NY 10007      NaN   \n",
       "85505   $90,000,000          432 Park Ave #82, New York, NY 10022    6 bds   \n",
       "85506   $95,000,000         1441 Angelo Dr, Los Angeles, CA 90210      NaN   \n",
       "85507   $99,000,000         908 Bel Air Rd, Los Angeles, CA 90077    9 bds   \n",
       "85508  $110,000,000  30 Beverly Park Ter, Beverly Hills, CA 90210    8 bds   \n",
       "\n",
       "      Bathrooms         Size          Sale Status  \\\n",
       "85504      1 ba   9,680 sqft       Condo for sale   \n",
       "85505      8 ba   8,054 sqft       Condo for sale   \n",
       "85506       NaN          NaN  Lot / Land for sale   \n",
       "85507     20 ba  34,000 sqft       House for sale   \n",
       "85508     12 ba      -- sqft       House for sale   \n",
       "\n",
       "                                                     URL    Raw Price  \n",
       "85504  https://www.zillow.com/homedetails/2-Park-Pl-N...  79000000.00  \n",
       "85505  https://www.zillow.com/homedetails/432-Park-Av...  90000000.00  \n",
       "85506  https://www.zillow.com/homedetails/1441-Angelo...  95000000.00  \n",
       "85507  https://www.zillow.com/homedetails/908-Bel-Air...  99000000.00  \n",
       "85508  https://www.zillow.com/homedetails/30-Beverly-... 110000000.00  "
      ]
     },
     "execution_count": 578,
     "metadata": {},
     "output_type": "execute_result"
    }
   ],
   "source": [
    "# Reading the housing data\n",
    "df.info()\n",
    "df.tail()"
   ]
  },
  {
   "cell_type": "code",
   "execution_count": 579,
   "metadata": {},
   "outputs": [
    {
     "data": {
      "text/html": [
       "<div>\n",
       "<style scoped>\n",
       "    .dataframe tbody tr th:only-of-type {\n",
       "        vertical-align: middle;\n",
       "    }\n",
       "\n",
       "    .dataframe tbody tr th {\n",
       "        vertical-align: top;\n",
       "    }\n",
       "\n",
       "    .dataframe thead th {\n",
       "        text-align: right;\n",
       "    }\n",
       "</style>\n",
       "<table border=\"1\" class=\"dataframe\">\n",
       "  <thead>\n",
       "    <tr style=\"text-align: right;\">\n",
       "      <th></th>\n",
       "      <th>Price</th>\n",
       "      <th>Address</th>\n",
       "      <th>Bedrooms</th>\n",
       "      <th>Bathrooms</th>\n",
       "      <th>Size</th>\n",
       "      <th>Sale Status</th>\n",
       "      <th>URL</th>\n",
       "      <th>Raw Price</th>\n",
       "    </tr>\n",
       "  </thead>\n",
       "  <tbody>\n",
       "    <tr>\n",
       "      <th>0</th>\n",
       "      <td>$1</td>\n",
       "      <td>Airpark N, Loveland, CO 80538</td>\n",
       "      <td>NaN</td>\n",
       "      <td>NaN</td>\n",
       "      <td>NaN</td>\n",
       "      <td>Lot / Land for sale</td>\n",
       "      <td>https://www.zillow.com/homedetails/Airpark-N-L...</td>\n",
       "      <td>1.00</td>\n",
       "    </tr>\n",
       "    <tr>\n",
       "      <th>1</th>\n",
       "      <td>$1</td>\n",
       "      <td>2940 W Sunset Ave, Springdale, AR 72762</td>\n",
       "      <td>NaN</td>\n",
       "      <td>NaN</td>\n",
       "      <td>NaN</td>\n",
       "      <td>Lot / Land for sale</td>\n",
       "      <td>https://www.zillow.com/homedetails/2940-W-Suns...</td>\n",
       "      <td>1.00</td>\n",
       "    </tr>\n",
       "    <tr>\n",
       "      <th>2</th>\n",
       "      <td>$1</td>\n",
       "      <td>2392 SE Fruit Ave, Port Saint Lucie, FL 34952</td>\n",
       "      <td>3 bds</td>\n",
       "      <td>2 ba</td>\n",
       "      <td>1,649 sqft</td>\n",
       "      <td>NaN</td>\n",
       "      <td>https://www.zillow.com/homedetails/2392-SE-Fru...</td>\n",
       "      <td>1.00</td>\n",
       "    </tr>\n",
       "    <tr>\n",
       "      <th>3</th>\n",
       "      <td>$1</td>\n",
       "      <td>0 SW 38th Ter, Gainesville, FL 32605</td>\n",
       "      <td>NaN</td>\n",
       "      <td>NaN</td>\n",
       "      <td>NaN</td>\n",
       "      <td>Lot / Land for sale</td>\n",
       "      <td>https://www.zillow.com/homedetails/0-SW-38th-T...</td>\n",
       "      <td>1.00</td>\n",
       "    </tr>\n",
       "    <tr>\n",
       "      <th>4</th>\n",
       "      <td>$1</td>\n",
       "      <td>75th St NW, Rochester, MN 55901</td>\n",
       "      <td>NaN</td>\n",
       "      <td>NaN</td>\n",
       "      <td>NaN</td>\n",
       "      <td>NaN</td>\n",
       "      <td>https://www.zillow.com/homedetails/75th-St-NW-...</td>\n",
       "      <td>1.00</td>\n",
       "    </tr>\n",
       "  </tbody>\n",
       "</table>\n",
       "</div>"
      ],
      "text/plain": [
       "  Price                                        Address Bedrooms Bathrooms  \\\n",
       "0    $1                  Airpark N, Loveland, CO 80538      NaN       NaN   \n",
       "1    $1        2940 W Sunset Ave, Springdale, AR 72762      NaN       NaN   \n",
       "2    $1  2392 SE Fruit Ave, Port Saint Lucie, FL 34952    3 bds      2 ba   \n",
       "3    $1           0 SW 38th Ter, Gainesville, FL 32605      NaN       NaN   \n",
       "4    $1                75th St NW, Rochester, MN 55901      NaN       NaN   \n",
       "\n",
       "         Size          Sale Status  \\\n",
       "0         NaN  Lot / Land for sale   \n",
       "1         NaN  Lot / Land for sale   \n",
       "2  1,649 sqft                  NaN   \n",
       "3         NaN  Lot / Land for sale   \n",
       "4         NaN                  NaN   \n",
       "\n",
       "                                                 URL  Raw Price  \n",
       "0  https://www.zillow.com/homedetails/Airpark-N-L...       1.00  \n",
       "1  https://www.zillow.com/homedetails/2940-W-Suns...       1.00  \n",
       "2  https://www.zillow.com/homedetails/2392-SE-Fru...       1.00  \n",
       "3  https://www.zillow.com/homedetails/0-SW-38th-T...       1.00  \n",
       "4  https://www.zillow.com/homedetails/75th-St-NW-...       1.00  "
      ]
     },
     "execution_count": 579,
     "metadata": {},
     "output_type": "execute_result"
    }
   ],
   "source": [
    "df.head()"
   ]
  },
  {
   "cell_type": "markdown",
   "metadata": {},
   "source": [
    "#### Functions, Lambda, and Cleaning"
   ]
  },
  {
   "cell_type": "code",
   "execution_count": 580,
   "metadata": {
    "colab": {
     "base_uri": "https://localhost:8080/",
     "height": 204
    },
    "id": "xSFA0CB_pvyD",
    "outputId": "819cd86a-5d1d-4fda-9ed0-7c3fb8a39a10"
   },
   "outputs": [
    {
     "data": {
      "text/html": [
       "<div>\n",
       "<style scoped>\n",
       "    .dataframe tbody tr th:only-of-type {\n",
       "        vertical-align: middle;\n",
       "    }\n",
       "\n",
       "    .dataframe tbody tr th {\n",
       "        vertical-align: top;\n",
       "    }\n",
       "\n",
       "    .dataframe thead th {\n",
       "        text-align: right;\n",
       "    }\n",
       "</style>\n",
       "<table border=\"1\" class=\"dataframe\">\n",
       "  <thead>\n",
       "    <tr style=\"text-align: right;\">\n",
       "      <th></th>\n",
       "      <th>Address</th>\n",
       "      <th>Bedrooms</th>\n",
       "      <th>Bathrooms</th>\n",
       "      <th>Size</th>\n",
       "      <th>Sale Status</th>\n",
       "      <th>Raw Price</th>\n",
       "    </tr>\n",
       "  </thead>\n",
       "  <tbody>\n",
       "    <tr>\n",
       "      <th>5</th>\n",
       "      <td>3515 W Thompson Rd, Indianapolis, IN 46217</td>\n",
       "      <td>2 bds</td>\n",
       "      <td>1 ba</td>\n",
       "      <td>814 sqft</td>\n",
       "      <td>House for sale</td>\n",
       "      <td>1.00</td>\n",
       "    </tr>\n",
       "    <tr>\n",
       "      <th>53</th>\n",
       "      <td>3713 Hillside Ave, Indianapolis, IN 46218</td>\n",
       "      <td>2 bds</td>\n",
       "      <td>1 ba</td>\n",
       "      <td>1,728 sqft</td>\n",
       "      <td>House for sale</td>\n",
       "      <td>775.00</td>\n",
       "    </tr>\n",
       "    <tr>\n",
       "      <th>65</th>\n",
       "      <td>1337 W Livingston St APT 1, Allentown, PA 18102</td>\n",
       "      <td>3 bds</td>\n",
       "      <td>1 ba</td>\n",
       "      <td>1,000 sqft</td>\n",
       "      <td>House for sale</td>\n",
       "      <td>1050.00</td>\n",
       "    </tr>\n",
       "    <tr>\n",
       "      <th>70</th>\n",
       "      <td>1788 Westwood Dr, Troy, MI 48083</td>\n",
       "      <td>3 bds</td>\n",
       "      <td>2 ba</td>\n",
       "      <td>1,418 sqft</td>\n",
       "      <td>House for sale</td>\n",
       "      <td>1600.00</td>\n",
       "    </tr>\n",
       "    <tr>\n",
       "      <th>72</th>\n",
       "      <td>390 Rosado Springs St, Henderson, NV 89014</td>\n",
       "      <td>2 bds</td>\n",
       "      <td>2 ba</td>\n",
       "      <td>1,060 sqft</td>\n",
       "      <td>Townhouse for sale</td>\n",
       "      <td>1700.00</td>\n",
       "    </tr>\n",
       "  </tbody>\n",
       "</table>\n",
       "</div>"
      ],
      "text/plain": [
       "                                            Address Bedrooms Bathrooms  \\\n",
       "5        3515 W Thompson Rd, Indianapolis, IN 46217    2 bds      1 ba   \n",
       "53        3713 Hillside Ave, Indianapolis, IN 46218    2 bds      1 ba   \n",
       "65  1337 W Livingston St APT 1, Allentown, PA 18102    3 bds      1 ba   \n",
       "70                 1788 Westwood Dr, Troy, MI 48083    3 bds      2 ba   \n",
       "72       390 Rosado Springs St, Henderson, NV 89014    2 bds      2 ba   \n",
       "\n",
       "          Size         Sale Status  Raw Price  \n",
       "5     814 sqft      House for sale       1.00  \n",
       "53  1,728 sqft      House for sale     775.00  \n",
       "65  1,000 sqft      House for sale    1050.00  \n",
       "70  1,418 sqft      House for sale    1600.00  \n",
       "72  1,060 sqft  Townhouse for sale    1700.00  "
      ]
     },
     "execution_count": 580,
     "metadata": {},
     "output_type": "execute_result"
    }
   ],
   "source": [
    "# Function #1\n",
    "# drop NaN, Price, URL, and assign to df1\n",
    "def metric_deletion(x):\n",
    "    x.dropna(axis='rows',inplace=True)\n",
    "    x = x[x.Bedrooms != '-- bds']\n",
    "    x = x[x.Bathrooms != '-- ba']\n",
    "    x = x[x.Size != '-- sqft']\n",
    "    x.drop(['URL', 'Price'], axis=1,inplace=True)\n",
    "    return x\n",
    "df1 = metric_deletion(df)\n",
    "df1.head()"
   ]
  },
  {
   "cell_type": "code",
   "execution_count": 581,
   "metadata": {},
   "outputs": [],
   "source": [
    "# Converting Bathrooms into float\n",
    "df1.Bathrooms = df1.Bathrooms.str.replace(' ba','').astype('float')\n",
    "# Converting Bedrooms into float\n",
    "df1.Bedrooms = df1.Bedrooms.str.replace(' bds','').astype('float')"
   ]
  },
  {
   "cell_type": "code",
   "execution_count": 582,
   "metadata": {},
   "outputs": [],
   "source": [
    "# Function #2\n",
    "# Converting Size to float\n",
    "def filt_size(s):\n",
    "    s= s.replace(',','')\n",
    "    s =s.replace(' sqft','')\n",
    "    return float(s)\n",
    "df1.Size = df1.Size.apply(filt_size)"
   ]
  },
  {
   "cell_type": "code",
   "execution_count": 583,
   "metadata": {},
   "outputs": [
    {
     "data": {
      "text/html": [
       "<div>\n",
       "<style scoped>\n",
       "    .dataframe tbody tr th:only-of-type {\n",
       "        vertical-align: middle;\n",
       "    }\n",
       "\n",
       "    .dataframe tbody tr th {\n",
       "        vertical-align: top;\n",
       "    }\n",
       "\n",
       "    .dataframe thead th {\n",
       "        text-align: right;\n",
       "    }\n",
       "</style>\n",
       "<table border=\"1\" class=\"dataframe\">\n",
       "  <thead>\n",
       "    <tr style=\"text-align: right;\">\n",
       "      <th></th>\n",
       "      <th>Bedrooms</th>\n",
       "      <th>Bathrooms</th>\n",
       "      <th>Size</th>\n",
       "      <th>Sale Status</th>\n",
       "      <th>Raw Price</th>\n",
       "      <th>Street</th>\n",
       "      <th>City</th>\n",
       "      <th>State</th>\n",
       "      <th>ZipCode</th>\n",
       "    </tr>\n",
       "  </thead>\n",
       "  <tbody>\n",
       "    <tr>\n",
       "      <th>0</th>\n",
       "      <td>2.00</td>\n",
       "      <td>1.00</td>\n",
       "      <td>814.00</td>\n",
       "      <td>House for sale</td>\n",
       "      <td>1.00</td>\n",
       "      <td>3515 W Thompson Rd</td>\n",
       "      <td>Indianapolis</td>\n",
       "      <td>IN</td>\n",
       "      <td>46217</td>\n",
       "    </tr>\n",
       "    <tr>\n",
       "      <th>1</th>\n",
       "      <td>2.00</td>\n",
       "      <td>1.00</td>\n",
       "      <td>1728.00</td>\n",
       "      <td>House for sale</td>\n",
       "      <td>775.00</td>\n",
       "      <td>3713 Hillside Ave</td>\n",
       "      <td>Indianapolis</td>\n",
       "      <td>IN</td>\n",
       "      <td>46218</td>\n",
       "    </tr>\n",
       "    <tr>\n",
       "      <th>2</th>\n",
       "      <td>3.00</td>\n",
       "      <td>1.00</td>\n",
       "      <td>1000.00</td>\n",
       "      <td>House for sale</td>\n",
       "      <td>1050.00</td>\n",
       "      <td>1337 W Livingston St APT 1</td>\n",
       "      <td>Allentown</td>\n",
       "      <td>PA</td>\n",
       "      <td>18102</td>\n",
       "    </tr>\n",
       "    <tr>\n",
       "      <th>3</th>\n",
       "      <td>3.00</td>\n",
       "      <td>2.00</td>\n",
       "      <td>1418.00</td>\n",
       "      <td>House for sale</td>\n",
       "      <td>1600.00</td>\n",
       "      <td>1788 Westwood Dr</td>\n",
       "      <td>Troy</td>\n",
       "      <td>MI</td>\n",
       "      <td>48083</td>\n",
       "    </tr>\n",
       "    <tr>\n",
       "      <th>4</th>\n",
       "      <td>2.00</td>\n",
       "      <td>2.00</td>\n",
       "      <td>1060.00</td>\n",
       "      <td>Townhouse for sale</td>\n",
       "      <td>1700.00</td>\n",
       "      <td>390 Rosado Springs St</td>\n",
       "      <td>Henderson</td>\n",
       "      <td>NV</td>\n",
       "      <td>89014</td>\n",
       "    </tr>\n",
       "  </tbody>\n",
       "</table>\n",
       "</div>"
      ],
      "text/plain": [
       "   Bedrooms  Bathrooms    Size         Sale Status  Raw Price  \\\n",
       "0      2.00       1.00  814.00      House for sale       1.00   \n",
       "1      2.00       1.00 1728.00      House for sale     775.00   \n",
       "2      3.00       1.00 1000.00      House for sale    1050.00   \n",
       "3      3.00       2.00 1418.00      House for sale    1600.00   \n",
       "4      2.00       2.00 1060.00  Townhouse for sale    1700.00   \n",
       "\n",
       "                       Street          City State ZipCode  \n",
       "0          3515 W Thompson Rd  Indianapolis    IN   46217  \n",
       "1           3713 Hillside Ave  Indianapolis    IN   46218  \n",
       "2  1337 W Livingston St APT 1     Allentown    PA   18102  \n",
       "3            1788 Westwood Dr          Troy    MI   48083  \n",
       "4       390 Rosado Springs St     Henderson    NV   89014  "
      ]
     },
     "execution_count": 583,
     "metadata": {},
     "output_type": "execute_result"
    }
   ],
   "source": [
    "# Spliting Address into Street, City, State, ZipCode, and drop the Address\n",
    "df1.Address = df1.Address.astype('str')\n",
    "df1['Street']= df1.Address.apply(lambda x: x.split(', ')[0])\n",
    "df1['City']= df1.Address.apply(lambda x: x.split(', ')[1])\n",
    "df1['State']= df1.Address.apply(lambda x: (x.split(', ')[-1]).split(' ')[0])\n",
    "df1['ZipCode']= df1.Address.apply(lambda x: (x.split(', ')[-1]).split(' ')[1])\n",
    "# Assign to df2\n",
    "df2 = df1.drop(['Address'],axis=1)\n",
    "# Reset the index\n",
    "df2.reset_index(inplace=True,drop=True)\n",
    "df2.head()\n"
   ]
  },
  {
   "cell_type": "code",
   "execution_count": 584,
   "metadata": {},
   "outputs": [],
   "source": [
    "# Found two rows of abnormal values, so found exact address on google and replace with the right values\n",
    "df2.loc[28709:28711, 'State']= 'AZ'\n",
    "df2.loc[28709:28711, 'ZipCode']= '85260'"
   ]
  },
  {
   "cell_type": "code",
   "execution_count": 585,
   "metadata": {
    "colab": {
     "base_uri": "https://localhost:8080/",
     "height": 111
    },
    "id": "zsemoyUgvD5m",
    "outputId": "948e5f14-7b40-432b-b2c0-6b3cded672a4"
   },
   "outputs": [
    {
     "data": {
      "text/html": [
       "<div>\n",
       "<style scoped>\n",
       "    .dataframe tbody tr th:only-of-type {\n",
       "        vertical-align: middle;\n",
       "    }\n",
       "\n",
       "    .dataframe tbody tr th {\n",
       "        vertical-align: top;\n",
       "    }\n",
       "\n",
       "    .dataframe thead th {\n",
       "        text-align: right;\n",
       "    }\n",
       "</style>\n",
       "<table border=\"1\" class=\"dataframe\">\n",
       "  <thead>\n",
       "    <tr style=\"text-align: right;\">\n",
       "      <th></th>\n",
       "      <th>Street</th>\n",
       "      <th>City</th>\n",
       "      <th>State</th>\n",
       "      <th>ZipCode</th>\n",
       "    </tr>\n",
       "  </thead>\n",
       "  <tbody>\n",
       "    <tr>\n",
       "      <th>0</th>\n",
       "      <td>3515 W Thompson Rd</td>\n",
       "      <td>Indianapolis</td>\n",
       "      <td>IN</td>\n",
       "      <td>46217</td>\n",
       "    </tr>\n",
       "    <tr>\n",
       "      <th>1</th>\n",
       "      <td>3713 Hillside Ave</td>\n",
       "      <td>Indianapolis</td>\n",
       "      <td>IN</td>\n",
       "      <td>46218</td>\n",
       "    </tr>\n",
       "    <tr>\n",
       "      <th>2</th>\n",
       "      <td>1337 W Livingston St APT 1</td>\n",
       "      <td>Allentown</td>\n",
       "      <td>PA</td>\n",
       "      <td>18102</td>\n",
       "    </tr>\n",
       "    <tr>\n",
       "      <th>3</th>\n",
       "      <td>1788 Westwood Dr</td>\n",
       "      <td>Troy</td>\n",
       "      <td>MI</td>\n",
       "      <td>48083</td>\n",
       "    </tr>\n",
       "    <tr>\n",
       "      <th>4</th>\n",
       "      <td>390 Rosado Springs St</td>\n",
       "      <td>Henderson</td>\n",
       "      <td>NV</td>\n",
       "      <td>89014</td>\n",
       "    </tr>\n",
       "    <tr>\n",
       "      <th>...</th>\n",
       "      <td>...</td>\n",
       "      <td>...</td>\n",
       "      <td>...</td>\n",
       "      <td>...</td>\n",
       "    </tr>\n",
       "    <tr>\n",
       "      <th>45394</th>\n",
       "      <td>111 W 57th St PENTHOUSE 72</td>\n",
       "      <td>New York</td>\n",
       "      <td>NY</td>\n",
       "      <td>10019</td>\n",
       "    </tr>\n",
       "    <tr>\n",
       "      <th>45395</th>\n",
       "      <td>0 Del Valle Rd</td>\n",
       "      <td>Livermore</td>\n",
       "      <td>CA</td>\n",
       "      <td>94550</td>\n",
       "    </tr>\n",
       "    <tr>\n",
       "      <th>45396</th>\n",
       "      <td>1060 Brooklawn Dr</td>\n",
       "      <td>Los Angeles</td>\n",
       "      <td>CA</td>\n",
       "      <td>90077</td>\n",
       "    </tr>\n",
       "    <tr>\n",
       "      <th>45397</th>\n",
       "      <td>432 Park Ave #82</td>\n",
       "      <td>New York</td>\n",
       "      <td>NY</td>\n",
       "      <td>10022</td>\n",
       "    </tr>\n",
       "    <tr>\n",
       "      <th>45398</th>\n",
       "      <td>908 Bel Air Rd</td>\n",
       "      <td>Los Angeles</td>\n",
       "      <td>CA</td>\n",
       "      <td>90077</td>\n",
       "    </tr>\n",
       "  </tbody>\n",
       "</table>\n",
       "<p>45399 rows × 4 columns</p>\n",
       "</div>"
      ],
      "text/plain": [
       "                           Street          City State ZipCode\n",
       "0              3515 W Thompson Rd  Indianapolis    IN   46217\n",
       "1               3713 Hillside Ave  Indianapolis    IN   46218\n",
       "2      1337 W Livingston St APT 1     Allentown    PA   18102\n",
       "3                1788 Westwood Dr          Troy    MI   48083\n",
       "4           390 Rosado Springs St     Henderson    NV   89014\n",
       "...                           ...           ...   ...     ...\n",
       "45394  111 W 57th St PENTHOUSE 72      New York    NY   10019\n",
       "45395              0 Del Valle Rd     Livermore    CA   94550\n",
       "45396           1060 Brooklawn Dr   Los Angeles    CA   90077\n",
       "45397            432 Park Ave #82      New York    NY   10022\n",
       "45398              908 Bel Air Rd   Los Angeles    CA   90077\n",
       "\n",
       "[45399 rows x 4 columns]"
      ]
     },
     "execution_count": 585,
     "metadata": {},
     "output_type": "execute_result"
    }
   ],
   "source": [
    "# Converting the columns as strings for further cleaning\n",
    "df2[['Street','City','State','ZipCode']].astype('str')"
   ]
  },
  {
   "cell_type": "code",
   "execution_count": 586,
   "metadata": {
    "colab": {
     "base_uri": "https://localhost:8080/",
     "height": 80
    },
    "id": "DtBbJbvV2wwS",
    "outputId": "0a41ad91-e579-4d50-cebc-1657d805cf3f"
   },
   "outputs": [
    {
     "data": {
      "text/html": [
       "<div>\n",
       "<style scoped>\n",
       "    .dataframe tbody tr th:only-of-type {\n",
       "        vertical-align: middle;\n",
       "    }\n",
       "\n",
       "    .dataframe tbody tr th {\n",
       "        vertical-align: top;\n",
       "    }\n",
       "\n",
       "    .dataframe thead th {\n",
       "        text-align: right;\n",
       "    }\n",
       "</style>\n",
       "<table border=\"1\" class=\"dataframe\">\n",
       "  <thead>\n",
       "    <tr style=\"text-align: right;\">\n",
       "      <th></th>\n",
       "      <th>Bedrooms</th>\n",
       "      <th>Bathrooms</th>\n",
       "      <th>Size</th>\n",
       "      <th>Sale Status</th>\n",
       "      <th>Raw Price</th>\n",
       "      <th>Street</th>\n",
       "      <th>City</th>\n",
       "      <th>State</th>\n",
       "      <th>ZipCode</th>\n",
       "    </tr>\n",
       "  </thead>\n",
       "  <tbody>\n",
       "    <tr>\n",
       "      <th>38379</th>\n",
       "      <td>4.00</td>\n",
       "      <td>4.00</td>\n",
       "      <td>2800.00</td>\n",
       "      <td>House for sale</td>\n",
       "      <td>865000.00</td>\n",
       "      <td>349 Benson Ct</td>\n",
       "      <td>Amherstburg</td>\n",
       "      <td>ON</td>\n",
       "      <td>N9V</td>\n",
       "    </tr>\n",
       "  </tbody>\n",
       "</table>\n",
       "</div>"
      ],
      "text/plain": [
       "       Bedrooms  Bathrooms    Size     Sale Status  Raw Price         Street  \\\n",
       "38379      4.00       4.00 2800.00  House for sale  865000.00  349 Benson Ct   \n",
       "\n",
       "              City State ZipCode  \n",
       "38379  Amherstburg    ON     N9V  "
      ]
     },
     "execution_count": 586,
     "metadata": {},
     "output_type": "execute_result"
    }
   ],
   "source": [
    "# Finding the weird ZipCode, it is in Canada\n",
    "df2.loc[df2.ZipCode == 'N9V']"
   ]
  },
  {
   "cell_type": "code",
   "execution_count": 587,
   "metadata": {
    "id": "g1RSybHP4PN0"
   },
   "outputs": [],
   "source": [
    "# Dropping the row\n",
    "df2.drop(df2.iloc[38379].name,inplace=True)"
   ]
  },
  {
   "cell_type": "code",
   "execution_count": 588,
   "metadata": {
    "id": "CXdEwU3W2_Ov"
   },
   "outputs": [],
   "source": [
    "# Now the ZipCode can be converted to Integer\n",
    "df2.ZipCode = df2.ZipCode.astype('int')\n"
   ]
  },
  {
   "cell_type": "code",
   "execution_count": 589,
   "metadata": {},
   "outputs": [],
   "source": [
    "#convert Sale Status into house Types\n",
    "house_status = list(df2['Sale Status'].unique())"
   ]
  },
  {
   "cell_type": "code",
   "execution_count": 590,
   "metadata": {
    "id": "SWDq2PwO4muc"
   },
   "outputs": [],
   "source": [
    "# Make a list of house types\n",
    "house_type = ['House','Townhouse','Multifamily', 'Condo', 'Others', 'Apartment']\n",
    "# Replacing house_status with house_type\n",
    "df2['Sale Status'] = df2['Sale Status'].map(dict(zip(house_status,house_type)))\n",
    "df2.rename(columns={\"Sale Status\": \"Type\"}, inplace=True)\n"
   ]
  },
  {
   "cell_type": "code",
   "execution_count": 591,
   "metadata": {
    "id": "k9xFvxGV6CWZ"
   },
   "outputs": [],
   "source": [
    "# Street column is not useful so we drop it\n",
    "df3 = df2.drop(['Street'], axis=1)"
   ]
  },
  {
   "cell_type": "code",
   "execution_count": 592,
   "metadata": {
    "id": "T8qiSln78G2l"
   },
   "outputs": [],
   "source": [
    "# Change Raw Price column name to Price, create perSqft column\n",
    "df3.rename(columns={\"Raw Price\":\"Price\"}, inplace=True)\n",
    "df3['perSqFt'] = df3.Price / df3.Size"
   ]
  },
  {
   "cell_type": "code",
   "execution_count": 593,
   "metadata": {},
   "outputs": [],
   "source": [
    "df3.State.value_counts().tail(5)\n",
    "# HI NH is below 30 counts, so dropping HI and NH\n",
    "df3 = df3[(df3['State'] != 'HI') & (df3['State'] != 'NH')]\n",
    "# drop others because it is not the majority and has weird type of lots/houses\n",
    "df3 = df3[df3['Type'] != 'Others']"
   ]
  },
  {
   "cell_type": "code",
   "execution_count": 594,
   "metadata": {
    "id": "6e8QfTFRK9OD"
   },
   "outputs": [
    {
     "data": {
      "text/plain": [
       "46"
      ]
     },
     "execution_count": 594,
     "metadata": {},
     "output_type": "execute_result"
    }
   ],
   "source": [
    "# Due to previously dropping rows, reset index again\n",
    "# West Virginia and Wyoming not in data\n",
    "df3 = df3.reset_index(drop=True)\n",
    "len(df3.State.unique())\n"
   ]
  },
  {
   "cell_type": "code",
   "execution_count": 595,
   "metadata": {
    "id": "SK3WvveV81GL"
   },
   "outputs": [],
   "source": [
    "# Function #3 find_region()\n",
    "# Assign Regions, also need to drop Wyoming and West Virgina since the dataset does not contain \n",
    "# listings for that certain State in the initial DataFrame \n",
    "west = ['CA', 'NV', 'AK', 'WA' , 'OR', 'ID', 'MT', 'UT', 'CO', 'AZ', 'NM']\n",
    "midwest = ['ND', 'WI','SD', 'NE', 'KS', 'MN', 'IA', 'MO', 'IL', 'IN', 'OH','MI']\n",
    "north = ['PA', 'NY', 'MA', 'CT', 'ME', 'DC', 'NJ', 'RI']\n",
    "south = ['TX', 'OK', 'AR', 'LA', 'MS', 'AL', 'TN', 'KY', 'VA', 'MD', 'DE', 'NC', 'SC', 'GA', 'FL']\n",
    "full_state_list = west + midwest + north + south\n",
    "\n",
    "# Creating function to assign regions\n",
    "def find_region(state):\n",
    "    if state in west:\n",
    "        state = 'West'\n",
    "    elif state in north:\n",
    "        state = 'North'\n",
    "    elif state in south:\n",
    "        state = 'South'\n",
    "    elif state in midwest:\n",
    "        state = 'MidWest'\n",
    "    return state\n",
    "\n",
    "# Create Region column\n",
    "df3['Region'] = df3.State.apply(find_region)"
   ]
  },
  {
   "cell_type": "code",
   "execution_count": 596,
   "metadata": {},
   "outputs": [
    {
     "data": {
      "text/plain": [
       "{'AK': 'AK',\n",
       " 'AL': 'AL',\n",
       " 'AR': 'AR',\n",
       " 'AZ': 'AZ',\n",
       " 'CA': 'CA',\n",
       " 'CO': 'CO',\n",
       " 'CT': 'CT',\n",
       " 'DC': 'DC',\n",
       " 'DE': 'DE',\n",
       " 'FL': 'FL',\n",
       " 'GA': 'GA',\n",
       " 'IA': 'IA',\n",
       " 'ID': 'ID',\n",
       " 'IL': 'IL',\n",
       " 'IN': 'IN',\n",
       " 'KS': 'KS',\n",
       " 'KY': 'KY',\n",
       " 'LA': 'LA',\n",
       " 'MA': 'MA',\n",
       " 'MD': 'MD',\n",
       " 'ME': 'ME',\n",
       " 'MI': 'MI',\n",
       " 'MN': 'MN',\n",
       " 'MO': 'MO',\n",
       " 'MS': 'MS',\n",
       " 'MT': 'MT',\n",
       " 'NC': 'NC',\n",
       " 'ND': 'ND',\n",
       " 'NE': 'NE',\n",
       " 'NJ': 'NJ',\n",
       " 'NM': 'NM',\n",
       " 'NV': 'NV',\n",
       " 'NY': 'NY',\n",
       " 'OH': 'OH',\n",
       " 'OK': 'OK',\n",
       " 'OR': 'OR',\n",
       " 'PA': 'PA',\n",
       " 'RI': 'RI',\n",
       " 'SC': 'SC',\n",
       " 'SD': 'SD',\n",
       " 'TN': 'TN',\n",
       " 'TX': 'TX',\n",
       " 'UT': 'UT',\n",
       " 'VA': 'VA',\n",
       " 'WA': 'WA',\n",
       " 'WI': 'WI'}"
      ]
     },
     "execution_count": 596,
     "metadata": {},
     "output_type": "execute_result"
    }
   ],
   "source": [
    "#Display the list of full_state_list in order to compare with the DataFrame state column in order to sort missing , \n",
    "full_state_list.sort()\n",
    "full_state_list\n",
    "#Converted numpy.Array into a list in order to compare with the list above.\n",
    "comparator = df3['State'].unique().tolist()\n",
    "comparator.sort()\n",
    "comparator\n",
    "compare_dict = dict(zip(full_state_list,comparator))\n",
    "compare_dict\n",
    "# Check our list of states and dataframe states are in sync\n",
    "# df3 is fully cleaned, now we are making a \"state_df\""
   ]
  },
  {
   "cell_type": "markdown",
   "metadata": {},
   "source": [
    "#### Organizing Sub-Datasets"
   ]
  },
  {
   "cell_type": "code",
   "execution_count": 597,
   "metadata": {},
   "outputs": [
    {
     "data": {
      "text/html": [
       "<div>\n",
       "<style scoped>\n",
       "    .dataframe tbody tr th:only-of-type {\n",
       "        vertical-align: middle;\n",
       "    }\n",
       "\n",
       "    .dataframe tbody tr th {\n",
       "        vertical-align: top;\n",
       "    }\n",
       "\n",
       "    .dataframe thead th {\n",
       "        text-align: right;\n",
       "    }\n",
       "</style>\n",
       "<table border=\"1\" class=\"dataframe\">\n",
       "  <thead>\n",
       "    <tr style=\"text-align: right;\">\n",
       "      <th></th>\n",
       "      <th>Unnamed: 0</th>\n",
       "      <th>GeoFips</th>\n",
       "      <th>GeoName</th>\n",
       "      <th>2020</th>\n",
       "    </tr>\n",
       "  </thead>\n",
       "  <tbody>\n",
       "    <tr>\n",
       "      <th>0</th>\n",
       "      <td>0</td>\n",
       "      <td>0</td>\n",
       "      <td>United States</td>\n",
       "      <td>18384687.00</td>\n",
       "    </tr>\n",
       "    <tr>\n",
       "      <th>1</th>\n",
       "      <td>1</td>\n",
       "      <td>1000</td>\n",
       "      <td>Alabama</td>\n",
       "      <td>196906.10</td>\n",
       "    </tr>\n",
       "    <tr>\n",
       "      <th>2</th>\n",
       "      <td>2</td>\n",
       "      <td>2000</td>\n",
       "      <td>Alaska</td>\n",
       "      <td>50161.00</td>\n",
       "    </tr>\n",
       "    <tr>\n",
       "      <th>3</th>\n",
       "      <td>3</td>\n",
       "      <td>4000</td>\n",
       "      <td>Arizona</td>\n",
       "      <td>320550.60</td>\n",
       "    </tr>\n",
       "    <tr>\n",
       "      <th>4</th>\n",
       "      <td>4</td>\n",
       "      <td>5000</td>\n",
       "      <td>Arkansas</td>\n",
       "      <td>114943.50</td>\n",
       "    </tr>\n",
       "  </tbody>\n",
       "</table>\n",
       "</div>"
      ],
      "text/plain": [
       "   Unnamed: 0  GeoFips        GeoName        2020\n",
       "0           0        0  United States 18384687.00\n",
       "1           1     1000        Alabama   196906.10\n",
       "2           2     2000         Alaska    50161.00\n",
       "3           3     4000        Arizona   320550.60\n",
       "4           4     5000       Arkansas   114943.50"
      ]
     },
     "execution_count": 597,
     "metadata": {},
     "output_type": "execute_result"
    }
   ],
   "source": [
    "# Read gdp_df\n",
    "gdp_df.head()"
   ]
  },
  {
   "cell_type": "code",
   "execution_count": 598,
   "metadata": {},
   "outputs": [
    {
     "data": {
      "text/plain": [
       "array(['United States', 'Alabama', 'Alaska', 'Arizona', 'Arkansas',\n",
       "       'California', 'Colorado', 'Connecticut', 'Delaware',\n",
       "       'District of Columbia', 'Florida', 'Georgia', 'Hawaii', 'Idaho',\n",
       "       'Illinois', 'Indiana', 'Iowa', 'Kansas', 'Kentucky', 'Louisiana',\n",
       "       'Maine', 'Maryland', 'Massachusetts', 'Michigan', 'Minnesota',\n",
       "       'Mississippi', 'Missouri', 'Montana', 'Nebraska', 'Nevada',\n",
       "       'New Hampshire', 'New Jersey', 'New Mexico', 'New York',\n",
       "       'North Carolina', 'North Dakota', 'Ohio', 'Oklahoma', 'Oregon',\n",
       "       'Pennsylvania', 'Rhode Island', 'South Carolina', 'South Dakota',\n",
       "       'Tennessee', 'Texas', 'Utah', 'Vermont', 'Virginia', 'Washington',\n",
       "       'West Virginia', 'Wisconsin', 'Wyoming', 'New England', 'Mideast',\n",
       "       'Great Lakes', 'Plains', 'Southeast', 'Southwest',\n",
       "       'Rocky Mountain', 'Far West'], dtype=object)"
      ]
     },
     "execution_count": 598,
     "metadata": {},
     "output_type": "execute_result"
    }
   ],
   "source": [
    "# Checking the States in gdp_df\n",
    "gdp_df.GeoName.unique()"
   ]
  },
  {
   "cell_type": "code",
   "execution_count": 599,
   "metadata": {},
   "outputs": [
    {
     "data": {
      "text/html": [
       "<div>\n",
       "<style scoped>\n",
       "    .dataframe tbody tr th:only-of-type {\n",
       "        vertical-align: middle;\n",
       "    }\n",
       "\n",
       "    .dataframe tbody tr th {\n",
       "        vertical-align: top;\n",
       "    }\n",
       "\n",
       "    .dataframe thead th {\n",
       "        text-align: right;\n",
       "    }\n",
       "</style>\n",
       "<table border=\"1\" class=\"dataframe\">\n",
       "  <thead>\n",
       "    <tr style=\"text-align: right;\">\n",
       "      <th></th>\n",
       "      <th>State</th>\n",
       "      <th>GDP</th>\n",
       "    </tr>\n",
       "  </thead>\n",
       "  <tbody>\n",
       "    <tr>\n",
       "      <th>42</th>\n",
       "      <td>Utah</td>\n",
       "      <td>171370.10</td>\n",
       "    </tr>\n",
       "    <tr>\n",
       "      <th>43</th>\n",
       "      <td>Vermont</td>\n",
       "      <td>28648.50</td>\n",
       "    </tr>\n",
       "    <tr>\n",
       "      <th>44</th>\n",
       "      <td>Virginia</td>\n",
       "      <td>473817.50</td>\n",
       "    </tr>\n",
       "    <tr>\n",
       "      <th>45</th>\n",
       "      <td>Washington</td>\n",
       "      <td>532861.90</td>\n",
       "    </tr>\n",
       "    <tr>\n",
       "      <th>46</th>\n",
       "      <td>Wisconsin</td>\n",
       "      <td>291715.80</td>\n",
       "    </tr>\n",
       "  </tbody>\n",
       "</table>\n",
       "</div>"
      ],
      "text/plain": [
       "         State       GDP\n",
       "42        Utah 171370.10\n",
       "43     Vermont  28648.50\n",
       "44    Virginia 473817.50\n",
       "45  Washington 532861.90\n",
       "46   Wisconsin 291715.80"
      ]
     },
     "execution_count": 599,
     "metadata": {},
     "output_type": "execute_result"
    }
   ],
   "source": [
    "# Drop the non-used States/Regions, converting column names, reset column index\n",
    "gdp_df = gdp_df[(gdp_df.GeoName != 'United States') & (gdp_df.GeoName != 'Southwest') & (gdp_df.GeoName != 'Southeast') & (gdp_df.GeoName != 'Plains') & (gdp_df.GeoName != 'Mideast') & (gdp_df.GeoName != 'Great Lakes') & (gdp_df.GeoName != 'Rocky Mountain') & (gdp_df.GeoName != 'Far West') & (gdp_df.GeoName != 'New England') & (gdp_df.GeoName != 'West Virginia') & (gdp_df.GeoName != 'Wyoming') & (gdp_df.GeoName != 'Hawaii') & (gdp_df.GeoName != 'New Hampshire')]\n",
    "gdp_df.rename(columns={'GeoName':'State','2020':'GDP'},inplace=True)\n",
    "gdp_df = gdp_df[['State', 'GDP']]\n",
    "gdp_df.reset_index(inplace=True,drop=True)\n",
    "gdp_df.tail()"
   ]
  },
  {
   "cell_type": "code",
   "execution_count": 600,
   "metadata": {},
   "outputs": [
    {
     "data": {
      "text/html": [
       "<div>\n",
       "<style scoped>\n",
       "    .dataframe tbody tr th:only-of-type {\n",
       "        vertical-align: middle;\n",
       "    }\n",
       "\n",
       "    .dataframe tbody tr th {\n",
       "        vertical-align: top;\n",
       "    }\n",
       "\n",
       "    .dataframe thead th {\n",
       "        text-align: right;\n",
       "    }\n",
       "</style>\n",
       "<table border=\"1\" class=\"dataframe\">\n",
       "  <thead>\n",
       "    <tr style=\"text-align: right;\">\n",
       "      <th></th>\n",
       "      <th>rank</th>\n",
       "      <th>State</th>\n",
       "      <th>Pop</th>\n",
       "      <th>Growth</th>\n",
       "      <th>Pop2018</th>\n",
       "      <th>Pop2010</th>\n",
       "      <th>growthSince2010</th>\n",
       "      <th>Percent</th>\n",
       "      <th>density</th>\n",
       "    </tr>\n",
       "  </thead>\n",
       "  <tbody>\n",
       "    <tr>\n",
       "      <th>0</th>\n",
       "      <td>1</td>\n",
       "      <td>California</td>\n",
       "      <td>39613493</td>\n",
       "      <td>0.00</td>\n",
       "      <td>39461588</td>\n",
       "      <td>37319502</td>\n",
       "      <td>0.06</td>\n",
       "      <td>0.12</td>\n",
       "      <td>254.29</td>\n",
       "    </tr>\n",
       "    <tr>\n",
       "      <th>1</th>\n",
       "      <td>2</td>\n",
       "      <td>Texas</td>\n",
       "      <td>29730311</td>\n",
       "      <td>0.04</td>\n",
       "      <td>28628666</td>\n",
       "      <td>25241971</td>\n",
       "      <td>0.18</td>\n",
       "      <td>0.09</td>\n",
       "      <td>113.81</td>\n",
       "    </tr>\n",
       "    <tr>\n",
       "      <th>2</th>\n",
       "      <td>3</td>\n",
       "      <td>Florida</td>\n",
       "      <td>21944577</td>\n",
       "      <td>0.03</td>\n",
       "      <td>21244317</td>\n",
       "      <td>18845537</td>\n",
       "      <td>0.16</td>\n",
       "      <td>0.07</td>\n",
       "      <td>409.22</td>\n",
       "    </tr>\n",
       "    <tr>\n",
       "      <th>3</th>\n",
       "      <td>4</td>\n",
       "      <td>New York</td>\n",
       "      <td>19299981</td>\n",
       "      <td>-0.01</td>\n",
       "      <td>19530351</td>\n",
       "      <td>19399878</td>\n",
       "      <td>-0.01</td>\n",
       "      <td>0.06</td>\n",
       "      <td>409.54</td>\n",
       "    </tr>\n",
       "    <tr>\n",
       "      <th>4</th>\n",
       "      <td>5</td>\n",
       "      <td>Pennsylvania</td>\n",
       "      <td>12804123</td>\n",
       "      <td>0.00</td>\n",
       "      <td>12800922</td>\n",
       "      <td>12711160</td>\n",
       "      <td>0.01</td>\n",
       "      <td>0.04</td>\n",
       "      <td>286.17</td>\n",
       "    </tr>\n",
       "  </tbody>\n",
       "</table>\n",
       "</div>"
      ],
      "text/plain": [
       "   rank         State       Pop  Growth   Pop2018   Pop2010  growthSince2010  \\\n",
       "0     1    California  39613493    0.00  39461588  37319502             0.06   \n",
       "1     2         Texas  29730311    0.04  28628666  25241971             0.18   \n",
       "2     3       Florida  21944577    0.03  21244317  18845537             0.16   \n",
       "3     4      New York  19299981   -0.01  19530351  19399878            -0.01   \n",
       "4     5  Pennsylvania  12804123    0.00  12800922  12711160             0.01   \n",
       "\n",
       "   Percent  density  \n",
       "0     0.12   254.29  \n",
       "1     0.09   113.81  \n",
       "2     0.07   409.22  \n",
       "3     0.06   409.54  \n",
       "4     0.04   286.17  "
      ]
     },
     "execution_count": 600,
     "metadata": {},
     "output_type": "execute_result"
    }
   ],
   "source": [
    "# Read population_df\n",
    "population_df.head()"
   ]
  },
  {
   "cell_type": "code",
   "execution_count": 601,
   "metadata": {},
   "outputs": [
    {
     "data": {
      "text/plain": [
       "array(['California', 'Texas', 'Florida', 'New York', 'Pennsylvania',\n",
       "       'Illinois', 'Ohio', 'Georgia', 'North Carolina', 'Michigan',\n",
       "       'New Jersey', 'Virginia', 'Washington', 'Arizona', 'Tennessee',\n",
       "       'Massachusetts', 'Indiana', 'Missouri', 'Maryland', 'Colorado',\n",
       "       'Wisconsin', 'Minnesota', 'South Carolina', 'Alabama', 'Louisiana',\n",
       "       'Kentucky', 'Oregon', 'Oklahoma', 'Connecticut', 'Utah',\n",
       "       'Puerto Rico', 'Nevada', 'Iowa', 'Arkansas', 'Mississippi',\n",
       "       'Kansas', 'New Mexico', 'Nebraska', 'Idaho', 'West Virginia',\n",
       "       'Hawaii', 'New Hampshire', 'Maine', 'Montana', 'Rhode Island',\n",
       "       'Delaware', 'South Dakota', 'North Dakota', 'Alaska',\n",
       "       'District of Columbia', 'Vermont', 'Wyoming'], dtype=object)"
      ]
     },
     "execution_count": 601,
     "metadata": {},
     "output_type": "execute_result"
    }
   ],
   "source": [
    "# Checking states in population_df\n",
    "population_df.State.unique()\n"
   ]
  },
  {
   "cell_type": "code",
   "execution_count": 602,
   "metadata": {},
   "outputs": [
    {
     "data": {
      "text/html": [
       "<div>\n",
       "<style scoped>\n",
       "    .dataframe tbody tr th:only-of-type {\n",
       "        vertical-align: middle;\n",
       "    }\n",
       "\n",
       "    .dataframe tbody tr th {\n",
       "        vertical-align: top;\n",
       "    }\n",
       "\n",
       "    .dataframe thead th {\n",
       "        text-align: right;\n",
       "    }\n",
       "</style>\n",
       "<table border=\"1\" class=\"dataframe\">\n",
       "  <thead>\n",
       "    <tr style=\"text-align: right;\">\n",
       "      <th></th>\n",
       "      <th>State</th>\n",
       "      <th>Pop</th>\n",
       "    </tr>\n",
       "  </thead>\n",
       "  <tbody>\n",
       "    <tr>\n",
       "      <th>42</th>\n",
       "      <td>Utah</td>\n",
       "      <td>3310774</td>\n",
       "    </tr>\n",
       "    <tr>\n",
       "      <th>43</th>\n",
       "      <td>Vermont</td>\n",
       "      <td>623251</td>\n",
       "    </tr>\n",
       "    <tr>\n",
       "      <th>44</th>\n",
       "      <td>Virginia</td>\n",
       "      <td>8603985</td>\n",
       "    </tr>\n",
       "    <tr>\n",
       "      <th>45</th>\n",
       "      <td>Washington</td>\n",
       "      <td>7796941</td>\n",
       "    </tr>\n",
       "    <tr>\n",
       "      <th>46</th>\n",
       "      <td>Wisconsin</td>\n",
       "      <td>5852490</td>\n",
       "    </tr>\n",
       "  </tbody>\n",
       "</table>\n",
       "</div>"
      ],
      "text/plain": [
       "         State      Pop\n",
       "42        Utah  3310774\n",
       "43     Vermont   623251\n",
       "44    Virginia  8603985\n",
       "45  Washington  7796941\n",
       "46   Wisconsin  5852490"
      ]
     },
     "execution_count": 602,
     "metadata": {},
     "output_type": "execute_result"
    }
   ],
   "source": [
    "# Filter out some regions and states, Grabbing State and Pop columns, reset index\n",
    "population_df = population_df[(population_df.State != 'Wyoming') & (population_df.State != 'West Virginia') & (population_df.State != 'Puerto Rico') & (population_df.State != 'Hawaii') & (population_df.State != 'New Hampshire')]\n",
    "population_df = population_df[['State','Pop']]\n",
    "population_df.sort_values(by=['State'],inplace=True)\n",
    "population_df.reset_index(inplace=True,drop=True)\n",
    "population_df.tail()\n"
   ]
  },
  {
   "cell_type": "code",
   "execution_count": 603,
   "metadata": {},
   "outputs": [
    {
     "data": {
      "text/plain": [
       "array(['United States', 'Alabama', 'Alaska *', 'Arizona', 'Arkansas',\n",
       "       'California', 'Colorado', 'Connecticut', 'Delaware',\n",
       "       'District of Columbia', 'Florida', 'Georgia', 'Hawaii *', 'Idaho',\n",
       "       'Illinois', 'Indiana', 'Iowa', 'Kansas', 'Kentucky', 'Louisiana',\n",
       "       'Maine', 'Maryland', 'Massachusetts', 'Michigan', 'Minnesota',\n",
       "       'Mississippi', 'Missouri', 'Montana', 'Nebraska', 'Nevada',\n",
       "       'New Hampshire', 'New Jersey', 'New Mexico', 'New York',\n",
       "       'North Carolina', 'North Dakota', 'Ohio', 'Oklahoma', 'Oregon',\n",
       "       'Pennsylvania', 'Rhode Island', 'South Carolina', 'South Dakota',\n",
       "       'Tennessee', 'Texas', 'Utah', 'Vermont', 'Virginia', 'Washington',\n",
       "       'West Virginia', 'Wisconsin', 'Wyoming', 'New England', 'Mideast',\n",
       "       'Great Lakes', 'Plains', 'Southeast', 'Southwest',\n",
       "       'Rocky Mountain', 'Far West'], dtype=object)"
      ]
     },
     "execution_count": 603,
     "metadata": {},
     "output_type": "execute_result"
    }
   ],
   "source": [
    "# Check GeoName/States\n",
    "income_df.GeoName.unique()"
   ]
  },
  {
   "cell_type": "code",
   "execution_count": 604,
   "metadata": {},
   "outputs": [
    {
     "data": {
      "text/html": [
       "<div>\n",
       "<style scoped>\n",
       "    .dataframe tbody tr th:only-of-type {\n",
       "        vertical-align: middle;\n",
       "    }\n",
       "\n",
       "    .dataframe tbody tr th {\n",
       "        vertical-align: top;\n",
       "    }\n",
       "\n",
       "    .dataframe thead th {\n",
       "        text-align: right;\n",
       "    }\n",
       "</style>\n",
       "<table border=\"1\" class=\"dataframe\">\n",
       "  <thead>\n",
       "    <tr style=\"text-align: right;\">\n",
       "      <th></th>\n",
       "      <th>State</th>\n",
       "      <th>income</th>\n",
       "    </tr>\n",
       "  </thead>\n",
       "  <tbody>\n",
       "    <tr>\n",
       "      <th>42</th>\n",
       "      <td>Utah</td>\n",
       "      <td>169656.30</td>\n",
       "    </tr>\n",
       "    <tr>\n",
       "      <th>43</th>\n",
       "      <td>Vermont</td>\n",
       "      <td>36894.20</td>\n",
       "    </tr>\n",
       "    <tr>\n",
       "      <th>44</th>\n",
       "      <td>Virginia</td>\n",
       "      <td>532256.20</td>\n",
       "    </tr>\n",
       "    <tr>\n",
       "      <th>45</th>\n",
       "      <td>Washington</td>\n",
       "      <td>516441.10</td>\n",
       "    </tr>\n",
       "    <tr>\n",
       "      <th>46</th>\n",
       "      <td>Wisconsin</td>\n",
       "      <td>324252.00</td>\n",
       "    </tr>\n",
       "  </tbody>\n",
       "</table>\n",
       "</div>"
      ],
      "text/plain": [
       "         State    income\n",
       "42        Utah 169656.30\n",
       "43     Vermont  36894.20\n",
       "44    Virginia 532256.20\n",
       "45  Washington 516441.10\n",
       "46   Wisconsin 324252.00"
      ]
     },
     "execution_count": 604,
     "metadata": {},
     "output_type": "execute_result"
    }
   ],
   "source": [
    "# we found astrious * in States so we made a function to remove it\n",
    "def conv_state(a):\n",
    "    if '*' in a:\n",
    "        a=a.replace(' *', '')\n",
    "    return a\n",
    "\n",
    "# we need to convert to string to run the function\n",
    "income_df.rename(columns={'GeoName':'State','2020':'income'},inplace=True)\n",
    "income_df = income_df[['State', 'income']]\n",
    "income_df.State.astype('str')\n",
    "income_df.State = income_df.State.apply(conv_state)\n",
    "\n",
    "# Drop unused States/Region, rename GeoName to State and 2020 to income, filter out other columns, reset index\n",
    "income_df = income_df[(income_df.State != 'United States') & (income_df.State != 'Southwest') & (income_df.State != 'Southeast') & (income_df.State != 'Plains') & (income_df.State != 'Mideast') & (income_df.State != 'Great Lakes') & (income_df.State != 'Rocky Mountain') & (income_df.State != 'Far West') & (income_df.State != 'New England') & (income_df.State != 'West Virginia') & (income_df.State != 'Wyoming') & (income_df.State != 'Hawaii') & (income_df.State != 'New Hampshire')]\n",
    "\n",
    "income_df.reset_index(inplace=True,drop=True)\n",
    "\n",
    "\n",
    "income_df.tail()"
   ]
  },
  {
   "cell_type": "code",
   "execution_count": 605,
   "metadata": {},
   "outputs": [
    {
     "data": {
      "text/html": [
       "<div>\n",
       "<style scoped>\n",
       "    .dataframe tbody tr th:only-of-type {\n",
       "        vertical-align: middle;\n",
       "    }\n",
       "\n",
       "    .dataframe tbody tr th {\n",
       "        vertical-align: top;\n",
       "    }\n",
       "\n",
       "    .dataframe thead th {\n",
       "        text-align: right;\n",
       "    }\n",
       "</style>\n",
       "<table border=\"1\" class=\"dataframe\">\n",
       "  <thead>\n",
       "    <tr style=\"text-align: right;\">\n",
       "      <th></th>\n",
       "      <th>Unnamed: 0</th>\n",
       "      <th>GeoFips</th>\n",
       "      <th>GeoName</th>\n",
       "      <th>LineCode</th>\n",
       "      <th>Description</th>\n",
       "      <th>2020</th>\n",
       "    </tr>\n",
       "  </thead>\n",
       "  <tbody>\n",
       "    <tr>\n",
       "      <th>0</th>\n",
       "      <td>0</td>\n",
       "      <td>0</td>\n",
       "      <td>United States</td>\n",
       "      <td>1</td>\n",
       "      <td>Personal consumption expenditures</td>\n",
       "      <td>14047565.00</td>\n",
       "    </tr>\n",
       "    <tr>\n",
       "      <th>1</th>\n",
       "      <td>1</td>\n",
       "      <td>0</td>\n",
       "      <td>United States</td>\n",
       "      <td>2</td>\n",
       "      <td>Goods</td>\n",
       "      <td>4653822.00</td>\n",
       "    </tr>\n",
       "    <tr>\n",
       "      <th>2</th>\n",
       "      <td>2</td>\n",
       "      <td>0</td>\n",
       "      <td>United States</td>\n",
       "      <td>3</td>\n",
       "      <td>Durable goods</td>\n",
       "      <td>1616408.00</td>\n",
       "    </tr>\n",
       "    <tr>\n",
       "      <th>3</th>\n",
       "      <td>3</td>\n",
       "      <td>0</td>\n",
       "      <td>United States</td>\n",
       "      <td>4</td>\n",
       "      <td>Motor vehicles and parts</td>\n",
       "      <td>541265.00</td>\n",
       "    </tr>\n",
       "    <tr>\n",
       "      <th>4</th>\n",
       "      <td>4</td>\n",
       "      <td>0</td>\n",
       "      <td>United States</td>\n",
       "      <td>5</td>\n",
       "      <td>Furnishings and durable household equipment</td>\n",
       "      <td>390382.00</td>\n",
       "    </tr>\n",
       "    <tr>\n",
       "      <th>5</th>\n",
       "      <td>5</td>\n",
       "      <td>0</td>\n",
       "      <td>United States</td>\n",
       "      <td>6</td>\n",
       "      <td>Recreational goods and vehicles</td>\n",
       "      <td>476217.00</td>\n",
       "    </tr>\n",
       "    <tr>\n",
       "      <th>6</th>\n",
       "      <td>6</td>\n",
       "      <td>0</td>\n",
       "      <td>United States</td>\n",
       "      <td>7</td>\n",
       "      <td>Other durable goods</td>\n",
       "      <td>208545.00</td>\n",
       "    </tr>\n",
       "    <tr>\n",
       "      <th>7</th>\n",
       "      <td>7</td>\n",
       "      <td>0</td>\n",
       "      <td>United States</td>\n",
       "      <td>8</td>\n",
       "      <td>Nondurable goods</td>\n",
       "      <td>3037413.00</td>\n",
       "    </tr>\n",
       "    <tr>\n",
       "      <th>8</th>\n",
       "      <td>8</td>\n",
       "      <td>0</td>\n",
       "      <td>United States</td>\n",
       "      <td>9</td>\n",
       "      <td>Food and beverages purchased for off-pre...</td>\n",
       "      <td>1146676.00</td>\n",
       "    </tr>\n",
       "    <tr>\n",
       "      <th>9</th>\n",
       "      <td>9</td>\n",
       "      <td>0</td>\n",
       "      <td>United States</td>\n",
       "      <td>10</td>\n",
       "      <td>Clothing and footwear</td>\n",
       "      <td>362435.00</td>\n",
       "    </tr>\n",
       "    <tr>\n",
       "      <th>10</th>\n",
       "      <td>10</td>\n",
       "      <td>0</td>\n",
       "      <td>United States</td>\n",
       "      <td>11</td>\n",
       "      <td>Gasoline and other energy goods</td>\n",
       "      <td>246757.00</td>\n",
       "    </tr>\n",
       "    <tr>\n",
       "      <th>11</th>\n",
       "      <td>11</td>\n",
       "      <td>0</td>\n",
       "      <td>United States</td>\n",
       "      <td>12</td>\n",
       "      <td>Other nondurable goods</td>\n",
       "      <td>1281545.00</td>\n",
       "    </tr>\n",
       "    <tr>\n",
       "      <th>12</th>\n",
       "      <td>12</td>\n",
       "      <td>0</td>\n",
       "      <td>United States</td>\n",
       "      <td>13</td>\n",
       "      <td>Services</td>\n",
       "      <td>9393744.00</td>\n",
       "    </tr>\n",
       "    <tr>\n",
       "      <th>13</th>\n",
       "      <td>13</td>\n",
       "      <td>0</td>\n",
       "      <td>United States</td>\n",
       "      <td>14</td>\n",
       "      <td>Household consumption expenditures (for se...</td>\n",
       "      <td>8872868.00</td>\n",
       "    </tr>\n",
       "    <tr>\n",
       "      <th>14</th>\n",
       "      <td>14</td>\n",
       "      <td>0</td>\n",
       "      <td>United States</td>\n",
       "      <td>15</td>\n",
       "      <td>Housing and utilities</td>\n",
       "      <td>2668144.00</td>\n",
       "    </tr>\n",
       "  </tbody>\n",
       "</table>\n",
       "</div>"
      ],
      "text/plain": [
       "    Unnamed: 0  GeoFips        GeoName  LineCode  \\\n",
       "0            0        0  United States         1   \n",
       "1            1        0  United States         2   \n",
       "2            2        0  United States         3   \n",
       "3            3        0  United States         4   \n",
       "4            4        0  United States         5   \n",
       "5            5        0  United States         6   \n",
       "6            6        0  United States         7   \n",
       "7            7        0  United States         8   \n",
       "8            8        0  United States         9   \n",
       "9            9        0  United States        10   \n",
       "10          10        0  United States        11   \n",
       "11          11        0  United States        12   \n",
       "12          12        0  United States        13   \n",
       "13          13        0  United States        14   \n",
       "14          14        0  United States        15   \n",
       "\n",
       "                                          Description        2020  \n",
       "0                   Personal consumption expenditures 14047565.00  \n",
       "1                                               Goods  4653822.00  \n",
       "2                                       Durable goods  1616408.00  \n",
       "3                            Motor vehicles and parts   541265.00  \n",
       "4         Furnishings and durable household equipment   390382.00  \n",
       "5                     Recreational goods and vehicles   476217.00  \n",
       "6                                 Other durable goods   208545.00  \n",
       "7                                    Nondurable goods  3037413.00  \n",
       "8         Food and beverages purchased for off-pre...  1146676.00  \n",
       "9                               Clothing and footwear   362435.00  \n",
       "10                    Gasoline and other energy goods   246757.00  \n",
       "11                             Other nondurable goods  1281545.00  \n",
       "12                                           Services  9393744.00  \n",
       "13      Household consumption expenditures (for se...  8872868.00  \n",
       "14                              Housing and utilities  2668144.00  "
      ]
     },
     "execution_count": 605,
     "metadata": {},
     "output_type": "execute_result"
    }
   ],
   "source": [
    "# Reading spending_df\n",
    "spending_df.head(15)"
   ]
  },
  {
   "cell_type": "code",
   "execution_count": 606,
   "metadata": {},
   "outputs": [
    {
     "data": {
      "text/html": [
       "<div>\n",
       "<style scoped>\n",
       "    .dataframe tbody tr th:only-of-type {\n",
       "        vertical-align: middle;\n",
       "    }\n",
       "\n",
       "    .dataframe tbody tr th {\n",
       "        vertical-align: top;\n",
       "    }\n",
       "\n",
       "    .dataframe thead th {\n",
       "        text-align: right;\n",
       "    }\n",
       "</style>\n",
       "<table border=\"1\" class=\"dataframe\">\n",
       "  <thead>\n",
       "    <tr style=\"text-align: right;\">\n",
       "      <th></th>\n",
       "      <th>State</th>\n",
       "      <th>spending</th>\n",
       "    </tr>\n",
       "  </thead>\n",
       "  <tbody>\n",
       "    <tr>\n",
       "      <th>42</th>\n",
       "      <td>Utah</td>\n",
       "      <td>121445.40</td>\n",
       "    </tr>\n",
       "    <tr>\n",
       "      <th>43</th>\n",
       "      <td>Vermont</td>\n",
       "      <td>29544.80</td>\n",
       "    </tr>\n",
       "    <tr>\n",
       "      <th>44</th>\n",
       "      <td>Virginia</td>\n",
       "      <td>367302.70</td>\n",
       "    </tr>\n",
       "    <tr>\n",
       "      <th>45</th>\n",
       "      <td>Washington</td>\n",
       "      <td>354219.10</td>\n",
       "    </tr>\n",
       "    <tr>\n",
       "      <th>46</th>\n",
       "      <td>Wisconsin</td>\n",
       "      <td>238923.00</td>\n",
       "    </tr>\n",
       "  </tbody>\n",
       "</table>\n",
       "</div>"
      ],
      "text/plain": [
       "         State  spending\n",
       "42        Utah 121445.40\n",
       "43     Vermont  29544.80\n",
       "44    Virginia 367302.70\n",
       "45  Washington 354219.10\n",
       "46   Wisconsin 238923.00"
      ]
     },
     "execution_count": 606,
     "metadata": {},
     "output_type": "execute_result"
    }
   ],
   "source": [
    "# Personal consumption expenditure is the total of the sub categories, so we only want the total per state\n",
    "spending_df = spending_df[spending_df['Description'] == 'Personal consumption expenditures']\n",
    "\n",
    "# Dropping un-used region/State\n",
    "spending_df = spending_df[(spending_df.GeoName != 'United States') & (spending_df.GeoName != 'Southwest') & (spending_df.GeoName != 'Southeast') & (spending_df.GeoName != 'Plains') & (spending_df.GeoName != 'Mideast') & (spending_df.GeoName != 'Great Lakes') & (spending_df.GeoName != 'Rocky Mountain') & (spending_df.GeoName != 'Far West') & (spending_df.GeoName != 'New England') & (spending_df.GeoName != 'West Virginia') & (spending_df.GeoName != 'Wyoming') & (spending_df.GeoName != 'Hawaii') & (spending_df.GeoName != 'New Hampshire')]\n",
    "\n",
    "# Rename column names\n",
    "spending_df.rename(columns={'GeoName':'State','2020':'spending'},inplace=True)\n",
    "\n",
    "# Filter out needed columns\n",
    "spending_df = spending_df[['State', 'spending']]\n",
    "\n",
    "# Reset index\n",
    "spending_df.reset_index(inplace=True,drop=True)\n",
    "spending_df.tail()"
   ]
  },
  {
   "cell_type": "markdown",
   "metadata": {},
   "source": [
    "#### 1. Merge the Sub-Datasets for future use<br> 2. Create house_df"
   ]
  },
  {
   "cell_type": "code",
   "execution_count": 607,
   "metadata": {},
   "outputs": [
    {
     "data": {
      "text/html": [
       "<div>\n",
       "<style scoped>\n",
       "    .dataframe tbody tr th:only-of-type {\n",
       "        vertical-align: middle;\n",
       "    }\n",
       "\n",
       "    .dataframe tbody tr th {\n",
       "        vertical-align: top;\n",
       "    }\n",
       "\n",
       "    .dataframe thead th {\n",
       "        text-align: right;\n",
       "    }\n",
       "</style>\n",
       "<table border=\"1\" class=\"dataframe\">\n",
       "  <thead>\n",
       "    <tr style=\"text-align: right;\">\n",
       "      <th></th>\n",
       "      <th>fullState</th>\n",
       "      <th>GDP</th>\n",
       "      <th>Spending</th>\n",
       "      <th>Population</th>\n",
       "      <th>Income</th>\n",
       "    </tr>\n",
       "  </thead>\n",
       "  <tbody>\n",
       "    <tr>\n",
       "      <th>42</th>\n",
       "      <td>Utah</td>\n",
       "      <td>171370.10</td>\n",
       "      <td>121445.40</td>\n",
       "      <td>3310774</td>\n",
       "      <td>169656.30</td>\n",
       "    </tr>\n",
       "    <tr>\n",
       "      <th>43</th>\n",
       "      <td>Vermont</td>\n",
       "      <td>28648.50</td>\n",
       "      <td>29544.80</td>\n",
       "      <td>623251</td>\n",
       "      <td>36894.20</td>\n",
       "    </tr>\n",
       "    <tr>\n",
       "      <th>44</th>\n",
       "      <td>Virginia</td>\n",
       "      <td>473817.50</td>\n",
       "      <td>367302.70</td>\n",
       "      <td>8603985</td>\n",
       "      <td>532256.20</td>\n",
       "    </tr>\n",
       "    <tr>\n",
       "      <th>45</th>\n",
       "      <td>Washington</td>\n",
       "      <td>532861.90</td>\n",
       "      <td>354219.10</td>\n",
       "      <td>7796941</td>\n",
       "      <td>516441.10</td>\n",
       "    </tr>\n",
       "    <tr>\n",
       "      <th>46</th>\n",
       "      <td>Wisconsin</td>\n",
       "      <td>291715.80</td>\n",
       "      <td>238923.00</td>\n",
       "      <td>5852490</td>\n",
       "      <td>324252.00</td>\n",
       "    </tr>\n",
       "  </tbody>\n",
       "</table>\n",
       "</div>"
      ],
      "text/plain": [
       "     fullState       GDP  Spending  Population    Income\n",
       "42        Utah 171370.10 121445.40     3310774 169656.30\n",
       "43     Vermont  28648.50  29544.80      623251  36894.20\n",
       "44    Virginia 473817.50 367302.70     8603985 532256.20\n",
       "45  Washington 532861.90 354219.10     7796941 516441.10\n",
       "46   Wisconsin 291715.80 238923.00     5852490 324252.00"
      ]
     },
     "execution_count": 607,
     "metadata": {},
     "output_type": "execute_result"
    }
   ],
   "source": [
    "# Making a merge_df and merge all the data by state\n",
    "merged_df = gdp_df.merge(spending_df, how = 'inner', on = 'State')\n",
    "merged_df = merged_df.merge(population_df, how = 'inner', on = 'State')\n",
    "merged_df = merged_df.merge(income_df, how = 'inner', on = 'State')\n",
    "\n",
    "# Renaming columns, renaming to fullState is because we will insert abbreviations later, and merge with future data.\n",
    "merged_df.rename(columns={'State':'fullState','spending':'Spending', 'Pop':'Population', 'income': 'Income'},inplace=True)\n",
    "merged_df.tail()"
   ]
  },
  {
   "cell_type": "code",
   "execution_count": 608,
   "metadata": {},
   "outputs": [
    {
     "data": {
      "text/html": [
       "<div>\n",
       "<style scoped>\n",
       "    .dataframe tbody tr th:only-of-type {\n",
       "        vertical-align: middle;\n",
       "    }\n",
       "\n",
       "    .dataframe tbody tr th {\n",
       "        vertical-align: top;\n",
       "    }\n",
       "\n",
       "    .dataframe thead th {\n",
       "        text-align: right;\n",
       "    }\n",
       "</style>\n",
       "<table border=\"1\" class=\"dataframe\">\n",
       "  <thead>\n",
       "    <tr style=\"text-align: right;\">\n",
       "      <th></th>\n",
       "      <th>Bedrooms</th>\n",
       "      <th>Bathrooms</th>\n",
       "      <th>Size</th>\n",
       "      <th>Type</th>\n",
       "      <th>Price</th>\n",
       "      <th>City</th>\n",
       "      <th>State</th>\n",
       "      <th>perSqFt</th>\n",
       "      <th>Region</th>\n",
       "    </tr>\n",
       "  </thead>\n",
       "  <tbody>\n",
       "    <tr>\n",
       "      <th>0</th>\n",
       "      <td>8.00</td>\n",
       "      <td>4.00</td>\n",
       "      <td>3264.00</td>\n",
       "      <td>Multifamily</td>\n",
       "      <td>459900.00</td>\n",
       "      <td>Anchorage</td>\n",
       "      <td>AK</td>\n",
       "      <td>140.90</td>\n",
       "      <td>West</td>\n",
       "    </tr>\n",
       "    <tr>\n",
       "      <th>1</th>\n",
       "      <td>2.00</td>\n",
       "      <td>1.00</td>\n",
       "      <td>778.00</td>\n",
       "      <td>Condo</td>\n",
       "      <td>89900.00</td>\n",
       "      <td>Anchorage</td>\n",
       "      <td>AK</td>\n",
       "      <td>115.55</td>\n",
       "      <td>West</td>\n",
       "    </tr>\n",
       "    <tr>\n",
       "      <th>2</th>\n",
       "      <td>8.00</td>\n",
       "      <td>4.00</td>\n",
       "      <td>3880.00</td>\n",
       "      <td>Multifamily</td>\n",
       "      <td>590000.00</td>\n",
       "      <td>Eagle River</td>\n",
       "      <td>AK</td>\n",
       "      <td>152.06</td>\n",
       "      <td>West</td>\n",
       "    </tr>\n",
       "    <tr>\n",
       "      <th>3</th>\n",
       "      <td>6.00</td>\n",
       "      <td>5.00</td>\n",
       "      <td>4640.00</td>\n",
       "      <td>House</td>\n",
       "      <td>589900.00</td>\n",
       "      <td>Chugiak</td>\n",
       "      <td>AK</td>\n",
       "      <td>127.13</td>\n",
       "      <td>West</td>\n",
       "    </tr>\n",
       "    <tr>\n",
       "      <th>4</th>\n",
       "      <td>2.00</td>\n",
       "      <td>2.00</td>\n",
       "      <td>1152.00</td>\n",
       "      <td>Condo</td>\n",
       "      <td>184000.00</td>\n",
       "      <td>Anchorage</td>\n",
       "      <td>AK</td>\n",
       "      <td>159.72</td>\n",
       "      <td>West</td>\n",
       "    </tr>\n",
       "    <tr>\n",
       "      <th>...</th>\n",
       "      <td>...</td>\n",
       "      <td>...</td>\n",
       "      <td>...</td>\n",
       "      <td>...</td>\n",
       "      <td>...</td>\n",
       "      <td>...</td>\n",
       "      <td>...</td>\n",
       "      <td>...</td>\n",
       "      <td>...</td>\n",
       "    </tr>\n",
       "    <tr>\n",
       "      <th>43847</th>\n",
       "      <td>3.00</td>\n",
       "      <td>1.00</td>\n",
       "      <td>960.00</td>\n",
       "      <td>House</td>\n",
       "      <td>184900.00</td>\n",
       "      <td>Kenosha</td>\n",
       "      <td>WI</td>\n",
       "      <td>192.60</td>\n",
       "      <td>MidWest</td>\n",
       "    </tr>\n",
       "    <tr>\n",
       "      <th>43848</th>\n",
       "      <td>5.00</td>\n",
       "      <td>3.00</td>\n",
       "      <td>2149.00</td>\n",
       "      <td>House</td>\n",
       "      <td>375000.00</td>\n",
       "      <td>Madison</td>\n",
       "      <td>WI</td>\n",
       "      <td>174.50</td>\n",
       "      <td>MidWest</td>\n",
       "    </tr>\n",
       "    <tr>\n",
       "      <th>43849</th>\n",
       "      <td>3.00</td>\n",
       "      <td>2.00</td>\n",
       "      <td>1823.00</td>\n",
       "      <td>Condo</td>\n",
       "      <td>457900.00</td>\n",
       "      <td>Verona</td>\n",
       "      <td>WI</td>\n",
       "      <td>251.18</td>\n",
       "      <td>MidWest</td>\n",
       "    </tr>\n",
       "    <tr>\n",
       "      <th>43850</th>\n",
       "      <td>4.00</td>\n",
       "      <td>6.00</td>\n",
       "      <td>6500.00</td>\n",
       "      <td>House</td>\n",
       "      <td>1500000.00</td>\n",
       "      <td>Racine</td>\n",
       "      <td>WI</td>\n",
       "      <td>230.77</td>\n",
       "      <td>MidWest</td>\n",
       "    </tr>\n",
       "    <tr>\n",
       "      <th>43851</th>\n",
       "      <td>3.00</td>\n",
       "      <td>3.00</td>\n",
       "      <td>3200.00</td>\n",
       "      <td>House</td>\n",
       "      <td>464900.00</td>\n",
       "      <td>Madison</td>\n",
       "      <td>WI</td>\n",
       "      <td>145.28</td>\n",
       "      <td>MidWest</td>\n",
       "    </tr>\n",
       "  </tbody>\n",
       "</table>\n",
       "<p>43852 rows × 9 columns</p>\n",
       "</div>"
      ],
      "text/plain": [
       "       Bedrooms  Bathrooms    Size         Type      Price         City State  \\\n",
       "0          8.00       4.00 3264.00  Multifamily  459900.00    Anchorage    AK   \n",
       "1          2.00       1.00  778.00        Condo   89900.00    Anchorage    AK   \n",
       "2          8.00       4.00 3880.00  Multifamily  590000.00  Eagle River    AK   \n",
       "3          6.00       5.00 4640.00        House  589900.00      Chugiak    AK   \n",
       "4          2.00       2.00 1152.00        Condo  184000.00    Anchorage    AK   \n",
       "...         ...        ...     ...          ...        ...          ...   ...   \n",
       "43847      3.00       1.00  960.00        House  184900.00      Kenosha    WI   \n",
       "43848      5.00       3.00 2149.00        House  375000.00      Madison    WI   \n",
       "43849      3.00       2.00 1823.00        Condo  457900.00       Verona    WI   \n",
       "43850      4.00       6.00 6500.00        House 1500000.00       Racine    WI   \n",
       "43851      3.00       3.00 3200.00        House  464900.00      Madison    WI   \n",
       "\n",
       "       perSqFt   Region  \n",
       "0       140.90     West  \n",
       "1       115.55     West  \n",
       "2       152.06     West  \n",
       "3       127.13     West  \n",
       "4       159.72     West  \n",
       "...        ...      ...  \n",
       "43847   192.60  MidWest  \n",
       "43848   174.50  MidWest  \n",
       "43849   251.18  MidWest  \n",
       "43850   230.77  MidWest  \n",
       "43851   145.28  MidWest  \n",
       "\n",
       "[43852 rows x 9 columns]"
      ]
     },
     "execution_count": 608,
     "metadata": {},
     "output_type": "execute_result"
    }
   ],
   "source": [
    "# sort df3 by state, reset index and set to our Final house_df\n",
    "df3= df3.sort_values(by='State')\n",
    "df3.reset_index(inplace=True,drop=True)\n",
    "df4=df3.drop('ZipCode', axis=1)\n",
    "df5 = df4\n",
    "df5"
   ]
  },
  {
   "cell_type": "code",
   "execution_count": 609,
   "metadata": {},
   "outputs": [
    {
     "data": {
      "text/plain": [
       "{'AK': 'Alabama',\n",
       " 'AL': 'Alaska',\n",
       " 'AR': 'Arizona',\n",
       " 'AZ': 'Arkansas',\n",
       " 'CA': 'California',\n",
       " 'CO': 'Colorado',\n",
       " 'CT': 'Connecticut',\n",
       " 'DC': 'Delaware',\n",
       " 'DE': 'District of Columbia',\n",
       " 'FL': 'Florida',\n",
       " 'GA': 'Georgia',\n",
       " 'IA': 'Idaho',\n",
       " 'ID': 'Illinois',\n",
       " 'IL': 'Indiana',\n",
       " 'IN': 'Iowa',\n",
       " 'KS': 'Kansas',\n",
       " 'KY': 'Kentucky',\n",
       " 'LA': 'Louisiana',\n",
       " 'MA': 'Maine',\n",
       " 'MD': 'Maryland',\n",
       " 'ME': 'Massachusetts',\n",
       " 'MI': 'Michigan',\n",
       " 'MN': 'Minnesota',\n",
       " 'MO': 'Mississippi',\n",
       " 'MS': 'Missouri',\n",
       " 'MT': 'Montana',\n",
       " 'NC': 'Nebraska',\n",
       " 'ND': 'Nevada',\n",
       " 'NE': 'New Jersey',\n",
       " 'NJ': 'New Mexico',\n",
       " 'NM': 'New York',\n",
       " 'NV': 'North Carolina',\n",
       " 'NY': 'North Dakota',\n",
       " 'OH': 'Ohio',\n",
       " 'OK': 'Oklahoma',\n",
       " 'OR': 'Oregon',\n",
       " 'PA': 'Pennsylvania',\n",
       " 'RI': 'Rhode Island',\n",
       " 'SC': 'South Carolina',\n",
       " 'SD': 'South Dakota',\n",
       " 'TN': 'Tennessee',\n",
       " 'TX': 'Texas',\n",
       " 'UT': 'Utah',\n",
       " 'VA': 'Virginia',\n",
       " 'WA': 'Washington',\n",
       " 'WI': 'Wisconsin'}"
      ]
     },
     "execution_count": 609,
     "metadata": {},
     "output_type": "execute_result"
    }
   ],
   "source": [
    "# making a dict of state list comparing merged_df to house_df, and prepare commands for merge\n",
    "merged_df = merged_df[(merged_df['fullState'] != 'Vermont')]\n",
    "list1 = list(df5.State.unique())\n",
    "list2 = list(merged_df.fullState)\n",
    "state_dict = dict(zip(list1,list2))\n",
    "state_dict\n"
   ]
  },
  {
   "cell_type": "code",
   "execution_count": 610,
   "metadata": {},
   "outputs": [],
   "source": [
    "state_dict.update({'AK': 'Alaska',\n",
    " 'AL': 'Alabama',\n",
    " 'AR': 'Arkansas',\n",
    " 'AZ': 'Arizona',\n",
    " 'CA': 'California',\n",
    " 'CO': 'Colorado',\n",
    " 'CT': 'Connecticut',\n",
    " 'DC': 'District of Columbia',\n",
    " 'DE': 'Delaware',\n",
    " 'FL': 'Florida',\n",
    " 'GA': 'Georgia',\n",
    " 'IA': 'Iowa',\n",
    " 'ID': 'Idaho',\n",
    " 'IL': 'Illinois',\n",
    " 'IN': 'Indiana',\n",
    " 'KS': 'Kansas',\n",
    " 'KY': 'Kentucky',\n",
    " 'LA': 'Louisiana',\n",
    " 'MA': 'Massachusetts',\n",
    " 'MD': 'Maryland',\n",
    " 'ME': 'Maine',\n",
    " 'MI': 'Michigan',\n",
    " 'MN': 'Minnesota',\n",
    " 'MO': 'Missouri',\n",
    " 'MS': 'Mississippi',\n",
    " 'MT': 'Montana',\n",
    " 'NC': 'North Carolina',\n",
    " 'ND': 'North Dakota',\n",
    " 'NE': 'Nebraska',\n",
    " 'NJ': 'New Jersey',\n",
    " 'NM': 'New Mexico',\n",
    " 'NV': 'Nevada',\n",
    " 'NY': 'New York',\n",
    " 'OH': 'Ohio',\n",
    " 'OK': 'Oklahoma',\n",
    " 'OR': 'Oregon',\n",
    " 'PA': 'Pennsylvania',\n",
    " 'RI': 'Rhode Island',\n",
    " 'SC': 'South Carolina',\n",
    " 'SD': 'South Dakota',\n",
    " 'TN': 'Tennessee',\n",
    " 'TX': 'Texas',\n",
    " 'UT': 'Utah',\n",
    " 'VA': 'Virginia',\n",
    " 'WA': 'Washington',\n",
    " 'WI': 'Wisconsin'}, inplace=True)"
   ]
  },
  {
   "cell_type": "code",
   "execution_count": 611,
   "metadata": {},
   "outputs": [],
   "source": [
    "# Creating a for loop to remove outliers based on Price\n",
    "state_list = list(df5['State'].unique())\n",
    "df6 = pd.DataFrame(columns=df5.columns)\n",
    "for a in state_list:\n",
    "    df = df5[df5['State'] == a]\n",
    "    q1 = df['Price'].quantile(0.25)\n",
    "    q3 = df['Price'].quantile(0.75)\n",
    "    iqr = q3-q1\n",
    "    fence_low  = q1-1.5*iqr\n",
    "    fence_high = q3+1.5*iqr\n",
    "    df_out = df.loc[(df['Price'] > fence_low) & (df['Price'] < fence_high)]\n",
    "    df6 = df6.append(df_out)"
   ]
  },
  {
   "cell_type": "code",
   "execution_count": 612,
   "metadata": {},
   "outputs": [],
   "source": [
    "# Creating a for loop to remove outliers based on perSqFt\n",
    "house_df = pd.DataFrame(columns=df6.columns)\n",
    "for a in state_list:\n",
    "    df = df6[df6['State'] == a]\n",
    "    q1 = df['perSqFt'].quantile(0.25)\n",
    "    q3 = df['perSqFt'].quantile(0.75)\n",
    "    iqr = q3-q1\n",
    "    fence_low  = q1-1.5*iqr\n",
    "    fence_high = q3+1.5*iqr\n",
    "    df_out = df.loc[(df['perSqFt'] > fence_low) & (df['perSqFt'] < fence_high)]\n",
    "    house_df = house_df.append(df_out)\n",
    "\n",
    "# Produce the main house_df\n",
    "house_df = house_df.reset_index(drop=True)"
   ]
  },
  {
   "cell_type": "code",
   "execution_count": 613,
   "metadata": {},
   "outputs": [],
   "source": [
    "# Function to calculate z-score for each row.\n",
    "\n",
    "# def create_val(a,b):\n",
    "#     df = house_df[house_df['State'] == b]\n",
    "#     avg = df['perSqFt'].mean()\n",
    "#     std = df['perSqFt'].std()\n",
    "#     z = (a - avg) / std \n",
    "#     return z\n",
    "\n",
    "# # creating z_score by applying function with lambda\n",
    "# house_df['z_score'] = house_df.apply(lambda x: create_val(x.perSqFt, x.State), axis = 1)\n",
    "# house_df = house_df[(house_df.z_score < 3) & (house_df.z_score > -3)]"
   ]
  },
  {
   "cell_type": "code",
   "execution_count": null,
   "metadata": {},
   "outputs": [],
   "source": []
  },
  {
   "cell_type": "markdown",
   "metadata": {},
   "source": [
    "### Data Visualization"
   ]
  },
  {
   "cell_type": "markdown",
   "metadata": {},
   "source": [
    "#### Pivot Tables and Groupby Table"
   ]
  },
  {
   "cell_type": "markdown",
   "metadata": {},
   "source": [
    "##### Describe"
   ]
  },
  {
   "cell_type": "code",
   "execution_count": 614,
   "metadata": {},
   "outputs": [
    {
     "data": {
      "text/html": [
       "<div>\n",
       "<style scoped>\n",
       "    .dataframe tbody tr th:only-of-type {\n",
       "        vertical-align: middle;\n",
       "    }\n",
       "\n",
       "    .dataframe tbody tr th {\n",
       "        vertical-align: top;\n",
       "    }\n",
       "\n",
       "    .dataframe thead th {\n",
       "        text-align: right;\n",
       "    }\n",
       "</style>\n",
       "<table border=\"1\" class=\"dataframe\">\n",
       "  <thead>\n",
       "    <tr style=\"text-align: right;\">\n",
       "      <th></th>\n",
       "      <th>Bedrooms</th>\n",
       "      <th>Bathrooms</th>\n",
       "      <th>Size</th>\n",
       "      <th>Price</th>\n",
       "      <th>perSqFt</th>\n",
       "    </tr>\n",
       "  </thead>\n",
       "  <tbody>\n",
       "    <tr>\n",
       "      <th>count</th>\n",
       "      <td>38535.00</td>\n",
       "      <td>38535.00</td>\n",
       "      <td>38535.00</td>\n",
       "      <td>38535.00</td>\n",
       "      <td>38535.00</td>\n",
       "    </tr>\n",
       "    <tr>\n",
       "      <th>mean</th>\n",
       "      <td>3.33</td>\n",
       "      <td>2.43</td>\n",
       "      <td>2012.73</td>\n",
       "      <td>407061.93</td>\n",
       "      <td>215.36</td>\n",
       "    </tr>\n",
       "    <tr>\n",
       "      <th>std</th>\n",
       "      <td>1.33</td>\n",
       "      <td>1.08</td>\n",
       "      <td>1674.00</td>\n",
       "      <td>326018.67</td>\n",
       "      <td>159.17</td>\n",
       "    </tr>\n",
       "    <tr>\n",
       "      <th>min</th>\n",
       "      <td>2.00</td>\n",
       "      <td>1.00</td>\n",
       "      <td>397.00</td>\n",
       "      <td>1.00</td>\n",
       "      <td>0.00</td>\n",
       "    </tr>\n",
       "    <tr>\n",
       "      <th>25%</th>\n",
       "      <td>3.00</td>\n",
       "      <td>2.00</td>\n",
       "      <td>1244.00</td>\n",
       "      <td>190000.00</td>\n",
       "      <td>117.97</td>\n",
       "    </tr>\n",
       "    <tr>\n",
       "      <th>50%</th>\n",
       "      <td>3.00</td>\n",
       "      <td>2.00</td>\n",
       "      <td>1702.00</td>\n",
       "      <td>324900.00</td>\n",
       "      <td>172.08</td>\n",
       "    </tr>\n",
       "    <tr>\n",
       "      <th>75%</th>\n",
       "      <td>4.00</td>\n",
       "      <td>3.00</td>\n",
       "      <td>2410.00</td>\n",
       "      <td>525000.00</td>\n",
       "      <td>256.56</td>\n",
       "    </tr>\n",
       "    <tr>\n",
       "      <th>max</th>\n",
       "      <td>84.00</td>\n",
       "      <td>24.00</td>\n",
       "      <td>155000.00</td>\n",
       "      <td>2500000.00</td>\n",
       "      <td>1293.53</td>\n",
       "    </tr>\n",
       "  </tbody>\n",
       "</table>\n",
       "</div>"
      ],
      "text/plain": [
       "       Bedrooms  Bathrooms      Size      Price  perSqFt\n",
       "count  38535.00   38535.00  38535.00   38535.00 38535.00\n",
       "mean       3.33       2.43   2012.73  407061.93   215.36\n",
       "std        1.33       1.08   1674.00  326018.67   159.17\n",
       "min        2.00       1.00    397.00       1.00     0.00\n",
       "25%        3.00       2.00   1244.00  190000.00   117.97\n",
       "50%        3.00       2.00   1702.00  324900.00   172.08\n",
       "75%        4.00       3.00   2410.00  525000.00   256.56\n",
       "max       84.00      24.00 155000.00 2500000.00  1293.53"
      ]
     },
     "execution_count": 614,
     "metadata": {},
     "output_type": "execute_result"
    }
   ],
   "source": [
    "# Describe the house_df data\n",
    "house_df.describe()\n"
   ]
  },
  {
   "cell_type": "markdown",
   "metadata": {},
   "source": [
    "Across US the median are, 3 Bed 2 Bath, 1792 squarefeet, price of 360,000<br>\n",
    "Average of 3.45 Bedrooms, 2.7 Bathrooms, 2400 squarefeet price of 720,000\n"
   ]
  },
  {
   "cell_type": "markdown",
   "metadata": {},
   "source": [
    "##### Pivot Tables and Groupby Table"
   ]
  },
  {
   "cell_type": "code",
   "execution_count": 615,
   "metadata": {},
   "outputs": [
    {
     "data": {
      "text/html": [
       "<div>\n",
       "<style scoped>\n",
       "    .dataframe tbody tr th:only-of-type {\n",
       "        vertical-align: middle;\n",
       "    }\n",
       "\n",
       "    .dataframe tbody tr th {\n",
       "        vertical-align: top;\n",
       "    }\n",
       "\n",
       "    .dataframe thead th {\n",
       "        text-align: right;\n",
       "    }\n",
       "</style>\n",
       "<table border=\"1\" class=\"dataframe\">\n",
       "  <thead>\n",
       "    <tr style=\"text-align: right;\">\n",
       "      <th></th>\n",
       "      <th>Bathrooms</th>\n",
       "      <th>Bedrooms</th>\n",
       "      <th>Price</th>\n",
       "      <th>Size</th>\n",
       "      <th>perSqFt</th>\n",
       "    </tr>\n",
       "    <tr>\n",
       "      <th>Region</th>\n",
       "      <th></th>\n",
       "      <th></th>\n",
       "      <th></th>\n",
       "      <th></th>\n",
       "      <th></th>\n",
       "    </tr>\n",
       "  </thead>\n",
       "  <tbody>\n",
       "    <tr>\n",
       "      <th>MidWest</th>\n",
       "      <td>2.11</td>\n",
       "      <td>3.16</td>\n",
       "      <td>232369.77</td>\n",
       "      <td>1855.82</td>\n",
       "      <td>126.28</td>\n",
       "    </tr>\n",
       "    <tr>\n",
       "      <th>North</th>\n",
       "      <td>2.27</td>\n",
       "      <td>3.53</td>\n",
       "      <td>458511.05</td>\n",
       "      <td>2098.09</td>\n",
       "      <td>278.13</td>\n",
       "    </tr>\n",
       "    <tr>\n",
       "      <th>South</th>\n",
       "      <td>2.51</td>\n",
       "      <td>3.26</td>\n",
       "      <td>313300.11</td>\n",
       "      <td>2026.79</td>\n",
       "      <td>156.33</td>\n",
       "    </tr>\n",
       "    <tr>\n",
       "      <th>West</th>\n",
       "      <td>2.59</td>\n",
       "      <td>3.46</td>\n",
       "      <td>624722.63</td>\n",
       "      <td>2052.39</td>\n",
       "      <td>326.17</td>\n",
       "    </tr>\n",
       "  </tbody>\n",
       "</table>\n",
       "</div>"
      ],
      "text/plain": [
       "         Bathrooms  Bedrooms     Price    Size  perSqFt\n",
       "Region                                                 \n",
       "MidWest       2.11      3.16 232369.77 1855.82   126.28\n",
       "North         2.27      3.53 458511.05 2098.09   278.13\n",
       "South         2.51      3.26 313300.11 2026.79   156.33\n",
       "West          2.59      3.46 624722.63 2052.39   326.17"
      ]
     },
     "execution_count": 615,
     "metadata": {},
     "output_type": "execute_result"
    }
   ],
   "source": [
    "# Pivot Table One\n",
    "# by region (big picture/general overview), shows the region's average Bedrooms, Batherooms, Price, Size, and per SqFt\n",
    "pd.set_option('display.float_format', '{:.2f}'.format)\n",
    "pd.pivot_table(house_df, values=['perSqFt','Size','Bedrooms','Bathrooms','Price'], index=['Region'])"
   ]
  },
  {
   "cell_type": "code",
   "execution_count": 616,
   "metadata": {},
   "outputs": [
    {
     "data": {
      "text/html": [
       "<div>\n",
       "<style scoped>\n",
       "    .dataframe tbody tr th:only-of-type {\n",
       "        vertical-align: middle;\n",
       "    }\n",
       "\n",
       "    .dataframe tbody tr th {\n",
       "        vertical-align: top;\n",
       "    }\n",
       "\n",
       "    .dataframe thead th {\n",
       "        text-align: right;\n",
       "    }\n",
       "</style>\n",
       "<table border=\"1\" class=\"dataframe\">\n",
       "  <thead>\n",
       "    <tr style=\"text-align: right;\">\n",
       "      <th></th>\n",
       "      <th>Bathrooms</th>\n",
       "      <th>Bedrooms</th>\n",
       "      <th>Price</th>\n",
       "      <th>Size</th>\n",
       "      <th>perSqFt</th>\n",
       "    </tr>\n",
       "    <tr>\n",
       "      <th>State</th>\n",
       "      <th></th>\n",
       "      <th></th>\n",
       "      <th></th>\n",
       "      <th></th>\n",
       "      <th></th>\n",
       "    </tr>\n",
       "  </thead>\n",
       "  <tbody>\n",
       "    <tr>\n",
       "      <th>AK</th>\n",
       "      <td>2.97</td>\n",
       "      <td>4.59</td>\n",
       "      <td>363202.40</td>\n",
       "      <td>2392.84</td>\n",
       "      <td>165.54</td>\n",
       "    </tr>\n",
       "    <tr>\n",
       "      <th>AL</th>\n",
       "      <td>2.62</td>\n",
       "      <td>3.38</td>\n",
       "      <td>305048.89</td>\n",
       "      <td>2319.30</td>\n",
       "      <td>124.37</td>\n",
       "    </tr>\n",
       "    <tr>\n",
       "      <th>AR</th>\n",
       "      <td>2.96</td>\n",
       "      <td>3.64</td>\n",
       "      <td>337014.73</td>\n",
       "      <td>2804.81</td>\n",
       "      <td>117.71</td>\n",
       "    </tr>\n",
       "    <tr>\n",
       "      <th>AZ</th>\n",
       "      <td>2.51</td>\n",
       "      <td>3.34</td>\n",
       "      <td>466962.46</td>\n",
       "      <td>2070.79</td>\n",
       "      <td>224.66</td>\n",
       "    </tr>\n",
       "    <tr>\n",
       "      <th>CA</th>\n",
       "      <td>2.56</td>\n",
       "      <td>3.44</td>\n",
       "      <td>776273.37</td>\n",
       "      <td>1965.24</td>\n",
       "      <td>424.09</td>\n",
       "    </tr>\n",
       "    <tr>\n",
       "      <th>CO</th>\n",
       "      <td>2.64</td>\n",
       "      <td>3.26</td>\n",
       "      <td>581882.04</td>\n",
       "      <td>2114.61</td>\n",
       "      <td>289.85</td>\n",
       "    </tr>\n",
       "    <tr>\n",
       "      <th>CT</th>\n",
       "      <td>2.57</td>\n",
       "      <td>4.15</td>\n",
       "      <td>365254.44</td>\n",
       "      <td>2359.92</td>\n",
       "      <td>177.04</td>\n",
       "    </tr>\n",
       "    <tr>\n",
       "      <th>DC</th>\n",
       "      <td>2.47</td>\n",
       "      <td>2.78</td>\n",
       "      <td>732301.21</td>\n",
       "      <td>1525.06</td>\n",
       "      <td>500.22</td>\n",
       "    </tr>\n",
       "    <tr>\n",
       "      <th>DE</th>\n",
       "      <td>1.83</td>\n",
       "      <td>3.11</td>\n",
       "      <td>192903.10</td>\n",
       "      <td>1537.86</td>\n",
       "      <td>121.23</td>\n",
       "    </tr>\n",
       "    <tr>\n",
       "      <th>FL</th>\n",
       "      <td>2.28</td>\n",
       "      <td>2.94</td>\n",
       "      <td>322036.59</td>\n",
       "      <td>1596.70</td>\n",
       "      <td>201.74</td>\n",
       "    </tr>\n",
       "    <tr>\n",
       "      <th>GA</th>\n",
       "      <td>2.41</td>\n",
       "      <td>3.32</td>\n",
       "      <td>253325.04</td>\n",
       "      <td>1969.07</td>\n",
       "      <td>125.18</td>\n",
       "    </tr>\n",
       "    <tr>\n",
       "      <th>IA</th>\n",
       "      <td>1.95</td>\n",
       "      <td>3.13</td>\n",
       "      <td>149252.38</td>\n",
       "      <td>1686.97</td>\n",
       "      <td>90.80</td>\n",
       "    </tr>\n",
       "    <tr>\n",
       "      <th>ID</th>\n",
       "      <td>2.75</td>\n",
       "      <td>3.91</td>\n",
       "      <td>571593.22</td>\n",
       "      <td>2321.74</td>\n",
       "      <td>253.87</td>\n",
       "    </tr>\n",
       "    <tr>\n",
       "      <th>IL</th>\n",
       "      <td>2.24</td>\n",
       "      <td>2.99</td>\n",
       "      <td>268614.69</td>\n",
       "      <td>1756.19</td>\n",
       "      <td>159.48</td>\n",
       "    </tr>\n",
       "    <tr>\n",
       "      <th>IN</th>\n",
       "      <td>2.13</td>\n",
       "      <td>3.09</td>\n",
       "      <td>216826.92</td>\n",
       "      <td>2076.28</td>\n",
       "      <td>98.88</td>\n",
       "    </tr>\n",
       "  </tbody>\n",
       "</table>\n",
       "</div>"
      ],
      "text/plain": [
       "       Bathrooms  Bedrooms     Price    Size  perSqFt\n",
       "State                                                \n",
       "AK          2.97      4.59 363202.40 2392.84   165.54\n",
       "AL          2.62      3.38 305048.89 2319.30   124.37\n",
       "AR          2.96      3.64 337014.73 2804.81   117.71\n",
       "AZ          2.51      3.34 466962.46 2070.79   224.66\n",
       "CA          2.56      3.44 776273.37 1965.24   424.09\n",
       "CO          2.64      3.26 581882.04 2114.61   289.85\n",
       "CT          2.57      4.15 365254.44 2359.92   177.04\n",
       "DC          2.47      2.78 732301.21 1525.06   500.22\n",
       "DE          1.83      3.11 192903.10 1537.86   121.23\n",
       "FL          2.28      2.94 322036.59 1596.70   201.74\n",
       "GA          2.41      3.32 253325.04 1969.07   125.18\n",
       "IA          1.95      3.13 149252.38 1686.97    90.80\n",
       "ID          2.75      3.91 571593.22 2321.74   253.87\n",
       "IL          2.24      2.99 268614.69 1756.19   159.48\n",
       "IN          2.13      3.09 216826.92 2076.28    98.88"
      ]
     },
     "execution_count": 616,
     "metadata": {},
     "output_type": "execute_result"
    }
   ],
   "source": [
    "# Piviot Tabel Two, \n",
    "# setting format display to float with 2 decimal places\n",
    "# by state, shows the region's average Bedrooms, Batherooms, Price, Size, and per SqFt\n",
    "pd.set_option('display.float_format', '{:.2f}'.format)\n",
    "pivot_state = pd.pivot_table(house_df, values=['perSqFt','Size','Bedrooms','Bathrooms','Price'], index=['State'])\n",
    "pivot_state.head(15)"
   ]
  },
  {
   "cell_type": "code",
   "execution_count": 617,
   "metadata": {},
   "outputs": [
    {
     "data": {
      "text/html": [
       "<div>\n",
       "<style scoped>\n",
       "    .dataframe tbody tr th:only-of-type {\n",
       "        vertical-align: middle;\n",
       "    }\n",
       "\n",
       "    .dataframe tbody tr th {\n",
       "        vertical-align: top;\n",
       "    }\n",
       "\n",
       "    .dataframe thead th {\n",
       "        text-align: right;\n",
       "    }\n",
       "</style>\n",
       "<table border=\"1\" class=\"dataframe\">\n",
       "  <thead>\n",
       "    <tr style=\"text-align: right;\">\n",
       "      <th></th>\n",
       "      <th></th>\n",
       "      <th>Bedrooms</th>\n",
       "      <th>Bathrooms</th>\n",
       "      <th>Size</th>\n",
       "      <th>Price</th>\n",
       "      <th>perSqFt</th>\n",
       "    </tr>\n",
       "    <tr>\n",
       "      <th>Region</th>\n",
       "      <th>State</th>\n",
       "      <th></th>\n",
       "      <th></th>\n",
       "      <th></th>\n",
       "      <th></th>\n",
       "      <th></th>\n",
       "    </tr>\n",
       "  </thead>\n",
       "  <tbody>\n",
       "    <tr>\n",
       "      <th rowspan=\"12\" valign=\"top\">MidWest</th>\n",
       "      <th>IA</th>\n",
       "      <td>3.13</td>\n",
       "      <td>1.95</td>\n",
       "      <td>1686.97</td>\n",
       "      <td>149252.38</td>\n",
       "      <td>90.80</td>\n",
       "    </tr>\n",
       "    <tr>\n",
       "      <th>IL</th>\n",
       "      <td>2.99</td>\n",
       "      <td>2.24</td>\n",
       "      <td>1756.19</td>\n",
       "      <td>268614.69</td>\n",
       "      <td>159.48</td>\n",
       "    </tr>\n",
       "    <tr>\n",
       "      <th>IN</th>\n",
       "      <td>3.09</td>\n",
       "      <td>2.13</td>\n",
       "      <td>2076.28</td>\n",
       "      <td>216826.92</td>\n",
       "      <td>98.88</td>\n",
       "    </tr>\n",
       "    <tr>\n",
       "      <th>KS</th>\n",
       "      <td>3.41</td>\n",
       "      <td>2.55</td>\n",
       "      <td>2287.53</td>\n",
       "      <td>259040.19</td>\n",
       "      <td>108.62</td>\n",
       "    </tr>\n",
       "    <tr>\n",
       "      <th>MI</th>\n",
       "      <td>3.13</td>\n",
       "      <td>1.81</td>\n",
       "      <td>1587.69</td>\n",
       "      <td>142267.57</td>\n",
       "      <td>86.42</td>\n",
       "    </tr>\n",
       "    <tr>\n",
       "      <th>MN</th>\n",
       "      <td>3.11</td>\n",
       "      <td>2.18</td>\n",
       "      <td>1850.69</td>\n",
       "      <td>369010.68</td>\n",
       "      <td>205.52</td>\n",
       "    </tr>\n",
       "    <tr>\n",
       "      <th>MO</th>\n",
       "      <td>2.97</td>\n",
       "      <td>2.23</td>\n",
       "      <td>1944.31</td>\n",
       "      <td>238783.35</td>\n",
       "      <td>123.43</td>\n",
       "    </tr>\n",
       "    <tr>\n",
       "      <th>ND</th>\n",
       "      <td>3.58</td>\n",
       "      <td>2.22</td>\n",
       "      <td>2286.61</td>\n",
       "      <td>259991.39</td>\n",
       "      <td>112.95</td>\n",
       "    </tr>\n",
       "    <tr>\n",
       "      <th>NE</th>\n",
       "      <td>3.38</td>\n",
       "      <td>2.45</td>\n",
       "      <td>2150.49</td>\n",
       "      <td>276671.76</td>\n",
       "      <td>127.82</td>\n",
       "    </tr>\n",
       "    <tr>\n",
       "      <th>OH</th>\n",
       "      <td>3.35</td>\n",
       "      <td>1.83</td>\n",
       "      <td>1744.94</td>\n",
       "      <td>134805.94</td>\n",
       "      <td>79.73</td>\n",
       "    </tr>\n",
       "    <tr>\n",
       "      <th>SD</th>\n",
       "      <td>3.44</td>\n",
       "      <td>2.40</td>\n",
       "      <td>2031.12</td>\n",
       "      <td>362883.80</td>\n",
       "      <td>181.82</td>\n",
       "    </tr>\n",
       "    <tr>\n",
       "      <th>WI</th>\n",
       "      <td>3.25</td>\n",
       "      <td>2.32</td>\n",
       "      <td>1906.92</td>\n",
       "      <td>297997.15</td>\n",
       "      <td>161.82</td>\n",
       "    </tr>\n",
       "    <tr>\n",
       "      <th rowspan=\"8\" valign=\"top\">North</th>\n",
       "      <th>CT</th>\n",
       "      <td>4.15</td>\n",
       "      <td>2.57</td>\n",
       "      <td>2359.92</td>\n",
       "      <td>365254.44</td>\n",
       "      <td>177.04</td>\n",
       "    </tr>\n",
       "    <tr>\n",
       "      <th>DC</th>\n",
       "      <td>2.78</td>\n",
       "      <td>2.47</td>\n",
       "      <td>1525.06</td>\n",
       "      <td>732301.21</td>\n",
       "      <td>500.22</td>\n",
       "    </tr>\n",
       "    <tr>\n",
       "      <th>MA</th>\n",
       "      <td>3.47</td>\n",
       "      <td>2.39</td>\n",
       "      <td>1845.42</td>\n",
       "      <td>800687.64</td>\n",
       "      <td>501.03</td>\n",
       "    </tr>\n",
       "    <tr>\n",
       "      <th>ME</th>\n",
       "      <td>2.83</td>\n",
       "      <td>2.14</td>\n",
       "      <td>1673.86</td>\n",
       "      <td>713430.86</td>\n",
       "      <td>437.12</td>\n",
       "    </tr>\n",
       "    <tr>\n",
       "      <th>NJ</th>\n",
       "      <td>4.01</td>\n",
       "      <td>2.36</td>\n",
       "      <td>3455.86</td>\n",
       "      <td>386702.32</td>\n",
       "      <td>224.85</td>\n",
       "    </tr>\n",
       "    <tr>\n",
       "      <th>NY</th>\n",
       "      <td>3.56</td>\n",
       "      <td>2.19</td>\n",
       "      <td>1970.86</td>\n",
       "      <td>394074.03</td>\n",
       "      <td>232.16</td>\n",
       "    </tr>\n",
       "    <tr>\n",
       "      <th>PA</th>\n",
       "      <td>3.22</td>\n",
       "      <td>2.13</td>\n",
       "      <td>1680.58</td>\n",
       "      <td>279675.06</td>\n",
       "      <td>177.68</td>\n",
       "    </tr>\n",
       "    <tr>\n",
       "      <th>RI</th>\n",
       "      <td>3.14</td>\n",
       "      <td>1.98</td>\n",
       "      <td>1750.53</td>\n",
       "      <td>305050.04</td>\n",
       "      <td>191.57</td>\n",
       "    </tr>\n",
       "    <tr>\n",
       "      <th rowspan=\"15\" valign=\"top\">South</th>\n",
       "      <th>AL</th>\n",
       "      <td>3.38</td>\n",
       "      <td>2.62</td>\n",
       "      <td>2319.30</td>\n",
       "      <td>305048.89</td>\n",
       "      <td>124.37</td>\n",
       "    </tr>\n",
       "    <tr>\n",
       "      <th>AR</th>\n",
       "      <td>3.64</td>\n",
       "      <td>2.96</td>\n",
       "      <td>2804.81</td>\n",
       "      <td>337014.73</td>\n",
       "      <td>117.71</td>\n",
       "    </tr>\n",
       "    <tr>\n",
       "      <th>DE</th>\n",
       "      <td>3.11</td>\n",
       "      <td>1.83</td>\n",
       "      <td>1537.86</td>\n",
       "      <td>192903.10</td>\n",
       "      <td>121.23</td>\n",
       "    </tr>\n",
       "    <tr>\n",
       "      <th>FL</th>\n",
       "      <td>2.94</td>\n",
       "      <td>2.28</td>\n",
       "      <td>1596.70</td>\n",
       "      <td>322036.59</td>\n",
       "      <td>201.74</td>\n",
       "    </tr>\n",
       "    <tr>\n",
       "      <th>GA</th>\n",
       "      <td>3.32</td>\n",
       "      <td>2.41</td>\n",
       "      <td>1969.07</td>\n",
       "      <td>253325.04</td>\n",
       "      <td>125.18</td>\n",
       "    </tr>\n",
       "    <tr>\n",
       "      <th>KY</th>\n",
       "      <td>3.32</td>\n",
       "      <td>2.77</td>\n",
       "      <td>2387.65</td>\n",
       "      <td>394384.46</td>\n",
       "      <td>165.15</td>\n",
       "    </tr>\n",
       "    <tr>\n",
       "      <th>LA</th>\n",
       "      <td>3.28</td>\n",
       "      <td>2.32</td>\n",
       "      <td>2040.95</td>\n",
       "      <td>281259.07</td>\n",
       "      <td>123.74</td>\n",
       "    </tr>\n",
       "    <tr>\n",
       "      <th>MD</th>\n",
       "      <td>2.98</td>\n",
       "      <td>2.28</td>\n",
       "      <td>1577.91</td>\n",
       "      <td>240832.79</td>\n",
       "      <td>157.61</td>\n",
       "    </tr>\n",
       "    <tr>\n",
       "      <th>MS</th>\n",
       "      <td>3.30</td>\n",
       "      <td>2.29</td>\n",
       "      <td>1907.25</td>\n",
       "      <td>181302.03</td>\n",
       "      <td>90.56</td>\n",
       "    </tr>\n",
       "    <tr>\n",
       "      <th>NC</th>\n",
       "      <td>3.26</td>\n",
       "      <td>2.84</td>\n",
       "      <td>2235.15</td>\n",
       "      <td>478810.32</td>\n",
       "      <td>221.57</td>\n",
       "    </tr>\n",
       "    <tr>\n",
       "      <th>OK</th>\n",
       "      <td>3.41</td>\n",
       "      <td>2.57</td>\n",
       "      <td>2511.43</td>\n",
       "      <td>354887.77</td>\n",
       "      <td>131.90</td>\n",
       "    </tr>\n",
       "    <tr>\n",
       "      <th>SC</th>\n",
       "      <td>3.48</td>\n",
       "      <td>2.65</td>\n",
       "      <td>2039.93</td>\n",
       "      <td>378263.16</td>\n",
       "      <td>185.20</td>\n",
       "    </tr>\n",
       "    <tr>\n",
       "      <th>TN</th>\n",
       "      <td>3.26</td>\n",
       "      <td>2.58</td>\n",
       "      <td>2130.56</td>\n",
       "      <td>427594.91</td>\n",
       "      <td>203.61</td>\n",
       "    </tr>\n",
       "    <tr>\n",
       "      <th>TX</th>\n",
       "      <td>3.42</td>\n",
       "      <td>2.62</td>\n",
       "      <td>2170.51</td>\n",
       "      <td>277502.48</td>\n",
       "      <td>128.98</td>\n",
       "    </tr>\n",
       "    <tr>\n",
       "      <th>VA</th>\n",
       "      <td>3.23</td>\n",
       "      <td>2.52</td>\n",
       "      <td>1806.27</td>\n",
       "      <td>291610.56</td>\n",
       "      <td>161.60</td>\n",
       "    </tr>\n",
       "    <tr>\n",
       "      <th rowspan=\"11\" valign=\"top\">West</th>\n",
       "      <th>AK</th>\n",
       "      <td>4.59</td>\n",
       "      <td>2.97</td>\n",
       "      <td>2392.84</td>\n",
       "      <td>363202.40</td>\n",
       "      <td>165.54</td>\n",
       "    </tr>\n",
       "    <tr>\n",
       "      <th>AZ</th>\n",
       "      <td>3.34</td>\n",
       "      <td>2.51</td>\n",
       "      <td>2070.79</td>\n",
       "      <td>466962.46</td>\n",
       "      <td>224.66</td>\n",
       "    </tr>\n",
       "    <tr>\n",
       "      <th>CA</th>\n",
       "      <td>3.44</td>\n",
       "      <td>2.56</td>\n",
       "      <td>1965.24</td>\n",
       "      <td>776273.37</td>\n",
       "      <td>424.09</td>\n",
       "    </tr>\n",
       "    <tr>\n",
       "      <th>CO</th>\n",
       "      <td>3.26</td>\n",
       "      <td>2.64</td>\n",
       "      <td>2114.61</td>\n",
       "      <td>581882.04</td>\n",
       "      <td>289.85</td>\n",
       "    </tr>\n",
       "    <tr>\n",
       "      <th>ID</th>\n",
       "      <td>3.91</td>\n",
       "      <td>2.75</td>\n",
       "      <td>2321.74</td>\n",
       "      <td>571593.22</td>\n",
       "      <td>253.87</td>\n",
       "    </tr>\n",
       "    <tr>\n",
       "      <th>MT</th>\n",
       "      <td>3.45</td>\n",
       "      <td>2.48</td>\n",
       "      <td>2464.15</td>\n",
       "      <td>417416.81</td>\n",
       "      <td>168.74</td>\n",
       "    </tr>\n",
       "    <tr>\n",
       "      <th>NM</th>\n",
       "      <td>3.37</td>\n",
       "      <td>2.46</td>\n",
       "      <td>2096.72</td>\n",
       "      <td>315167.86</td>\n",
       "      <td>152.91</td>\n",
       "    </tr>\n",
       "    <tr>\n",
       "      <th>NV</th>\n",
       "      <td>3.32</td>\n",
       "      <td>2.71</td>\n",
       "      <td>1999.47</td>\n",
       "      <td>400673.05</td>\n",
       "      <td>202.44</td>\n",
       "    </tr>\n",
       "    <tr>\n",
       "      <th>OR</th>\n",
       "      <td>3.44</td>\n",
       "      <td>2.83</td>\n",
       "      <td>2299.38</td>\n",
       "      <td>556123.87</td>\n",
       "      <td>250.94</td>\n",
       "    </tr>\n",
       "    <tr>\n",
       "      <th>UT</th>\n",
       "      <td>4.15</td>\n",
       "      <td>2.73</td>\n",
       "      <td>2524.02</td>\n",
       "      <td>470316.15</td>\n",
       "      <td>200.74</td>\n",
       "    </tr>\n",
       "    <tr>\n",
       "      <th>WA</th>\n",
       "      <td>3.60</td>\n",
       "      <td>2.49</td>\n",
       "      <td>2240.48</td>\n",
       "      <td>485569.83</td>\n",
       "      <td>230.23</td>\n",
       "    </tr>\n",
       "  </tbody>\n",
       "</table>\n",
       "</div>"
      ],
      "text/plain": [
       "               Bedrooms  Bathrooms    Size     Price  perSqFt\n",
       "Region  State                                                \n",
       "MidWest IA         3.13       1.95 1686.97 149252.38    90.80\n",
       "        IL         2.99       2.24 1756.19 268614.69   159.48\n",
       "        IN         3.09       2.13 2076.28 216826.92    98.88\n",
       "        KS         3.41       2.55 2287.53 259040.19   108.62\n",
       "        MI         3.13       1.81 1587.69 142267.57    86.42\n",
       "        MN         3.11       2.18 1850.69 369010.68   205.52\n",
       "        MO         2.97       2.23 1944.31 238783.35   123.43\n",
       "        ND         3.58       2.22 2286.61 259991.39   112.95\n",
       "        NE         3.38       2.45 2150.49 276671.76   127.82\n",
       "        OH         3.35       1.83 1744.94 134805.94    79.73\n",
       "        SD         3.44       2.40 2031.12 362883.80   181.82\n",
       "        WI         3.25       2.32 1906.92 297997.15   161.82\n",
       "North   CT         4.15       2.57 2359.92 365254.44   177.04\n",
       "        DC         2.78       2.47 1525.06 732301.21   500.22\n",
       "        MA         3.47       2.39 1845.42 800687.64   501.03\n",
       "        ME         2.83       2.14 1673.86 713430.86   437.12\n",
       "        NJ         4.01       2.36 3455.86 386702.32   224.85\n",
       "        NY         3.56       2.19 1970.86 394074.03   232.16\n",
       "        PA         3.22       2.13 1680.58 279675.06   177.68\n",
       "        RI         3.14       1.98 1750.53 305050.04   191.57\n",
       "South   AL         3.38       2.62 2319.30 305048.89   124.37\n",
       "        AR         3.64       2.96 2804.81 337014.73   117.71\n",
       "        DE         3.11       1.83 1537.86 192903.10   121.23\n",
       "        FL         2.94       2.28 1596.70 322036.59   201.74\n",
       "        GA         3.32       2.41 1969.07 253325.04   125.18\n",
       "        KY         3.32       2.77 2387.65 394384.46   165.15\n",
       "        LA         3.28       2.32 2040.95 281259.07   123.74\n",
       "        MD         2.98       2.28 1577.91 240832.79   157.61\n",
       "        MS         3.30       2.29 1907.25 181302.03    90.56\n",
       "        NC         3.26       2.84 2235.15 478810.32   221.57\n",
       "        OK         3.41       2.57 2511.43 354887.77   131.90\n",
       "        SC         3.48       2.65 2039.93 378263.16   185.20\n",
       "        TN         3.26       2.58 2130.56 427594.91   203.61\n",
       "        TX         3.42       2.62 2170.51 277502.48   128.98\n",
       "        VA         3.23       2.52 1806.27 291610.56   161.60\n",
       "West    AK         4.59       2.97 2392.84 363202.40   165.54\n",
       "        AZ         3.34       2.51 2070.79 466962.46   224.66\n",
       "        CA         3.44       2.56 1965.24 776273.37   424.09\n",
       "        CO         3.26       2.64 2114.61 581882.04   289.85\n",
       "        ID         3.91       2.75 2321.74 571593.22   253.87\n",
       "        MT         3.45       2.48 2464.15 417416.81   168.74\n",
       "        NM         3.37       2.46 2096.72 315167.86   152.91\n",
       "        NV         3.32       2.71 1999.47 400673.05   202.44\n",
       "        OR         3.44       2.83 2299.38 556123.87   250.94\n",
       "        UT         4.15       2.73 2524.02 470316.15   200.74\n",
       "        WA         3.60       2.49 2240.48 485569.83   230.23"
      ]
     },
     "execution_count": 617,
     "metadata": {},
     "output_type": "execute_result"
    }
   ],
   "source": [
    "# Made a groupby table so data can be viewed by Region then State\n",
    "house_df.groupby(['Region','State']).mean()"
   ]
  },
  {
   "cell_type": "markdown",
   "metadata": {},
   "source": [
    "#### Additional Cleaning and Organizing to create State_df"
   ]
  },
  {
   "cell_type": "code",
   "execution_count": 618,
   "metadata": {},
   "outputs": [],
   "source": [
    "# Create a column for house counts per State by making a valuecount_df\n",
    "valuecount_df = pd.DataFrame(house_df['State'].value_counts())\n",
    "# reset index\n",
    "valuecount_df2 = valuecount_df.reset_index()\n",
    "# rename column\n",
    "valuecount_df2 = valuecount_df2.rename(columns={\"State\": \"HouseCount\", 'index':'State'})\n",
    "# sort by state\n",
    "valuecount_df2 = valuecount_df2.sort_values(by = \"State\")\n",
    "# reset index\n",
    "valuecount_df2 = valuecount_df2.reset_index(drop=True)\n"
   ]
  },
  {
   "cell_type": "code",
   "execution_count": 619,
   "metadata": {},
   "outputs": [
    {
     "data": {
      "text/html": [
       "<div>\n",
       "<style scoped>\n",
       "    .dataframe tbody tr th:only-of-type {\n",
       "        vertical-align: middle;\n",
       "    }\n",
       "\n",
       "    .dataframe tbody tr th {\n",
       "        vertical-align: top;\n",
       "    }\n",
       "\n",
       "    .dataframe thead th {\n",
       "        text-align: right;\n",
       "    }\n",
       "</style>\n",
       "<table border=\"1\" class=\"dataframe\">\n",
       "  <thead>\n",
       "    <tr style=\"text-align: right;\">\n",
       "      <th></th>\n",
       "      <th>State</th>\n",
       "      <th>Bathrooms</th>\n",
       "      <th>Bedrooms</th>\n",
       "      <th>Price</th>\n",
       "      <th>Size</th>\n",
       "      <th>perSqFt</th>\n",
       "      <th>HouseCount</th>\n",
       "      <th>fullState</th>\n",
       "      <th>Region</th>\n",
       "    </tr>\n",
       "  </thead>\n",
       "  <tbody>\n",
       "    <tr>\n",
       "      <th>0</th>\n",
       "      <td>AK</td>\n",
       "      <td>2.97</td>\n",
       "      <td>4.59</td>\n",
       "      <td>363202.40</td>\n",
       "      <td>2392.84</td>\n",
       "      <td>165.54</td>\n",
       "      <td>403</td>\n",
       "      <td>Alaska</td>\n",
       "      <td>West</td>\n",
       "    </tr>\n",
       "    <tr>\n",
       "      <th>1</th>\n",
       "      <td>AL</td>\n",
       "      <td>2.62</td>\n",
       "      <td>3.38</td>\n",
       "      <td>305048.89</td>\n",
       "      <td>2319.30</td>\n",
       "      <td>124.37</td>\n",
       "      <td>892</td>\n",
       "      <td>Alabama</td>\n",
       "      <td>South</td>\n",
       "    </tr>\n",
       "    <tr>\n",
       "      <th>2</th>\n",
       "      <td>AR</td>\n",
       "      <td>2.96</td>\n",
       "      <td>3.64</td>\n",
       "      <td>337014.73</td>\n",
       "      <td>2804.81</td>\n",
       "      <td>117.71</td>\n",
       "      <td>280</td>\n",
       "      <td>Arkansas</td>\n",
       "      <td>South</td>\n",
       "    </tr>\n",
       "    <tr>\n",
       "      <th>3</th>\n",
       "      <td>AZ</td>\n",
       "      <td>2.51</td>\n",
       "      <td>3.34</td>\n",
       "      <td>466962.46</td>\n",
       "      <td>2070.79</td>\n",
       "      <td>224.66</td>\n",
       "      <td>1998</td>\n",
       "      <td>Arizona</td>\n",
       "      <td>West</td>\n",
       "    </tr>\n",
       "    <tr>\n",
       "      <th>4</th>\n",
       "      <td>CA</td>\n",
       "      <td>2.56</td>\n",
       "      <td>3.44</td>\n",
       "      <td>776273.37</td>\n",
       "      <td>1965.24</td>\n",
       "      <td>424.09</td>\n",
       "      <td>5696</td>\n",
       "      <td>California</td>\n",
       "      <td>West</td>\n",
       "    </tr>\n",
       "    <tr>\n",
       "      <th>5</th>\n",
       "      <td>CO</td>\n",
       "      <td>2.64</td>\n",
       "      <td>3.26</td>\n",
       "      <td>581882.04</td>\n",
       "      <td>2114.61</td>\n",
       "      <td>289.85</td>\n",
       "      <td>834</td>\n",
       "      <td>Colorado</td>\n",
       "      <td>West</td>\n",
       "    </tr>\n",
       "    <tr>\n",
       "      <th>6</th>\n",
       "      <td>CT</td>\n",
       "      <td>2.57</td>\n",
       "      <td>4.15</td>\n",
       "      <td>365254.44</td>\n",
       "      <td>2359.92</td>\n",
       "      <td>177.04</td>\n",
       "      <td>406</td>\n",
       "      <td>Connecticut</td>\n",
       "      <td>North</td>\n",
       "    </tr>\n",
       "    <tr>\n",
       "      <th>7</th>\n",
       "      <td>DC</td>\n",
       "      <td>2.47</td>\n",
       "      <td>2.78</td>\n",
       "      <td>732301.21</td>\n",
       "      <td>1525.06</td>\n",
       "      <td>500.22</td>\n",
       "      <td>102</td>\n",
       "      <td>District of Columbia</td>\n",
       "      <td>North</td>\n",
       "    </tr>\n",
       "    <tr>\n",
       "      <th>8</th>\n",
       "      <td>DE</td>\n",
       "      <td>1.83</td>\n",
       "      <td>3.11</td>\n",
       "      <td>192903.10</td>\n",
       "      <td>1537.86</td>\n",
       "      <td>121.23</td>\n",
       "      <td>93</td>\n",
       "      <td>Delaware</td>\n",
       "      <td>South</td>\n",
       "    </tr>\n",
       "    <tr>\n",
       "      <th>9</th>\n",
       "      <td>FL</td>\n",
       "      <td>2.28</td>\n",
       "      <td>2.94</td>\n",
       "      <td>322036.59</td>\n",
       "      <td>1596.70</td>\n",
       "      <td>201.74</td>\n",
       "      <td>3241</td>\n",
       "      <td>Florida</td>\n",
       "      <td>South</td>\n",
       "    </tr>\n",
       "    <tr>\n",
       "      <th>10</th>\n",
       "      <td>GA</td>\n",
       "      <td>2.41</td>\n",
       "      <td>3.32</td>\n",
       "      <td>253325.04</td>\n",
       "      <td>1969.07</td>\n",
       "      <td>125.18</td>\n",
       "      <td>1153</td>\n",
       "      <td>Georgia</td>\n",
       "      <td>South</td>\n",
       "    </tr>\n",
       "    <tr>\n",
       "      <th>11</th>\n",
       "      <td>IA</td>\n",
       "      <td>1.95</td>\n",
       "      <td>3.13</td>\n",
       "      <td>149252.38</td>\n",
       "      <td>1686.97</td>\n",
       "      <td>90.80</td>\n",
       "      <td>117</td>\n",
       "      <td>Iowa</td>\n",
       "      <td>MidWest</td>\n",
       "    </tr>\n",
       "    <tr>\n",
       "      <th>12</th>\n",
       "      <td>ID</td>\n",
       "      <td>2.75</td>\n",
       "      <td>3.91</td>\n",
       "      <td>571593.22</td>\n",
       "      <td>2321.74</td>\n",
       "      <td>253.87</td>\n",
       "      <td>104</td>\n",
       "      <td>Idaho</td>\n",
       "      <td>West</td>\n",
       "    </tr>\n",
       "    <tr>\n",
       "      <th>13</th>\n",
       "      <td>IL</td>\n",
       "      <td>2.24</td>\n",
       "      <td>2.99</td>\n",
       "      <td>268614.69</td>\n",
       "      <td>1756.19</td>\n",
       "      <td>159.48</td>\n",
       "      <td>1467</td>\n",
       "      <td>Illinois</td>\n",
       "      <td>MidWest</td>\n",
       "    </tr>\n",
       "    <tr>\n",
       "      <th>14</th>\n",
       "      <td>IN</td>\n",
       "      <td>2.13</td>\n",
       "      <td>3.09</td>\n",
       "      <td>216826.92</td>\n",
       "      <td>2076.28</td>\n",
       "      <td>98.88</td>\n",
       "      <td>990</td>\n",
       "      <td>Indiana</td>\n",
       "      <td>MidWest</td>\n",
       "    </tr>\n",
       "  </tbody>\n",
       "</table>\n",
       "</div>"
      ],
      "text/plain": [
       "   State  Bathrooms  Bedrooms     Price    Size  perSqFt  HouseCount  \\\n",
       "0     AK       2.97      4.59 363202.40 2392.84   165.54         403   \n",
       "1     AL       2.62      3.38 305048.89 2319.30   124.37         892   \n",
       "2     AR       2.96      3.64 337014.73 2804.81   117.71         280   \n",
       "3     AZ       2.51      3.34 466962.46 2070.79   224.66        1998   \n",
       "4     CA       2.56      3.44 776273.37 1965.24   424.09        5696   \n",
       "5     CO       2.64      3.26 581882.04 2114.61   289.85         834   \n",
       "6     CT       2.57      4.15 365254.44 2359.92   177.04         406   \n",
       "7     DC       2.47      2.78 732301.21 1525.06   500.22         102   \n",
       "8     DE       1.83      3.11 192903.10 1537.86   121.23          93   \n",
       "9     FL       2.28      2.94 322036.59 1596.70   201.74        3241   \n",
       "10    GA       2.41      3.32 253325.04 1969.07   125.18        1153   \n",
       "11    IA       1.95      3.13 149252.38 1686.97    90.80         117   \n",
       "12    ID       2.75      3.91 571593.22 2321.74   253.87         104   \n",
       "13    IL       2.24      2.99 268614.69 1756.19   159.48        1467   \n",
       "14    IN       2.13      3.09 216826.92 2076.28    98.88         990   \n",
       "\n",
       "               fullState   Region  \n",
       "0                 Alaska     West  \n",
       "1                Alabama    South  \n",
       "2               Arkansas    South  \n",
       "3                Arizona     West  \n",
       "4             California     West  \n",
       "5               Colorado     West  \n",
       "6            Connecticut    North  \n",
       "7   District of Columbia    North  \n",
       "8               Delaware    South  \n",
       "9                Florida    South  \n",
       "10               Georgia    South  \n",
       "11                  Iowa  MidWest  \n",
       "12                 Idaho     West  \n",
       "13              Illinois  MidWest  \n",
       "14               Indiana  MidWest  "
      ]
     },
     "execution_count": 619,
     "metadata": {},
     "output_type": "execute_result"
    }
   ],
   "source": [
    "#Converting pivot into DF and reset index\n",
    "pivot_df =pd.DataFrame(pivot_state)\n",
    "pivot_df = pivot_df.reset_index()\n",
    "\n",
    "# create function to insert fullState name for merge\n",
    "def insert_fullState(a):\n",
    "    a = state_dict[a]\n",
    "    return a\n",
    "\n",
    "# Merge with pivot df\n",
    "pivot_df = pivot_df.merge(valuecount_df2, how = 'inner', on = 'State')\n",
    "\n",
    "# insert both fullState and Region\n",
    "pivot_df['fullState'] = pivot_df.State.apply(insert_fullState)\n",
    "pivot_df['Region'] = pivot_df.State.apply(find_region)\n",
    "pivot_df.head(15)\n",
    "\n"
   ]
  },
  {
   "cell_type": "code",
   "execution_count": 620,
   "metadata": {},
   "outputs": [
    {
     "data": {
      "text/html": [
       "<div>\n",
       "<style scoped>\n",
       "    .dataframe tbody tr th:only-of-type {\n",
       "        vertical-align: middle;\n",
       "    }\n",
       "\n",
       "    .dataframe tbody tr th {\n",
       "        vertical-align: top;\n",
       "    }\n",
       "\n",
       "    .dataframe thead th {\n",
       "        text-align: right;\n",
       "    }\n",
       "</style>\n",
       "<table border=\"1\" class=\"dataframe\">\n",
       "  <thead>\n",
       "    <tr style=\"text-align: right;\">\n",
       "      <th></th>\n",
       "      <th>fullState</th>\n",
       "      <th>GDP</th>\n",
       "      <th>Spending</th>\n",
       "      <th>Population</th>\n",
       "      <th>Income</th>\n",
       "      <th>State</th>\n",
       "      <th>Bathrooms</th>\n",
       "      <th>Bedrooms</th>\n",
       "      <th>Price</th>\n",
       "      <th>Size</th>\n",
       "      <th>perSqFt</th>\n",
       "      <th>HouseCount</th>\n",
       "      <th>Region</th>\n",
       "    </tr>\n",
       "  </thead>\n",
       "  <tbody>\n",
       "    <tr>\n",
       "      <th>0</th>\n",
       "      <td>Alabama</td>\n",
       "      <td>196906.10</td>\n",
       "      <td>176479.80</td>\n",
       "      <td>4934193</td>\n",
       "      <td>228748.80</td>\n",
       "      <td>AL</td>\n",
       "      <td>2.62</td>\n",
       "      <td>3.38</td>\n",
       "      <td>305048.89</td>\n",
       "      <td>2319.30</td>\n",
       "      <td>124.37</td>\n",
       "      <td>892</td>\n",
       "      <td>South</td>\n",
       "    </tr>\n",
       "    <tr>\n",
       "      <th>1</th>\n",
       "      <td>Alaska</td>\n",
       "      <td>50161.00</td>\n",
       "      <td>35635.70</td>\n",
       "      <td>724357</td>\n",
       "      <td>46430.30</td>\n",
       "      <td>AK</td>\n",
       "      <td>2.97</td>\n",
       "      <td>4.59</td>\n",
       "      <td>363202.40</td>\n",
       "      <td>2392.84</td>\n",
       "      <td>165.54</td>\n",
       "      <td>403</td>\n",
       "      <td>West</td>\n",
       "    </tr>\n",
       "    <tr>\n",
       "      <th>2</th>\n",
       "      <td>Arizona</td>\n",
       "      <td>320550.60</td>\n",
       "      <td>287090.10</td>\n",
       "      <td>7520103</td>\n",
       "      <td>368458.60</td>\n",
       "      <td>AZ</td>\n",
       "      <td>2.51</td>\n",
       "      <td>3.34</td>\n",
       "      <td>466962.46</td>\n",
       "      <td>2070.79</td>\n",
       "      <td>224.66</td>\n",
       "      <td>1998</td>\n",
       "      <td>West</td>\n",
       "    </tr>\n",
       "    <tr>\n",
       "      <th>3</th>\n",
       "      <td>Arkansas</td>\n",
       "      <td>114943.50</td>\n",
       "      <td>104488.80</td>\n",
       "      <td>3033946</td>\n",
       "      <td>143147.90</td>\n",
       "      <td>AR</td>\n",
       "      <td>2.96</td>\n",
       "      <td>3.64</td>\n",
       "      <td>337014.73</td>\n",
       "      <td>2804.81</td>\n",
       "      <td>117.71</td>\n",
       "      <td>280</td>\n",
       "      <td>South</td>\n",
       "    </tr>\n",
       "    <tr>\n",
       "      <th>4</th>\n",
       "      <td>California</td>\n",
       "      <td>2663665.90</td>\n",
       "      <td>1835980.60</td>\n",
       "      <td>39613493</td>\n",
       "      <td>2763312.00</td>\n",
       "      <td>CA</td>\n",
       "      <td>2.56</td>\n",
       "      <td>3.44</td>\n",
       "      <td>776273.37</td>\n",
       "      <td>1965.24</td>\n",
       "      <td>424.09</td>\n",
       "      <td>5696</td>\n",
       "      <td>West</td>\n",
       "    </tr>\n",
       "  </tbody>\n",
       "</table>\n",
       "</div>"
      ],
      "text/plain": [
       "    fullState        GDP   Spending  Population     Income State  Bathrooms  \\\n",
       "0     Alabama  196906.10  176479.80     4934193  228748.80    AL       2.62   \n",
       "1      Alaska   50161.00   35635.70      724357   46430.30    AK       2.97   \n",
       "2     Arizona  320550.60  287090.10     7520103  368458.60    AZ       2.51   \n",
       "3    Arkansas  114943.50  104488.80     3033946  143147.90    AR       2.96   \n",
       "4  California 2663665.90 1835980.60    39613493 2763312.00    CA       2.56   \n",
       "\n",
       "   Bedrooms     Price    Size  perSqFt  HouseCount Region  \n",
       "0      3.38 305048.89 2319.30   124.37         892  South  \n",
       "1      4.59 363202.40 2392.84   165.54         403   West  \n",
       "2      3.34 466962.46 2070.79   224.66        1998   West  \n",
       "3      3.64 337014.73 2804.81   117.71         280  South  \n",
       "4      3.44 776273.37 1965.24   424.09        5696   West  "
      ]
     },
     "execution_count": 620,
     "metadata": {},
     "output_type": "execute_result"
    }
   ],
   "source": [
    "# Creating state_df; now we have both state_df and house_df\n",
    "state_df = merged_df.merge(pivot_df, how = 'inner', on = 'fullState')\n",
    "state_df.head()"
   ]
  },
  {
   "cell_type": "code",
   "execution_count": 621,
   "metadata": {},
   "outputs": [
    {
     "data": {
      "text/html": [
       "<div>\n",
       "<style scoped>\n",
       "    .dataframe tbody tr th:only-of-type {\n",
       "        vertical-align: middle;\n",
       "    }\n",
       "\n",
       "    .dataframe tbody tr th {\n",
       "        vertical-align: top;\n",
       "    }\n",
       "\n",
       "    .dataframe thead th {\n",
       "        text-align: right;\n",
       "    }\n",
       "</style>\n",
       "<table border=\"1\" class=\"dataframe\">\n",
       "  <thead>\n",
       "    <tr style=\"text-align: right;\">\n",
       "      <th></th>\n",
       "      <th>fullState</th>\n",
       "      <th>GDP</th>\n",
       "      <th>Spending</th>\n",
       "      <th>Population</th>\n",
       "      <th>Income</th>\n",
       "      <th>State</th>\n",
       "      <th>Bathrooms</th>\n",
       "      <th>Bedrooms</th>\n",
       "      <th>Price</th>\n",
       "      <th>Size</th>\n",
       "      <th>perSqFt</th>\n",
       "      <th>HouseCount</th>\n",
       "      <th>Region</th>\n",
       "      <th>SavingsRate</th>\n",
       "    </tr>\n",
       "  </thead>\n",
       "  <tbody>\n",
       "    <tr>\n",
       "      <th>0</th>\n",
       "      <td>Alabama</td>\n",
       "      <td>196906.10</td>\n",
       "      <td>176479.80</td>\n",
       "      <td>4934193</td>\n",
       "      <td>228748.80</td>\n",
       "      <td>AL</td>\n",
       "      <td>2.62</td>\n",
       "      <td>3.38</td>\n",
       "      <td>305048.89</td>\n",
       "      <td>2319.30</td>\n",
       "      <td>124.37</td>\n",
       "      <td>892</td>\n",
       "      <td>South</td>\n",
       "      <td>0.23</td>\n",
       "    </tr>\n",
       "    <tr>\n",
       "      <th>1</th>\n",
       "      <td>Alaska</td>\n",
       "      <td>50161.00</td>\n",
       "      <td>35635.70</td>\n",
       "      <td>724357</td>\n",
       "      <td>46430.30</td>\n",
       "      <td>AK</td>\n",
       "      <td>2.97</td>\n",
       "      <td>4.59</td>\n",
       "      <td>363202.40</td>\n",
       "      <td>2392.84</td>\n",
       "      <td>165.54</td>\n",
       "      <td>403</td>\n",
       "      <td>West</td>\n",
       "      <td>0.23</td>\n",
       "    </tr>\n",
       "    <tr>\n",
       "      <th>2</th>\n",
       "      <td>Arizona</td>\n",
       "      <td>320550.60</td>\n",
       "      <td>287090.10</td>\n",
       "      <td>7520103</td>\n",
       "      <td>368458.60</td>\n",
       "      <td>AZ</td>\n",
       "      <td>2.51</td>\n",
       "      <td>3.34</td>\n",
       "      <td>466962.46</td>\n",
       "      <td>2070.79</td>\n",
       "      <td>224.66</td>\n",
       "      <td>1998</td>\n",
       "      <td>West</td>\n",
       "      <td>0.22</td>\n",
       "    </tr>\n",
       "    <tr>\n",
       "      <th>3</th>\n",
       "      <td>Arkansas</td>\n",
       "      <td>114943.50</td>\n",
       "      <td>104488.80</td>\n",
       "      <td>3033946</td>\n",
       "      <td>143147.90</td>\n",
       "      <td>AR</td>\n",
       "      <td>2.96</td>\n",
       "      <td>3.64</td>\n",
       "      <td>337014.73</td>\n",
       "      <td>2804.81</td>\n",
       "      <td>117.71</td>\n",
       "      <td>280</td>\n",
       "      <td>South</td>\n",
       "      <td>0.27</td>\n",
       "    </tr>\n",
       "    <tr>\n",
       "      <th>4</th>\n",
       "      <td>California</td>\n",
       "      <td>2663665.90</td>\n",
       "      <td>1835980.60</td>\n",
       "      <td>39613493</td>\n",
       "      <td>2763312.00</td>\n",
       "      <td>CA</td>\n",
       "      <td>2.56</td>\n",
       "      <td>3.44</td>\n",
       "      <td>776273.37</td>\n",
       "      <td>1965.24</td>\n",
       "      <td>424.09</td>\n",
       "      <td>5696</td>\n",
       "      <td>West</td>\n",
       "      <td>0.34</td>\n",
       "    </tr>\n",
       "  </tbody>\n",
       "</table>\n",
       "</div>"
      ],
      "text/plain": [
       "    fullState        GDP   Spending  Population     Income State  Bathrooms  \\\n",
       "0     Alabama  196906.10  176479.80     4934193  228748.80    AL       2.62   \n",
       "1      Alaska   50161.00   35635.70      724357   46430.30    AK       2.97   \n",
       "2     Arizona  320550.60  287090.10     7520103  368458.60    AZ       2.51   \n",
       "3    Arkansas  114943.50  104488.80     3033946  143147.90    AR       2.96   \n",
       "4  California 2663665.90 1835980.60    39613493 2763312.00    CA       2.56   \n",
       "\n",
       "   Bedrooms     Price    Size  perSqFt  HouseCount Region  SavingsRate  \n",
       "0      3.38 305048.89 2319.30   124.37         892  South         0.23  \n",
       "1      4.59 363202.40 2392.84   165.54         403   West         0.23  \n",
       "2      3.34 466962.46 2070.79   224.66        1998   West         0.22  \n",
       "3      3.64 337014.73 2804.81   117.71         280  South         0.27  \n",
       "4      3.44 776273.37 1965.24   424.09        5696   West         0.34  "
      ]
     },
     "execution_count": 621,
     "metadata": {},
     "output_type": "execute_result"
    }
   ],
   "source": [
    "state_df['SavingsRate'] = (state_df['Income']-state_df['Spending'])/state_df['Income']\n",
    "state_df.head()"
   ]
  },
  {
   "cell_type": "markdown",
   "metadata": {},
   "source": [
    "#### Descriptive Statistics"
   ]
  },
  {
   "cell_type": "code",
   "execution_count": 622,
   "metadata": {},
   "outputs": [
    {
     "data": {
      "text/html": [
       "<div>\n",
       "<style scoped>\n",
       "    .dataframe tbody tr th:only-of-type {\n",
       "        vertical-align: middle;\n",
       "    }\n",
       "\n",
       "    .dataframe tbody tr th {\n",
       "        vertical-align: top;\n",
       "    }\n",
       "\n",
       "    .dataframe thead th {\n",
       "        text-align: right;\n",
       "    }\n",
       "</style>\n",
       "<table border=\"1\" class=\"dataframe\">\n",
       "  <thead>\n",
       "    <tr style=\"text-align: right;\">\n",
       "      <th></th>\n",
       "      <th>GDP</th>\n",
       "      <th>Spending</th>\n",
       "      <th>Population</th>\n",
       "      <th>Income</th>\n",
       "      <th>Bathrooms</th>\n",
       "      <th>Bedrooms</th>\n",
       "      <th>Price</th>\n",
       "      <th>Size</th>\n",
       "      <th>perSqFt</th>\n",
       "      <th>HouseCount</th>\n",
       "      <th>SavingsRate</th>\n",
       "    </tr>\n",
       "  </thead>\n",
       "  <tbody>\n",
       "    <tr>\n",
       "      <th>count</th>\n",
       "      <td>46.00</td>\n",
       "      <td>46.00</td>\n",
       "      <td>46.00</td>\n",
       "      <td>46.00</td>\n",
       "      <td>46.00</td>\n",
       "      <td>46.00</td>\n",
       "      <td>46.00</td>\n",
       "      <td>46.00</td>\n",
       "      <td>46.00</td>\n",
       "      <td>46.00</td>\n",
       "      <td>46.00</td>\n",
       "    </tr>\n",
       "    <tr>\n",
       "      <th>mean</th>\n",
       "      <td>390208.88</td>\n",
       "      <td>299606.37</td>\n",
       "      <td>7078103.24</td>\n",
       "      <td>419131.06</td>\n",
       "      <td>2.42</td>\n",
       "      <td>3.37</td>\n",
       "      <td>371201.70</td>\n",
       "      <td>2067.32</td>\n",
       "      <td>191.37</td>\n",
       "      <td>837.72</td>\n",
       "      <td>0.27</td>\n",
       "    </tr>\n",
       "    <tr>\n",
       "      <th>std</th>\n",
       "      <td>482294.66</td>\n",
       "      <td>340567.83</td>\n",
       "      <td>7600879.42</td>\n",
       "      <td>496796.28</td>\n",
       "      <td>0.29</td>\n",
       "      <td>0.35</td>\n",
       "      <td>160617.76</td>\n",
       "      <td>364.36</td>\n",
       "      <td>99.21</td>\n",
       "      <td>1081.61</td>\n",
       "      <td>0.04</td>\n",
       "    </tr>\n",
       "    <tr>\n",
       "      <th>min</th>\n",
       "      <td>46158.10</td>\n",
       "      <td>33631.30</td>\n",
       "      <td>714153.00</td>\n",
       "      <td>46430.30</td>\n",
       "      <td>1.81</td>\n",
       "      <td>2.78</td>\n",
       "      <td>134805.94</td>\n",
       "      <td>1525.06</td>\n",
       "      <td>79.73</td>\n",
       "      <td>25.00</td>\n",
       "      <td>0.16</td>\n",
       "    </tr>\n",
       "    <tr>\n",
       "      <th>25%</th>\n",
       "      <td>118834.20</td>\n",
       "      <td>98120.93</td>\n",
       "      <td>2929519.75</td>\n",
       "      <td>129528.12</td>\n",
       "      <td>2.23</td>\n",
       "      <td>3.16</td>\n",
       "      <td>270628.96</td>\n",
       "      <td>1816.06</td>\n",
       "      <td>124.58</td>\n",
       "      <td>255.50</td>\n",
       "      <td>0.23</td>\n",
       "    </tr>\n",
       "    <tr>\n",
       "      <th>50%</th>\n",
       "      <td>229092.70</td>\n",
       "      <td>187682.30</td>\n",
       "      <td>5106011.50</td>\n",
       "      <td>265093.00</td>\n",
       "      <td>2.46</td>\n",
       "      <td>3.33</td>\n",
       "      <td>345951.25</td>\n",
       "      <td>2040.44</td>\n",
       "      <td>167.14</td>\n",
       "      <td>415.50</td>\n",
       "      <td>0.27</td>\n",
       "    </tr>\n",
       "    <tr>\n",
       "      <th>75%</th>\n",
       "      <td>492387.12</td>\n",
       "      <td>365095.10</td>\n",
       "      <td>8402224.00</td>\n",
       "      <td>531894.30</td>\n",
       "      <td>2.61</td>\n",
       "      <td>3.45</td>\n",
       "      <td>425050.39</td>\n",
       "      <td>2287.30</td>\n",
       "      <td>217.56</td>\n",
       "      <td>1051.25</td>\n",
       "      <td>0.30</td>\n",
       "    </tr>\n",
       "    <tr>\n",
       "      <th>max</th>\n",
       "      <td>2663665.90</td>\n",
       "      <td>1835980.60</td>\n",
       "      <td>39613493.00</td>\n",
       "      <td>2763312.00</td>\n",
       "      <td>2.97</td>\n",
       "      <td>4.59</td>\n",
       "      <td>800687.64</td>\n",
       "      <td>3455.86</td>\n",
       "      <td>501.03</td>\n",
       "      <td>5696.00</td>\n",
       "      <td>0.36</td>\n",
       "    </tr>\n",
       "  </tbody>\n",
       "</table>\n",
       "</div>"
      ],
      "text/plain": [
       "             GDP   Spending  Population     Income  Bathrooms  Bedrooms  \\\n",
       "count      46.00      46.00       46.00      46.00      46.00     46.00   \n",
       "mean   390208.88  299606.37  7078103.24  419131.06       2.42      3.37   \n",
       "std    482294.66  340567.83  7600879.42  496796.28       0.29      0.35   \n",
       "min     46158.10   33631.30   714153.00   46430.30       1.81      2.78   \n",
       "25%    118834.20   98120.93  2929519.75  129528.12       2.23      3.16   \n",
       "50%    229092.70  187682.30  5106011.50  265093.00       2.46      3.33   \n",
       "75%    492387.12  365095.10  8402224.00  531894.30       2.61      3.45   \n",
       "max   2663665.90 1835980.60 39613493.00 2763312.00       2.97      4.59   \n",
       "\n",
       "          Price    Size  perSqFt  HouseCount  SavingsRate  \n",
       "count     46.00   46.00    46.00       46.00        46.00  \n",
       "mean  371201.70 2067.32   191.37      837.72         0.27  \n",
       "std   160617.76  364.36    99.21     1081.61         0.04  \n",
       "min   134805.94 1525.06    79.73       25.00         0.16  \n",
       "25%   270628.96 1816.06   124.58      255.50         0.23  \n",
       "50%   345951.25 2040.44   167.14      415.50         0.27  \n",
       "75%   425050.39 2287.30   217.56     1051.25         0.30  \n",
       "max   800687.64 3455.86   501.03     5696.00         0.36  "
      ]
     },
     "execution_count": 622,
     "metadata": {},
     "output_type": "execute_result"
    }
   ],
   "source": [
    "state_df.describe()"
   ]
  },
  {
   "cell_type": "code",
   "execution_count": 623,
   "metadata": {},
   "outputs": [
    {
     "data": {
      "text/html": [
       "<div>\n",
       "<style scoped>\n",
       "    .dataframe tbody tr th:only-of-type {\n",
       "        vertical-align: middle;\n",
       "    }\n",
       "\n",
       "    .dataframe tbody tr th {\n",
       "        vertical-align: top;\n",
       "    }\n",
       "\n",
       "    .dataframe thead th {\n",
       "        text-align: right;\n",
       "    }\n",
       "</style>\n",
       "<table border=\"1\" class=\"dataframe\">\n",
       "  <thead>\n",
       "    <tr style=\"text-align: right;\">\n",
       "      <th></th>\n",
       "      <th>fullState</th>\n",
       "      <th>GDP</th>\n",
       "      <th>Spending</th>\n",
       "      <th>Population</th>\n",
       "      <th>Income</th>\n",
       "      <th>State</th>\n",
       "      <th>Bathrooms</th>\n",
       "      <th>Bedrooms</th>\n",
       "      <th>Price</th>\n",
       "      <th>Size</th>\n",
       "      <th>perSqFt</th>\n",
       "      <th>HouseCount</th>\n",
       "      <th>Region</th>\n",
       "      <th>SavingsRate</th>\n",
       "    </tr>\n",
       "  </thead>\n",
       "  <tbody>\n",
       "    <tr>\n",
       "      <th>20</th>\n",
       "      <td>Massachusetts</td>\n",
       "      <td>498577.00</td>\n",
       "      <td>358472.30</td>\n",
       "      <td>6912239</td>\n",
       "      <td>540855.30</td>\n",
       "      <td>MA</td>\n",
       "      <td>2.39</td>\n",
       "      <td>3.47</td>\n",
       "      <td>800687.64</td>\n",
       "      <td>1845.42</td>\n",
       "      <td>501.03</td>\n",
       "      <td>1069</td>\n",
       "      <td>North</td>\n",
       "      <td>0.34</td>\n",
       "    </tr>\n",
       "    <tr>\n",
       "      <th>8</th>\n",
       "      <td>District of Columbia</td>\n",
       "      <td>122342.10</td>\n",
       "      <td>46453.60</td>\n",
       "      <td>714153</td>\n",
       "      <td>61706.10</td>\n",
       "      <td>DC</td>\n",
       "      <td>2.47</td>\n",
       "      <td>2.78</td>\n",
       "      <td>732301.21</td>\n",
       "      <td>1525.06</td>\n",
       "      <td>500.22</td>\n",
       "      <td>102</td>\n",
       "      <td>North</td>\n",
       "      <td>0.25</td>\n",
       "    </tr>\n",
       "    <tr>\n",
       "      <th>18</th>\n",
       "      <td>Maine</td>\n",
       "      <td>58757.30</td>\n",
       "      <td>61123.80</td>\n",
       "      <td>1354522</td>\n",
       "      <td>73192.80</td>\n",
       "      <td>ME</td>\n",
       "      <td>2.14</td>\n",
       "      <td>2.83</td>\n",
       "      <td>713430.86</td>\n",
       "      <td>1673.86</td>\n",
       "      <td>437.12</td>\n",
       "      <td>42</td>\n",
       "      <td>North</td>\n",
       "      <td>0.16</td>\n",
       "    </tr>\n",
       "    <tr>\n",
       "      <th>4</th>\n",
       "      <td>California</td>\n",
       "      <td>2663665.90</td>\n",
       "      <td>1835980.60</td>\n",
       "      <td>39613493</td>\n",
       "      <td>2763312.00</td>\n",
       "      <td>CA</td>\n",
       "      <td>2.56</td>\n",
       "      <td>3.44</td>\n",
       "      <td>776273.37</td>\n",
       "      <td>1965.24</td>\n",
       "      <td>424.09</td>\n",
       "      <td>5696</td>\n",
       "      <td>West</td>\n",
       "      <td>0.34</td>\n",
       "    </tr>\n",
       "    <tr>\n",
       "      <th>5</th>\n",
       "      <td>Colorado</td>\n",
       "      <td>346011.30</td>\n",
       "      <td>270883.00</td>\n",
       "      <td>5893634</td>\n",
       "      <td>370392.10</td>\n",
       "      <td>CO</td>\n",
       "      <td>2.64</td>\n",
       "      <td>3.26</td>\n",
       "      <td>581882.04</td>\n",
       "      <td>2114.61</td>\n",
       "      <td>289.85</td>\n",
       "      <td>834</td>\n",
       "      <td>West</td>\n",
       "      <td>0.27</td>\n",
       "    </tr>\n",
       "    <tr>\n",
       "      <th>11</th>\n",
       "      <td>Idaho</td>\n",
       "      <td>73655.40</td>\n",
       "      <td>64780.60</td>\n",
       "      <td>1860123</td>\n",
       "      <td>89077.70</td>\n",
       "      <td>ID</td>\n",
       "      <td>2.75</td>\n",
       "      <td>3.91</td>\n",
       "      <td>571593.22</td>\n",
       "      <td>2321.74</td>\n",
       "      <td>253.87</td>\n",
       "      <td>104</td>\n",
       "      <td>West</td>\n",
       "      <td>0.27</td>\n",
       "    </tr>\n",
       "    <tr>\n",
       "      <th>35</th>\n",
       "      <td>Oregon</td>\n",
       "      <td>212849.70</td>\n",
       "      <td>178375.40</td>\n",
       "      <td>4289439</td>\n",
       "      <td>238847.10</td>\n",
       "      <td>OR</td>\n",
       "      <td>2.83</td>\n",
       "      <td>3.44</td>\n",
       "      <td>556123.87</td>\n",
       "      <td>2299.38</td>\n",
       "      <td>250.94</td>\n",
       "      <td>272</td>\n",
       "      <td>West</td>\n",
       "      <td>0.25</td>\n",
       "    </tr>\n",
       "    <tr>\n",
       "      <th>30</th>\n",
       "      <td>New York</td>\n",
       "      <td>1420141.00</td>\n",
       "      <td>961707.30</td>\n",
       "      <td>19299981</td>\n",
       "      <td>1440049.50</td>\n",
       "      <td>NY</td>\n",
       "      <td>2.19</td>\n",
       "      <td>3.56</td>\n",
       "      <td>394074.03</td>\n",
       "      <td>1970.86</td>\n",
       "      <td>232.16</td>\n",
       "      <td>1183</td>\n",
       "      <td>North</td>\n",
       "      <td>0.33</td>\n",
       "    </tr>\n",
       "    <tr>\n",
       "      <th>44</th>\n",
       "      <td>Washington</td>\n",
       "      <td>532861.90</td>\n",
       "      <td>354219.10</td>\n",
       "      <td>7796941</td>\n",
       "      <td>516441.10</td>\n",
       "      <td>WA</td>\n",
       "      <td>2.49</td>\n",
       "      <td>3.60</td>\n",
       "      <td>485569.83</td>\n",
       "      <td>2240.48</td>\n",
       "      <td>230.23</td>\n",
       "      <td>269</td>\n",
       "      <td>West</td>\n",
       "      <td>0.31</td>\n",
       "    </tr>\n",
       "    <tr>\n",
       "      <th>28</th>\n",
       "      <td>New Jersey</td>\n",
       "      <td>535794.90</td>\n",
       "      <td>446078.40</td>\n",
       "      <td>8874520</td>\n",
       "      <td>652498.90</td>\n",
       "      <td>NJ</td>\n",
       "      <td>2.36</td>\n",
       "      <td>4.01</td>\n",
       "      <td>386702.32</td>\n",
       "      <td>3455.86</td>\n",
       "      <td>224.85</td>\n",
       "      <td>699</td>\n",
       "      <td>North</td>\n",
       "      <td>0.32</td>\n",
       "    </tr>\n",
       "    <tr>\n",
       "      <th>2</th>\n",
       "      <td>Arizona</td>\n",
       "      <td>320550.60</td>\n",
       "      <td>287090.10</td>\n",
       "      <td>7520103</td>\n",
       "      <td>368458.60</td>\n",
       "      <td>AZ</td>\n",
       "      <td>2.51</td>\n",
       "      <td>3.34</td>\n",
       "      <td>466962.46</td>\n",
       "      <td>2070.79</td>\n",
       "      <td>224.66</td>\n",
       "      <td>1998</td>\n",
       "      <td>West</td>\n",
       "      <td>0.22</td>\n",
       "    </tr>\n",
       "    <tr>\n",
       "      <th>31</th>\n",
       "      <td>North Carolina</td>\n",
       "      <td>499517.50</td>\n",
       "      <td>405953.50</td>\n",
       "      <td>10701022</td>\n",
       "      <td>533269.30</td>\n",
       "      <td>NC</td>\n",
       "      <td>2.84</td>\n",
       "      <td>3.26</td>\n",
       "      <td>478810.32</td>\n",
       "      <td>2235.15</td>\n",
       "      <td>221.57</td>\n",
       "      <td>998</td>\n",
       "      <td>South</td>\n",
       "      <td>0.24</td>\n",
       "    </tr>\n",
       "    <tr>\n",
       "      <th>22</th>\n",
       "      <td>Minnesota</td>\n",
       "      <td>326635.60</td>\n",
       "      <td>251204.70</td>\n",
       "      <td>5706398</td>\n",
       "      <td>350784.70</td>\n",
       "      <td>MN</td>\n",
       "      <td>2.18</td>\n",
       "      <td>3.11</td>\n",
       "      <td>369010.68</td>\n",
       "      <td>1850.69</td>\n",
       "      <td>205.52</td>\n",
       "      <td>848</td>\n",
       "      <td>MidWest</td>\n",
       "      <td>0.28</td>\n",
       "    </tr>\n",
       "    <tr>\n",
       "      <th>40</th>\n",
       "      <td>Tennessee</td>\n",
       "      <td>316325.30</td>\n",
       "      <td>258252.30</td>\n",
       "      <td>6944260</td>\n",
       "      <td>351546.30</td>\n",
       "      <td>TN</td>\n",
       "      <td>2.58</td>\n",
       "      <td>3.26</td>\n",
       "      <td>427594.91</td>\n",
       "      <td>2130.56</td>\n",
       "      <td>203.61</td>\n",
       "      <td>726</td>\n",
       "      <td>South</td>\n",
       "      <td>0.27</td>\n",
       "    </tr>\n",
       "    <tr>\n",
       "      <th>27</th>\n",
       "      <td>Nevada</td>\n",
       "      <td>145219.10</td>\n",
       "      <td>123053.70</td>\n",
       "      <td>3185786</td>\n",
       "      <td>168587.30</td>\n",
       "      <td>NV</td>\n",
       "      <td>2.71</td>\n",
       "      <td>3.32</td>\n",
       "      <td>400673.05</td>\n",
       "      <td>1999.47</td>\n",
       "      <td>202.44</td>\n",
       "      <td>941</td>\n",
       "      <td>West</td>\n",
       "      <td>0.27</td>\n",
       "    </tr>\n",
       "    <tr>\n",
       "      <th>9</th>\n",
       "      <td>Florida</td>\n",
       "      <td>944000.80</td>\n",
       "      <td>947905.90</td>\n",
       "      <td>21944577</td>\n",
       "      <td>1209995.90</td>\n",
       "      <td>FL</td>\n",
       "      <td>2.28</td>\n",
       "      <td>2.94</td>\n",
       "      <td>322036.59</td>\n",
       "      <td>1596.70</td>\n",
       "      <td>201.74</td>\n",
       "      <td>3241</td>\n",
       "      <td>South</td>\n",
       "      <td>0.22</td>\n",
       "    </tr>\n",
       "    <tr>\n",
       "      <th>42</th>\n",
       "      <td>Utah</td>\n",
       "      <td>171370.10</td>\n",
       "      <td>121445.40</td>\n",
       "      <td>3310774</td>\n",
       "      <td>169656.30</td>\n",
       "      <td>UT</td>\n",
       "      <td>2.73</td>\n",
       "      <td>4.15</td>\n",
       "      <td>470316.15</td>\n",
       "      <td>2524.02</td>\n",
       "      <td>200.74</td>\n",
       "      <td>252</td>\n",
       "      <td>West</td>\n",
       "      <td>0.28</td>\n",
       "    </tr>\n",
       "    <tr>\n",
       "      <th>37</th>\n",
       "      <td>Rhode Island</td>\n",
       "      <td>51415.10</td>\n",
       "      <td>45397.10</td>\n",
       "      <td>1061509</td>\n",
       "      <td>64299.90</td>\n",
       "      <td>RI</td>\n",
       "      <td>1.98</td>\n",
       "      <td>3.14</td>\n",
       "      <td>305050.04</td>\n",
       "      <td>1750.53</td>\n",
       "      <td>191.57</td>\n",
       "      <td>199</td>\n",
       "      <td>North</td>\n",
       "      <td>0.29</td>\n",
       "    </tr>\n",
       "    <tr>\n",
       "      <th>38</th>\n",
       "      <td>South Carolina</td>\n",
       "      <td>208480.50</td>\n",
       "      <td>195958.70</td>\n",
       "      <td>5277830</td>\n",
       "      <td>250573.60</td>\n",
       "      <td>SC</td>\n",
       "      <td>2.65</td>\n",
       "      <td>3.48</td>\n",
       "      <td>378263.16</td>\n",
       "      <td>2039.93</td>\n",
       "      <td>185.20</td>\n",
       "      <td>91</td>\n",
       "      <td>South</td>\n",
       "      <td>0.22</td>\n",
       "    </tr>\n",
       "    <tr>\n",
       "      <th>39</th>\n",
       "      <td>South Dakota</td>\n",
       "      <td>46682.70</td>\n",
       "      <td>37337.80</td>\n",
       "      <td>896581</td>\n",
       "      <td>52920.70</td>\n",
       "      <td>SD</td>\n",
       "      <td>2.40</td>\n",
       "      <td>3.44</td>\n",
       "      <td>362883.80</td>\n",
       "      <td>2031.12</td>\n",
       "      <td>181.82</td>\n",
       "      <td>25</td>\n",
       "      <td>MidWest</td>\n",
       "      <td>0.29</td>\n",
       "    </tr>\n",
       "    <tr>\n",
       "      <th>36</th>\n",
       "      <td>Pennsylvania</td>\n",
       "      <td>683773.90</td>\n",
       "      <td>570772.00</td>\n",
       "      <td>12804123</td>\n",
       "      <td>788725.20</td>\n",
       "      <td>PA</td>\n",
       "      <td>2.13</td>\n",
       "      <td>3.22</td>\n",
       "      <td>279675.06</td>\n",
       "      <td>1680.58</td>\n",
       "      <td>177.68</td>\n",
       "      <td>1172</td>\n",
       "      <td>North</td>\n",
       "      <td>0.28</td>\n",
       "    </tr>\n",
       "    <tr>\n",
       "      <th>6</th>\n",
       "      <td>Connecticut</td>\n",
       "      <td>235888.60</td>\n",
       "      <td>179405.90</td>\n",
       "      <td>3552821</td>\n",
       "      <td>279612.40</td>\n",
       "      <td>CT</td>\n",
       "      <td>2.57</td>\n",
       "      <td>4.15</td>\n",
       "      <td>365254.44</td>\n",
       "      <td>2359.92</td>\n",
       "      <td>177.04</td>\n",
       "      <td>406</td>\n",
       "      <td>North</td>\n",
       "      <td>0.36</td>\n",
       "    </tr>\n",
       "    <tr>\n",
       "      <th>25</th>\n",
       "      <td>Montana</td>\n",
       "      <td>46158.10</td>\n",
       "      <td>45719.50</td>\n",
       "      <td>1085004</td>\n",
       "      <td>57660.20</td>\n",
       "      <td>MT</td>\n",
       "      <td>2.48</td>\n",
       "      <td>3.45</td>\n",
       "      <td>417416.81</td>\n",
       "      <td>2464.15</td>\n",
       "      <td>168.74</td>\n",
       "      <td>110</td>\n",
       "      <td>West</td>\n",
       "      <td>0.21</td>\n",
       "    </tr>\n",
       "    <tr>\n",
       "      <th>1</th>\n",
       "      <td>Alaska</td>\n",
       "      <td>50161.00</td>\n",
       "      <td>35635.70</td>\n",
       "      <td>724357</td>\n",
       "      <td>46430.30</td>\n",
       "      <td>AK</td>\n",
       "      <td>2.97</td>\n",
       "      <td>4.59</td>\n",
       "      <td>363202.40</td>\n",
       "      <td>2392.84</td>\n",
       "      <td>165.54</td>\n",
       "      <td>403</td>\n",
       "      <td>West</td>\n",
       "      <td>0.23</td>\n",
       "    </tr>\n",
       "    <tr>\n",
       "      <th>16</th>\n",
       "      <td>Kentucky</td>\n",
       "      <td>185535.10</td>\n",
       "      <td>163749.90</td>\n",
       "      <td>4480713</td>\n",
       "      <td>211947.60</td>\n",
       "      <td>KY</td>\n",
       "      <td>2.77</td>\n",
       "      <td>3.32</td>\n",
       "      <td>394384.46</td>\n",
       "      <td>2387.65</td>\n",
       "      <td>165.15</td>\n",
       "      <td>361</td>\n",
       "      <td>South</td>\n",
       "      <td>0.23</td>\n",
       "    </tr>\n",
       "    <tr>\n",
       "      <th>45</th>\n",
       "      <td>Wisconsin</td>\n",
       "      <td>291715.80</td>\n",
       "      <td>238923.00</td>\n",
       "      <td>5852490</td>\n",
       "      <td>324252.00</td>\n",
       "      <td>WI</td>\n",
       "      <td>2.32</td>\n",
       "      <td>3.25</td>\n",
       "      <td>297997.15</td>\n",
       "      <td>1906.92</td>\n",
       "      <td>161.82</td>\n",
       "      <td>320</td>\n",
       "      <td>MidWest</td>\n",
       "      <td>0.26</td>\n",
       "    </tr>\n",
       "    <tr>\n",
       "      <th>43</th>\n",
       "      <td>Virginia</td>\n",
       "      <td>473817.50</td>\n",
       "      <td>367302.70</td>\n",
       "      <td>8603985</td>\n",
       "      <td>532256.20</td>\n",
       "      <td>VA</td>\n",
       "      <td>2.52</td>\n",
       "      <td>3.23</td>\n",
       "      <td>291610.56</td>\n",
       "      <td>1806.27</td>\n",
       "      <td>161.60</td>\n",
       "      <td>1216</td>\n",
       "      <td>South</td>\n",
       "      <td>0.31</td>\n",
       "    </tr>\n",
       "    <tr>\n",
       "      <th>12</th>\n",
       "      <td>Illinois</td>\n",
       "      <td>737643.60</td>\n",
       "      <td>553611.60</td>\n",
       "      <td>12569321</td>\n",
       "      <td>792135.50</td>\n",
       "      <td>IL</td>\n",
       "      <td>2.24</td>\n",
       "      <td>2.99</td>\n",
       "      <td>268614.69</td>\n",
       "      <td>1756.19</td>\n",
       "      <td>159.48</td>\n",
       "      <td>1467</td>\n",
       "      <td>MidWest</td>\n",
       "      <td>0.30</td>\n",
       "    </tr>\n",
       "    <tr>\n",
       "      <th>19</th>\n",
       "      <td>Maryland</td>\n",
       "      <td>353052.50</td>\n",
       "      <td>268456.80</td>\n",
       "      <td>6065436</td>\n",
       "      <td>404520.70</td>\n",
       "      <td>MD</td>\n",
       "      <td>2.28</td>\n",
       "      <td>2.98</td>\n",
       "      <td>240832.79</td>\n",
       "      <td>1577.91</td>\n",
       "      <td>157.61</td>\n",
       "      <td>505</td>\n",
       "      <td>South</td>\n",
       "      <td>0.34</td>\n",
       "    </tr>\n",
       "    <tr>\n",
       "      <th>29</th>\n",
       "      <td>New Mexico</td>\n",
       "      <td>92696.50</td>\n",
       "      <td>74276.40</td>\n",
       "      <td>2105005</td>\n",
       "      <td>97603.50</td>\n",
       "      <td>NM</td>\n",
       "      <td>2.46</td>\n",
       "      <td>3.37</td>\n",
       "      <td>315167.86</td>\n",
       "      <td>2096.72</td>\n",
       "      <td>152.91</td>\n",
       "      <td>235</td>\n",
       "      <td>West</td>\n",
       "      <td>0.24</td>\n",
       "    </tr>\n",
       "    <tr>\n",
       "      <th>34</th>\n",
       "      <td>Oklahoma</td>\n",
       "      <td>190893.80</td>\n",
       "      <td>137469.20</td>\n",
       "      <td>3990443</td>\n",
       "      <td>198552.10</td>\n",
       "      <td>OK</td>\n",
       "      <td>2.57</td>\n",
       "      <td>3.41</td>\n",
       "      <td>354887.77</td>\n",
       "      <td>2511.43</td>\n",
       "      <td>131.90</td>\n",
       "      <td>1116</td>\n",
       "      <td>South</td>\n",
       "      <td>0.31</td>\n",
       "    </tr>\n",
       "    <tr>\n",
       "      <th>41</th>\n",
       "      <td>Texas</td>\n",
       "      <td>1734321.10</td>\n",
       "      <td>1164466.40</td>\n",
       "      <td>29730311</td>\n",
       "      <td>1618635.10</td>\n",
       "      <td>TX</td>\n",
       "      <td>2.62</td>\n",
       "      <td>3.42</td>\n",
       "      <td>277502.48</td>\n",
       "      <td>2170.51</td>\n",
       "      <td>128.98</td>\n",
       "      <td>4212</td>\n",
       "      <td>South</td>\n",
       "      <td>0.28</td>\n",
       "    </tr>\n",
       "    <tr>\n",
       "      <th>26</th>\n",
       "      <td>Nebraska</td>\n",
       "      <td>117664.90</td>\n",
       "      <td>79713.90</td>\n",
       "      <td>1951996</td>\n",
       "      <td>111545.00</td>\n",
       "      <td>NE</td>\n",
       "      <td>2.45</td>\n",
       "      <td>3.38</td>\n",
       "      <td>276671.76</td>\n",
       "      <td>2150.49</td>\n",
       "      <td>127.82</td>\n",
       "      <td>266</td>\n",
       "      <td>MidWest</td>\n",
       "      <td>0.29</td>\n",
       "    </tr>\n",
       "    <tr>\n",
       "      <th>10</th>\n",
       "      <td>Georgia</td>\n",
       "      <td>536693.00</td>\n",
       "      <td>408752.80</td>\n",
       "      <td>10830007</td>\n",
       "      <td>554566.50</td>\n",
       "      <td>GA</td>\n",
       "      <td>2.41</td>\n",
       "      <td>3.32</td>\n",
       "      <td>253325.04</td>\n",
       "      <td>1969.07</td>\n",
       "      <td>125.18</td>\n",
       "      <td>1153</td>\n",
       "      <td>South</td>\n",
       "      <td>0.26</td>\n",
       "    </tr>\n",
       "    <tr>\n",
       "      <th>0</th>\n",
       "      <td>Alabama</td>\n",
       "      <td>196906.10</td>\n",
       "      <td>176479.80</td>\n",
       "      <td>4934193</td>\n",
       "      <td>228748.80</td>\n",
       "      <td>AL</td>\n",
       "      <td>2.62</td>\n",
       "      <td>3.38</td>\n",
       "      <td>305048.89</td>\n",
       "      <td>2319.30</td>\n",
       "      <td>124.37</td>\n",
       "      <td>892</td>\n",
       "      <td>South</td>\n",
       "      <td>0.23</td>\n",
       "    </tr>\n",
       "    <tr>\n",
       "      <th>17</th>\n",
       "      <td>Louisiana</td>\n",
       "      <td>222296.80</td>\n",
       "      <td>173521.00</td>\n",
       "      <td>4627002</td>\n",
       "      <td>236327.20</td>\n",
       "      <td>LA</td>\n",
       "      <td>2.32</td>\n",
       "      <td>3.28</td>\n",
       "      <td>281259.07</td>\n",
       "      <td>2040.95</td>\n",
       "      <td>123.74</td>\n",
       "      <td>425</td>\n",
       "      <td>South</td>\n",
       "      <td>0.27</td>\n",
       "    </tr>\n",
       "    <tr>\n",
       "      <th>24</th>\n",
       "      <td>Missouri</td>\n",
       "      <td>282654.20</td>\n",
       "      <td>246053.10</td>\n",
       "      <td>6169038</td>\n",
       "      <td>318019.10</td>\n",
       "      <td>MO</td>\n",
       "      <td>2.23</td>\n",
       "      <td>2.97</td>\n",
       "      <td>238783.35</td>\n",
       "      <td>1944.31</td>\n",
       "      <td>123.43</td>\n",
       "      <td>343</td>\n",
       "      <td>MidWest</td>\n",
       "      <td>0.23</td>\n",
       "    </tr>\n",
       "    <tr>\n",
       "      <th>7</th>\n",
       "      <td>Delaware</td>\n",
       "      <td>62056.20</td>\n",
       "      <td>44834.50</td>\n",
       "      <td>990334</td>\n",
       "      <td>55357.40</td>\n",
       "      <td>DE</td>\n",
       "      <td>1.83</td>\n",
       "      <td>3.11</td>\n",
       "      <td>192903.10</td>\n",
       "      <td>1537.86</td>\n",
       "      <td>121.23</td>\n",
       "      <td>93</td>\n",
       "      <td>South</td>\n",
       "      <td>0.19</td>\n",
       "    </tr>\n",
       "    <tr>\n",
       "      <th>3</th>\n",
       "      <td>Arkansas</td>\n",
       "      <td>114943.50</td>\n",
       "      <td>104488.80</td>\n",
       "      <td>3033946</td>\n",
       "      <td>143147.90</td>\n",
       "      <td>AR</td>\n",
       "      <td>2.96</td>\n",
       "      <td>3.64</td>\n",
       "      <td>337014.73</td>\n",
       "      <td>2804.81</td>\n",
       "      <td>117.71</td>\n",
       "      <td>280</td>\n",
       "      <td>South</td>\n",
       "      <td>0.27</td>\n",
       "    </tr>\n",
       "    <tr>\n",
       "      <th>32</th>\n",
       "      <td>North Dakota</td>\n",
       "      <td>54581.10</td>\n",
       "      <td>33631.30</td>\n",
       "      <td>770026</td>\n",
       "      <td>47089.30</td>\n",
       "      <td>ND</td>\n",
       "      <td>2.22</td>\n",
       "      <td>3.58</td>\n",
       "      <td>259991.39</td>\n",
       "      <td>2286.61</td>\n",
       "      <td>112.95</td>\n",
       "      <td>151</td>\n",
       "      <td>MidWest</td>\n",
       "      <td>0.29</td>\n",
       "    </tr>\n",
       "    <tr>\n",
       "      <th>15</th>\n",
       "      <td>Kansas</td>\n",
       "      <td>156770.10</td>\n",
       "      <td>113185.30</td>\n",
       "      <td>2917224</td>\n",
       "      <td>163462.20</td>\n",
       "      <td>KS</td>\n",
       "      <td>2.55</td>\n",
       "      <td>3.41</td>\n",
       "      <td>259040.19</td>\n",
       "      <td>2287.53</td>\n",
       "      <td>108.62</td>\n",
       "      <td>283</td>\n",
       "      <td>MidWest</td>\n",
       "      <td>0.31</td>\n",
       "    </tr>\n",
       "    <tr>\n",
       "      <th>13</th>\n",
       "      <td>Indiana</td>\n",
       "      <td>329863.30</td>\n",
       "      <td>257343.10</td>\n",
       "      <td>6805663</td>\n",
       "      <td>350759.50</td>\n",
       "      <td>IN</td>\n",
       "      <td>2.13</td>\n",
       "      <td>3.09</td>\n",
       "      <td>216826.92</td>\n",
       "      <td>2076.28</td>\n",
       "      <td>98.88</td>\n",
       "      <td>990</td>\n",
       "      <td>MidWest</td>\n",
       "      <td>0.27</td>\n",
       "    </tr>\n",
       "    <tr>\n",
       "      <th>14</th>\n",
       "      <td>Iowa</td>\n",
       "      <td>169420.30</td>\n",
       "      <td>118904.60</td>\n",
       "      <td>3167974</td>\n",
       "      <td>169181.60</td>\n",
       "      <td>IA</td>\n",
       "      <td>1.95</td>\n",
       "      <td>3.13</td>\n",
       "      <td>149252.38</td>\n",
       "      <td>1686.97</td>\n",
       "      <td>90.80</td>\n",
       "      <td>117</td>\n",
       "      <td>MidWest</td>\n",
       "      <td>0.30</td>\n",
       "    </tr>\n",
       "    <tr>\n",
       "      <th>23</th>\n",
       "      <td>Mississippi</td>\n",
       "      <td>99667.50</td>\n",
       "      <td>95998.30</td>\n",
       "      <td>2966407</td>\n",
       "      <td>124988.20</td>\n",
       "      <td>MS</td>\n",
       "      <td>2.29</td>\n",
       "      <td>3.30</td>\n",
       "      <td>181302.03</td>\n",
       "      <td>1907.25</td>\n",
       "      <td>90.56</td>\n",
       "      <td>376</td>\n",
       "      <td>South</td>\n",
       "      <td>0.23</td>\n",
       "    </tr>\n",
       "    <tr>\n",
       "      <th>21</th>\n",
       "      <td>Michigan</td>\n",
       "      <td>445682.60</td>\n",
       "      <td>411364.20</td>\n",
       "      <td>9992427</td>\n",
       "      <td>530808.60</td>\n",
       "      <td>MI</td>\n",
       "      <td>1.81</td>\n",
       "      <td>3.13</td>\n",
       "      <td>142267.57</td>\n",
       "      <td>1587.69</td>\n",
       "      <td>86.42</td>\n",
       "      <td>871</td>\n",
       "      <td>MidWest</td>\n",
       "      <td>0.23</td>\n",
       "    </tr>\n",
       "    <tr>\n",
       "      <th>33</th>\n",
       "      <td>Ohio</td>\n",
       "      <td>589897.70</td>\n",
       "      <td>466159.70</td>\n",
       "      <td>11714618</td>\n",
       "      <td>627231.30</td>\n",
       "      <td>OH</td>\n",
       "      <td>1.83</td>\n",
       "      <td>3.35</td>\n",
       "      <td>134805.94</td>\n",
       "      <td>1744.94</td>\n",
       "      <td>79.73</td>\n",
       "      <td>1183</td>\n",
       "      <td>MidWest</td>\n",
       "      <td>0.26</td>\n",
       "    </tr>\n",
       "  </tbody>\n",
       "</table>\n",
       "</div>"
      ],
      "text/plain": [
       "               fullState        GDP   Spending  Population     Income State  \\\n",
       "20         Massachusetts  498577.00  358472.30     6912239  540855.30    MA   \n",
       "8   District of Columbia  122342.10   46453.60      714153   61706.10    DC   \n",
       "18                 Maine   58757.30   61123.80     1354522   73192.80    ME   \n",
       "4             California 2663665.90 1835980.60    39613493 2763312.00    CA   \n",
       "5               Colorado  346011.30  270883.00     5893634  370392.10    CO   \n",
       "11                 Idaho   73655.40   64780.60     1860123   89077.70    ID   \n",
       "35                Oregon  212849.70  178375.40     4289439  238847.10    OR   \n",
       "30              New York 1420141.00  961707.30    19299981 1440049.50    NY   \n",
       "44            Washington  532861.90  354219.10     7796941  516441.10    WA   \n",
       "28            New Jersey  535794.90  446078.40     8874520  652498.90    NJ   \n",
       "2                Arizona  320550.60  287090.10     7520103  368458.60    AZ   \n",
       "31        North Carolina  499517.50  405953.50    10701022  533269.30    NC   \n",
       "22             Minnesota  326635.60  251204.70     5706398  350784.70    MN   \n",
       "40             Tennessee  316325.30  258252.30     6944260  351546.30    TN   \n",
       "27                Nevada  145219.10  123053.70     3185786  168587.30    NV   \n",
       "9                Florida  944000.80  947905.90    21944577 1209995.90    FL   \n",
       "42                  Utah  171370.10  121445.40     3310774  169656.30    UT   \n",
       "37          Rhode Island   51415.10   45397.10     1061509   64299.90    RI   \n",
       "38        South Carolina  208480.50  195958.70     5277830  250573.60    SC   \n",
       "39          South Dakota   46682.70   37337.80      896581   52920.70    SD   \n",
       "36          Pennsylvania  683773.90  570772.00    12804123  788725.20    PA   \n",
       "6            Connecticut  235888.60  179405.90     3552821  279612.40    CT   \n",
       "25               Montana   46158.10   45719.50     1085004   57660.20    MT   \n",
       "1                 Alaska   50161.00   35635.70      724357   46430.30    AK   \n",
       "16              Kentucky  185535.10  163749.90     4480713  211947.60    KY   \n",
       "45             Wisconsin  291715.80  238923.00     5852490  324252.00    WI   \n",
       "43              Virginia  473817.50  367302.70     8603985  532256.20    VA   \n",
       "12              Illinois  737643.60  553611.60    12569321  792135.50    IL   \n",
       "19              Maryland  353052.50  268456.80     6065436  404520.70    MD   \n",
       "29            New Mexico   92696.50   74276.40     2105005   97603.50    NM   \n",
       "34              Oklahoma  190893.80  137469.20     3990443  198552.10    OK   \n",
       "41                 Texas 1734321.10 1164466.40    29730311 1618635.10    TX   \n",
       "26              Nebraska  117664.90   79713.90     1951996  111545.00    NE   \n",
       "10               Georgia  536693.00  408752.80    10830007  554566.50    GA   \n",
       "0                Alabama  196906.10  176479.80     4934193  228748.80    AL   \n",
       "17             Louisiana  222296.80  173521.00     4627002  236327.20    LA   \n",
       "24              Missouri  282654.20  246053.10     6169038  318019.10    MO   \n",
       "7               Delaware   62056.20   44834.50      990334   55357.40    DE   \n",
       "3               Arkansas  114943.50  104488.80     3033946  143147.90    AR   \n",
       "32          North Dakota   54581.10   33631.30      770026   47089.30    ND   \n",
       "15                Kansas  156770.10  113185.30     2917224  163462.20    KS   \n",
       "13               Indiana  329863.30  257343.10     6805663  350759.50    IN   \n",
       "14                  Iowa  169420.30  118904.60     3167974  169181.60    IA   \n",
       "23           Mississippi   99667.50   95998.30     2966407  124988.20    MS   \n",
       "21              Michigan  445682.60  411364.20     9992427  530808.60    MI   \n",
       "33                  Ohio  589897.70  466159.70    11714618  627231.30    OH   \n",
       "\n",
       "    Bathrooms  Bedrooms     Price    Size  perSqFt  HouseCount   Region  \\\n",
       "20       2.39      3.47 800687.64 1845.42   501.03        1069    North   \n",
       "8        2.47      2.78 732301.21 1525.06   500.22         102    North   \n",
       "18       2.14      2.83 713430.86 1673.86   437.12          42    North   \n",
       "4        2.56      3.44 776273.37 1965.24   424.09        5696     West   \n",
       "5        2.64      3.26 581882.04 2114.61   289.85         834     West   \n",
       "11       2.75      3.91 571593.22 2321.74   253.87         104     West   \n",
       "35       2.83      3.44 556123.87 2299.38   250.94         272     West   \n",
       "30       2.19      3.56 394074.03 1970.86   232.16        1183    North   \n",
       "44       2.49      3.60 485569.83 2240.48   230.23         269     West   \n",
       "28       2.36      4.01 386702.32 3455.86   224.85         699    North   \n",
       "2        2.51      3.34 466962.46 2070.79   224.66        1998     West   \n",
       "31       2.84      3.26 478810.32 2235.15   221.57         998    South   \n",
       "22       2.18      3.11 369010.68 1850.69   205.52         848  MidWest   \n",
       "40       2.58      3.26 427594.91 2130.56   203.61         726    South   \n",
       "27       2.71      3.32 400673.05 1999.47   202.44         941     West   \n",
       "9        2.28      2.94 322036.59 1596.70   201.74        3241    South   \n",
       "42       2.73      4.15 470316.15 2524.02   200.74         252     West   \n",
       "37       1.98      3.14 305050.04 1750.53   191.57         199    North   \n",
       "38       2.65      3.48 378263.16 2039.93   185.20          91    South   \n",
       "39       2.40      3.44 362883.80 2031.12   181.82          25  MidWest   \n",
       "36       2.13      3.22 279675.06 1680.58   177.68        1172    North   \n",
       "6        2.57      4.15 365254.44 2359.92   177.04         406    North   \n",
       "25       2.48      3.45 417416.81 2464.15   168.74         110     West   \n",
       "1        2.97      4.59 363202.40 2392.84   165.54         403     West   \n",
       "16       2.77      3.32 394384.46 2387.65   165.15         361    South   \n",
       "45       2.32      3.25 297997.15 1906.92   161.82         320  MidWest   \n",
       "43       2.52      3.23 291610.56 1806.27   161.60        1216    South   \n",
       "12       2.24      2.99 268614.69 1756.19   159.48        1467  MidWest   \n",
       "19       2.28      2.98 240832.79 1577.91   157.61         505    South   \n",
       "29       2.46      3.37 315167.86 2096.72   152.91         235     West   \n",
       "34       2.57      3.41 354887.77 2511.43   131.90        1116    South   \n",
       "41       2.62      3.42 277502.48 2170.51   128.98        4212    South   \n",
       "26       2.45      3.38 276671.76 2150.49   127.82         266  MidWest   \n",
       "10       2.41      3.32 253325.04 1969.07   125.18        1153    South   \n",
       "0        2.62      3.38 305048.89 2319.30   124.37         892    South   \n",
       "17       2.32      3.28 281259.07 2040.95   123.74         425    South   \n",
       "24       2.23      2.97 238783.35 1944.31   123.43         343  MidWest   \n",
       "7        1.83      3.11 192903.10 1537.86   121.23          93    South   \n",
       "3        2.96      3.64 337014.73 2804.81   117.71         280    South   \n",
       "32       2.22      3.58 259991.39 2286.61   112.95         151  MidWest   \n",
       "15       2.55      3.41 259040.19 2287.53   108.62         283  MidWest   \n",
       "13       2.13      3.09 216826.92 2076.28    98.88         990  MidWest   \n",
       "14       1.95      3.13 149252.38 1686.97    90.80         117  MidWest   \n",
       "23       2.29      3.30 181302.03 1907.25    90.56         376    South   \n",
       "21       1.81      3.13 142267.57 1587.69    86.42         871  MidWest   \n",
       "33       1.83      3.35 134805.94 1744.94    79.73        1183  MidWest   \n",
       "\n",
       "    SavingsRate  \n",
       "20         0.34  \n",
       "8          0.25  \n",
       "18         0.16  \n",
       "4          0.34  \n",
       "5          0.27  \n",
       "11         0.27  \n",
       "35         0.25  \n",
       "30         0.33  \n",
       "44         0.31  \n",
       "28         0.32  \n",
       "2          0.22  \n",
       "31         0.24  \n",
       "22         0.28  \n",
       "40         0.27  \n",
       "27         0.27  \n",
       "9          0.22  \n",
       "42         0.28  \n",
       "37         0.29  \n",
       "38         0.22  \n",
       "39         0.29  \n",
       "36         0.28  \n",
       "6          0.36  \n",
       "25         0.21  \n",
       "1          0.23  \n",
       "16         0.23  \n",
       "45         0.26  \n",
       "43         0.31  \n",
       "12         0.30  \n",
       "19         0.34  \n",
       "29         0.24  \n",
       "34         0.31  \n",
       "41         0.28  \n",
       "26         0.29  \n",
       "10         0.26  \n",
       "0          0.23  \n",
       "17         0.27  \n",
       "24         0.23  \n",
       "7          0.19  \n",
       "3          0.27  \n",
       "32         0.29  \n",
       "15         0.31  \n",
       "13         0.27  \n",
       "14         0.30  \n",
       "23         0.23  \n",
       "21         0.23  \n",
       "33         0.26  "
      ]
     },
     "execution_count": 623,
     "metadata": {},
     "output_type": "execute_result"
    }
   ],
   "source": [
    "state_df.sort_values(by='perSqFt',ascending=False)"
   ]
  },
  {
   "cell_type": "markdown",
   "metadata": {},
   "source": [
    "#### Visualizations"
   ]
  },
  {
   "cell_type": "markdown",
   "metadata": {},
   "source": [
    "##### House_df"
   ]
  },
  {
   "cell_type": "code",
   "execution_count": 624,
   "metadata": {},
   "outputs": [
    {
     "data": {
      "text/plain": [
       "<AxesSubplot:>"
      ]
     },
     "execution_count": 624,
     "metadata": {},
     "output_type": "execute_result"
    },
    {
     "data": {
      "image/png": "[encoded data removed]",
      "text/plain": [
       "<Figure size 2160x864 with 1 Axes>"
      ]
     },
     "metadata": {
      "needs_background": "light"
     },
     "output_type": "display_data"
    }
   ],
   "source": [
    "plt.figure(figsize=(30,12))\n",
    "house_df['State'].value_counts().plot(kind='bar')"
   ]
  },
  {
   "cell_type": "code",
   "execution_count": 625,
   "metadata": {},
   "outputs": [
    {
     "data": {
      "text/plain": [
       "[(0.0, 12397.35)]"
      ]
     },
     "execution_count": 625,
     "metadata": {},
     "output_type": "execute_result"
    },
    {
     "data": {
      "image/png": "[encoded data removed]",
      "text/plain": [
       "<Figure size 1152x864 with 1 Axes>"
      ]
     },
     "metadata": {
      "needs_background": "light"
     },
     "output_type": "display_data"
    }
   ],
   "source": [
    "plt.figure(figsize=(16,12))\n",
    "g=sns.countplot(x='Region',data=house_df,hue='Type')\n",
    "g.set(ylim=(0, None))"
   ]
  },
  {
   "cell_type": "markdown",
   "metadata": {},
   "source": [
    "According to the graph, it is obvious that single family houses are the dominate market in United States, condo is the second, townhouses are thrid, and rest are others.<br>\n",
    "The North Region has a high percentage of Condos relative to the houses. "
   ]
  },
  {
   "cell_type": "code",
   "execution_count": 626,
   "metadata": {},
   "outputs": [
    {
     "data": {
      "image/png": "[encoded data removed]",
      "text/plain": [
       "<Figure size 2160x1080 with 1 Axes>"
      ]
     },
     "metadata": {
      "needs_background": "light"
     },
     "output_type": "display_data"
    }
   ],
   "source": [
    "plt.figure(figsize=(30,15))\n",
    "# sns.boxplot(data = house_df, x = 'Type' , y = 'Price')\n",
    "ax = sns.boxplot(data = house_df, x = 'State' , y = 'Price')\n",
    "\n",
    "\n",
    "\n",
    "# house_df_nout = house_df[(house_df['Price'] <= 1750000)]\n",
    "# plt.figure(figsize=(30,12))\n",
    "# ax = sns.boxplot(data = house_df_nout, x = 'State' , y = 'Price')\n",
    "# ax.set_ylim(0,None)"
   ]
  },
  {
   "cell_type": "code",
   "execution_count": 627,
   "metadata": {},
   "outputs": [
    {
     "data": {
      "text/plain": [
       "(0.0, 1358.2058209278798)"
      ]
     },
     "execution_count": 627,
     "metadata": {},
     "output_type": "execute_result"
    },
    {
     "data": {
      "image/png": "[encoded data removed]",
      "text/plain": [
       "<Figure size 2160x864 with 1 Axes>"
      ]
     },
     "metadata": {
      "needs_background": "light"
     },
     "output_type": "display_data"
    }
   ],
   "source": [
    "\n",
    "plt.figure(figsize=(30,12))\n",
    "ax = sns.boxplot(data = house_df, x = 'State' , y = 'perSqFt')\n",
    "ax.set_ylim(0,None)"
   ]
  },
  {
   "cell_type": "markdown",
   "metadata": {},
   "source": [
    "##### State_df"
   ]
  },
  {
   "cell_type": "code",
   "execution_count": 628,
   "metadata": {},
   "outputs": [
    {
     "data": {
      "text/html": [
       "<div>\n",
       "<style scoped>\n",
       "    .dataframe tbody tr th:only-of-type {\n",
       "        vertical-align: middle;\n",
       "    }\n",
       "\n",
       "    .dataframe tbody tr th {\n",
       "        vertical-align: top;\n",
       "    }\n",
       "\n",
       "    .dataframe thead th {\n",
       "        text-align: right;\n",
       "    }\n",
       "</style>\n",
       "<table border=\"1\" class=\"dataframe\">\n",
       "  <thead>\n",
       "    <tr style=\"text-align: right;\">\n",
       "      <th></th>\n",
       "      <th>GDP</th>\n",
       "      <th>Spending</th>\n",
       "      <th>Population</th>\n",
       "      <th>Income</th>\n",
       "      <th>Bathrooms</th>\n",
       "      <th>Bedrooms</th>\n",
       "      <th>Price</th>\n",
       "      <th>Size</th>\n",
       "      <th>perSqFt</th>\n",
       "      <th>HouseCount</th>\n",
       "      <th>SavingsRate</th>\n",
       "    </tr>\n",
       "  </thead>\n",
       "  <tbody>\n",
       "    <tr>\n",
       "      <th>GDP</th>\n",
       "      <td>1.00</td>\n",
       "      <td>0.99</td>\n",
       "      <td>0.98</td>\n",
       "      <td>0.99</td>\n",
       "      <td>-0.03</td>\n",
       "      <td>-0.04</td>\n",
       "      <td>0.21</td>\n",
       "      <td>-0.11</td>\n",
       "      <td>0.25</td>\n",
       "      <td>0.90</td>\n",
       "      <td>0.35</td>\n",
       "    </tr>\n",
       "    <tr>\n",
       "      <th>Spending</th>\n",
       "      <td>0.99</td>\n",
       "      <td>1.00</td>\n",
       "      <td>0.99</td>\n",
       "      <td>1.00</td>\n",
       "      <td>-0.05</td>\n",
       "      <td>-0.07</td>\n",
       "      <td>0.17</td>\n",
       "      <td>-0.13</td>\n",
       "      <td>0.22</td>\n",
       "      <td>0.92</td>\n",
       "      <td>0.29</td>\n",
       "    </tr>\n",
       "    <tr>\n",
       "      <th>Population</th>\n",
       "      <td>0.98</td>\n",
       "      <td>0.99</td>\n",
       "      <td>1.00</td>\n",
       "      <td>0.99</td>\n",
       "      <td>-0.04</td>\n",
       "      <td>-0.09</td>\n",
       "      <td>0.13</td>\n",
       "      <td>-0.13</td>\n",
       "      <td>0.16</td>\n",
       "      <td>0.93</td>\n",
       "      <td>0.25</td>\n",
       "    </tr>\n",
       "    <tr>\n",
       "      <th>Income</th>\n",
       "      <td>0.99</td>\n",
       "      <td>1.00</td>\n",
       "      <td>0.99</td>\n",
       "      <td>1.00</td>\n",
       "      <td>-0.05</td>\n",
       "      <td>-0.05</td>\n",
       "      <td>0.20</td>\n",
       "      <td>-0.12</td>\n",
       "      <td>0.24</td>\n",
       "      <td>0.91</td>\n",
       "      <td>0.33</td>\n",
       "    </tr>\n",
       "    <tr>\n",
       "      <th>Bathrooms</th>\n",
       "      <td>-0.03</td>\n",
       "      <td>-0.05</td>\n",
       "      <td>-0.04</td>\n",
       "      <td>-0.05</td>\n",
       "      <td>1.00</td>\n",
       "      <td>0.52</td>\n",
       "      <td>0.44</td>\n",
       "      <td>0.59</td>\n",
       "      <td>0.19</td>\n",
       "      <td>0.05</td>\n",
       "      <td>0.05</td>\n",
       "    </tr>\n",
       "    <tr>\n",
       "      <th>Bedrooms</th>\n",
       "      <td>-0.04</td>\n",
       "      <td>-0.07</td>\n",
       "      <td>-0.09</td>\n",
       "      <td>-0.05</td>\n",
       "      <td>0.52</td>\n",
       "      <td>1.00</td>\n",
       "      <td>0.10</td>\n",
       "      <td>0.70</td>\n",
       "      <td>-0.08</td>\n",
       "      <td>-0.09</td>\n",
       "      <td>0.29</td>\n",
       "    </tr>\n",
       "    <tr>\n",
       "      <th>Price</th>\n",
       "      <td>0.21</td>\n",
       "      <td>0.17</td>\n",
       "      <td>0.13</td>\n",
       "      <td>0.20</td>\n",
       "      <td>0.44</td>\n",
       "      <td>0.10</td>\n",
       "      <td>1.00</td>\n",
       "      <td>0.11</td>\n",
       "      <td>0.94</td>\n",
       "      <td>0.18</td>\n",
       "      <td>0.07</td>\n",
       "    </tr>\n",
       "    <tr>\n",
       "      <th>Size</th>\n",
       "      <td>-0.11</td>\n",
       "      <td>-0.13</td>\n",
       "      <td>-0.13</td>\n",
       "      <td>-0.12</td>\n",
       "      <td>0.59</td>\n",
       "      <td>0.70</td>\n",
       "      <td>0.11</td>\n",
       "      <td>1.00</td>\n",
       "      <td>-0.13</td>\n",
       "      <td>-0.12</td>\n",
       "      <td>0.18</td>\n",
       "    </tr>\n",
       "    <tr>\n",
       "      <th>perSqFt</th>\n",
       "      <td>0.25</td>\n",
       "      <td>0.22</td>\n",
       "      <td>0.16</td>\n",
       "      <td>0.24</td>\n",
       "      <td>0.19</td>\n",
       "      <td>-0.08</td>\n",
       "      <td>0.94</td>\n",
       "      <td>-0.13</td>\n",
       "      <td>1.00</td>\n",
       "      <td>0.19</td>\n",
       "      <td>0.08</td>\n",
       "    </tr>\n",
       "    <tr>\n",
       "      <th>HouseCount</th>\n",
       "      <td>0.90</td>\n",
       "      <td>0.92</td>\n",
       "      <td>0.93</td>\n",
       "      <td>0.91</td>\n",
       "      <td>0.05</td>\n",
       "      <td>-0.09</td>\n",
       "      <td>0.18</td>\n",
       "      <td>-0.12</td>\n",
       "      <td>0.19</td>\n",
       "      <td>1.00</td>\n",
       "      <td>0.19</td>\n",
       "    </tr>\n",
       "    <tr>\n",
       "      <th>SavingsRate</th>\n",
       "      <td>0.35</td>\n",
       "      <td>0.29</td>\n",
       "      <td>0.25</td>\n",
       "      <td>0.33</td>\n",
       "      <td>0.05</td>\n",
       "      <td>0.29</td>\n",
       "      <td>0.07</td>\n",
       "      <td>0.18</td>\n",
       "      <td>0.08</td>\n",
       "      <td>0.19</td>\n",
       "      <td>1.00</td>\n",
       "    </tr>\n",
       "  </tbody>\n",
       "</table>\n",
       "</div>"
      ],
      "text/plain": [
       "              GDP  Spending  Population  Income  Bathrooms  Bedrooms  Price  \\\n",
       "GDP          1.00      0.99        0.98    0.99      -0.03     -0.04   0.21   \n",
       "Spending     0.99      1.00        0.99    1.00      -0.05     -0.07   0.17   \n",
       "Population   0.98      0.99        1.00    0.99      -0.04     -0.09   0.13   \n",
       "Income       0.99      1.00        0.99    1.00      -0.05     -0.05   0.20   \n",
       "Bathrooms   -0.03     -0.05       -0.04   -0.05       1.00      0.52   0.44   \n",
       "Bedrooms    -0.04     -0.07       -0.09   -0.05       0.52      1.00   0.10   \n",
       "Price        0.21      0.17        0.13    0.20       0.44      0.10   1.00   \n",
       "Size        -0.11     -0.13       -0.13   -0.12       0.59      0.70   0.11   \n",
       "perSqFt      0.25      0.22        0.16    0.24       0.19     -0.08   0.94   \n",
       "HouseCount   0.90      0.92        0.93    0.91       0.05     -0.09   0.18   \n",
       "SavingsRate  0.35      0.29        0.25    0.33       0.05      0.29   0.07   \n",
       "\n",
       "             Size  perSqFt  HouseCount  SavingsRate  \n",
       "GDP         -0.11     0.25        0.90         0.35  \n",
       "Spending    -0.13     0.22        0.92         0.29  \n",
       "Population  -0.13     0.16        0.93         0.25  \n",
       "Income      -0.12     0.24        0.91         0.33  \n",
       "Bathrooms    0.59     0.19        0.05         0.05  \n",
       "Bedrooms     0.70    -0.08       -0.09         0.29  \n",
       "Price        0.11     0.94        0.18         0.07  \n",
       "Size         1.00    -0.13       -0.12         0.18  \n",
       "perSqFt     -0.13     1.00        0.19         0.08  \n",
       "HouseCount  -0.12     0.19        1.00         0.19  \n",
       "SavingsRate  0.18     0.08        0.19         1.00  "
      ]
     },
     "execution_count": 628,
     "metadata": {},
     "output_type": "execute_result"
    }
   ],
   "source": [
    "# View the correlation in numbers.\n",
    "state_df.corr()"
   ]
  },
  {
   "cell_type": "code",
   "execution_count": 629,
   "metadata": {},
   "outputs": [
    {
     "data": {
      "text/plain": [
       "<seaborn.axisgrid.PairGrid at 0x7fbe4c5ea4f0>"
      ]
     },
     "execution_count": 629,
     "metadata": {},
     "output_type": "execute_result"
    },
    {
     "data": {
      "image/png": "[encoded data removed]",
      "text/plain": [
       "<Figure size 1980x1980 with 132 Axes>"
      ]
     },
     "metadata": {
      "needs_background": "light"
     },
     "output_type": "display_data"
    }
   ],
   "source": [
    "# Print pairplot to visualize the correlations. \n",
    "sns.pairplot(data=state_df)\n",
    "# the more money you have the more bathrooms you will get."
   ]
  },
  {
   "cell_type": "markdown",
   "metadata": {},
   "source": [
    "GDP Income Spending and Population have a strong correlation. <br>\n",
    "Additionally, number of houses sold also have a strong correlation with these. So more real estate activity with higher GDP Income Spending and Population\n",
    " <br>\n",
    "SavingsRate and Bedrooms are slightly, the more you save the more bedrooms you are going to get.\n",
    "<br>\n",
    "Of course the bigger the house, the more Bedrooms and Bathrooms you will have."
   ]
  },
  {
   "cell_type": "code",
   "execution_count": 630,
   "metadata": {},
   "outputs": [
    {
     "data": {
      "image/png": "[encoded data removed]",
      "text/plain": [
       "<Figure size 432x288 with 1 Axes>"
      ]
     },
     "metadata": {
      "needs_background": "light"
     },
     "output_type": "display_data"
    }
   ],
   "source": [
    "# Regression plot of SavingsRate vs perSqFt\n",
    "g = sns.regplot(data = state_df, y = 'perSqFt', x = 'SavingsRate')\n",
    "plt.ticklabel_format(style='plain', axis='y')\n",
    "plt.ticklabel_format(style='plain', axis='x')\n",
    "# The States that have higher SavingRate will pay higher perSqFt for the houses. Note: perSqFt vs House price is two different things."
   ]
  },
  {
   "cell_type": "markdown",
   "metadata": {},
   "source": [
    "There is slight correlation between SavingsRate and perSqFt. <br>\n",
    "As people saves more money, they pay higher perSqFt for the house.<br>\n",
    "Note: This doesnt mean they will be better furnished houses, it may be geographic area. We dont have enough data/evidence to prove this."
   ]
  },
  {
   "cell_type": "code",
   "execution_count": 631,
   "metadata": {},
   "outputs": [
    {
     "data": {
      "image/png": "[encoded data removed]",
      "text/plain": [
       "<Figure size 432x288 with 1 Axes>"
      ]
     },
     "metadata": {
      "needs_background": "light"
     },
     "output_type": "display_data"
    }
   ],
   "source": [
    "g = sns.regplot(data = state_df, x = 'GDP', y = 'Price')\n",
    "plt.ticklabel_format(style='plain', axis='y')\n",
    "plt.ticklabel_format(style='plain', axis='x')\n",
    "# g.set(xlim = (0,1000000))"
   ]
  },
  {
   "cell_type": "code",
   "execution_count": 632,
   "metadata": {},
   "outputs": [
    {
     "data": {
      "text/plain": [
       "<AxesSubplot:xlabel='State'>"
      ]
     },
     "execution_count": 632,
     "metadata": {},
     "output_type": "execute_result"
    },
    {
     "data": {
      "image/png": "[encoded data removed]",
      "text/plain": [
       "<Figure size 432x288 with 1 Axes>"
      ]
     },
     "metadata": {
      "needs_background": "light"
     },
     "output_type": "display_data"
    }
   ],
   "source": [
    "areaplot_df = state_df[['Income','Spending','State']]\n",
    "areaplot_df.plot.area(x='State',stacked=False)"
   ]
  },
  {
   "cell_type": "code",
   "execution_count": 633,
   "metadata": {},
   "outputs": [
    {
     "data": {
      "application/vnd.plotly.v1+json": {
       "config": {
        "linkText": "Export to plot.ly",
        "plotlyServerURL": "https://plot.ly",
        "showLink": false
       },
       "data": [
        {
         "colorbar": {
          "title": {
           "text": "Price"
          }
         },
         "colorscale": [
          [
           0,
           "rgb(12,51,131)"
          ],
          [
           0.25,
           "rgb(10,136,186)"
          ],
          [
           0.5,
           "rgb(242,211,56)"
          ],
          [
           0.75,
           "rgb(242,143,56)"
          ],
          [
           1,
           "rgb(217,30,30)"
          ]
         ],
         "locationmode": "USA-states",
         "locations": [
          "AL",
          "AK",
          "AZ",
          "AR",
          "CA",
          "CO",
          "CT",
          "DE",
          "DC",
          "FL",
          "GA",
          "ID",
          "IL",
          "IN",
          "IA",
          "KS",
          "KY",
          "LA",
          "ME",
          "MD",
          "MA",
          "MI",
          "MN",
          "MS",
          "MO",
          "MT",
          "NE",
          "NV",
          "NJ",
          "NM",
          "NY",
          "NC",
          "ND",
          "OH",
          "OK",
          "OR",
          "PA",
          "RI",
          "SC",
          "SD",
          "TN",
          "TX",
          "UT",
          "VA",
          "WA",
          "WI"
         ],
         "text": [
          305048.8890134529,
          363202.3995037221,
          466962.45795795793,
          337014.72857142857,
          776273.3695575843,
          581882.0371702638,
          365254.43596059113,
          192903.09677419355,
          732301.2058823529,
          322036.58870718913,
          253325.039028621,
          571593.2211538461,
          268614.69120654394,
          216826.91818181818,
          149252.38461538462,
          259040.18727915196,
          394384.45983379503,
          281259.06588235294,
          713430.8571428572,
          240832.78811881188,
          800687.6361085126,
          142267.57060849597,
          369010.6804245283,
          181302.03191489363,
          238783.3527696793,
          417416.8090909091,
          276671.75563909777,
          400673.0531349628,
          386702.32474964234,
          315167.86382978724,
          394074.02535925613,
          478810.31863727455,
          259991.39072847684,
          134805.93998309382,
          354887.773297491,
          556123.8676470588,
          279675.0614334471,
          305050.040201005,
          378263.16483516485,
          362883.8,
          427594.91046831955,
          277502.47768281103,
          470316.15476190473,
          291610.55592105264,
          485569.8252788104,
          297997.15
         ],
         "type": "choropleth",
         "z": [
          305048.8890134529,
          363202.3995037221,
          466962.45795795793,
          337014.72857142857,
          776273.3695575843,
          581882.0371702638,
          365254.43596059113,
          192903.09677419355,
          732301.2058823529,
          322036.58870718913,
          253325.039028621,
          571593.2211538461,
          268614.69120654394,
          216826.91818181818,
          149252.38461538462,
          259040.18727915196,
          394384.45983379503,
          281259.06588235294,
          713430.8571428572,
          240832.78811881188,
          800687.6361085126,
          142267.57060849597,
          369010.6804245283,
          181302.03191489363,
          238783.3527696793,
          417416.8090909091,
          276671.75563909777,
          400673.0531349628,
          386702.32474964234,
          315167.86382978724,
          394074.02535925613,
          478810.31863727455,
          259991.39072847684,
          134805.93998309382,
          354887.773297491,
          556123.8676470588,
          279675.0614334471,
          305050.040201005,
          378263.16483516485,
          362883.8,
          427594.91046831955,
          277502.47768281103,
          470316.15476190473,
          291610.55592105264,
          485569.8252788104,
          297997.15
         ]
        }
       ],
       "layout": {
        "geo": {
         "scope": "usa"
        },
        "template": {
         "data": {
          "bar": [
           {
            "error_x": {
             "color": "#2a3f5f"
            },
            "error_y": {
             "color": "#2a3f5f"
            },
            "marker": {
             "line": {
              "color": "#E5ECF6",
              "width": 0.5
             },
             "pattern": {
              "fillmode": "overlay",
              "size": 10,
              "solidity": 0.2
             }
            },
            "type": "bar"
           }
          ],
          "barpolar": [
           {
            "marker": {
             "line": {
              "color": "#E5ECF6",
              "width": 0.5
             },
             "pattern": {
              "fillmode": "overlay",
              "size": 10,
              "solidity": 0.2
             }
            },
            "type": "barpolar"
           }
          ],
          "carpet": [
           {
            "aaxis": {
             "endlinecolor": "#2a3f5f",
             "gridcolor": "white",
             "linecolor": "white",
             "minorgridcolor": "white",
             "startlinecolor": "#2a3f5f"
            },
            "baxis": {
             "endlinecolor": "#2a3f5f",
             "gridcolor": "white",
             "linecolor": "white",
             "minorgridcolor": "white",
             "startlinecolor": "#2a3f5f"
            },
            "type": "carpet"
           }
          ],
          "choropleth": [
           {
            "colorbar": {
             "outlinewidth": 0,
             "ticks": ""
            },
            "type": "choropleth"
           }
          ],
          "contour": [
           {
            "colorbar": {
             "outlinewidth": 0,
             "ticks": ""
            },
            "colorscale": [
             [
              0,
              "#0d0887"
             ],
             [
              0.1111111111111111,
              "#46039f"
             ],
             [
              0.2222222222222222,
              "#7201a8"
             ],
             [
              0.3333333333333333,
              "#9c179e"
             ],
             [
              0.4444444444444444,
              "#bd3786"
             ],
             [
              0.5555555555555556,
              "#d8576b"
             ],
             [
              0.6666666666666666,
              "#ed7953"
             ],
             [
              0.7777777777777778,
              "#fb9f3a"
             ],
             [
              0.8888888888888888,
              "#fdca26"
             ],
             [
              1,
              "#f0f921"
             ]
            ],
            "type": "contour"
           }
          ],
          "contourcarpet": [
           {
            "colorbar": {
             "outlinewidth": 0,
             "ticks": ""
            },
            "type": "contourcarpet"
           }
          ],
          "heatmap": [
           {
            "colorbar": {
             "outlinewidth": 0,
             "ticks": ""
            },
            "colorscale": [
             [
              0,
              "#0d0887"
             ],
             [
              0.1111111111111111,
              "#46039f"
             ],
             [
              0.2222222222222222,
              "#7201a8"
             ],
             [
              0.3333333333333333,
              "#9c179e"
             ],
             [
              0.4444444444444444,
              "#bd3786"
             ],
             [
              0.5555555555555556,
              "#d8576b"
             ],
             [
              0.6666666666666666,
              "#ed7953"
             ],
             [
              0.7777777777777778,
              "#fb9f3a"
             ],
             [
              0.8888888888888888,
              "#fdca26"
             ],
             [
              1,
              "#f0f921"
             ]
            ],
            "type": "heatmap"
           }
          ],
          "heatmapgl": [
           {
            "colorbar": {
             "outlinewidth": 0,
             "ticks": ""
            },
            "colorscale": [
             [
              0,
              "#0d0887"
             ],
             [
              0.1111111111111111,
              "#46039f"
             ],
             [
              0.2222222222222222,
              "#7201a8"
             ],
             [
              0.3333333333333333,
              "#9c179e"
             ],
             [
              0.4444444444444444,
              "#bd3786"
             ],
             [
              0.5555555555555556,
              "#d8576b"
             ],
             [
              0.6666666666666666,
              "#ed7953"
             ],
             [
              0.7777777777777778,
              "#fb9f3a"
             ],
             [
              0.8888888888888888,
              "#fdca26"
             ],
             [
              1,
              "#f0f921"
             ]
            ],
            "type": "heatmapgl"
           }
          ],
          "histogram": [
           {
            "marker": {
             "pattern": {
              "fillmode": "overlay",
              "size": 10,
              "solidity": 0.2
             }
            },
            "type": "histogram"
           }
          ],
          "histogram2d": [
           {
            "colorbar": {
             "outlinewidth": 0,
             "ticks": ""
            },
            "colorscale": [
             [
              0,
              "#0d0887"
             ],
             [
              0.1111111111111111,
              "#46039f"
             ],
             [
              0.2222222222222222,
              "#7201a8"
             ],
             [
              0.3333333333333333,
              "#9c179e"
             ],
             [
              0.4444444444444444,
              "#bd3786"
             ],
             [
              0.5555555555555556,
              "#d8576b"
             ],
             [
              0.6666666666666666,
              "#ed7953"
             ],
             [
              0.7777777777777778,
              "#fb9f3a"
             ],
             [
              0.8888888888888888,
              "#fdca26"
             ],
             [
              1,
              "#f0f921"
             ]
            ],
            "type": "histogram2d"
           }
          ],
          "histogram2dcontour": [
           {
            "colorbar": {
             "outlinewidth": 0,
             "ticks": ""
            },
            "colorscale": [
             [
              0,
              "#0d0887"
             ],
             [
              0.1111111111111111,
              "#46039f"
             ],
             [
              0.2222222222222222,
              "#7201a8"
             ],
             [
              0.3333333333333333,
              "#9c179e"
             ],
             [
              0.4444444444444444,
              "#bd3786"
             ],
             [
              0.5555555555555556,
              "#d8576b"
             ],
             [
              0.6666666666666666,
              "#ed7953"
             ],
             [
              0.7777777777777778,
              "#fb9f3a"
             ],
             [
              0.8888888888888888,
              "#fdca26"
             ],
             [
              1,
              "#f0f921"
             ]
            ],
            "type": "histogram2dcontour"
           }
          ],
          "mesh3d": [
           {
            "colorbar": {
             "outlinewidth": 0,
             "ticks": ""
            },
            "type": "mesh3d"
           }
          ],
          "parcoords": [
           {
            "line": {
             "colorbar": {
              "outlinewidth": 0,
              "ticks": ""
             }
            },
            "type": "parcoords"
           }
          ],
          "pie": [
           {
            "automargin": true,
            "type": "pie"
           }
          ],
          "scatter": [
           {
            "marker": {
             "colorbar": {
              "outlinewidth": 0,
              "ticks": ""
             }
            },
            "type": "scatter"
           }
          ],
          "scatter3d": [
           {
            "line": {
             "colorbar": {
              "outlinewidth": 0,
              "ticks": ""
             }
            },
            "marker": {
             "colorbar": {
              "outlinewidth": 0,
              "ticks": ""
             }
            },
            "type": "scatter3d"
           }
          ],
          "scattercarpet": [
           {
            "marker": {
             "colorbar": {
              "outlinewidth": 0,
              "ticks": ""
             }
            },
            "type": "scattercarpet"
           }
          ],
          "scattergeo": [
           {
            "marker": {
             "colorbar": {
              "outlinewidth": 0,
              "ticks": ""
             }
            },
            "type": "scattergeo"
           }
          ],
          "scattergl": [
           {
            "marker": {
             "colorbar": {
              "outlinewidth": 0,
              "ticks": ""
             }
            },
            "type": "scattergl"
           }
          ],
          "scattermapbox": [
           {
            "marker": {
             "colorbar": {
              "outlinewidth": 0,
              "ticks": ""
             }
            },
            "type": "scattermapbox"
           }
          ],
          "scatterpolar": [
           {
            "marker": {
             "colorbar": {
              "outlinewidth": 0,
              "ticks": ""
             }
            },
            "type": "scatterpolar"
           }
          ],
          "scatterpolargl": [
           {
            "marker": {
             "colorbar": {
              "outlinewidth": 0,
              "ticks": ""
             }
            },
            "type": "scatterpolargl"
           }
          ],
          "scatterternary": [
           {
            "marker": {
             "colorbar": {
              "outlinewidth": 0,
              "ticks": ""
             }
            },
            "type": "scatterternary"
           }
          ],
          "surface": [
           {
            "colorbar": {
             "outlinewidth": 0,
             "ticks": ""
            },
            "colorscale": [
             [
              0,
              "#0d0887"
             ],
             [
              0.1111111111111111,
              "#46039f"
             ],
             [
              0.2222222222222222,
              "#7201a8"
             ],
             [
              0.3333333333333333,
              "#9c179e"
             ],
             [
              0.4444444444444444,
              "#bd3786"
             ],
             [
              0.5555555555555556,
              "#d8576b"
             ],
             [
              0.6666666666666666,
              "#ed7953"
             ],
             [
              0.7777777777777778,
              "#fb9f3a"
             ],
             [
              0.8888888888888888,
              "#fdca26"
             ],
             [
              1,
              "#f0f921"
             ]
            ],
            "type": "surface"
           }
          ],
          "table": [
           {
            "cells": {
             "fill": {
              "color": "#EBF0F8"
             },
             "line": {
              "color": "white"
             }
            },
            "header": {
             "fill": {
              "color": "#C8D4E3"
             },
             "line": {
              "color": "white"
             }
            },
            "type": "table"
           }
          ]
         },
         "layout": {
          "annotationdefaults": {
           "arrowcolor": "#2a3f5f",
           "arrowhead": 0,
           "arrowwidth": 1
          },
          "autotypenumbers": "strict",
          "coloraxis": {
           "colorbar": {
            "outlinewidth": 0,
            "ticks": ""
           }
          },
          "colorscale": {
           "diverging": [
            [
             0,
             "#8e0152"
            ],
            [
             0.1,
             "#c51b7d"
            ],
            [
             0.2,
             "#de77ae"
            ],
            [
             0.3,
             "#f1b6da"
            ],
            [
             0.4,
             "#fde0ef"
            ],
            [
             0.5,
             "#f7f7f7"
            ],
            [
             0.6,
             "#e6f5d0"
            ],
            [
             0.7,
             "#b8e186"
            ],
            [
             0.8,
             "#7fbc41"
            ],
            [
             0.9,
             "#4d9221"
            ],
            [
             1,
             "#276419"
            ]
           ],
           "sequential": [
            [
             0,
             "#0d0887"
            ],
            [
             0.1111111111111111,
             "#46039f"
            ],
            [
             0.2222222222222222,
             "#7201a8"
            ],
            [
             0.3333333333333333,
             "#9c179e"
            ],
            [
             0.4444444444444444,
             "#bd3786"
            ],
            [
             0.5555555555555556,
             "#d8576b"
            ],
            [
             0.6666666666666666,
             "#ed7953"
            ],
            [
             0.7777777777777778,
             "#fb9f3a"
            ],
            [
             0.8888888888888888,
             "#fdca26"
            ],
            [
             1,
             "#f0f921"
            ]
           ],
           "sequentialminus": [
            [
             0,
             "#0d0887"
            ],
            [
             0.1111111111111111,
             "#46039f"
            ],
            [
             0.2222222222222222,
             "#7201a8"
            ],
            [
             0.3333333333333333,
             "#9c179e"
            ],
            [
             0.4444444444444444,
             "#bd3786"
            ],
            [
             0.5555555555555556,
             "#d8576b"
            ],
            [
             0.6666666666666666,
             "#ed7953"
            ],
            [
             0.7777777777777778,
             "#fb9f3a"
            ],
            [
             0.8888888888888888,
             "#fdca26"
            ],
            [
             1,
             "#f0f921"
            ]
           ]
          },
          "colorway": [
           "#636efa",
           "#EF553B",
           "#00cc96",
           "#ab63fa",
           "#FFA15A",
           "#19d3f3",
           "#FF6692",
           "#B6E880",
           "#FF97FF",
           "#FECB52"
          ],
          "font": {
           "color": "#2a3f5f"
          },
          "geo": {
           "bgcolor": "white",
           "lakecolor": "white",
           "landcolor": "#E5ECF6",
           "showlakes": true,
           "showland": true,
           "subunitcolor": "white"
          },
          "hoverlabel": {
           "align": "left"
          },
          "hovermode": "closest",
          "mapbox": {
           "style": "light"
          },
          "paper_bgcolor": "white",
          "plot_bgcolor": "#E5ECF6",
          "polar": {
           "angularaxis": {
            "gridcolor": "white",
            "linecolor": "white",
            "ticks": ""
           },
           "bgcolor": "#E5ECF6",
           "radialaxis": {
            "gridcolor": "white",
            "linecolor": "white",
            "ticks": ""
           }
          },
          "scene": {
           "xaxis": {
            "backgroundcolor": "#E5ECF6",
            "gridcolor": "white",
            "gridwidth": 2,
            "linecolor": "white",
            "showbackground": true,
            "ticks": "",
            "zerolinecolor": "white"
           },
           "yaxis": {
            "backgroundcolor": "#E5ECF6",
            "gridcolor": "white",
            "gridwidth": 2,
            "linecolor": "white",
            "showbackground": true,
            "ticks": "",
            "zerolinecolor": "white"
           },
           "zaxis": {
            "backgroundcolor": "#E5ECF6",
            "gridcolor": "white",
            "gridwidth": 2,
            "linecolor": "white",
            "showbackground": true,
            "ticks": "",
            "zerolinecolor": "white"
           }
          },
          "shapedefaults": {
           "line": {
            "color": "#2a3f5f"
           }
          },
          "ternary": {
           "aaxis": {
            "gridcolor": "white",
            "linecolor": "white",
            "ticks": ""
           },
           "baxis": {
            "gridcolor": "white",
            "linecolor": "white",
            "ticks": ""
           },
           "bgcolor": "#E5ECF6",
           "caxis": {
            "gridcolor": "white",
            "linecolor": "white",
            "ticks": ""
           }
          },
          "title": {
           "x": 0.05
          },
          "xaxis": {
           "automargin": true,
           "gridcolor": "white",
           "linecolor": "white",
           "ticks": "",
           "title": {
            "standoff": 15
           },
           "zerolinecolor": "white",
           "zerolinewidth": 2
          },
          "yaxis": {
           "automargin": true,
           "gridcolor": "white",
           "linecolor": "white",
           "ticks": "",
           "title": {
            "standoff": 15
           },
           "zerolinecolor": "white",
           "zerolinewidth": 2
          }
         }
        }
       }
      },
      "text/html": [
       "<div>                            <div id=\"b2b3fa37-cb6f-4912-a33b-52ac2843f2dd\" class=\"plotly-graph-div\" style=\"height:525px; width:100%;\"></div>            <script type=\"text/javascript\">                require([\"plotly\"], function(Plotly) {                    window.PLOTLYENV=window.PLOTLYENV || {};                                    if (document.getElementById(\"b2b3fa37-cb6f-4912-a33b-52ac2843f2dd\")) {                    Plotly.newPlot(                        \"b2b3fa37-cb6f-4912-a33b-52ac2843f2dd\",                        [{\"colorbar\":{\"title\":{\"text\":\"Price\"}},\"colorscale\":[[0.0,\"rgb(12,51,131)\"],[0.25,\"rgb(10,136,186)\"],[0.5,\"rgb(242,211,56)\"],[0.75,\"rgb(242,143,56)\"],[1.0,\"rgb(217,30,30)\"]],\"locationmode\":\"USA-states\",\"locations\":[\"AL\",\"AK\",\"AZ\",\"AR\",\"CA\",\"CO\",\"CT\",\"DE\",\"DC\",\"FL\",\"GA\",\"ID\",\"IL\",\"IN\",\"IA\",\"KS\",\"KY\",\"LA\",\"ME\",\"MD\",\"MA\",\"MI\",\"MN\",\"MS\",\"MO\",\"MT\",\"NE\",\"NV\",\"NJ\",\"NM\",\"NY\",\"NC\",\"ND\",\"OH\",\"OK\",\"OR\",\"PA\",\"RI\",\"SC\",\"SD\",\"TN\",\"TX\",\"UT\",\"VA\",\"WA\",\"WI\"],\"text\":[305048.8890134529,363202.3995037221,466962.45795795793,337014.72857142857,776273.3695575843,581882.0371702638,365254.43596059113,192903.09677419355,732301.2058823529,322036.58870718913,253325.039028621,571593.2211538461,268614.69120654394,216826.91818181818,149252.38461538462,259040.18727915196,394384.45983379503,281259.06588235294,713430.8571428572,240832.78811881188,800687.6361085126,142267.57060849597,369010.6804245283,181302.03191489363,238783.3527696793,417416.8090909091,276671.75563909777,400673.0531349628,386702.32474964234,315167.86382978724,394074.02535925613,478810.31863727455,259991.39072847684,134805.93998309382,354887.773297491,556123.8676470588,279675.0614334471,305050.040201005,378263.16483516485,362883.8,427594.91046831955,277502.47768281103,470316.15476190473,291610.55592105264,485569.8252788104,297997.15],\"type\":\"choropleth\",\"z\":[305048.8890134529,363202.3995037221,466962.45795795793,337014.72857142857,776273.3695575843,581882.0371702638,365254.43596059113,192903.09677419355,732301.2058823529,322036.58870718913,253325.039028621,571593.2211538461,268614.69120654394,216826.91818181818,149252.38461538462,259040.18727915196,394384.45983379503,281259.06588235294,713430.8571428572,240832.78811881188,800687.6361085126,142267.57060849597,369010.6804245283,181302.03191489363,238783.3527696793,417416.8090909091,276671.75563909777,400673.0531349628,386702.32474964234,315167.86382978724,394074.02535925613,478810.31863727455,259991.39072847684,134805.93998309382,354887.773297491,556123.8676470588,279675.0614334471,305050.040201005,378263.16483516485,362883.8,427594.91046831955,277502.47768281103,470316.15476190473,291610.55592105264,485569.8252788104,297997.15]}],                        {\"geo\":{\"scope\":\"usa\"},\"template\":{\"data\":{\"bar\":[{\"error_x\":{\"color\":\"#2a3f5f\"},\"error_y\":{\"color\":\"#2a3f5f\"},\"marker\":{\"line\":{\"color\":\"#E5ECF6\",\"width\":0.5},\"pattern\":{\"fillmode\":\"overlay\",\"size\":10,\"solidity\":0.2}},\"type\":\"bar\"}],\"barpolar\":[{\"marker\":{\"line\":{\"color\":\"#E5ECF6\",\"width\":0.5},\"pattern\":{\"fillmode\":\"overlay\",\"size\":10,\"solidity\":0.2}},\"type\":\"barpolar\"}],\"carpet\":[{\"aaxis\":{\"endlinecolor\":\"#2a3f5f\",\"gridcolor\":\"white\",\"linecolor\":\"white\",\"minorgridcolor\":\"white\",\"startlinecolor\":\"#2a3f5f\"},\"baxis\":{\"endlinecolor\":\"#2a3f5f\",\"gridcolor\":\"white\",\"linecolor\":\"white\",\"minorgridcolor\":\"white\",\"startlinecolor\":\"#2a3f5f\"},\"type\":\"carpet\"}],\"choropleth\":[{\"colorbar\":{\"outlinewidth\":0,\"ticks\":\"\"},\"type\":\"choropleth\"}],\"contour\":[{\"colorbar\":{\"outlinewidth\":0,\"ticks\":\"\"},\"colorscale\":[[0.0,\"#0d0887\"],[0.1111111111111111,\"#46039f\"],[0.2222222222222222,\"#7201a8\"],[0.3333333333333333,\"#9c179e\"],[0.4444444444444444,\"#bd3786\"],[0.5555555555555556,\"#d8576b\"],[0.6666666666666666,\"#ed7953\"],[0.7777777777777778,\"#fb9f3a\"],[0.8888888888888888,\"#fdca26\"],[1.0,\"#f0f921\"]],\"type\":\"contour\"}],\"contourcarpet\":[{\"colorbar\":{\"outlinewidth\":0,\"ticks\":\"\"},\"type\":\"contourcarpet\"}],\"heatmap\":[{\"colorbar\":{\"outlinewidth\":0,\"ticks\":\"\"},\"colorscale\":[[0.0,\"#0d0887\"],[0.1111111111111111,\"#46039f\"],[0.2222222222222222,\"#7201a8\"],[0.3333333333333333,\"#9c179e\"],[0.4444444444444444,\"#bd3786\"],[0.5555555555555556,\"#d8576b\"],[0.6666666666666666,\"#ed7953\"],[0.7777777777777778,\"#fb9f3a\"],[0.8888888888888888,\"#fdca26\"],[1.0,\"#f0f921\"]],\"type\":\"heatmap\"}],\"heatmapgl\":[{\"colorbar\":{\"outlinewidth\":0,\"ticks\":\"\"},\"colorscale\":[[0.0,\"#0d0887\"],[0.1111111111111111,\"#46039f\"],[0.2222222222222222,\"#7201a8\"],[0.3333333333333333,\"#9c179e\"],[0.4444444444444444,\"#bd3786\"],[0.5555555555555556,\"#d8576b\"],[0.6666666666666666,\"#ed7953\"],[0.7777777777777778,\"#fb9f3a\"],[0.8888888888888888,\"#fdca26\"],[1.0,\"#f0f921\"]],\"type\":\"heatmapgl\"}],\"histogram\":[{\"marker\":{\"pattern\":{\"fillmode\":\"overlay\",\"size\":10,\"solidity\":0.2}},\"type\":\"histogram\"}],\"histogram2d\":[{\"colorbar\":{\"outlinewidth\":0,\"ticks\":\"\"},\"colorscale\":[[0.0,\"#0d0887\"],[0.1111111111111111,\"#46039f\"],[0.2222222222222222,\"#7201a8\"],[0.3333333333333333,\"#9c179e\"],[0.4444444444444444,\"#bd3786\"],[0.5555555555555556,\"#d8576b\"],[0.6666666666666666,\"#ed7953\"],[0.7777777777777778,\"#fb9f3a\"],[0.8888888888888888,\"#fdca26\"],[1.0,\"#f0f921\"]],\"type\":\"histogram2d\"}],\"histogram2dcontour\":[{\"colorbar\":{\"outlinewidth\":0,\"ticks\":\"\"},\"colorscale\":[[0.0,\"#0d0887\"],[0.1111111111111111,\"#46039f\"],[0.2222222222222222,\"#7201a8\"],[0.3333333333333333,\"#9c179e\"],[0.4444444444444444,\"#bd3786\"],[0.5555555555555556,\"#d8576b\"],[0.6666666666666666,\"#ed7953\"],[0.7777777777777778,\"#fb9f3a\"],[0.8888888888888888,\"#fdca26\"],[1.0,\"#f0f921\"]],\"type\":\"histogram2dcontour\"}],\"mesh3d\":[{\"colorbar\":{\"outlinewidth\":0,\"ticks\":\"\"},\"type\":\"mesh3d\"}],\"parcoords\":[{\"line\":{\"colorbar\":{\"outlinewidth\":0,\"ticks\":\"\"}},\"type\":\"parcoords\"}],\"pie\":[{\"automargin\":true,\"type\":\"pie\"}],\"scatter\":[{\"marker\":{\"colorbar\":{\"outlinewidth\":0,\"ticks\":\"\"}},\"type\":\"scatter\"}],\"scatter3d\":[{\"line\":{\"colorbar\":{\"outlinewidth\":0,\"ticks\":\"\"}},\"marker\":{\"colorbar\":{\"outlinewidth\":0,\"ticks\":\"\"}},\"type\":\"scatter3d\"}],\"scattercarpet\":[{\"marker\":{\"colorbar\":{\"outlinewidth\":0,\"ticks\":\"\"}},\"type\":\"scattercarpet\"}],\"scattergeo\":[{\"marker\":{\"colorbar\":{\"outlinewidth\":0,\"ticks\":\"\"}},\"type\":\"scattergeo\"}],\"scattergl\":[{\"marker\":{\"colorbar\":{\"outlinewidth\":0,\"ticks\":\"\"}},\"type\":\"scattergl\"}],\"scattermapbox\":[{\"marker\":{\"colorbar\":{\"outlinewidth\":0,\"ticks\":\"\"}},\"type\":\"scattermapbox\"}],\"scatterpolar\":[{\"marker\":{\"colorbar\":{\"outlinewidth\":0,\"ticks\":\"\"}},\"type\":\"scatterpolar\"}],\"scatterpolargl\":[{\"marker\":{\"colorbar\":{\"outlinewidth\":0,\"ticks\":\"\"}},\"type\":\"scatterpolargl\"}],\"scatterternary\":[{\"marker\":{\"colorbar\":{\"outlinewidth\":0,\"ticks\":\"\"}},\"type\":\"scatterternary\"}],\"surface\":[{\"colorbar\":{\"outlinewidth\":0,\"ticks\":\"\"},\"colorscale\":[[0.0,\"#0d0887\"],[0.1111111111111111,\"#46039f\"],[0.2222222222222222,\"#7201a8\"],[0.3333333333333333,\"#9c179e\"],[0.4444444444444444,\"#bd3786\"],[0.5555555555555556,\"#d8576b\"],[0.6666666666666666,\"#ed7953\"],[0.7777777777777778,\"#fb9f3a\"],[0.8888888888888888,\"#fdca26\"],[1.0,\"#f0f921\"]],\"type\":\"surface\"}],\"table\":[{\"cells\":{\"fill\":{\"color\":\"#EBF0F8\"},\"line\":{\"color\":\"white\"}},\"header\":{\"fill\":{\"color\":\"#C8D4E3\"},\"line\":{\"color\":\"white\"}},\"type\":\"table\"}]},\"layout\":{\"annotationdefaults\":{\"arrowcolor\":\"#2a3f5f\",\"arrowhead\":0,\"arrowwidth\":1},\"autotypenumbers\":\"strict\",\"coloraxis\":{\"colorbar\":{\"outlinewidth\":0,\"ticks\":\"\"}},\"colorscale\":{\"diverging\":[[0,\"#8e0152\"],[0.1,\"#c51b7d\"],[0.2,\"#de77ae\"],[0.3,\"#f1b6da\"],[0.4,\"#fde0ef\"],[0.5,\"#f7f7f7\"],[0.6,\"#e6f5d0\"],[0.7,\"#b8e186\"],[0.8,\"#7fbc41\"],[0.9,\"#4d9221\"],[1,\"#276419\"]],\"sequential\":[[0.0,\"#0d0887\"],[0.1111111111111111,\"#46039f\"],[0.2222222222222222,\"#7201a8\"],[0.3333333333333333,\"#9c179e\"],[0.4444444444444444,\"#bd3786\"],[0.5555555555555556,\"#d8576b\"],[0.6666666666666666,\"#ed7953\"],[0.7777777777777778,\"#fb9f3a\"],[0.8888888888888888,\"#fdca26\"],[1.0,\"#f0f921\"]],\"sequentialminus\":[[0.0,\"#0d0887\"],[0.1111111111111111,\"#46039f\"],[0.2222222222222222,\"#7201a8\"],[0.3333333333333333,\"#9c179e\"],[0.4444444444444444,\"#bd3786\"],[0.5555555555555556,\"#d8576b\"],[0.6666666666666666,\"#ed7953\"],[0.7777777777777778,\"#fb9f3a\"],[0.8888888888888888,\"#fdca26\"],[1.0,\"#f0f921\"]]},\"colorway\":[\"#636efa\",\"#EF553B\",\"#00cc96\",\"#ab63fa\",\"#FFA15A\",\"#19d3f3\",\"#FF6692\",\"#B6E880\",\"#FF97FF\",\"#FECB52\"],\"font\":{\"color\":\"#2a3f5f\"},\"geo\":{\"bgcolor\":\"white\",\"lakecolor\":\"white\",\"landcolor\":\"#E5ECF6\",\"showlakes\":true,\"showland\":true,\"subunitcolor\":\"white\"},\"hoverlabel\":{\"align\":\"left\"},\"hovermode\":\"closest\",\"mapbox\":{\"style\":\"light\"},\"paper_bgcolor\":\"white\",\"plot_bgcolor\":\"#E5ECF6\",\"polar\":{\"angularaxis\":{\"gridcolor\":\"white\",\"linecolor\":\"white\",\"ticks\":\"\"},\"bgcolor\":\"#E5ECF6\",\"radialaxis\":{\"gridcolor\":\"white\",\"linecolor\":\"white\",\"ticks\":\"\"}},\"scene\":{\"xaxis\":{\"backgroundcolor\":\"#E5ECF6\",\"gridcolor\":\"white\",\"gridwidth\":2,\"linecolor\":\"white\",\"showbackground\":true,\"ticks\":\"\",\"zerolinecolor\":\"white\"},\"yaxis\":{\"backgroundcolor\":\"#E5ECF6\",\"gridcolor\":\"white\",\"gridwidth\":2,\"linecolor\":\"white\",\"showbackground\":true,\"ticks\":\"\",\"zerolinecolor\":\"white\"},\"zaxis\":{\"backgroundcolor\":\"#E5ECF6\",\"gridcolor\":\"white\",\"gridwidth\":2,\"linecolor\":\"white\",\"showbackground\":true,\"ticks\":\"\",\"zerolinecolor\":\"white\"}},\"shapedefaults\":{\"line\":{\"color\":\"#2a3f5f\"}},\"ternary\":{\"aaxis\":{\"gridcolor\":\"white\",\"linecolor\":\"white\",\"ticks\":\"\"},\"baxis\":{\"gridcolor\":\"white\",\"linecolor\":\"white\",\"ticks\":\"\"},\"bgcolor\":\"#E5ECF6\",\"caxis\":{\"gridcolor\":\"white\",\"linecolor\":\"white\",\"ticks\":\"\"}},\"title\":{\"x\":0.05},\"xaxis\":{\"automargin\":true,\"gridcolor\":\"white\",\"linecolor\":\"white\",\"ticks\":\"\",\"title\":{\"standoff\":15},\"zerolinecolor\":\"white\",\"zerolinewidth\":2},\"yaxis\":{\"automargin\":true,\"gridcolor\":\"white\",\"linecolor\":\"white\",\"ticks\":\"\",\"title\":{\"standoff\":15},\"zerolinecolor\":\"white\",\"zerolinewidth\":2}}}},                        {\"responsive\": true}                    ).then(function(){\n",
       "                            \n",
       "var gd = document.getElementById('b2b3fa37-cb6f-4912-a33b-52ac2843f2dd');\n",
       "var x = new MutationObserver(function (mutations, observer) {{\n",
       "        var display = window.getComputedStyle(gd).display;\n",
       "        if (!display || display === 'none') {{\n",
       "            console.log([gd, 'removed!']);\n",
       "            Plotly.purge(gd);\n",
       "            observer.disconnect();\n",
       "        }}\n",
       "}});\n",
       "\n",
       "// Listen for the removal of the full notebook cells\n",
       "var notebookContainer = gd.closest('#notebook-container');\n",
       "if (notebookContainer) {{\n",
       "    x.observe(notebookContainer, {childList: true});\n",
       "}}\n",
       "\n",
       "// Listen for the clearing of the current output cell\n",
       "var outputEl = gd.closest('.output');\n",
       "if (outputEl) {{\n",
       "    x.observe(outputEl, {childList: true});\n",
       "}}\n",
       "\n",
       "                        })                };                });            </script>        </div>"
      ]
     },
     "metadata": {},
     "output_type": "display_data"
    }
   ],
   "source": [
    "\n",
    "\n",
    "\n",
    "data = dict(type = 'choropleth',colorscale='Portland',locations=state_df['State'],locationmode='USA-states', z=state_df['Price'],text=state_df['Price'], colorbar={'title':'Price'})\n",
    "choromap = go.Figure(data = [data],layout = dict(geo = {'scope':'usa'}))\n",
    "\n",
    "iplot(choromap,validate=False)\n"
   ]
  },
  {
   "cell_type": "code",
   "execution_count": 634,
   "metadata": {},
   "outputs": [
    {
     "data": {
      "application/vnd.plotly.v1+json": {
       "config": {
        "linkText": "Export to plot.ly",
        "plotlyServerURL": "https://plot.ly",
        "showLink": false
       },
       "data": [
        {
         "colorbar": {
          "title": {
           "text": "perSqFt"
          }
         },
         "colorscale": [
          [
           0,
           "rgb(12,51,131)"
          ],
          [
           0.25,
           "rgb(10,136,186)"
          ],
          [
           0.5,
           "rgb(242,211,56)"
          ],
          [
           0.75,
           "rgb(242,143,56)"
          ],
          [
           1,
           "rgb(217,30,30)"
          ]
         ],
         "locationmode": "USA-states",
         "locations": [
          "AL",
          "AK",
          "AZ",
          "AR",
          "CA",
          "CO",
          "CT",
          "DE",
          "DC",
          "FL",
          "GA",
          "ID",
          "IL",
          "IN",
          "IA",
          "KS",
          "KY",
          "LA",
          "ME",
          "MD",
          "MA",
          "MI",
          "MN",
          "MS",
          "MO",
          "MT",
          "NE",
          "NV",
          "NJ",
          "NM",
          "NY",
          "NC",
          "ND",
          "OH",
          "OK",
          "OR",
          "PA",
          "RI",
          "SC",
          "SD",
          "TN",
          "TX",
          "UT",
          "VA",
          "WA",
          "WI"
         ],
         "text": [
          124.37276569222938,
          165.5354208571672,
          224.65603119781412,
          117.70589346753363,
          424.08868464509834,
          289.84517255428267,
          177.03784741185996,
          121.22983237460943,
          500.22101783197627,
          201.7400300241717,
          125.18363924227256,
          253.86525374550536,
          159.47868993508135,
          98.88048771426722,
          90.79638352372238,
          108.6214810538855,
          165.15281441840318,
          123.7359812610263,
          437.1196053520755,
          157.61238927960144,
          501.02969417387783,
          86.4238515605724,
          205.52413371083756,
          90.56402687658017,
          123.42954321065523,
          168.73653664495157,
          127.82344638493124,
          202.44231258367364,
          224.85003846224825,
          152.91284781403922,
          232.16139843742394,
          221.56534170801257,
          112.95036127128603,
          79.73291929460167,
          131.90087742290555,
          250.93831746114472,
          177.68409670175382,
          191.57336568918558,
          185.19957925537443,
          181.8166470216451,
          203.60762960404747,
          128.98023378310162,
          200.74267400915113,
          161.60183096790672,
          230.2313764615407,
          161.81543737160885
         ],
         "type": "choropleth",
         "z": [
          124.37276569222938,
          165.5354208571672,
          224.65603119781412,
          117.70589346753363,
          424.08868464509834,
          289.84517255428267,
          177.03784741185996,
          121.22983237460943,
          500.22101783197627,
          201.7400300241717,
          125.18363924227256,
          253.86525374550536,
          159.47868993508135,
          98.88048771426722,
          90.79638352372238,
          108.6214810538855,
          165.15281441840318,
          123.7359812610263,
          437.1196053520755,
          157.61238927960144,
          501.02969417387783,
          86.4238515605724,
          205.52413371083756,
          90.56402687658017,
          123.42954321065523,
          168.73653664495157,
          127.82344638493124,
          202.44231258367364,
          224.85003846224825,
          152.91284781403922,
          232.16139843742394,
          221.56534170801257,
          112.95036127128603,
          79.73291929460167,
          131.90087742290555,
          250.93831746114472,
          177.68409670175382,
          191.57336568918558,
          185.19957925537443,
          181.8166470216451,
          203.60762960404747,
          128.98023378310162,
          200.74267400915113,
          161.60183096790672,
          230.2313764615407,
          161.81543737160885
         ]
        }
       ],
       "layout": {
        "geo": {
         "scope": "usa"
        },
        "template": {
         "data": {
          "bar": [
           {
            "error_x": {
             "color": "#2a3f5f"
            },
            "error_y": {
             "color": "#2a3f5f"
            },
            "marker": {
             "line": {
              "color": "#E5ECF6",
              "width": 0.5
             },
             "pattern": {
              "fillmode": "overlay",
              "size": 10,
              "solidity": 0.2
             }
            },
            "type": "bar"
           }
          ],
          "barpolar": [
           {
            "marker": {
             "line": {
              "color": "#E5ECF6",
              "width": 0.5
             },
             "pattern": {
              "fillmode": "overlay",
              "size": 10,
              "solidity": 0.2
             }
            },
            "type": "barpolar"
           }
          ],
          "carpet": [
           {
            "aaxis": {
             "endlinecolor": "#2a3f5f",
             "gridcolor": "white",
             "linecolor": "white",
             "minorgridcolor": "white",
             "startlinecolor": "#2a3f5f"
            },
            "baxis": {
             "endlinecolor": "#2a3f5f",
             "gridcolor": "white",
             "linecolor": "white",
             "minorgridcolor": "white",
             "startlinecolor": "#2a3f5f"
            },
            "type": "carpet"
           }
          ],
          "choropleth": [
           {
            "colorbar": {
             "outlinewidth": 0,
             "ticks": ""
            },
            "type": "choropleth"
           }
          ],
          "contour": [
           {
            "colorbar": {
             "outlinewidth": 0,
             "ticks": ""
            },
            "colorscale": [
             [
              0,
              "#0d0887"
             ],
             [
              0.1111111111111111,
              "#46039f"
             ],
             [
              0.2222222222222222,
              "#7201a8"
             ],
             [
              0.3333333333333333,
              "#9c179e"
             ],
             [
              0.4444444444444444,
              "#bd3786"
             ],
             [
              0.5555555555555556,
              "#d8576b"
             ],
             [
              0.6666666666666666,
              "#ed7953"
             ],
             [
              0.7777777777777778,
              "#fb9f3a"
             ],
             [
              0.8888888888888888,
              "#fdca26"
             ],
             [
              1,
              "#f0f921"
             ]
            ],
            "type": "contour"
           }
          ],
          "contourcarpet": [
           {
            "colorbar": {
             "outlinewidth": 0,
             "ticks": ""
            },
            "type": "contourcarpet"
           }
          ],
          "heatmap": [
           {
            "colorbar": {
             "outlinewidth": 0,
             "ticks": ""
            },
            "colorscale": [
             [
              0,
              "#0d0887"
             ],
             [
              0.1111111111111111,
              "#46039f"
             ],
             [
              0.2222222222222222,
              "#7201a8"
             ],
             [
              0.3333333333333333,
              "#9c179e"
             ],
             [
              0.4444444444444444,
              "#bd3786"
             ],
             [
              0.5555555555555556,
              "#d8576b"
             ],
             [
              0.6666666666666666,
              "#ed7953"
             ],
             [
              0.7777777777777778,
              "#fb9f3a"
             ],
             [
              0.8888888888888888,
              "#fdca26"
             ],
             [
              1,
              "#f0f921"
             ]
            ],
            "type": "heatmap"
           }
          ],
          "heatmapgl": [
           {
            "colorbar": {
             "outlinewidth": 0,
             "ticks": ""
            },
            "colorscale": [
             [
              0,
              "#0d0887"
             ],
             [
              0.1111111111111111,
              "#46039f"
             ],
             [
              0.2222222222222222,
              "#7201a8"
             ],
             [
              0.3333333333333333,
              "#9c179e"
             ],
             [
              0.4444444444444444,
              "#bd3786"
             ],
             [
              0.5555555555555556,
              "#d8576b"
             ],
             [
              0.6666666666666666,
              "#ed7953"
             ],
             [
              0.7777777777777778,
              "#fb9f3a"
             ],
             [
              0.8888888888888888,
              "#fdca26"
             ],
             [
              1,
              "#f0f921"
             ]
            ],
            "type": "heatmapgl"
           }
          ],
          "histogram": [
           {
            "marker": {
             "pattern": {
              "fillmode": "overlay",
              "size": 10,
              "solidity": 0.2
             }
            },
            "type": "histogram"
           }
          ],
          "histogram2d": [
           {
            "colorbar": {
             "outlinewidth": 0,
             "ticks": ""
            },
            "colorscale": [
             [
              0,
              "#0d0887"
             ],
             [
              0.1111111111111111,
              "#46039f"
             ],
             [
              0.2222222222222222,
              "#7201a8"
             ],
             [
              0.3333333333333333,
              "#9c179e"
             ],
             [
              0.4444444444444444,
              "#bd3786"
             ],
             [
              0.5555555555555556,
              "#d8576b"
             ],
             [
              0.6666666666666666,
              "#ed7953"
             ],
             [
              0.7777777777777778,
              "#fb9f3a"
             ],
             [
              0.8888888888888888,
              "#fdca26"
             ],
             [
              1,
              "#f0f921"
             ]
            ],
            "type": "histogram2d"
           }
          ],
          "histogram2dcontour": [
           {
            "colorbar": {
             "outlinewidth": 0,
             "ticks": ""
            },
            "colorscale": [
             [
              0,
              "#0d0887"
             ],
             [
              0.1111111111111111,
              "#46039f"
             ],
             [
              0.2222222222222222,
              "#7201a8"
             ],
             [
              0.3333333333333333,
              "#9c179e"
             ],
             [
              0.4444444444444444,
              "#bd3786"
             ],
             [
              0.5555555555555556,
              "#d8576b"
             ],
             [
              0.6666666666666666,
              "#ed7953"
             ],
             [
              0.7777777777777778,
              "#fb9f3a"
             ],
             [
              0.8888888888888888,
              "#fdca26"
             ],
             [
              1,
              "#f0f921"
             ]
            ],
            "type": "histogram2dcontour"
           }
          ],
          "mesh3d": [
           {
            "colorbar": {
             "outlinewidth": 0,
             "ticks": ""
            },
            "type": "mesh3d"
           }
          ],
          "parcoords": [
           {
            "line": {
             "colorbar": {
              "outlinewidth": 0,
              "ticks": ""
             }
            },
            "type": "parcoords"
           }
          ],
          "pie": [
           {
            "automargin": true,
            "type": "pie"
           }
          ],
          "scatter": [
           {
            "marker": {
             "colorbar": {
              "outlinewidth": 0,
              "ticks": ""
             }
            },
            "type": "scatter"
           }
          ],
          "scatter3d": [
           {
            "line": {
             "colorbar": {
              "outlinewidth": 0,
              "ticks": ""
             }
            },
            "marker": {
             "colorbar": {
              "outlinewidth": 0,
              "ticks": ""
             }
            },
            "type": "scatter3d"
           }
          ],
          "scattercarpet": [
           {
            "marker": {
             "colorbar": {
              "outlinewidth": 0,
              "ticks": ""
             }
            },
            "type": "scattercarpet"
           }
          ],
          "scattergeo": [
           {
            "marker": {
             "colorbar": {
              "outlinewidth": 0,
              "ticks": ""
             }
            },
            "type": "scattergeo"
           }
          ],
          "scattergl": [
           {
            "marker": {
             "colorbar": {
              "outlinewidth": 0,
              "ticks": ""
             }
            },
            "type": "scattergl"
           }
          ],
          "scattermapbox": [
           {
            "marker": {
             "colorbar": {
              "outlinewidth": 0,
              "ticks": ""
             }
            },
            "type": "scattermapbox"
           }
          ],
          "scatterpolar": [
           {
            "marker": {
             "colorbar": {
              "outlinewidth": 0,
              "ticks": ""
             }
            },
            "type": "scatterpolar"
           }
          ],
          "scatterpolargl": [
           {
            "marker": {
             "colorbar": {
              "outlinewidth": 0,
              "ticks": ""
             }
            },
            "type": "scatterpolargl"
           }
          ],
          "scatterternary": [
           {
            "marker": {
             "colorbar": {
              "outlinewidth": 0,
              "ticks": ""
             }
            },
            "type": "scatterternary"
           }
          ],
          "surface": [
           {
            "colorbar": {
             "outlinewidth": 0,
             "ticks": ""
            },
            "colorscale": [
             [
              0,
              "#0d0887"
             ],
             [
              0.1111111111111111,
              "#46039f"
             ],
             [
              0.2222222222222222,
              "#7201a8"
             ],
             [
              0.3333333333333333,
              "#9c179e"
             ],
             [
              0.4444444444444444,
              "#bd3786"
             ],
             [
              0.5555555555555556,
              "#d8576b"
             ],
             [
              0.6666666666666666,
              "#ed7953"
             ],
             [
              0.7777777777777778,
              "#fb9f3a"
             ],
             [
              0.8888888888888888,
              "#fdca26"
             ],
             [
              1,
              "#f0f921"
             ]
            ],
            "type": "surface"
           }
          ],
          "table": [
           {
            "cells": {
             "fill": {
              "color": "#EBF0F8"
             },
             "line": {
              "color": "white"
             }
            },
            "header": {
             "fill": {
              "color": "#C8D4E3"
             },
             "line": {
              "color": "white"
             }
            },
            "type": "table"
           }
          ]
         },
         "layout": {
          "annotationdefaults": {
           "arrowcolor": "#2a3f5f",
           "arrowhead": 0,
           "arrowwidth": 1
          },
          "autotypenumbers": "strict",
          "coloraxis": {
           "colorbar": {
            "outlinewidth": 0,
            "ticks": ""
           }
          },
          "colorscale": {
           "diverging": [
            [
             0,
             "#8e0152"
            ],
            [
             0.1,
             "#c51b7d"
            ],
            [
             0.2,
             "#de77ae"
            ],
            [
             0.3,
             "#f1b6da"
            ],
            [
             0.4,
             "#fde0ef"
            ],
            [
             0.5,
             "#f7f7f7"
            ],
            [
             0.6,
             "#e6f5d0"
            ],
            [
             0.7,
             "#b8e186"
            ],
            [
             0.8,
             "#7fbc41"
            ],
            [
             0.9,
             "#4d9221"
            ],
            [
             1,
             "#276419"
            ]
           ],
           "sequential": [
            [
             0,
             "#0d0887"
            ],
            [
             0.1111111111111111,
             "#46039f"
            ],
            [
             0.2222222222222222,
             "#7201a8"
            ],
            [
             0.3333333333333333,
             "#9c179e"
            ],
            [
             0.4444444444444444,
             "#bd3786"
            ],
            [
             0.5555555555555556,
             "#d8576b"
            ],
            [
             0.6666666666666666,
             "#ed7953"
            ],
            [
             0.7777777777777778,
             "#fb9f3a"
            ],
            [
             0.8888888888888888,
             "#fdca26"
            ],
            [
             1,
             "#f0f921"
            ]
           ],
           "sequentialminus": [
            [
             0,
             "#0d0887"
            ],
            [
             0.1111111111111111,
             "#46039f"
            ],
            [
             0.2222222222222222,
             "#7201a8"
            ],
            [
             0.3333333333333333,
             "#9c179e"
            ],
            [
             0.4444444444444444,
             "#bd3786"
            ],
            [
             0.5555555555555556,
             "#d8576b"
            ],
            [
             0.6666666666666666,
             "#ed7953"
            ],
            [
             0.7777777777777778,
             "#fb9f3a"
            ],
            [
             0.8888888888888888,
             "#fdca26"
            ],
            [
             1,
             "#f0f921"
            ]
           ]
          },
          "colorway": [
           "#636efa",
           "#EF553B",
           "#00cc96",
           "#ab63fa",
           "#FFA15A",
           "#19d3f3",
           "#FF6692",
           "#B6E880",
           "#FF97FF",
           "#FECB52"
          ],
          "font": {
           "color": "#2a3f5f"
          },
          "geo": {
           "bgcolor": "white",
           "lakecolor": "white",
           "landcolor": "#E5ECF6",
           "showlakes": true,
           "showland": true,
           "subunitcolor": "white"
          },
          "hoverlabel": {
           "align": "left"
          },
          "hovermode": "closest",
          "mapbox": {
           "style": "light"
          },
          "paper_bgcolor": "white",
          "plot_bgcolor": "#E5ECF6",
          "polar": {
           "angularaxis": {
            "gridcolor": "white",
            "linecolor": "white",
            "ticks": ""
           },
           "bgcolor": "#E5ECF6",
           "radialaxis": {
            "gridcolor": "white",
            "linecolor": "white",
            "ticks": ""
           }
          },
          "scene": {
           "xaxis": {
            "backgroundcolor": "#E5ECF6",
            "gridcolor": "white",
            "gridwidth": 2,
            "linecolor": "white",
            "showbackground": true,
            "ticks": "",
            "zerolinecolor": "white"
           },
           "yaxis": {
            "backgroundcolor": "#E5ECF6",
            "gridcolor": "white",
            "gridwidth": 2,
            "linecolor": "white",
            "showbackground": true,
            "ticks": "",
            "zerolinecolor": "white"
           },
           "zaxis": {
            "backgroundcolor": "#E5ECF6",
            "gridcolor": "white",
            "gridwidth": 2,
            "linecolor": "white",
            "showbackground": true,
            "ticks": "",
            "zerolinecolor": "white"
           }
          },
          "shapedefaults": {
           "line": {
            "color": "#2a3f5f"
           }
          },
          "ternary": {
           "aaxis": {
            "gridcolor": "white",
            "linecolor": "white",
            "ticks": ""
           },
           "baxis": {
            "gridcolor": "white",
            "linecolor": "white",
            "ticks": ""
           },
           "bgcolor": "#E5ECF6",
           "caxis": {
            "gridcolor": "white",
            "linecolor": "white",
            "ticks": ""
           }
          },
          "title": {
           "x": 0.05
          },
          "xaxis": {
           "automargin": true,
           "gridcolor": "white",
           "linecolor": "white",
           "ticks": "",
           "title": {
            "standoff": 15
           },
           "zerolinecolor": "white",
           "zerolinewidth": 2
          },
          "yaxis": {
           "automargin": true,
           "gridcolor": "white",
           "linecolor": "white",
           "ticks": "",
           "title": {
            "standoff": 15
           },
           "zerolinecolor": "white",
           "zerolinewidth": 2
          }
         }
        }
       }
      },
      "text/html": [
       "<div>                            <div id=\"95f9b8fe-6cbb-4a33-91f7-64e94dc6c16a\" class=\"plotly-graph-div\" style=\"height:525px; width:100%;\"></div>            <script type=\"text/javascript\">                require([\"plotly\"], function(Plotly) {                    window.PLOTLYENV=window.PLOTLYENV || {};                                    if (document.getElementById(\"95f9b8fe-6cbb-4a33-91f7-64e94dc6c16a\")) {                    Plotly.newPlot(                        \"95f9b8fe-6cbb-4a33-91f7-64e94dc6c16a\",                        [{\"colorbar\":{\"title\":{\"text\":\"perSqFt\"}},\"colorscale\":[[0.0,\"rgb(12,51,131)\"],[0.25,\"rgb(10,136,186)\"],[0.5,\"rgb(242,211,56)\"],[0.75,\"rgb(242,143,56)\"],[1.0,\"rgb(217,30,30)\"]],\"locationmode\":\"USA-states\",\"locations\":[\"AL\",\"AK\",\"AZ\",\"AR\",\"CA\",\"CO\",\"CT\",\"DE\",\"DC\",\"FL\",\"GA\",\"ID\",\"IL\",\"IN\",\"IA\",\"KS\",\"KY\",\"LA\",\"ME\",\"MD\",\"MA\",\"MI\",\"MN\",\"MS\",\"MO\",\"MT\",\"NE\",\"NV\",\"NJ\",\"NM\",\"NY\",\"NC\",\"ND\",\"OH\",\"OK\",\"OR\",\"PA\",\"RI\",\"SC\",\"SD\",\"TN\",\"TX\",\"UT\",\"VA\",\"WA\",\"WI\"],\"text\":[124.37276569222938,165.5354208571672,224.65603119781412,117.70589346753363,424.08868464509834,289.84517255428267,177.03784741185996,121.22983237460943,500.22101783197627,201.7400300241717,125.18363924227256,253.86525374550536,159.47868993508135,98.88048771426722,90.79638352372238,108.6214810538855,165.15281441840318,123.7359812610263,437.1196053520755,157.61238927960144,501.02969417387783,86.4238515605724,205.52413371083756,90.56402687658017,123.42954321065523,168.73653664495157,127.82344638493124,202.44231258367364,224.85003846224825,152.91284781403922,232.16139843742394,221.56534170801257,112.95036127128603,79.73291929460167,131.90087742290555,250.93831746114472,177.68409670175382,191.57336568918558,185.19957925537443,181.8166470216451,203.60762960404747,128.98023378310162,200.74267400915113,161.60183096790672,230.2313764615407,161.81543737160885],\"type\":\"choropleth\",\"z\":[124.37276569222938,165.5354208571672,224.65603119781412,117.70589346753363,424.08868464509834,289.84517255428267,177.03784741185996,121.22983237460943,500.22101783197627,201.7400300241717,125.18363924227256,253.86525374550536,159.47868993508135,98.88048771426722,90.79638352372238,108.6214810538855,165.15281441840318,123.7359812610263,437.1196053520755,157.61238927960144,501.02969417387783,86.4238515605724,205.52413371083756,90.56402687658017,123.42954321065523,168.73653664495157,127.82344638493124,202.44231258367364,224.85003846224825,152.91284781403922,232.16139843742394,221.56534170801257,112.95036127128603,79.73291929460167,131.90087742290555,250.93831746114472,177.68409670175382,191.57336568918558,185.19957925537443,181.8166470216451,203.60762960404747,128.98023378310162,200.74267400915113,161.60183096790672,230.2313764615407,161.81543737160885]}],                        {\"geo\":{\"scope\":\"usa\"},\"template\":{\"data\":{\"bar\":[{\"error_x\":{\"color\":\"#2a3f5f\"},\"error_y\":{\"color\":\"#2a3f5f\"},\"marker\":{\"line\":{\"color\":\"#E5ECF6\",\"width\":0.5},\"pattern\":{\"fillmode\":\"overlay\",\"size\":10,\"solidity\":0.2}},\"type\":\"bar\"}],\"barpolar\":[{\"marker\":{\"line\":{\"color\":\"#E5ECF6\",\"width\":0.5},\"pattern\":{\"fillmode\":\"overlay\",\"size\":10,\"solidity\":0.2}},\"type\":\"barpolar\"}],\"carpet\":[{\"aaxis\":{\"endlinecolor\":\"#2a3f5f\",\"gridcolor\":\"white\",\"linecolor\":\"white\",\"minorgridcolor\":\"white\",\"startlinecolor\":\"#2a3f5f\"},\"baxis\":{\"endlinecolor\":\"#2a3f5f\",\"gridcolor\":\"white\",\"linecolor\":\"white\",\"minorgridcolor\":\"white\",\"startlinecolor\":\"#2a3f5f\"},\"type\":\"carpet\"}],\"choropleth\":[{\"colorbar\":{\"outlinewidth\":0,\"ticks\":\"\"},\"type\":\"choropleth\"}],\"contour\":[{\"colorbar\":{\"outlinewidth\":0,\"ticks\":\"\"},\"colorscale\":[[0.0,\"#0d0887\"],[0.1111111111111111,\"#46039f\"],[0.2222222222222222,\"#7201a8\"],[0.3333333333333333,\"#9c179e\"],[0.4444444444444444,\"#bd3786\"],[0.5555555555555556,\"#d8576b\"],[0.6666666666666666,\"#ed7953\"],[0.7777777777777778,\"#fb9f3a\"],[0.8888888888888888,\"#fdca26\"],[1.0,\"#f0f921\"]],\"type\":\"contour\"}],\"contourcarpet\":[{\"colorbar\":{\"outlinewidth\":0,\"ticks\":\"\"},\"type\":\"contourcarpet\"}],\"heatmap\":[{\"colorbar\":{\"outlinewidth\":0,\"ticks\":\"\"},\"colorscale\":[[0.0,\"#0d0887\"],[0.1111111111111111,\"#46039f\"],[0.2222222222222222,\"#7201a8\"],[0.3333333333333333,\"#9c179e\"],[0.4444444444444444,\"#bd3786\"],[0.5555555555555556,\"#d8576b\"],[0.6666666666666666,\"#ed7953\"],[0.7777777777777778,\"#fb9f3a\"],[0.8888888888888888,\"#fdca26\"],[1.0,\"#f0f921\"]],\"type\":\"heatmap\"}],\"heatmapgl\":[{\"colorbar\":{\"outlinewidth\":0,\"ticks\":\"\"},\"colorscale\":[[0.0,\"#0d0887\"],[0.1111111111111111,\"#46039f\"],[0.2222222222222222,\"#7201a8\"],[0.3333333333333333,\"#9c179e\"],[0.4444444444444444,\"#bd3786\"],[0.5555555555555556,\"#d8576b\"],[0.6666666666666666,\"#ed7953\"],[0.7777777777777778,\"#fb9f3a\"],[0.8888888888888888,\"#fdca26\"],[1.0,\"#f0f921\"]],\"type\":\"heatmapgl\"}],\"histogram\":[{\"marker\":{\"pattern\":{\"fillmode\":\"overlay\",\"size\":10,\"solidity\":0.2}},\"type\":\"histogram\"}],\"histogram2d\":[{\"colorbar\":{\"outlinewidth\":0,\"ticks\":\"\"},\"colorscale\":[[0.0,\"#0d0887\"],[0.1111111111111111,\"#46039f\"],[0.2222222222222222,\"#7201a8\"],[0.3333333333333333,\"#9c179e\"],[0.4444444444444444,\"#bd3786\"],[0.5555555555555556,\"#d8576b\"],[0.6666666666666666,\"#ed7953\"],[0.7777777777777778,\"#fb9f3a\"],[0.8888888888888888,\"#fdca26\"],[1.0,\"#f0f921\"]],\"type\":\"histogram2d\"}],\"histogram2dcontour\":[{\"colorbar\":{\"outlinewidth\":0,\"ticks\":\"\"},\"colorscale\":[[0.0,\"#0d0887\"],[0.1111111111111111,\"#46039f\"],[0.2222222222222222,\"#7201a8\"],[0.3333333333333333,\"#9c179e\"],[0.4444444444444444,\"#bd3786\"],[0.5555555555555556,\"#d8576b\"],[0.6666666666666666,\"#ed7953\"],[0.7777777777777778,\"#fb9f3a\"],[0.8888888888888888,\"#fdca26\"],[1.0,\"#f0f921\"]],\"type\":\"histogram2dcontour\"}],\"mesh3d\":[{\"colorbar\":{\"outlinewidth\":0,\"ticks\":\"\"},\"type\":\"mesh3d\"}],\"parcoords\":[{\"line\":{\"colorbar\":{\"outlinewidth\":0,\"ticks\":\"\"}},\"type\":\"parcoords\"}],\"pie\":[{\"automargin\":true,\"type\":\"pie\"}],\"scatter\":[{\"marker\":{\"colorbar\":{\"outlinewidth\":0,\"ticks\":\"\"}},\"type\":\"scatter\"}],\"scatter3d\":[{\"line\":{\"colorbar\":{\"outlinewidth\":0,\"ticks\":\"\"}},\"marker\":{\"colorbar\":{\"outlinewidth\":0,\"ticks\":\"\"}},\"type\":\"scatter3d\"}],\"scattercarpet\":[{\"marker\":{\"colorbar\":{\"outlinewidth\":0,\"ticks\":\"\"}},\"type\":\"scattercarpet\"}],\"scattergeo\":[{\"marker\":{\"colorbar\":{\"outlinewidth\":0,\"ticks\":\"\"}},\"type\":\"scattergeo\"}],\"scattergl\":[{\"marker\":{\"colorbar\":{\"outlinewidth\":0,\"ticks\":\"\"}},\"type\":\"scattergl\"}],\"scattermapbox\":[{\"marker\":{\"colorbar\":{\"outlinewidth\":0,\"ticks\":\"\"}},\"type\":\"scattermapbox\"}],\"scatterpolar\":[{\"marker\":{\"colorbar\":{\"outlinewidth\":0,\"ticks\":\"\"}},\"type\":\"scatterpolar\"}],\"scatterpolargl\":[{\"marker\":{\"colorbar\":{\"outlinewidth\":0,\"ticks\":\"\"}},\"type\":\"scatterpolargl\"}],\"scatterternary\":[{\"marker\":{\"colorbar\":{\"outlinewidth\":0,\"ticks\":\"\"}},\"type\":\"scatterternary\"}],\"surface\":[{\"colorbar\":{\"outlinewidth\":0,\"ticks\":\"\"},\"colorscale\":[[0.0,\"#0d0887\"],[0.1111111111111111,\"#46039f\"],[0.2222222222222222,\"#7201a8\"],[0.3333333333333333,\"#9c179e\"],[0.4444444444444444,\"#bd3786\"],[0.5555555555555556,\"#d8576b\"],[0.6666666666666666,\"#ed7953\"],[0.7777777777777778,\"#fb9f3a\"],[0.8888888888888888,\"#fdca26\"],[1.0,\"#f0f921\"]],\"type\":\"surface\"}],\"table\":[{\"cells\":{\"fill\":{\"color\":\"#EBF0F8\"},\"line\":{\"color\":\"white\"}},\"header\":{\"fill\":{\"color\":\"#C8D4E3\"},\"line\":{\"color\":\"white\"}},\"type\":\"table\"}]},\"layout\":{\"annotationdefaults\":{\"arrowcolor\":\"#2a3f5f\",\"arrowhead\":0,\"arrowwidth\":1},\"autotypenumbers\":\"strict\",\"coloraxis\":{\"colorbar\":{\"outlinewidth\":0,\"ticks\":\"\"}},\"colorscale\":{\"diverging\":[[0,\"#8e0152\"],[0.1,\"#c51b7d\"],[0.2,\"#de77ae\"],[0.3,\"#f1b6da\"],[0.4,\"#fde0ef\"],[0.5,\"#f7f7f7\"],[0.6,\"#e6f5d0\"],[0.7,\"#b8e186\"],[0.8,\"#7fbc41\"],[0.9,\"#4d9221\"],[1,\"#276419\"]],\"sequential\":[[0.0,\"#0d0887\"],[0.1111111111111111,\"#46039f\"],[0.2222222222222222,\"#7201a8\"],[0.3333333333333333,\"#9c179e\"],[0.4444444444444444,\"#bd3786\"],[0.5555555555555556,\"#d8576b\"],[0.6666666666666666,\"#ed7953\"],[0.7777777777777778,\"#fb9f3a\"],[0.8888888888888888,\"#fdca26\"],[1.0,\"#f0f921\"]],\"sequentialminus\":[[0.0,\"#0d0887\"],[0.1111111111111111,\"#46039f\"],[0.2222222222222222,\"#7201a8\"],[0.3333333333333333,\"#9c179e\"],[0.4444444444444444,\"#bd3786\"],[0.5555555555555556,\"#d8576b\"],[0.6666666666666666,\"#ed7953\"],[0.7777777777777778,\"#fb9f3a\"],[0.8888888888888888,\"#fdca26\"],[1.0,\"#f0f921\"]]},\"colorway\":[\"#636efa\",\"#EF553B\",\"#00cc96\",\"#ab63fa\",\"#FFA15A\",\"#19d3f3\",\"#FF6692\",\"#B6E880\",\"#FF97FF\",\"#FECB52\"],\"font\":{\"color\":\"#2a3f5f\"},\"geo\":{\"bgcolor\":\"white\",\"lakecolor\":\"white\",\"landcolor\":\"#E5ECF6\",\"showlakes\":true,\"showland\":true,\"subunitcolor\":\"white\"},\"hoverlabel\":{\"align\":\"left\"},\"hovermode\":\"closest\",\"mapbox\":{\"style\":\"light\"},\"paper_bgcolor\":\"white\",\"plot_bgcolor\":\"#E5ECF6\",\"polar\":{\"angularaxis\":{\"gridcolor\":\"white\",\"linecolor\":\"white\",\"ticks\":\"\"},\"bgcolor\":\"#E5ECF6\",\"radialaxis\":{\"gridcolor\":\"white\",\"linecolor\":\"white\",\"ticks\":\"\"}},\"scene\":{\"xaxis\":{\"backgroundcolor\":\"#E5ECF6\",\"gridcolor\":\"white\",\"gridwidth\":2,\"linecolor\":\"white\",\"showbackground\":true,\"ticks\":\"\",\"zerolinecolor\":\"white\"},\"yaxis\":{\"backgroundcolor\":\"#E5ECF6\",\"gridcolor\":\"white\",\"gridwidth\":2,\"linecolor\":\"white\",\"showbackground\":true,\"ticks\":\"\",\"zerolinecolor\":\"white\"},\"zaxis\":{\"backgroundcolor\":\"#E5ECF6\",\"gridcolor\":\"white\",\"gridwidth\":2,\"linecolor\":\"white\",\"showbackground\":true,\"ticks\":\"\",\"zerolinecolor\":\"white\"}},\"shapedefaults\":{\"line\":{\"color\":\"#2a3f5f\"}},\"ternary\":{\"aaxis\":{\"gridcolor\":\"white\",\"linecolor\":\"white\",\"ticks\":\"\"},\"baxis\":{\"gridcolor\":\"white\",\"linecolor\":\"white\",\"ticks\":\"\"},\"bgcolor\":\"#E5ECF6\",\"caxis\":{\"gridcolor\":\"white\",\"linecolor\":\"white\",\"ticks\":\"\"}},\"title\":{\"x\":0.05},\"xaxis\":{\"automargin\":true,\"gridcolor\":\"white\",\"linecolor\":\"white\",\"ticks\":\"\",\"title\":{\"standoff\":15},\"zerolinecolor\":\"white\",\"zerolinewidth\":2},\"yaxis\":{\"automargin\":true,\"gridcolor\":\"white\",\"linecolor\":\"white\",\"ticks\":\"\",\"title\":{\"standoff\":15},\"zerolinecolor\":\"white\",\"zerolinewidth\":2}}}},                        {\"responsive\": true}                    ).then(function(){\n",
       "                            \n",
       "var gd = document.getElementById('95f9b8fe-6cbb-4a33-91f7-64e94dc6c16a');\n",
       "var x = new MutationObserver(function (mutations, observer) {{\n",
       "        var display = window.getComputedStyle(gd).display;\n",
       "        if (!display || display === 'none') {{\n",
       "            console.log([gd, 'removed!']);\n",
       "            Plotly.purge(gd);\n",
       "            observer.disconnect();\n",
       "        }}\n",
       "}});\n",
       "\n",
       "// Listen for the removal of the full notebook cells\n",
       "var notebookContainer = gd.closest('#notebook-container');\n",
       "if (notebookContainer) {{\n",
       "    x.observe(notebookContainer, {childList: true});\n",
       "}}\n",
       "\n",
       "// Listen for the clearing of the current output cell\n",
       "var outputEl = gd.closest('.output');\n",
       "if (outputEl) {{\n",
       "    x.observe(outputEl, {childList: true});\n",
       "}}\n",
       "\n",
       "                        })                };                });            </script>        </div>"
      ]
     },
     "metadata": {},
     "output_type": "display_data"
    }
   ],
   "source": [
    "\n",
    "data = dict(type = 'choropleth',colorscale='Portland',locations=state_df['State'],locationmode='USA-states', z=state_df['perSqFt'],text=state_df['perSqFt'], colorbar={'title':'perSqFt'})\n",
    "choromap = go.Figure(data = [data],layout = dict(geo = {'scope':'usa'}))\n",
    "\n",
    "iplot(choromap,validate=False)\n"
   ]
  },
  {
   "cell_type": "code",
   "execution_count": 635,
   "metadata": {},
   "outputs": [
    {
     "name": "stderr",
     "output_type": "stream",
     "text": [
      "/var/folders/fy/_jcf8bdn3hbccf_yk638qvkw0000gn/T/ipykernel_8225/4129755072.py:4: MatplotlibDeprecationWarning:\n",
      "\n",
      "Axes3D(fig) adding itself to the figure is deprecated since 3.4. Pass the keyword argument auto_add_to_figure=False and use fig.add_axes(ax) to suppress this warning. The default value of auto_add_to_figure will change to False in mpl3.5 and True values will no longer work in 3.6.  This is consistent with other Axes classes.\n",
      "\n"
     ]
    },
    {
     "data": {
      "image/png": "[encoded data removed]",
      "text/plain": [
       "<Figure size 432x432 with 1 Axes>"
      ]
     },
     "metadata": {
      "needs_background": "light"
     },
     "output_type": "display_data"
    }
   ],
   "source": [
    "from matplotlib import pyplot as plt\n",
    "from mpl_toolkits.mplot3d import Axes3D\n",
    "fig = plt.figure(figsize=(6,6))\n",
    "ax = Axes3D(fig)\n",
    "fig.add_axes(ax)\n",
    "ax.scatter(xs = state_df['GDP'], ys = state_df['Price'], zs = state_df['Size'], s=40, marker='o', alpha=1)\n",
    "ax.set_xlabel('GDP')\n",
    "ax.set_ylabel('Price')\n",
    "ax.set_zlabel('Size')\n",
    "plt.ticklabel_format(style='plain', axis='y')\n",
    "plt.ticklabel_format(style='plain', axis='x')"
   ]
  },
  {
   "cell_type": "markdown",
   "metadata": {},
   "source": [
    "### Conclusion"
   ]
  },
  {
   "cell_type": "code",
   "execution_count": 636,
   "metadata": {},
   "outputs": [
    {
     "data": {
      "text/plain": [
       "'\\n\\n\\n\\n'"
      ]
     },
     "execution_count": 636,
     "metadata": {},
     "output_type": "execute_result"
    }
   ],
   "source": [
    "'''\n",
    "\n",
    "\n",
    "\n",
    "'''"
   ]
  },
  {
   "cell_type": "markdown",
   "metadata": {},
   "source": [
    "### References"
   ]
  },
  {
   "cell_type": "code",
   "execution_count": 637,
   "metadata": {},
   "outputs": [
    {
     "data": {
      "text/plain": [
       "'\\nReferences\\n\\nData of:    Housing Price Data\\nhttps://www.kaggle.com/dataranch/zillow-1\\n\\nData of:    Population\\nhttps://worldpopulationreview.com/states\\n\\nData of:    GDP, Income, Spending \\nhttps://apps.bea.gov/iTable/iTable.cfm?reqid=70&step=1&isuri=1&acrdn=1#reqid=70&step=1&isuri=1&acrdn=1\\n\\n\\n'"
      ]
     },
     "execution_count": 637,
     "metadata": {},
     "output_type": "execute_result"
    }
   ],
   "source": [
    "'''\n",
    "References\n",
    "\n",
    "Data of:    Housing Price Data\n",
    "https://www.kaggle.com/dataranch/zillow-1\n",
    "\n",
    "Data of:    Population\n",
    "https://worldpopulationreview.com/states\n",
    "\n",
    "Data of:    GDP, Income, Spending \n",
    "https://apps.bea.gov/iTable/iTable.cfm?reqid=70&step=1&isuri=1&acrdn=1#reqid=70&step=1&isuri=1&acrdn=1\n",
    "\n",
    "\n",
    "'''"
   ]
  }
 ],
 "metadata": {
  "colab": {
   "collapsed_sections": [],
   "name": "CIS41_Project.ipynb",
   "provenance": []
  },
  "interpreter": {
   "hash": "54efd26b0a3209e0235e3c4cb559382c0ee234b91b9a72337fb828952fc089d2"
  },
  "kernelspec": {
   "display_name": "Python 3.8.8 64-bit ('base': conda)",
   "name": "python3"
  },
  "language_info": {
   "codemirror_mode": {
    "name": "ipython",
    "version": 3
   },
   "file_extension": ".py",
   "mimetype": "text/x-python",
   "name": "python",
   "nbconvert_exporter": "python",
   "pygments_lexer": "ipython3",
   "version": "3.9.7"
  }
 },
 "nbformat": 4,
 "nbformat_minor": 1
}
